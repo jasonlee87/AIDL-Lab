{
  "nbformat": 4,
  "nbformat_minor": 0,
  "metadata": {
    "kernelspec": {
      "name": "python3",
      "display_name": "Python 3"
    },
    "language_info": {
      "codemirror_mode": {
        "name": "ipython",
        "version": 3
      },
      "file_extension": ".py",
      "mimetype": "text/x-python",
      "name": "python",
      "nbconvert_exporter": "python",
      "pygments_lexer": "ipython3",
      "version": "3.6.5"
    },
    "colab": {
      "name": "04_02_AE_fashion_mnist_h_conv.ipynb",
      "provenance": [],
      "collapsed_sections": [],
      "include_colab_link": true
    },
    "accelerator": "GPU"
  },
  "cells": [
    {
      "cell_type": "markdown",
      "metadata": {
        "id": "view-in-github",
        "colab_type": "text"
      },
      "source": [
        "<a href=\"https://colab.research.google.com/github/jasonlee87/AIDL-Lab/blob/master/04_02_AE_fashion_mnist_h_conv.ipynb\" target=\"_parent\"><img src=\"https://colab.research.google.com/assets/colab-badge.svg\" alt=\"Open In Colab\"/></a>"
      ]
    },
    {
      "cell_type": "code",
      "metadata": {
        "id": "bC2OU4zcDdVC",
        "colab_type": "code",
        "outputId": "6b9a05a6-190a-4b96-971f-add6a896a82c",
        "colab": {
          "base_uri": "https://localhost:8080/",
          "height": 34
        }
      },
      "source": [
        "try:\n",
        "  # %tensorflow_version only exists in Colab.\n",
        "  %tensorflow_version 2.x\n",
        "except Exception:\n",
        "  pass"
      ],
      "execution_count": 1,
      "outputs": [
        {
          "output_type": "stream",
          "text": [
            "TensorFlow 2.x selected.\n"
          ],
          "name": "stdout"
        }
      ]
    },
    {
      "cell_type": "code",
      "metadata": {
        "id": "XeVuGaUQDI59",
        "colab_type": "code",
        "colab": {}
      },
      "source": [
        "import numpy as np\n",
        "import matplotlib.pyplot as plt\n",
        "\n",
        "import tensorflow as tf\n",
        "from tensorflow import keras"
      ],
      "execution_count": 0,
      "outputs": []
    },
    {
      "cell_type": "code",
      "metadata": {
        "id": "bvNOBR2Hg-ir",
        "colab_type": "code",
        "colab": {}
      },
      "source": [
        "# reset of notebook state\n",
        "tf.keras.backend.clear_session()  # For easy reset of notebook state."
      ],
      "execution_count": 0,
      "outputs": []
    },
    {
      "cell_type": "code",
      "metadata": {
        "id": "at7yIelslEBV",
        "colab_type": "code",
        "colab": {}
      },
      "source": [
        "# Tensorflow random seed (graph level) \n",
        "tf.random.set_seed(1234)"
      ],
      "execution_count": 0,
      "outputs": []
    },
    {
      "cell_type": "code",
      "metadata": {
        "id": "frtNvpqw4WMW",
        "colab_type": "code",
        "colab": {}
      },
      "source": [
        "# Input placeholder\n",
        "i_input = keras.layers.Input(shape=(28, 28, 1)) \n",
        "\n",
        "# encoder\n",
        "x = keras.layers.Conv2D(16, (3, 3), activation='relu', padding='same')(i_input)\n",
        "x = keras.layers.MaxPooling2D((2, 2), padding='same')(x)       # feature: 14x14x16\n",
        "x = keras.layers.Conv2D(8, (3, 3), activation='relu', padding='same')(x)\n",
        "x = keras.layers.MaxPooling2D((2, 2), padding='same')(x)       # feature: 7x7x8\n",
        "x = keras.layers.Conv2D(8, (3, 3), activation='relu', padding='same')(x)\n",
        "encoded = keras.layers.MaxPooling2D((2, 2), padding='same')(x)\n",
        "\n",
        "# decoder\n",
        "x = keras.layers.Conv2D(8, (3, 3), activation='relu', padding='same')(encoded)\n",
        "x = keras.layers.UpSampling2D((2, 2))(x)                       # feature: 7x7x8\n",
        "x = keras.layers.Conv2D(8, (3, 3), activation='relu', padding='same')(x)\n",
        "x = keras.layers.UpSampling2D((2, 2))(x)                       # feature: 14x14x8\n",
        "x = keras.layers.Conv2D(16, (3, 3), activation='relu')(x)\n",
        "x = keras.layers.UpSampling2D((2, 2))(x)                       # feature: 28x28x16\n",
        "decoded = keras.layers.Conv2D(1, (3, 3), activation='sigmoid', padding='same')(x)\n",
        "                                                  # feature: 28x28x1"
      ],
      "execution_count": 0,
      "outputs": []
    },
    {
      "cell_type": "code",
      "metadata": {
        "id": "1DUeOsmH5HYF",
        "colab_type": "code",
        "colab": {}
      },
      "source": [
        "# This autoencoder will map input to reconstructed output\n",
        "autoencoder = keras.models.Model(inputs=i_input, outputs=decoded)"
      ],
      "execution_count": 0,
      "outputs": []
    },
    {
      "cell_type": "code",
      "metadata": {
        "id": "3fpnOQuO5FbQ",
        "colab_type": "code",
        "colab": {
          "base_uri": "https://localhost:8080/",
          "height": 629
        },
        "outputId": "a626580a-63ea-4b1e-bc3c-15fa45d79889"
      },
      "source": [
        "# Select optimizer and loss function\n",
        "autoencoder.compile(optimizer='rmsprop', loss='mse')\n",
        "autoencoder.summary()"
      ],
      "execution_count": 7,
      "outputs": [
        {
          "output_type": "stream",
          "text": [
            "Model: \"model\"\n",
            "_________________________________________________________________\n",
            "Layer (type)                 Output Shape              Param #   \n",
            "=================================================================\n",
            "input_1 (InputLayer)         [(None, 28, 28, 1)]       0         \n",
            "_________________________________________________________________\n",
            "conv2d (Conv2D)              (None, 28, 28, 16)        160       \n",
            "_________________________________________________________________\n",
            "max_pooling2d (MaxPooling2D) (None, 14, 14, 16)        0         \n",
            "_________________________________________________________________\n",
            "conv2d_1 (Conv2D)            (None, 14, 14, 8)         1160      \n",
            "_________________________________________________________________\n",
            "max_pooling2d_1 (MaxPooling2 (None, 7, 7, 8)           0         \n",
            "_________________________________________________________________\n",
            "conv2d_2 (Conv2D)            (None, 7, 7, 8)           584       \n",
            "_________________________________________________________________\n",
            "max_pooling2d_2 (MaxPooling2 (None, 4, 4, 8)           0         \n",
            "_________________________________________________________________\n",
            "conv2d_3 (Conv2D)            (None, 4, 4, 8)           584       \n",
            "_________________________________________________________________\n",
            "up_sampling2d (UpSampling2D) (None, 8, 8, 8)           0         \n",
            "_________________________________________________________________\n",
            "conv2d_4 (Conv2D)            (None, 8, 8, 8)           584       \n",
            "_________________________________________________________________\n",
            "up_sampling2d_1 (UpSampling2 (None, 16, 16, 8)         0         \n",
            "_________________________________________________________________\n",
            "conv2d_5 (Conv2D)            (None, 14, 14, 16)        1168      \n",
            "_________________________________________________________________\n",
            "up_sampling2d_2 (UpSampling2 (None, 28, 28, 16)        0         \n",
            "_________________________________________________________________\n",
            "conv2d_6 (Conv2D)            (None, 28, 28, 1)         145       \n",
            "=================================================================\n",
            "Total params: 4,385\n",
            "Trainable params: 4,385\n",
            "Non-trainable params: 0\n",
            "_________________________________________________________________\n"
          ],
          "name": "stdout"
        }
      ]
    },
    {
      "cell_type": "code",
      "metadata": {
        "id": "cC8AS287Hz-9",
        "colab_type": "code",
        "colab": {}
      },
      "source": [
        "# Select dataset\n",
        "fashion_mnist_on = False  # True/False\n",
        "\n",
        "if fashion_mnist_on :\n",
        "  (x_train, y_train), (x_test, y_test) = tf.keras.datasets.fashion_mnist.load_data()\n",
        "else :\n",
        "  (x_train, y_train), (x_test, y_test) = tf.keras.datasets.mnist.load_data()"
      ],
      "execution_count": 0,
      "outputs": []
    },
    {
      "cell_type": "code",
      "metadata": {
        "id": "R7d2RtBMDI6a",
        "colab_type": "code",
        "outputId": "bf5b3496-5389-4364-e409-89ffa6f3ec4c",
        "colab": {
          "base_uri": "https://localhost:8080/",
          "height": 51
        }
      },
      "source": [
        "# Add random noise  \n",
        "noise_on = False          # True/False\n",
        "\n",
        "# Normalize pixel values\n",
        "x_train = x_train.astype('float32') / 255.\n",
        "x_test = x_test.astype('float32') / 255.\n",
        "\n",
        "# Flatten images to 2D arrays (60000,28,28) -> (60000,784)\n",
        "x_train = x_train.reshape((len(x_train), np.prod(x_train.shape[1:])))\n",
        "x_test = x_test.reshape((len(x_test), np.prod(x_test.shape[1:])))\n",
        "\n",
        "if noise_on : \n",
        "  x_train = x_train + 0.1*np.random.randn(x_train.shape[0], 784)\n",
        "  x_test = x_test + 0.1*np.random.randn(x_test.shape[0], 784)\n",
        "  print(\"Noisy Data Selected\")\n",
        "\n",
        "x_train = np.reshape(x_train, (len(x_train), 28, 28, 1))  # [N H W C]\n",
        "x_test = np.reshape(x_test, (len(x_test), 28, 28, 1))     # [N H W C]\n",
        "\n",
        "# Print out the shape\n",
        "print(x_train.shape)\n",
        "print(x_test.shape)"
      ],
      "execution_count": 9,
      "outputs": [
        {
          "output_type": "stream",
          "text": [
            "(60000, 28, 28, 1)\n",
            "(10000, 28, 28, 1)\n"
          ],
          "name": "stdout"
        }
      ]
    },
    {
      "cell_type": "code",
      "metadata": {
        "id": "nXEQIt86M7LR",
        "colab_type": "code",
        "colab": {}
      },
      "source": [
        "# Delete tensorboard log\n",
        "!rm -rf /tmp/autoencoder/*"
      ],
      "execution_count": 0,
      "outputs": []
    },
    {
      "cell_type": "code",
      "metadata": {
        "id": "EWqmixYiCNnt",
        "colab_type": "code",
        "outputId": "d94da5ae-63a1-4afa-ef73-30d57c117a8c",
        "colab": {
          "base_uri": "https://localhost:8080/",
          "height": 408
        }
      },
      "source": [
        "# TensorBoard import\n",
        "from tensorflow.keras.callbacks import TensorBoard\n",
        "\n",
        "# Training\n",
        "autoencoder.fit(x_train, x_train,\n",
        "                epochs=10,\n",
        "                batch_size=128,\n",
        "                validation_freq=10,\n",
        "                shuffle=True,\n",
        "                validation_data=(x_test, x_test),\n",
        "                callbacks=[TensorBoard(log_dir='/tmp/autoencoder')])"
      ],
      "execution_count": 11,
      "outputs": [
        {
          "output_type": "stream",
          "text": [
            "Train on 60000 samples, validate on 10000 samples\n",
            "Epoch 1/10\n",
            "  128/60000 [..............................] - ETA: 17:33 - loss: 0.2322WARNING:tensorflow:Method (on_train_batch_end) is slow compared to the batch update (0.100085). Check your callbacks.\n",
            "60000/60000 [==============================] - 9s 149us/sample - loss: 0.0483\n",
            "Epoch 2/10\n",
            "60000/60000 [==============================] - 6s 107us/sample - loss: 0.0307\n",
            "Epoch 3/10\n",
            "60000/60000 [==============================] - 6s 106us/sample - loss: 0.0261\n",
            "Epoch 4/10\n",
            "60000/60000 [==============================] - 6s 106us/sample - loss: 0.0235\n",
            "Epoch 5/10\n",
            "60000/60000 [==============================] - 6s 106us/sample - loss: 0.0216\n",
            "Epoch 6/10\n",
            "60000/60000 [==============================] - 6s 106us/sample - loss: 0.0203\n",
            "Epoch 7/10\n",
            "60000/60000 [==============================] - 6s 106us/sample - loss: 0.0193\n",
            "Epoch 8/10\n",
            "60000/60000 [==============================] - 6s 106us/sample - loss: 0.0185\n",
            "Epoch 9/10\n",
            "60000/60000 [==============================] - 6s 106us/sample - loss: 0.0179\n",
            "Epoch 10/10\n",
            "60000/60000 [==============================] - 7s 120us/sample - loss: 0.0173 - val_loss: 0.0161\n"
          ],
          "name": "stdout"
        },
        {
          "output_type": "execute_result",
          "data": {
            "text/plain": [
              "<tensorflow.python.keras.callbacks.History at 0x7fc1f00cdeb8>"
            ]
          },
          "metadata": {
            "tags": []
          },
          "execution_count": 11
        }
      ]
    },
    {
      "cell_type": "code",
      "metadata": {
        "id": "q3cZ0UzcDI6i",
        "colab_type": "code",
        "colab": {}
      },
      "source": [
        "# Time to encode some images\n",
        "decoded_imgs = autoencoder.predict(x_test)"
      ],
      "execution_count": 0,
      "outputs": []
    },
    {
      "cell_type": "code",
      "metadata": {
        "id": "OFq9I4aCDI6k",
        "colab_type": "code",
        "outputId": "6617a130-916b-4cd3-dbd0-2ba5f9228611",
        "colab": {
          "base_uri": "https://localhost:8080/",
          "height": 344
        }
      },
      "source": [
        "# Plot\n",
        "plt.figure(figsize=(22, 6))\n",
        "\n",
        "num_imgs = 9\n",
        "\n",
        "for i in range(num_imgs):                        \n",
        "    # display original\n",
        "    ax = plt.subplot(2, num_imgs, i + 1)\n",
        "    true_img = x_test[i].reshape(28, 28)\n",
        "    plt.imshow(true_img, cmap='gray')\n",
        "\n",
        "    # display reconstruction \n",
        "    ax = plt.subplot(2, num_imgs, i + 1 + num_imgs)\n",
        "    reconstructed_img = decoded_imgs[i].reshape(28,28)\n",
        "    plt.imshow(reconstructed_img, cmap='gray')\n",
        "\n",
        "plt.show()"
      ],
      "execution_count": 13,
      "outputs": [
        {
          "output_type": "display_data",
          "data": {
            "image/png": "[encoded data removed]",
            "text/plain": [
              "<Figure size 1584x432 with 18 Axes>"
            ]
          },
          "metadata": {
            "tags": []
          }
        }
      ]
    },
    {
      "cell_type": "code",
      "metadata": {
        "id": "ikWkVK5nDz-N",
        "colab_type": "code",
        "colab": {}
      },
      "source": [
        "# Load the TensorBoard notebook extension\n",
        "%load_ext tensorboard"
      ],
      "execution_count": 0,
      "outputs": []
    },
    {
      "cell_type": "code",
      "metadata": {
        "id": "T4lkDJMQD_DV",
        "colab_type": "code",
        "outputId": "2ee4e0e6-ebe2-4bfa-a6c8-3d9c2367169b",
        "colab": {
          "base_uri": "https://localhost:8080/",
          "height": 34
        }
      },
      "source": [
        "%tensorboard --logdir /tmp/autoencoder/ serve"
      ],
      "execution_count": 15,
      "outputs": [
        {
          "output_type": "display_data",
          "data": {
            "text/plain": [
              "Reusing TensorBoard on port 6006 (pid 816), started 0:06:02 ago. (Use '!kill 816' to kill it.)"
            ]
          },
          "metadata": {
            "tags": []
          }
        },
        {
          "output_type": "display_data",
          "data": {
            "text/html": [
              "\n",
              "    <div id=\"root\"></div>\n",
              "    <script>\n",
              "      (function() {\n",
              "        window.TENSORBOARD_ENV = window.TENSORBOARD_ENV || {};\n",
              "        window.TENSORBOARD_ENV[\"IN_COLAB\"] = true;\n",
              "        document.querySelector(\"base\").href = \"https://localhost:6006\";\n",
              "        function fixUpTensorboard(root) {\n",
              "          const tftb = root.querySelector(\"tf-tensorboard\");\n",
              "          // Disable the fragment manipulation behavior in Colab. Not\n",
              "          // only is the behavior not useful (as the iframe's location\n",
              "          // is not visible to the user), it causes TensorBoard's usage\n",
              "          // of `window.replace` to navigate away from the page and to\n",
              "          // the `localhost:<port>` URL specified by the base URI, which\n",
              "          // in turn causes the frame to (likely) crash.\n",
              "          tftb.removeAttribute(\"use-hash\");\n",
              "        }\n",
              "        function executeAllScripts(root) {\n",
              "          // When `script` elements are inserted into the DOM by\n",
              "          // assigning to an element's `innerHTML`, the scripts are not\n",
              "          // executed. Thus, we manually re-insert these scripts so that\n",
              "          // TensorBoard can initialize itself.\n",
              "          for (const script of root.querySelectorAll(\"script\")) {\n",
              "            const newScript = document.createElement(\"script\");\n",
              "            newScript.type = script.type;\n",
              "            newScript.textContent = script.textContent;\n",
              "            root.appendChild(newScript);\n",
              "            script.remove();\n",
              "          }\n",
              "        }\n",
              "        function setHeight(root, height) {\n",
              "          // We set the height dynamically after the TensorBoard UI has\n",
              "          // been initialized. This avoids an intermediate state in\n",
              "          // which the container plus the UI become taller than the\n",
              "          // final width and cause the Colab output frame to be\n",
              "          // permanently resized, eventually leading to an empty\n",
              "          // vertical gap below the TensorBoard UI. It's not clear\n",
              "          // exactly what causes this problematic intermediate state,\n",
              "          // but setting the height late seems to fix it.\n",
              "          root.style.height = `${height}px`;\n",
              "        }\n",
              "        const root = document.getElementById(\"root\");\n",
              "        fetch(\".\")\n",
              "          .then((x) => x.text())\n",
              "          .then((html) => void (root.innerHTML = html))\n",
              "          .then(() => fixUpTensorboard(root))\n",
              "          .then(() => executeAllScripts(root))\n",
              "          .then(() => setHeight(root, 800));\n",
              "      })();\n",
              "    </script>\n",
              "  "
            ],
            "text/plain": [
              "<IPython.core.display.HTML object>"
            ]
          },
          "metadata": {
            "tags": []
          }
        }
      ]
    },
    {
      "cell_type": "markdown",
      "metadata": {
        "id": "qXvRz-AkxD4D",
        "colab_type": "text"
      },
      "source": [
        "# 실습 과제 "
      ]
    },
    {
      "cell_type": "markdown",
      "metadata": {
        "id": "iMXezkb1xIcj",
        "colab_type": "text"
      },
      "source": [
        "## 1. 두 모델의 차이를 확인해 보자 \n",
        "## 2. Data set에 noise 가 추가 되는 경우 어떻게 동작하는지 확인해 보자\n",
        ">### 1. dataset을 읽어 오는 cell 에서 \"noise_on = False\" 를 \"True\"로 변경\n",
        ">### 2. Noisy data로 다시 학습 및 추론 해 보자. 결과가 무엇을 의미 하는가?\n",
        "## 3. Noisy data로 학습된 모델에 정상 data를 사용하여 추론하면?\n",
        ">### 1. 결과를 추측해 보자\n",
        ">### 2. 실험결과와 추측이 동일한가? 결과를 설명해 보자"
      ]
    },
    {
      "cell_type": "code",
      "metadata": {
        "id": "s7UeHa-09mK1",
        "colab_type": "code",
        "colab": {}
      },
      "source": [
        ""
      ],
      "execution_count": 0,
      "outputs": []
    }
  ]
}