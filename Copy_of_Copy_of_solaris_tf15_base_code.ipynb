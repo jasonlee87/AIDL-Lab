{
  "nbformat": 4,
  "nbformat_minor": 0,
  "metadata": {
    "colab": {
      "name": "Copy of Copy of solaris-tf15-base-code.ipynb",
      "provenance": [],
      "collapsed_sections": [],
      "include_colab_link": true
    },
    "kernelspec": {
      "name": "python3",
      "display_name": "Python 3"
    }
  },
  "cells": [
    {
      "cell_type": "markdown",
      "metadata": {
        "id": "view-in-github",
        "colab_type": "text"
      },
      "source": [
        "<a href=\"https://colab.research.google.com/github/jasonlee87/AIDL-Lab/blob/master/Copy_of_Copy_of_solaris_tf15_base_code.ipynb\" target=\"_parent\"><img src=\"https://colab.research.google.com/assets/colab-badge.svg\" alt=\"Open In Colab\"/></a>"
      ]
    },
    {
      "cell_type": "markdown",
      "metadata": {
        "id": "Jzsc1sizw7a7",
        "colab_type": "text"
      },
      "source": [
        "2.1 Install_check"
      ]
    },
    {
      "cell_type": "code",
      "metadata": {
        "id": "J7n5XLAewiXk",
        "colab_type": "code",
        "outputId": "c3ac87d7-806b-49d2-c824-e0db6e58e2a2",
        "colab": {
          "base_uri": "https://localhost:8080/",
          "height": 68
        }
      },
      "source": [
        "# -*- coding: utf-8 -*-\n",
        "# 텐서플로우 설치 체크 \n",
        "# 원하는 버전의 텐서플로우가 설치되었는지 체크한다.\n",
        "\n",
        "import tensorflow as tf\n",
        "print(tf.__version__)\n",
        "# 1.15.0\n",
        "\n",
        "# 문자열 출력 예\n",
        "hello = tf.constant('Hello, TensorFlow 1.5')\n",
        "sess = tf.Session()\n",
        "print(sess.run(hello)) \n",
        "# b'Hello, TensorFlow 1.5'\n",
        "\n",
        "# 더하기 연산 예\n",
        "a = tf.constant(11)\n",
        "b = tf.constant(22)\n",
        "print(sess.run(a + b))\n",
        "# 33\n",
        "\n",
        "sess.close()"
      ],
      "execution_count": 4,
      "outputs": [
        {
          "output_type": "stream",
          "text": [
            "1.15.0\n",
            "b'Hello, TensorFlow 1.5'\n",
            "33\n"
          ],
          "name": "stdout"
        }
      ]
    },
    {
      "cell_type": "markdown",
      "metadata": {
        "id": "7Lh39uH9xMYb",
        "colab_type": "text"
      },
      "source": [
        "3.1 Graph example"
      ]
    },
    {
      "cell_type": "code",
      "metadata": {
        "id": "7ttnj9-Lw4IL",
        "colab_type": "code",
        "colab": {}
      },
      "source": [
        "# -*- coding: utf-8 -*-\n",
        "\n",
        "import tensorflow as tf\n",
        "\n",
        "# 그래프 노드를 정의하고 출력합니다.\n",
        "# 출력값 : Tensor(\"Const:0\", shape=(), dtype=float32) Tensor(\"Const_1:0\", shape=(), dtype=float32)\n",
        "node1 = tf.constant(3.0, dtype=tf.float32)\n",
        "node2 = tf.constant(4.0) # 암시적으로 tf.float32 타입으로 선언될 것입니다.\n",
        "print(node1, node2)\n",
        "\n",
        "# 세션을 열고 그래프를 실행합니다.\n",
        "# 출력값 : [3.0, 4.0]\n",
        "sess = tf.Session()\n",
        "print(sess.run([node1, node2]))\n",
        "\n",
        "# 두개의 노드의 값을 더하는 연산을 수행하는 node3을 정의합니다.\n",
        "# 출력값:\n",
        "# node3: Tensor(\"Add:0\", shape=(), dtype=float32)\n",
        "# sess.run(node3): 7.0\n",
        "node3 = tf.add(node1, node2)\n",
        "print(\"node3:\", node3)\n",
        "print(\"sess.run(node3):\", sess.run(node3))\n",
        "\n",
        "sess.close()"
      ],
      "execution_count": 0,
      "outputs": []
    },
    {
      "cell_type": "markdown",
      "metadata": {
        "id": "B8ycao17xXPM",
        "colab_type": "text"
      },
      "source": [
        "3.2 Placeholder"
      ]
    },
    {
      "cell_type": "code",
      "metadata": {
        "id": "qNotM5GLxY5u",
        "colab_type": "code",
        "outputId": "a5cb0a56-efe3-4858-ab64-2f8ad2c23efd",
        "colab": {
          "base_uri": "https://localhost:8080/",
          "height": 136
        }
      },
      "source": [
        "# -*- coding: utf-8 -*-\n",
        "\n",
        "import tensorflow as tf\n",
        "\n",
        "# 플레이스홀더 노드와 add 노드를 정의합니다.\n",
        "a = tf.placeholder(tf.float32)\n",
        "b = tf.placeholder(tf.float32)\n",
        "adder_node = a + b  # 암시적으로 tf.add(a, b) 형태로 정의될 것입니다.\n",
        "\n",
        "# 세션을 열고 그래프를 실행합니다.\n",
        "# 출력값 :\n",
        "# 7.5\n",
        "# [ 3.  7.]\n",
        "sess = tf.Session()\n",
        "print(sess.run(adder_node, feed_dict={a: 3, b: 4.5}))\n",
        "print(sess.run(adder_node, feed_dict={a: [1, 3], b: [2, 4]}))\n",
        "\n",
        "# 노드를 추가해서 더 복잡한 그래프 형태를 만들어봅시다.\n",
        "# 출력값 : 22.5\n",
        "add_and_triple = adder_node * 3\t# 암시적으로 tf.multiply(adder_node,3) 형태로 정의될 것입니다.\n",
        "print(sess.run(add_and_triple, feed_dict={a: 3, b: 4.5}))\n",
        "\n",
        "sess.close()"
      ],
      "execution_count": 0,
      "outputs": [
        {
          "output_type": "display_data",
          "data": {
            "text/html": [
              "<p style=\"color: red;\">\n",
              "The default version of TensorFlow in Colab will soon switch to TensorFlow 2.x.<br>\n",
              "We recommend you <a href=\"https://www.tensorflow.org/guide/migrate\" target=\"_blank\">upgrade</a> now \n",
              "or ensure your notebook will continue to use TensorFlow 1.x via the <code>%tensorflow_version 1.x</code> magic:\n",
              "<a href=\"https://colab.research.google.com/notebooks/tensorflow_version.ipynb\" target=\"_blank\">more info</a>.</p>\n"
            ],
            "text/plain": [
              "<IPython.core.display.HTML object>"
            ]
          },
          "metadata": {
            "tags": []
          }
        },
        {
          "output_type": "stream",
          "text": [
            "7.5\n",
            "[3. 7.]\n",
            "22.5\n"
          ],
          "name": "stdout"
        }
      ]
    },
    {
      "cell_type": "markdown",
      "metadata": {
        "id": "7svzNOKtxgE7",
        "colab_type": "text"
      },
      "source": [
        "3.3 Linear regression"
      ]
    },
    {
      "cell_type": "code",
      "metadata": {
        "id": "Zri4rgLlxZra",
        "colab_type": "code",
        "outputId": "e07e4e7d-7572-44c4-d88c-dcfc33500b82",
        "colab": {
          "base_uri": "https://localhost:8080/",
          "height": 35
        }
      },
      "source": [
        "# -*- coding: utf-8 -*-\n",
        "\n",
        "import tensorflow as tf\n",
        "\n",
        "# 선형회귀 모델(Wx + b)을 정의합니다.\n",
        "W = tf.Variable(tf.random_normal(shape=[1]))   \n",
        "b = tf.Variable(tf.random_normal(shape=[1]))\n",
        "x = tf.placeholder(tf.float32)\n",
        "linear_model = W*x + b\n",
        "\n",
        "# True Value를 입력받기위한 플레이스홀더를 정의합니다.\n",
        "y = tf.placeholder(tf.float32)\n",
        "\n",
        "# 손실 함수를 정의합니다.\n",
        "loss = tf.reduce_mean(tf.square(linear_model - y)) # MSE 손실함수 \\mean{(y' - y)^2}\n",
        "\n",
        "# 최적화를 위한 그라디언트 디센트 옵티마이저를 정의합니다.\n",
        "optimizer = tf.train.GradientDescentOptimizer(0.01)\n",
        "train_step = optimizer.minimize(loss)\n",
        "\n",
        "# 트레이닝을 위한 입력값과 출력값을 준비합니다. \n",
        "x_train = [1, 2, 3, 4]\n",
        "y_train = [2, 4, 6, 8]\n",
        "\n",
        "# 세션을 실행하고 파라미터(W,b)를 noraml distirubtion에서 추출한 임의의 값으로 초기화합니다.\n",
        "sess = tf.Session()\n",
        "sess.run(tf.global_variables_initializer())\n",
        "\n",
        "# 경사하강법을 1000번 수행합니다.\n",
        "for i in range(1000):\n",
        "  sess.run(train_step, feed_dict={x: x_train, y: y_train})\n",
        "\n",
        "# 테스트를 위한 입력값을 준비합니다.\n",
        "x_test = [3.5, 5, 5.5, 6]\n",
        "# 테스트 데이터를 이용해 학습된 선형회귀 모델이 데이터의 경향성(y=2x)을 잘 학습했는지 측정합니다.\n",
        "# 예상되는 참값 : [7, 10, 11, 12]\n",
        "print(sess.run(linear_model, feed_dict={x: x_test}))\n",
        "\n",
        "sess.close()"
      ],
      "execution_count": 0,
      "outputs": [
        {
          "output_type": "stream",
          "text": [
            "[ 7.0118723 10.04368   11.054283  12.064886 ]\n"
          ],
          "name": "stdout"
        }
      ]
    },
    {
      "cell_type": "markdown",
      "metadata": {
        "id": "m3xzntY9xqA7",
        "colab_type": "text"
      },
      "source": [
        "3.4 Linear regression with tensorboard"
      ]
    },
    {
      "cell_type": "code",
      "metadata": {
        "id": "n59PqRlhxnFh",
        "colab_type": "code",
        "outputId": "f3da28e1-b39b-4e7e-d406-be4b91611b2b",
        "colab": {
          "base_uri": "https://localhost:8080/",
          "height": 35
        }
      },
      "source": [
        "# -*- coding: utf-8 -*-\n",
        "\n",
        "import tensorflow as tf\n",
        "\n",
        "# 선형회귀 모델(Wx + b)을 정의합니다.\n",
        "W = tf.Variable(tf.random_normal(shape=[1]), name=\"W\")   \n",
        "b = tf.Variable(tf.random_normal(shape=[1]), name=\"b\")\n",
        "x = tf.placeholder(tf.float32, name=\"x\")\n",
        "linear_model = W*x + b\n",
        "\n",
        "# True Value를 입력받기위한 플레이스홀더를 정의합니다.\n",
        "y = tf.placeholder(tf.float32, name=\"y\")\n",
        "\n",
        "# 손실 함수를 정의합니다.\n",
        "loss = tf.reduce_mean(tf.square(linear_model - y)) # MSE 손실함수 \\mean{(y' - y)^2}\n",
        "# 텐서보드를 위한 요약정보(scalar)를 정의합니다.\n",
        "tf.summary.scalar('loss', loss)\n",
        "\n",
        "# 최적화를 위한 옵티마이저를 정의합니다.\n",
        "optimizer = tf.train.GradientDescentOptimizer(0.01)\n",
        "train_step = optimizer.minimize(loss)\n",
        "\n",
        "# 트레이닝을 위한 입력값과 출력값을 준비합니다. \n",
        "x_train = [1, 2, 3, 4]\n",
        "y_train = [2, 4, 6, 8]\n",
        "\n",
        "# 세션을 실행하고 파라미터(W,b)를 noraml distirubtion에서 추출한 임의의 값으로 초기화합니다.\n",
        "sess = tf.Session()\n",
        "sess.run(tf.global_variables_initializer())\n",
        "\n",
        "# 텐서보드 요약정보들을 하나로 합칩니다.\n",
        "merged = tf.summary.merge_all()\n",
        "# 텐서보드 summary 정보들을 저장할 폴더 경로를 설정합니다.\n",
        "tensorboard_writer = tf.summary.FileWriter('./tensorboard_log', sess.graph)\n",
        "\n",
        "# 경사하강법을 1000번 수행합니다.\n",
        "for i in range(1000):\n",
        "  sess.run(train_step, feed_dict={x: x_train, y: y_train})\n",
        "\n",
        "  # 매스텝마다 텐서보드 요약정보값들을 계산해서 지정된 경로('./tensorboard_log')에 저장합니다.\n",
        "  summary = sess.run(merged, feed_dict={x: x_train, y: y_train})\n",
        "  tensorboard_writer.add_summary(summary, i)\n",
        "\n",
        "# 테스트를 위한 입력값을 준비합니다.\n",
        "x_test = [3.5, 5, 5.5, 6]\n",
        "# 테스트 데이터를 이용해 학습된 선형회귀 모델이 데이터의 경향성(y=2x)을 잘 학습했는지 측정합니다.\n",
        "# 예상되는 참값 : [7, 10, 11, 12]\n",
        "print(sess.run(linear_model, feed_dict={x: x_test}))\n",
        "\n",
        "sess.close()"
      ],
      "execution_count": 0,
      "outputs": [
        {
          "output_type": "stream",
          "text": [
            "[ 7.009728 10.03579  11.044477 12.053165]\n"
          ],
          "name": "stdout"
        }
      ]
    },
    {
      "cell_type": "code",
      "metadata": {
        "id": "Tn3LJlU-xyH4",
        "colab_type": "code",
        "colab": {}
      },
      "source": [
        ""
      ],
      "execution_count": 0,
      "outputs": []
    },
    {
      "cell_type": "markdown",
      "metadata": {
        "id": "I5VnvKlJx9jA",
        "colab_type": "text"
      },
      "source": [
        "4.1 MNIST classificatoin using softmax regression"
      ]
    },
    {
      "cell_type": "code",
      "metadata": {
        "id": "Flmq8_5ByKgm",
        "colab_type": "code",
        "outputId": "67bb6576-1c51-416a-a599-6cc661a35120",
        "colab": {
          "base_uri": "https://localhost:8080/",
          "height": 583
        }
      },
      "source": [
        "# -*- coding: utf-8 -*-\n",
        "\n",
        "import tensorflow as tf\n",
        "\n",
        "# MNIST 데이터를 다운로드 합니다.\n",
        "from tensorflow.examples.tutorials.mnist import input_data\n",
        "mnist = input_data.read_data_sets(\"/tmp/data/\", one_hot=True)\n",
        "\n",
        "# 입력값과 출력값을 받기 위한 플레이스홀더를 정의합니다.\n",
        "x = tf.placeholder(tf.float32, shape=[None, 784])\n",
        "y = tf.placeholder(tf.float32, shape=[None, 10])\n",
        "\n",
        "# 변수들을 설정하고 Softmax Regression 모델을 정의합니다.\n",
        "W = tf.Variable(tf.zeros(shape=[784, 10]))\n",
        "b = tf.Variable(tf.zeros(shape=[10]))\n",
        "logits = tf.matmul(x, W) + b\n",
        "y_pred = tf.nn.softmax(logits)\n",
        "\n",
        "# cross-entropy 손실 함수와 옵티마이저를 정의합니다.\n",
        "loss = tf.reduce_mean(-tf.reduce_sum(y * tf.log(y_pred), reduction_indices=[1]))\n",
        "#loss = tf.reduce_mean(tf.nn.softmax_cross_entropy_with_logits(logits=logits, labels=y)) # tf.nn.softmax_cross_entropy_with_logits API를 이용한 구현\n",
        "train_step = tf.train.GradientDescentOptimizer(0.5).minimize(loss)\n",
        "\n",
        "# 세션을 열고 변수들에 초기값을 할당합니다.\n",
        "sess = tf.Session()\n",
        "sess.run(tf.global_variables_initializer())\n",
        "# 1000번 반복을 수행하면서 최적화를 수행합니다.\n",
        "for i in range(1000):\n",
        "  batch_xs, batch_ys = mnist.train.next_batch(100)\n",
        "  sess.run(train_step, feed_dict={x: batch_xs, y: batch_ys})\n",
        "\n",
        "# 학습이 끝나면 학습된 모델의 정확도를 출력합니다.\n",
        "correct_prediction = tf.equal(tf.argmax(y_pred,1), tf.argmax(y,1))\n",
        "accuracy = tf.reduce_mean(tf.cast(correct_prediction, tf.float32))\n",
        "print(\"정확도(Accuracy): %f\" % sess.run(accuracy, feed_dict={x: mnist.test.images, y: mnist.test.labels})) # 정확도 : 약 91%\n",
        "\n",
        "sess.close()"
      ],
      "execution_count": 0,
      "outputs": [
        {
          "output_type": "stream",
          "text": [
            "WARNING:tensorflow:From <ipython-input-4-fec70ea98b24>:6: read_data_sets (from tensorflow.contrib.learn.python.learn.datasets.mnist) is deprecated and will be removed in a future version.\n",
            "Instructions for updating:\n",
            "Please use alternatives such as official/mnist/dataset.py from tensorflow/models.\n",
            "WARNING:tensorflow:From /usr/local/lib/python3.6/dist-packages/tensorflow_core/contrib/learn/python/learn/datasets/mnist.py:260: maybe_download (from tensorflow.contrib.learn.python.learn.datasets.base) is deprecated and will be removed in a future version.\n",
            "Instructions for updating:\n",
            "Please write your own downloading logic.\n",
            "WARNING:tensorflow:From /usr/local/lib/python3.6/dist-packages/tensorflow_core/contrib/learn/python/learn/datasets/base.py:252: _internal_retry.<locals>.wrap.<locals>.wrapped_fn (from tensorflow.contrib.learn.python.learn.datasets.base) is deprecated and will be removed in a future version.\n",
            "Instructions for updating:\n",
            "Please use urllib or similar directly.\n",
            "Successfully downloaded train-images-idx3-ubyte.gz 9912422 bytes.\n",
            "WARNING:tensorflow:From /usr/local/lib/python3.6/dist-packages/tensorflow_core/contrib/learn/python/learn/datasets/mnist.py:262: extract_images (from tensorflow.contrib.learn.python.learn.datasets.mnist) is deprecated and will be removed in a future version.\n",
            "Instructions for updating:\n",
            "Please use tf.data to implement this functionality.\n",
            "Extracting /tmp/data/train-images-idx3-ubyte.gz\n",
            "Successfully downloaded train-labels-idx1-ubyte.gz 28881 bytes.\n",
            "WARNING:tensorflow:From /usr/local/lib/python3.6/dist-packages/tensorflow_core/contrib/learn/python/learn/datasets/mnist.py:267: extract_labels (from tensorflow.contrib.learn.python.learn.datasets.mnist) is deprecated and will be removed in a future version.\n",
            "Instructions for updating:\n",
            "Please use tf.data to implement this functionality.\n",
            "Extracting /tmp/data/train-labels-idx1-ubyte.gz\n",
            "WARNING:tensorflow:From /usr/local/lib/python3.6/dist-packages/tensorflow_core/contrib/learn/python/learn/datasets/mnist.py:110: dense_to_one_hot (from tensorflow.contrib.learn.python.learn.datasets.mnist) is deprecated and will be removed in a future version.\n",
            "Instructions for updating:\n",
            "Please use tf.one_hot on tensors.\n",
            "Successfully downloaded t10k-images-idx3-ubyte.gz 1648877 bytes.\n",
            "Extracting /tmp/data/t10k-images-idx3-ubyte.gz\n",
            "Successfully downloaded t10k-labels-idx1-ubyte.gz 4542 bytes.\n",
            "Extracting /tmp/data/t10k-labels-idx1-ubyte.gz\n",
            "WARNING:tensorflow:From /usr/local/lib/python3.6/dist-packages/tensorflow_core/contrib/learn/python/learn/datasets/mnist.py:290: DataSet.__init__ (from tensorflow.contrib.learn.python.learn.datasets.mnist) is deprecated and will be removed in a future version.\n",
            "Instructions for updating:\n",
            "Please use alternatives such as official/mnist/dataset.py from tensorflow/models.\n",
            "정확도(Accuracy): 0.919100\n"
          ],
          "name": "stdout"
        }
      ]
    },
    {
      "cell_type": "markdown",
      "metadata": {
        "id": "8BA5t1vWyShu",
        "colab_type": "text"
      },
      "source": [
        "4.2 tf_nn_sparse_softmax_cross_entropy_with_logits_example"
      ]
    },
    {
      "cell_type": "code",
      "metadata": {
        "id": "qmx0EDi2yOkU",
        "colab_type": "code",
        "outputId": "07adbd6e-46ab-4010-c1af-2a01ba89f00d",
        "colab": {
          "base_uri": "https://localhost:8080/",
          "height": 108
        }
      },
      "source": [
        "# -*- coding: utf-8 -*-\n",
        "# tf.nn.sparse_softmax_cross_entropy_with_logits API를 사용한 Softmax Regression을 이용한 MNIST 숫자 분류\n",
        "\n",
        "import tensorflow as tf\n",
        "\n",
        "# MNIST 데이터를 다운로드 합니다.\n",
        "from tensorflow.examples.tutorials.mnist import input_data\n",
        "mnist = input_data.read_data_sets(\"/tmp/data/\", one_hot=False) # one_hot=False로 불러옵니다.\n",
        "\n",
        "# 입력값과 출력값을 받기 위한 플레이스홀더를 정의합니다.\n",
        "x = tf.placeholder(tf.float32, shape=[None, 784])\n",
        "y = tf.placeholder(tf.int64, shape=[None]) # tf.int64 타입으로 선언합니다.\n",
        "\n",
        "# 변수들을 설정하고 Softmax Regression 모델을 정의합니다.\n",
        "W = tf.Variable(tf.zeros(shape=[784, 10]))\n",
        "b = tf.Variable(tf.zeros(shape=[10]))\n",
        "logits = tf.matmul(x, W) + b\n",
        "y_pred = tf.nn.softmax(logits)\n",
        "\n",
        "# cross-entropy 손실 함수와 옵티마이저를 정의합니다.\n",
        "#loss = tf.reduce_mean(tf.nn.softmax_cross_entropy_with_logits(logits=logits, labels=y)) # tf.nn.softmax_cross_entropy_with_logits API를 이용한 구현\n",
        "loss = tf.reduce_mean(tf.nn.sparse_softmax_cross_entropy_with_logits(logits=logits, labels=y)) # tf.nn.sparse_softmax_cross_entropy_with_logits API를 이용한 구현\n",
        "train_step = tf.train.GradientDescentOptimizer(0.5).minimize(loss)\n",
        "\n",
        "# 세션을 열고 변수들에 초기값을 할당합니다.\n",
        "sess = tf.Session()\n",
        "sess.run(tf.global_variables_initializer())\n",
        "# 1000번 반복을 수행하면서 최적화를 수행합니다.\n",
        "for i in range(1000):\n",
        "  batch_xs, batch_ys = mnist.train.next_batch(100)\n",
        "  sess.run(train_step, feed_dict={x: batch_xs, y: batch_ys})\n",
        "\n",
        "# 학습이 끝나면 학습된 모델의 정확도를 출력합니다.\n",
        "correct_prediction = tf.equal(tf.argmax(y_pred,1), y)\n",
        "accuracy = tf.reduce_mean(tf.cast(correct_prediction, tf.float32))\n",
        "print(\"정확도(Accuracy): %f\" % sess.run(accuracy, feed_dict={x: mnist.test.images, y: mnist.test.labels})) # 정확도 : 약 91%\n",
        "\n",
        "sess.close()"
      ],
      "execution_count": 0,
      "outputs": [
        {
          "output_type": "stream",
          "text": [
            "Extracting /tmp/data/train-images-idx3-ubyte.gz\n",
            "Extracting /tmp/data/train-labels-idx1-ubyte.gz\n",
            "Extracting /tmp/data/t10k-images-idx3-ubyte.gz\n",
            "Extracting /tmp/data/t10k-labels-idx1-ubyte.gz\n",
            "정확도(Accuracy): 0.915800\n"
          ],
          "name": "stdout"
        }
      ]
    },
    {
      "cell_type": "markdown",
      "metadata": {
        "id": "N04KsN1kymWI",
        "colab_type": "text"
      },
      "source": [
        "5.1 MNIST classification using ann"
      ]
    },
    {
      "cell_type": "code",
      "metadata": {
        "id": "NqqFsX-lycXV",
        "colab_type": "code",
        "outputId": "86ecd0d1-ba7f-4ab5-d6cc-d50a00cb1a76",
        "colab": {
          "base_uri": "https://localhost:8080/",
          "height": 819
        }
      },
      "source": [
        "# -*- coding: utf-8 -*-\n",
        "# 텐서플로우를 이용한 ANN(Artificial Neural Networks) 구현\n",
        "\n",
        "import tensorflow as tf\n",
        "\n",
        "# MNIST 데이터를 다운로드 합니다.\n",
        "from tensorflow.examples.tutorials.mnist import input_data\n",
        "mnist = input_data.read_data_sets(\"/tmp/data/\", one_hot=True)\n",
        "\n",
        "# 학습을 위한 설정값들을 정의합니다.\n",
        "learning_rate = 0.001\n",
        "num_epochs = 30     # 학습횟수\n",
        "batch_size = 256    # 배치개수\n",
        "display_step = 1    # 손실함수 출력 주기\n",
        "input_size = 784    # 28 * 28\n",
        "hidden1_size = 256\n",
        "hidden2_size = 256\n",
        "output_size = 10\n",
        "\n",
        "# 입력값과 출력값을 받기 위한 플레이스홀더를 정의합니다.\n",
        "x = tf.placeholder(tf.float32, shape=[None, input_size])\n",
        "y = tf.placeholder(tf.float32, shape=[None, output_size])\n",
        "\n",
        "# ANN 모델을 정의합니다.\n",
        "def build_ANN(x):\n",
        "  W1 = tf.Variable(tf.random_normal(shape=[input_size, hidden1_size]))\n",
        "  b1 = tf.Variable(tf.random_normal(shape=[hidden1_size]))\n",
        "  H1_output = tf.nn.relu(tf.matmul(x,W1) + b1)\n",
        "  W2 = tf.Variable(tf.random_normal(shape=[hidden1_size, hidden2_size]))\n",
        "  b2 = tf.Variable(tf.random_normal(shape=[hidden2_size]))\n",
        "  H2_output = tf.nn.relu(tf.matmul(H1_output,W2) + b2)\n",
        "  W_output = tf.Variable(tf.random_normal(shape=[hidden2_size, output_size]))\n",
        "  b_output = tf.Variable(tf.random_normal(shape=[output_size]))\n",
        "  logits = tf.matmul(H2_output,W_output) + b_output\n",
        "\n",
        "  return logits\n",
        "\n",
        "# ANN 모델을 선언합니다.\n",
        "predicted_value = build_ANN(x)\n",
        "\n",
        "# 손실함수와 옵티마이저를 정의합니다.\n",
        "# tf.nn.softmax_cross_entropy_with_logits 함수를 이용하여 활성함수를 적용하지 않은 output layer의 결과값(logits)에 softmax 함수를 적용합니다.\n",
        "loss = tf.reduce_mean(tf.nn.softmax_cross_entropy_with_logits(logits=predicted_value, labels=y))\n",
        "train_step = tf.train.AdamOptimizer(learning_rate=learning_rate).minimize(loss)\n",
        "\n",
        "# 세션을 열고 그래프를 실행합니다.\n",
        "with tf.Session() as sess:\n",
        "  # 변수들에 초기값을 할당합니다.\n",
        "  sess.run(tf.global_variables_initializer())\n",
        "\n",
        "  # 지정된 횟수만큼 최적화를 수행합니다.\n",
        "  for epoch in range(num_epochs):\n",
        "    average_loss = 0.\n",
        "    # 전체 배치를 불러옵니다.\n",
        "    total_batch = int(mnist.train.num_examples/batch_size)\n",
        "    # 모든 배치들에 대해서 최적화를 수행합니다.\n",
        "    for i in range(total_batch):\n",
        "      batch_x, batch_y = mnist.train.next_batch(batch_size)\n",
        "      # 옵티마이저를 실행해서 파라마터들을 업데이트합니다.\n",
        "      _, current_loss = sess.run([train_step, loss], feed_dict={x: batch_x, y: batch_y})\n",
        "      # 평균 손실을 측정합니다.\n",
        "      average_loss += current_loss / total_batch\n",
        "    # 지정된 epoch마다 학습결과를 출력합니다.\n",
        "    if epoch % display_step == 0:\n",
        "      print(\"반복(Epoch): %d, 손실 함수(Loss): %f\" % ((epoch+1), average_loss))\n",
        "\n",
        "  # 테스트 데이터를 이용해서 학습된 모델이 얼마나 정확한지 정확도를 출력합니다.\n",
        "  correct_prediction = tf.equal(tf.argmax(predicted_value, 1), tf.argmax(y, 1))\n",
        "  accuracy = tf.reduce_mean(tf.cast(correct_prediction, \"float\"))\n",
        "  print(\"정확도(Accuracy): %f\" % (accuracy.eval(feed_dict={x: mnist.test.images, y: mnist.test.labels}))) # 정확도: 약 94%"
      ],
      "execution_count": 0,
      "outputs": [
        {
          "output_type": "stream",
          "text": [
            "Extracting /tmp/data/train-images-idx3-ubyte.gz\n",
            "Extracting /tmp/data/train-labels-idx1-ubyte.gz\n",
            "Extracting /tmp/data/t10k-images-idx3-ubyte.gz\n",
            "Extracting /tmp/data/t10k-labels-idx1-ubyte.gz\n",
            "WARNING:tensorflow:From <ipython-input-6-a9eba8d5a080>:41: softmax_cross_entropy_with_logits (from tensorflow.python.ops.nn_ops) is deprecated and will be removed in a future version.\n",
            "Instructions for updating:\n",
            "\n",
            "Future major versions of TensorFlow will allow gradients to flow\n",
            "into the labels input on backprop by default.\n",
            "\n",
            "See `tf.nn.softmax_cross_entropy_with_logits_v2`.\n",
            "\n",
            "반복(Epoch): 1, 손실 함수(Loss): 346.034767\n",
            "반복(Epoch): 2, 손실 함수(Loss): 73.169873\n",
            "반복(Epoch): 3, 손실 함수(Loss): 47.490070\n",
            "반복(Epoch): 4, 손실 함수(Loss): 35.016403\n",
            "반복(Epoch): 5, 손실 함수(Loss): 27.248695\n",
            "반복(Epoch): 6, 손실 함수(Loss): 22.009351\n",
            "반복(Epoch): 7, 손실 함수(Loss): 17.771288\n",
            "반복(Epoch): 8, 손실 함수(Loss): 14.596981\n",
            "반복(Epoch): 9, 손실 함수(Loss): 12.234646\n",
            "반복(Epoch): 10, 손실 함수(Loss): 10.345623\n",
            "반복(Epoch): 11, 손실 함수(Loss): 8.540253\n",
            "반복(Epoch): 12, 손실 함수(Loss): 7.139113\n",
            "반복(Epoch): 13, 손실 함수(Loss): 6.010164\n",
            "반복(Epoch): 14, 손실 함수(Loss): 4.897580\n",
            "반복(Epoch): 15, 손실 함수(Loss): 4.243205\n",
            "반복(Epoch): 16, 손실 함수(Loss): 3.388107\n",
            "반복(Epoch): 17, 손실 함수(Loss): 2.794858\n",
            "반복(Epoch): 18, 손실 함수(Loss): 2.396321\n",
            "반복(Epoch): 19, 손실 함수(Loss): 1.841414\n",
            "반복(Epoch): 20, 손실 함수(Loss): 1.567076\n",
            "반복(Epoch): 21, 손실 함수(Loss): 1.248802\n",
            "반복(Epoch): 22, 손실 함수(Loss): 1.044750\n",
            "반복(Epoch): 23, 손실 함수(Loss): 0.765308\n",
            "반복(Epoch): 24, 손실 함수(Loss): 0.652715\n",
            "반복(Epoch): 25, 손실 함수(Loss): 0.534064\n",
            "반복(Epoch): 26, 손실 함수(Loss): 0.410004\n",
            "반복(Epoch): 27, 손실 함수(Loss): 0.346152\n",
            "반복(Epoch): 28, 손실 함수(Loss): 0.323624\n",
            "반복(Epoch): 29, 손실 함수(Loss): 0.276100\n",
            "반복(Epoch): 30, 손실 함수(Loss): 0.230403\n",
            "정확도(Accuracy): 0.941200\n"
          ],
          "name": "stdout"
        }
      ]
    },
    {
      "cell_type": "code",
      "metadata": {
        "id": "JPJjYNkcy3GT",
        "colab_type": "code",
        "colab": {}
      },
      "source": [
        ""
      ],
      "execution_count": 0,
      "outputs": []
    }
  ]
}