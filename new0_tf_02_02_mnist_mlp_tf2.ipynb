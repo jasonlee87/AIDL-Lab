{
  "nbformat": 4,
  "nbformat_minor": 0,
  "metadata": {
    "colab": {
      "name": "new0-tf_02_02_mnist_mlp_tf2.ipynb",
      "provenance": [],
      "toc_visible": true,
      "include_colab_link": true
    },
    "kernelspec": {
      "name": "python3",
      "display_name": "Python 3"
    },
    "accelerator": "GPU"
  },
  "cells": [
    {
      "cell_type": "markdown",
      "metadata": {
        "id": "view-in-github",
        "colab_type": "text"
      },
      "source": [
        "<a href=\"https://colab.research.google.com/github/jasonlee87/AIDL-Lab/blob/master/new0_tf_02_02_mnist_mlp_tf2.ipynb\" target=\"_parent\"><img src=\"https://colab.research.google.com/assets/colab-badge.svg\" alt=\"Open In Colab\"/></a>"
      ]
    },
    {
      "cell_type": "markdown",
      "metadata": {
        "id": "YUbrsmxWf04y",
        "colab_type": "text"
      },
      "source": [
        "# ***실습 2-2 :  tf.keras 모듈을 이용해 MLP(Mingle Layer Perceptron) 설계하기*** \n"
      ]
    },
    {
      "cell_type": "markdown",
      "metadata": {
        "id": "NiRRh004Veeq",
        "colab_type": "text"
      },
      "source": [
        "- *이미지 분류(Image Classification)를 위한 뉴럴 네트워크를 MLP로 설계한다*\n",
        "- *NN 모델을 훈련시킨다*\n",
        "- *NN 모델의 정확도를 검증한다*"
      ]
    },
    {
      "cell_type": "markdown",
      "metadata": {
        "id": "CfwO3tnWf_nY",
        "colab_type": "text"
      },
      "source": [
        "## ***Module Import***"
      ]
    },
    {
      "cell_type": "code",
      "metadata": {
        "id": "bC2OU4zcDdVC",
        "colab_type": "code",
        "outputId": "d03b95c8-54f9-42e8-b7e1-bebd94c5ee4f",
        "colab": {
          "base_uri": "https://localhost:8080/",
          "height": 34
        }
      },
      "source": [
        "try:\n",
        "  # %tensorflow_version only exists in Colab.\n",
        "  %tensorflow_version 2.x\n",
        "except Exception:\n",
        "  pass"
      ],
      "execution_count": 1,
      "outputs": [
        {
          "output_type": "stream",
          "text": [
            "TensorFlow 2.x selected.\n"
          ],
          "name": "stdout"
        }
      ]
    },
    {
      "cell_type": "code",
      "metadata": {
        "id": "DZ4hSO9Cy0l7",
        "colab_type": "code",
        "outputId": "fec52cfe-bc61-4eb2-8820-4ea32f8b9411",
        "colab": {
          "base_uri": "https://localhost:8080/",
          "height": 34
        }
      },
      "source": [
        "import tensorflow as tf\n",
        "from tensorflow import keras\n",
        "from tensorflow.keras.models import Sequential\n",
        "from tensorflow.keras.layers import Dense\n",
        "from tensorflow.keras.optimizers import SGD\n",
        "from tensorflow.keras.datasets import mnist\n",
        "import numpy as np\n",
        "import matplotlib.pyplot as plt\n",
        "\n",
        "tf.__version__ \n",
        "keras.__version__"
      ],
      "execution_count": 2,
      "outputs": [
        {
          "output_type": "execute_result",
          "data": {
            "text/plain": [
              "'2.2.4-tf'"
            ]
          },
          "metadata": {
            "tags": []
          },
          "execution_count": 2
        }
      ]
    },
    {
      "cell_type": "code",
      "metadata": {
        "id": "Ti76o9-8f91P",
        "colab_type": "code",
        "colab": {}
      },
      "source": [
        ""
      ],
      "execution_count": 0,
      "outputs": []
    },
    {
      "cell_type": "markdown",
      "metadata": {
        "id": "wOiaPQ3xgJQC",
        "colab_type": "text"
      },
      "source": [
        "## ***DataSet***"
      ]
    },
    {
      "cell_type": "markdown",
      "metadata": {
        "id": "U8yh3kv1gR8r",
        "colab_type": "text"
      },
      "source": [
        "### *Load*"
      ]
    },
    {
      "cell_type": "code",
      "metadata": {
        "colab_type": "code",
        "id": "7FP5258xjs-v",
        "colab": {}
      },
      "source": [
        "(x_train, y_train), (x_test, y_test) = mnist.load_data()\n",
        "x_train, x_test = x_train / 255.0, x_test / 255.0"
      ],
      "execution_count": 0,
      "outputs": []
    },
    {
      "cell_type": "markdown",
      "metadata": {
        "id": "O0oDy0CggOEm",
        "colab_type": "text"
      },
      "source": [
        "### *Preview*"
      ]
    },
    {
      "cell_type": "code",
      "metadata": {
        "id": "p0gD96iQbpFp",
        "colab_type": "code",
        "outputId": "664635ea-f011-4949-ae05-0eb78487739c",
        "colab": {
          "base_uri": "https://localhost:8080/",
          "height": 140
        }
      },
      "source": [
        "plt.figure(figsize=(12, 2))\n",
        "for i in range(36):\n",
        "    plt.subplot(3, 12, i+1)\n",
        "    plt.imshow(x_train[i], cmap=\"gray\")\n",
        "    plt.axis(\"off\")\n",
        "plt.show()"
      ],
      "execution_count": 4,
      "outputs": [
        {
          "output_type": "display_data",
          "data": {
            "image/png": "[encoded data removed]",
            "text/plain": [
              "<Figure size 864x144 with 36 Axes>"
            ]
          },
          "metadata": {
            "tags": []
          }
        }
      ]
    },
    {
      "cell_type": "markdown",
      "metadata": {
        "id": "EY3zfzjlgbYj",
        "colab_type": "text"
      },
      "source": [
        "## ***Model***"
      ]
    },
    {
      "cell_type": "markdown",
      "metadata": {
        "id": "PUqUyRtngdUC",
        "colab_type": "text"
      },
      "source": [
        "### *Define*"
      ]
    },
    {
      "cell_type": "code",
      "metadata": {
        "colab_type": "code",
        "id": "hLmunQbgT5cV",
        "colab": {}
      },
      "source": [
        "model = tf.keras.models.Sequential([\n",
        "  tf.keras.layers.Flatten(input_shape=(28, 28)),\n",
        "  tf.keras.layers.Dense(512, activation='relu'),\n",
        "  tf.keras.layers.Dropout(0.2),\n",
        "  tf.keras.layers.Dense(128, activation='relu'),\n",
        "  tf.keras.layers.Dropout(0.2),\n",
        "  tf.keras.layers.Dense(10, activation='softmax')\n",
        "])"
      ],
      "execution_count": 0,
      "outputs": []
    },
    {
      "cell_type": "markdown",
      "metadata": {
        "id": "aACwVs7QgmLq",
        "colab_type": "text"
      },
      "source": [
        "### *Compile*"
      ]
    },
    {
      "cell_type": "code",
      "metadata": {
        "id": "hP7ohoahKZ-K",
        "colab_type": "code",
        "outputId": "f985d044-1b76-48d8-aef3-3fb866dbd8b3",
        "colab": {
          "base_uri": "https://localhost:8080/",
          "height": 357
        }
      },
      "source": [
        "model.compile(optimizer='adam',\n",
        "              loss='sparse_categorical_crossentropy',\n",
        "              metrics=['accuracy'])\n",
        "\n",
        "model.summary()"
      ],
      "execution_count": 6,
      "outputs": [
        {
          "output_type": "stream",
          "text": [
            "Model: \"sequential\"\n",
            "_________________________________________________________________\n",
            "Layer (type)                 Output Shape              Param #   \n",
            "=================================================================\n",
            "flatten (Flatten)            (None, 784)               0         \n",
            "_________________________________________________________________\n",
            "dense (Dense)                (None, 512)               401920    \n",
            "_________________________________________________________________\n",
            "dropout (Dropout)            (None, 512)               0         \n",
            "_________________________________________________________________\n",
            "dense_1 (Dense)              (None, 128)               65664     \n",
            "_________________________________________________________________\n",
            "dropout_1 (Dropout)          (None, 128)               0         \n",
            "_________________________________________________________________\n",
            "dense_2 (Dense)              (None, 10)                1290      \n",
            "=================================================================\n",
            "Total params: 468,874\n",
            "Trainable params: 468,874\n",
            "Non-trainable params: 0\n",
            "_________________________________________________________________\n"
          ],
          "name": "stdout"
        }
      ]
    },
    {
      "cell_type": "code",
      "metadata": {
        "id": "sf3xDhGoBITb",
        "colab_type": "code",
        "outputId": "defa468d-c044-40b3-8433-1e24f7f4dd0d",
        "colab": {
          "base_uri": "https://localhost:8080/",
          "height": 754
        }
      },
      "source": [
        "tf.keras.utils.plot_model(model, 'my_slp_model.png', show_shapes=True)"
      ],
      "execution_count": 7,
      "outputs": [
        {
          "output_type": "execute_result",
          "data": {
            "image/png": "[encoded data removed]",
            "text/plain": [
              "<IPython.core.display.Image object>"
            ]
          },
          "metadata": {
            "tags": []
          },
          "execution_count": 7
        }
      ]
    },
    {
      "cell_type": "markdown",
      "metadata": {
        "id": "n9BG8hNUgo0n",
        "colab_type": "text"
      },
      "source": [
        "### *Fit*"
      ]
    },
    {
      "cell_type": "markdown",
      "metadata": {
        "id": "7KbIreYLd6gj",
        "colab_type": "text"
      },
      "source": [
        "Epoch 100/100\n",
        "60000/60000 [==============================] - 0s 5us/sample - loss: 0.0036 - accuracy: 0.9987\n",
        "CPU times: user 40.6 s, sys: 2.54 s, total: 43.1 s   \n",
        "Wall time: 33.7 s  (@Notebook Setting/GPU)"
      ]
    },
    {
      "cell_type": "code",
      "metadata": {
        "id": "-_idMKYwKVqX",
        "colab_type": "code",
        "outputId": "202c75d9-ea73-4210-e678-854262e8e3b7",
        "colab": {
          "base_uri": "https://localhost:8080/",
          "height": 1000
        }
      },
      "source": [
        "%%time\n",
        "hist = model.fit(x_train, y_train, batch_size=1000, epochs=100)"
      ],
      "execution_count": 8,
      "outputs": [
        {
          "output_type": "stream",
          "text": [
            "Train on 60000 samples\n",
            "Epoch 1/100\n",
            "60000/60000 [==============================] - 1s 20us/sample - loss: 0.5862 - accuracy: 0.8273\n",
            "Epoch 2/100\n",
            "60000/60000 [==============================] - 0s 5us/sample - loss: 0.2144 - accuracy: 0.9371\n",
            "Epoch 3/100\n",
            "60000/60000 [==============================] - 0s 6us/sample - loss: 0.1514 - accuracy: 0.9554\n",
            "Epoch 4/100\n",
            "60000/60000 [==============================] - 0s 5us/sample - loss: 0.1176 - accuracy: 0.9649\n",
            "Epoch 5/100\n",
            "60000/60000 [==============================] - 0s 5us/sample - loss: 0.0946 - accuracy: 0.9717\n",
            "Epoch 6/100\n",
            "60000/60000 [==============================] - 0s 5us/sample - loss: 0.0789 - accuracy: 0.9765\n",
            "Epoch 7/100\n",
            "60000/60000 [==============================] - 0s 5us/sample - loss: 0.0681 - accuracy: 0.9797\n",
            "Epoch 8/100\n",
            "60000/60000 [==============================] - 0s 5us/sample - loss: 0.0574 - accuracy: 0.9825\n",
            "Epoch 9/100\n",
            "60000/60000 [==============================] - 0s 5us/sample - loss: 0.0502 - accuracy: 0.9847\n",
            "Epoch 10/100\n",
            "60000/60000 [==============================] - 0s 5us/sample - loss: 0.0445 - accuracy: 0.9863\n",
            "Epoch 11/100\n",
            "60000/60000 [==============================] - 0s 5us/sample - loss: 0.0387 - accuracy: 0.9882\n",
            "Epoch 12/100\n",
            "60000/60000 [==============================] - 0s 5us/sample - loss: 0.0360 - accuracy: 0.9889\n",
            "Epoch 13/100\n",
            "60000/60000 [==============================] - 0s 5us/sample - loss: 0.0306 - accuracy: 0.9904\n",
            "Epoch 14/100\n",
            "60000/60000 [==============================] - 0s 5us/sample - loss: 0.0273 - accuracy: 0.9917\n",
            "Epoch 15/100\n",
            "60000/60000 [==============================] - 0s 6us/sample - loss: 0.0243 - accuracy: 0.9926\n",
            "Epoch 16/100\n",
            "60000/60000 [==============================] - 0s 5us/sample - loss: 0.0230 - accuracy: 0.9928\n",
            "Epoch 17/100\n",
            "60000/60000 [==============================] - 0s 5us/sample - loss: 0.0196 - accuracy: 0.9940\n",
            "Epoch 18/100\n",
            "60000/60000 [==============================] - 0s 6us/sample - loss: 0.0193 - accuracy: 0.9940\n",
            "Epoch 19/100\n",
            "60000/60000 [==============================] - 0s 5us/sample - loss: 0.0160 - accuracy: 0.9954\n",
            "Epoch 20/100\n",
            "60000/60000 [==============================] - 0s 5us/sample - loss: 0.0163 - accuracy: 0.9950\n",
            "Epoch 21/100\n",
            "60000/60000 [==============================] - 0s 5us/sample - loss: 0.0137 - accuracy: 0.9959\n",
            "Epoch 22/100\n",
            "60000/60000 [==============================] - 0s 5us/sample - loss: 0.0132 - accuracy: 0.9962\n",
            "Epoch 23/100\n",
            "60000/60000 [==============================] - 0s 5us/sample - loss: 0.0121 - accuracy: 0.9965\n",
            "Epoch 24/100\n",
            "60000/60000 [==============================] - 0s 5us/sample - loss: 0.0135 - accuracy: 0.9957\n",
            "Epoch 25/100\n",
            "60000/60000 [==============================] - 0s 6us/sample - loss: 0.0124 - accuracy: 0.9964\n",
            "Epoch 26/100\n",
            "60000/60000 [==============================] - 0s 5us/sample - loss: 0.0105 - accuracy: 0.9966\n",
            "Epoch 27/100\n",
            "60000/60000 [==============================] - 0s 5us/sample - loss: 0.0112 - accuracy: 0.9963\n",
            "Epoch 28/100\n",
            "60000/60000 [==============================] - 0s 6us/sample - loss: 0.0098 - accuracy: 0.9969\n",
            "Epoch 29/100\n",
            "60000/60000 [==============================] - 0s 5us/sample - loss: 0.0084 - accuracy: 0.9973\n",
            "Epoch 30/100\n",
            "60000/60000 [==============================] - 0s 5us/sample - loss: 0.0086 - accuracy: 0.9973\n",
            "Epoch 31/100\n",
            "60000/60000 [==============================] - 0s 6us/sample - loss: 0.0090 - accuracy: 0.9971\n",
            "Epoch 32/100\n",
            "60000/60000 [==============================] - 0s 5us/sample - loss: 0.0081 - accuracy: 0.9975\n",
            "Epoch 33/100\n",
            "60000/60000 [==============================] - 0s 5us/sample - loss: 0.0074 - accuracy: 0.9978\n",
            "Epoch 34/100\n",
            "60000/60000 [==============================] - 0s 5us/sample - loss: 0.0060 - accuracy: 0.9983\n",
            "Epoch 35/100\n",
            "60000/60000 [==============================] - 0s 6us/sample - loss: 0.0066 - accuracy: 0.9979\n",
            "Epoch 36/100\n",
            "60000/60000 [==============================] - 0s 5us/sample - loss: 0.0057 - accuracy: 0.9981\n",
            "Epoch 37/100\n",
            "60000/60000 [==============================] - 0s 6us/sample - loss: 0.0061 - accuracy: 0.9981\n",
            "Epoch 38/100\n",
            "60000/60000 [==============================] - 0s 5us/sample - loss: 0.0059 - accuracy: 0.9983\n",
            "Epoch 39/100\n",
            "60000/60000 [==============================] - 0s 5us/sample - loss: 0.0059 - accuracy: 0.9983\n",
            "Epoch 40/100\n",
            "60000/60000 [==============================] - 0s 5us/sample - loss: 0.0067 - accuracy: 0.9979\n",
            "Epoch 41/100\n",
            "60000/60000 [==============================] - 0s 5us/sample - loss: 0.0065 - accuracy: 0.9980\n",
            "Epoch 42/100\n",
            "60000/60000 [==============================] - 0s 5us/sample - loss: 0.0061 - accuracy: 0.9980\n",
            "Epoch 43/100\n",
            "60000/60000 [==============================] - 0s 5us/sample - loss: 0.0054 - accuracy: 0.9983\n",
            "Epoch 44/100\n",
            "60000/60000 [==============================] - 0s 5us/sample - loss: 0.0051 - accuracy: 0.9985\n",
            "Epoch 45/100\n",
            "60000/60000 [==============================] - 0s 5us/sample - loss: 0.0050 - accuracy: 0.9984\n",
            "Epoch 46/100\n",
            "60000/60000 [==============================] - 0s 5us/sample - loss: 0.0056 - accuracy: 0.9983\n",
            "Epoch 47/100\n",
            "60000/60000 [==============================] - 0s 6us/sample - loss: 0.0049 - accuracy: 0.9985\n",
            "Epoch 48/100\n",
            "60000/60000 [==============================] - 0s 5us/sample - loss: 0.0053 - accuracy: 0.9981\n",
            "Epoch 49/100\n",
            "60000/60000 [==============================] - 0s 5us/sample - loss: 0.0058 - accuracy: 0.9979\n",
            "Epoch 50/100\n",
            "60000/60000 [==============================] - 0s 5us/sample - loss: 0.0059 - accuracy: 0.9981\n",
            "Epoch 51/100\n",
            "60000/60000 [==============================] - 0s 5us/sample - loss: 0.0043 - accuracy: 0.9985\n",
            "Epoch 52/100\n",
            "60000/60000 [==============================] - 0s 5us/sample - loss: 0.0049 - accuracy: 0.9983\n",
            "Epoch 53/100\n",
            "60000/60000 [==============================] - 0s 5us/sample - loss: 0.0049 - accuracy: 0.9983\n",
            "Epoch 54/100\n",
            "60000/60000 [==============================] - 0s 5us/sample - loss: 0.0042 - accuracy: 0.9987\n",
            "Epoch 55/100\n",
            "60000/60000 [==============================] - 0s 5us/sample - loss: 0.0040 - accuracy: 0.9987\n",
            "Epoch 56/100\n",
            "60000/60000 [==============================] - 0s 5us/sample - loss: 0.0043 - accuracy: 0.9984\n",
            "Epoch 57/100\n",
            "60000/60000 [==============================] - 0s 5us/sample - loss: 0.0041 - accuracy: 0.9986\n",
            "Epoch 58/100\n",
            "60000/60000 [==============================] - 0s 5us/sample - loss: 0.0045 - accuracy: 0.9985\n",
            "Epoch 59/100\n",
            "60000/60000 [==============================] - 0s 5us/sample - loss: 0.0048 - accuracy: 0.9984\n",
            "Epoch 60/100\n",
            "60000/60000 [==============================] - 0s 5us/sample - loss: 0.0041 - accuracy: 0.9986\n",
            "Epoch 61/100\n",
            "60000/60000 [==============================] - 0s 5us/sample - loss: 0.0051 - accuracy: 0.9985\n",
            "Epoch 62/100\n",
            "60000/60000 [==============================] - 0s 5us/sample - loss: 0.0046 - accuracy: 0.9984\n",
            "Epoch 63/100\n",
            "60000/60000 [==============================] - 0s 5us/sample - loss: 0.0050 - accuracy: 0.9984\n",
            "Epoch 64/100\n",
            "60000/60000 [==============================] - 0s 5us/sample - loss: 0.0050 - accuracy: 0.9983\n",
            "Epoch 65/100\n",
            "60000/60000 [==============================] - 0s 5us/sample - loss: 0.0039 - accuracy: 0.9987\n",
            "Epoch 66/100\n",
            "60000/60000 [==============================] - 0s 5us/sample - loss: 0.0030 - accuracy: 0.9990\n",
            "Epoch 67/100\n",
            "60000/60000 [==============================] - 0s 6us/sample - loss: 0.0041 - accuracy: 0.9986\n",
            "Epoch 68/100\n",
            "60000/60000 [==============================] - 0s 5us/sample - loss: 0.0039 - accuracy: 0.9987\n",
            "Epoch 69/100\n",
            "60000/60000 [==============================] - 0s 6us/sample - loss: 0.0033 - accuracy: 0.9990\n",
            "Epoch 70/100\n",
            "60000/60000 [==============================] - 0s 5us/sample - loss: 0.0039 - accuracy: 0.9987\n",
            "Epoch 71/100\n",
            "60000/60000 [==============================] - 0s 5us/sample - loss: 0.0041 - accuracy: 0.9987\n",
            "Epoch 72/100\n",
            "60000/60000 [==============================] - 0s 6us/sample - loss: 0.0044 - accuracy: 0.9986\n",
            "Epoch 73/100\n",
            "60000/60000 [==============================] - 0s 5us/sample - loss: 0.0028 - accuracy: 0.9991\n",
            "Epoch 74/100\n",
            "60000/60000 [==============================] - 0s 5us/sample - loss: 0.0045 - accuracy: 0.9984\n",
            "Epoch 75/100\n",
            "60000/60000 [==============================] - 0s 6us/sample - loss: 0.0047 - accuracy: 0.9983\n",
            "Epoch 76/100\n",
            "60000/60000 [==============================] - 0s 5us/sample - loss: 0.0035 - accuracy: 0.9989\n",
            "Epoch 77/100\n",
            "60000/60000 [==============================] - 0s 5us/sample - loss: 0.0042 - accuracy: 0.9987\n",
            "Epoch 78/100\n",
            "60000/60000 [==============================] - 0s 5us/sample - loss: 0.0044 - accuracy: 0.9985\n",
            "Epoch 79/100\n",
            "60000/60000 [==============================] - 0s 6us/sample - loss: 0.0034 - accuracy: 0.9987\n",
            "Epoch 80/100\n",
            "60000/60000 [==============================] - 0s 5us/sample - loss: 0.0030 - accuracy: 0.9991\n",
            "Epoch 81/100\n",
            "60000/60000 [==============================] - 0s 5us/sample - loss: 0.0034 - accuracy: 0.9988\n",
            "Epoch 82/100\n",
            "60000/60000 [==============================] - 0s 5us/sample - loss: 0.0031 - accuracy: 0.9992\n",
            "Epoch 83/100\n",
            "60000/60000 [==============================] - 0s 5us/sample - loss: 0.0032 - accuracy: 0.9988\n",
            "Epoch 84/100\n",
            "60000/60000 [==============================] - 0s 5us/sample - loss: 0.0043 - accuracy: 0.9986\n",
            "Epoch 85/100\n",
            "60000/60000 [==============================] - 0s 6us/sample - loss: 0.0040 - accuracy: 0.9986\n",
            "Epoch 86/100\n",
            "60000/60000 [==============================] - 0s 5us/sample - loss: 0.0040 - accuracy: 0.9988\n",
            "Epoch 87/100\n",
            "60000/60000 [==============================] - 0s 5us/sample - loss: 0.0039 - accuracy: 0.9985\n",
            "Epoch 88/100\n",
            "60000/60000 [==============================] - 0s 5us/sample - loss: 0.0048 - accuracy: 0.9984\n",
            "Epoch 89/100\n",
            "60000/60000 [==============================] - 0s 5us/sample - loss: 0.0030 - accuracy: 0.9991\n",
            "Epoch 90/100\n",
            "60000/60000 [==============================] - 0s 5us/sample - loss: 0.0025 - accuracy: 0.9993\n",
            "Epoch 91/100\n",
            "60000/60000 [==============================] - 0s 5us/sample - loss: 0.0031 - accuracy: 0.9991\n",
            "Epoch 92/100\n",
            "60000/60000 [==============================] - 0s 5us/sample - loss: 0.0038 - accuracy: 0.9989\n",
            "Epoch 93/100\n",
            "60000/60000 [==============================] - 0s 5us/sample - loss: 0.0035 - accuracy: 0.9987\n",
            "Epoch 94/100\n",
            "60000/60000 [==============================] - 0s 5us/sample - loss: 0.0038 - accuracy: 0.9989\n",
            "Epoch 95/100\n",
            "60000/60000 [==============================] - 0s 5us/sample - loss: 0.0036 - accuracy: 0.9989\n",
            "Epoch 96/100\n",
            "60000/60000 [==============================] - 0s 5us/sample - loss: 0.0024 - accuracy: 0.9992\n",
            "Epoch 97/100\n",
            "60000/60000 [==============================] - 0s 5us/sample - loss: 0.0027 - accuracy: 0.9990\n",
            "Epoch 98/100\n",
            "60000/60000 [==============================] - 0s 5us/sample - loss: 0.0026 - accuracy: 0.9991\n",
            "Epoch 99/100\n",
            "60000/60000 [==============================] - 0s 5us/sample - loss: 0.0043 - accuracy: 0.9984\n",
            "Epoch 100/100\n",
            "60000/60000 [==============================] - 0s 5us/sample - loss: 0.0032 - accuracy: 0.9989\n",
            "CPU times: user 40.6 s, sys: 2.49 s, total: 43.1 s\n",
            "Wall time: 32.9 s\n"
          ],
          "name": "stdout"
        }
      ]
    },
    {
      "cell_type": "markdown",
      "metadata": {
        "id": "m4kAr8XNg2nc",
        "colab_type": "text"
      },
      "source": [
        "### *Evaluate*"
      ]
    },
    {
      "cell_type": "code",
      "metadata": {
        "id": "33QHvlOLeSik",
        "colab_type": "code",
        "outputId": "4c8ffed9-a630-44a2-db6a-7ab69ead796b",
        "colab": {
          "base_uri": "https://localhost:8080/",
          "height": 34
        }
      },
      "source": [
        "model.evaluate(x_test,  y_test, verbose=0)"
      ],
      "execution_count": 9,
      "outputs": [
        {
          "output_type": "execute_result",
          "data": {
            "text/plain": [
              "[0.08275740545424036, 0.9856]"
            ]
          },
          "metadata": {
            "tags": []
          },
          "execution_count": 9
        }
      ]
    },
    {
      "cell_type": "markdown",
      "metadata": {
        "id": "v7Bf90ATg98K",
        "colab_type": "text"
      },
      "source": [
        "## ***Analysis***"
      ]
    },
    {
      "cell_type": "markdown",
      "metadata": {
        "id": "VcGTERphhBNs",
        "colab_type": "text"
      },
      "source": [
        "### *Plot*"
      ]
    },
    {
      "cell_type": "code",
      "metadata": {
        "id": "CjMu2fQKLD_N",
        "colab_type": "code",
        "outputId": "9ecc01e6-fdbf-4695-fdf2-40e027f06f08",
        "colab": {
          "base_uri": "https://localhost:8080/",
          "height": 404
        }
      },
      "source": [
        "history_dict = hist.history\n",
        "history_dict.keys()\n",
        "\n",
        "loss = history_dict['loss']\n",
        "epochs = range(1, len(loss)+1)\n",
        "\n",
        "plt.figure(figsize=(10, 6))\n",
        "plt.subplot(2, 1, 1)\n",
        "plt.title('Accuray')\n",
        "plt.plot(epochs, hist.history['accuracy'], 'b', label='accuracy')\n",
        "plt.grid(True)\n",
        "#plt.xlabel('Epoch')\n",
        "plt.ylabel('Accuracy')\n",
        "plt.ylim([0.6, 1])\n",
        "plt.legend(loc='best')\n",
        "\n",
        "plt.subplot(2, 1, 2)\n",
        "plt.title('Loss')\n",
        "plt.plot(epochs, hist.history['loss'], 'r', label='loss')\n",
        "plt.grid(True)\n",
        "plt.xlabel('Epoch')\n",
        "plt.ylabel('loss')\n",
        "plt.ylim([0.0, 0.6])\n",
        "plt.legend(loc='best')\n",
        "plt.show()\n"
      ],
      "execution_count": 10,
      "outputs": [
        {
          "output_type": "display_data",
          "data": {
            "image/png": "[encoded data removed]",
            "text/plain": [
              "<Figure size 720x432 with 2 Axes>"
            ]
          },
          "metadata": {
            "tags": []
          }
        }
      ]
    },
    {
      "cell_type": "markdown",
      "metadata": {
        "colab_type": "text",
        "id": "JyGjpP3qCEsN"
      },
      "source": [
        "### *Prediction*"
      ]
    },
    {
      "cell_type": "code",
      "metadata": {
        "id": "8NildFhh_bXu",
        "colab_type": "code",
        "outputId": "6217da2a-2043-4d04-96c5-15839c0d107d",
        "colab": {
          "base_uri": "https://localhost:8080/",
          "height": 51
        }
      },
      "source": [
        "# 테스트셋 첫 이미지 예측정보\n",
        "print (model.predict(x_test[:1, :]))"
      ],
      "execution_count": 11,
      "outputs": [
        {
          "output_type": "stream",
          "text": [
            "[[3.7234671e-15 3.9515707e-11 1.7360856e-13 2.2921808e-12 1.3200521e-16\n",
            "  1.2531474e-15 8.2486740e-18 1.0000000e+00 9.8522902e-16 8.1980023e-13]]\n"
          ],
          "name": "stdout"
        }
      ]
    },
    {
      "cell_type": "code",
      "metadata": {
        "id": "IMPbCcht_hSW",
        "colab_type": "code",
        "outputId": "a5a8f838-edfc-4afe-9e61-01710cb90ca5",
        "colab": {
          "base_uri": "https://localhost:8080/",
          "height": 34
        }
      },
      "source": [
        "# 데스트셋 첫 이미지 분류\n",
        "print (model.predict_classes(x_test[:1, :], verbose=0))"
      ],
      "execution_count": 12,
      "outputs": [
        {
          "output_type": "stream",
          "text": [
            "[7]\n"
          ],
          "name": "stdout"
        }
      ]
    },
    {
      "cell_type": "code",
      "metadata": {
        "id": "6BZYppIV_lem",
        "colab_type": "code",
        "outputId": "c0fb01f1-32e7-42f1-b267-6c84c6dd86c3",
        "colab": {
          "base_uri": "https://localhost:8080/",
          "height": 85
        }
      },
      "source": [
        "plt.figure(figsize=(1, 1))\n",
        "plt.imshow(x_test[0], cmap='gray')\n",
        "plt.grid(False)\n",
        "plt.axis(\"off\")\n",
        "plt.show()"
      ],
      "execution_count": 13,
      "outputs": [
        {
          "output_type": "display_data",
          "data": {
            "image/png": "[encoded data removed]",
            "text/plain": [
              "<Figure size 72x72 with 1 Axes>"
            ]
          },
          "metadata": {
            "tags": []
          }
        }
      ]
    },
    {
      "cell_type": "markdown",
      "metadata": {
        "colab_type": "text",
        "id": "tI4ULJYDNkbQ"
      },
      "source": [
        "## ***File***"
      ]
    },
    {
      "cell_type": "markdown",
      "metadata": {
        "colab_type": "text",
        "id": "0DoMx92wJtVQ"
      },
      "source": [
        "### *Save model*"
      ]
    },
    {
      "cell_type": "code",
      "metadata": {
        "id": "pLY-0R9W_16O",
        "colab_type": "code",
        "colab": {}
      },
      "source": [
        "model.save('my_mlp_model.hdf5')\n",
        "# delete\n",
        "del model"
      ],
      "execution_count": 0,
      "outputs": []
    },
    {
      "cell_type": "markdown",
      "metadata": {
        "colab_type": "text",
        "id": "vP_XCIXCJ6RC"
      },
      "source": [
        "### *Load model*"
      ]
    },
    {
      "cell_type": "code",
      "metadata": {
        "id": "RmfPqRMR3fNM",
        "colab_type": "code",
        "outputId": "7725db2d-b003-4db8-bf20-705fd91c2a9b",
        "colab": {
          "base_uri": "https://localhost:8080/",
          "height": 34
        }
      },
      "source": [
        "from tensorflow.keras.models import load_model\n",
        "\n",
        "model2 = load_model('my_mlp_model.hdf5')\n",
        "print(model2.predict_classes(x_test[:1, :], verbose=0))"
      ],
      "execution_count": 15,
      "outputs": [
        {
          "output_type": "stream",
          "text": [
            "[7]\n"
          ],
          "name": "stdout"
        }
      ]
    },
    {
      "cell_type": "code",
      "metadata": {
        "id": "VMzq-EBwA9PB",
        "colab_type": "code",
        "outputId": "57042ec4-80f8-4742-cef3-3211f3d7d22d",
        "colab": {
          "base_uri": "https://localhost:8080/",
          "height": 357
        }
      },
      "source": [
        "# chkeck a loaded mode\n",
        "model2.summary()"
      ],
      "execution_count": 16,
      "outputs": [
        {
          "output_type": "stream",
          "text": [
            "Model: \"sequential\"\n",
            "_________________________________________________________________\n",
            "Layer (type)                 Output Shape              Param #   \n",
            "=================================================================\n",
            "flatten (Flatten)            (None, 784)               0         \n",
            "_________________________________________________________________\n",
            "dense (Dense)                (None, 512)               401920    \n",
            "_________________________________________________________________\n",
            "dropout (Dropout)            (None, 512)               0         \n",
            "_________________________________________________________________\n",
            "dense_1 (Dense)              (None, 128)               65664     \n",
            "_________________________________________________________________\n",
            "dropout_1 (Dropout)          (None, 128)               0         \n",
            "_________________________________________________________________\n",
            "dense_2 (Dense)              (None, 10)                1290      \n",
            "=================================================================\n",
            "Total params: 468,874\n",
            "Trainable params: 468,874\n",
            "Non-trainable params: 0\n",
            "_________________________________________________________________\n"
          ],
          "name": "stdout"
        }
      ]
    },
    {
      "cell_type": "markdown",
      "metadata": {
        "colab_type": "text",
        "id": "n6GtmFf3K-ZP"
      },
      "source": [
        "### *Tip*"
      ]
    },
    {
      "cell_type": "markdown",
      "metadata": {
        "id": "F3FCGA6MLCES",
        "colab_type": "text"
      },
      "source": [
        "- 로칼과의 다운로드과 업로드는 Colab의 왼편 창 Files brower를 이용하면 편리하다\n",
        "- Colab과 내 구글드라이브('My Drive')를 연결시키고자 한다면 마운트한다"
      ]
    },
    {
      "cell_type": "code",
      "metadata": {
        "id": "gFPP6kUxLAJy",
        "colab_type": "code",
        "colab": {}
      },
      "source": [
        ""
      ],
      "execution_count": 0,
      "outputs": []
    },
    {
      "cell_type": "markdown",
      "metadata": {
        "id": "GnaUZbi_hIHw",
        "colab_type": "text"
      },
      "source": [
        "## ***실습과제***"
      ]
    },
    {
      "cell_type": "markdown",
      "metadata": {
        "id": "o5QEUAIbhVUQ",
        "colab_type": "text"
      },
      "source": [
        "### *과제1*"
      ]
    },
    {
      "cell_type": "markdown",
      "metadata": {
        "id": "07YM3eLIWxSY",
        "colab_type": "text"
      },
      "source": [
        "- #### *Dropout()을 빼서 학습시켜보라. 정확도에 변화가 있는가?*     \n",
        "- #### *loss와 optimizer의 종류를 변경시켜 실험해 보라*    \n",
        "- #### *학습 parameter 갯수를 유도해보라*"
      ]
    },
    {
      "cell_type": "markdown",
      "metadata": {
        "colab_type": "text",
        "id": "hbahvk4TlsXB"
      },
      "source": [
        "### *과제2*"
      ]
    },
    {
      "cell_type": "markdown",
      "metadata": {
        "id": "pIoUlvLGONA8",
        "colab_type": "text"
      },
      "source": [
        "- #### *그외 verbose 같은 개발을 돕는 옵션들도 변경해보자*"
      ]
    },
    {
      "cell_type": "code",
      "metadata": {
        "id": "BVoZzyXpOv17",
        "colab_type": "code",
        "colab": {}
      },
      "source": [
        ""
      ],
      "execution_count": 0,
      "outputs": []
    }
  ]
}