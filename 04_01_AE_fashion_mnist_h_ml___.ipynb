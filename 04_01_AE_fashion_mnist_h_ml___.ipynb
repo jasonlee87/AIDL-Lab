{
  "nbformat": 4,
  "nbformat_minor": 0,
  "metadata": {
    "colab": {
      "name": "Copy of Copy of 04_01_AE_fashion_mnist_h_ml___.ipynb",
      "provenance": [],
      "toc_visible": true,
      "include_colab_link": true
    },
    "kernelspec": {
      "name": "python3",
      "display_name": "Python 3"
    },
    "accelerator": "GPU"
  },
  "cells": [
    {
      "cell_type": "markdown",
      "metadata": {
        "id": "view-in-github",
        "colab_type": "text"
      },
      "source": [
        "<a href=\"https://colab.research.google.com/github/jasonlee87/AIDL-Lab/blob/master/04_01_AE_fashion_mnist_h_ml___.ipynb\" target=\"_parent\"><img src=\"https://colab.research.google.com/assets/colab-badge.svg\" alt=\"Open In Colab\"/></a>"
      ]
    },
    {
      "cell_type": "markdown",
      "metadata": {
        "id": "YUbrsmxWf04y",
        "colab_type": "text"
      },
      "source": [
        "# ***실습 4-1 :  Denoise Auto Encoder*** \n"
      ]
    },
    {
      "cell_type": "markdown",
      "metadata": {
        "id": "CfwO3tnWf_nY",
        "colab_type": "text"
      },
      "source": [
        "## ***Module Import***"
      ]
    },
    {
      "cell_type": "code",
      "metadata": {
        "colab_type": "code",
        "id": "0trJmd6DjqBZ",
        "outputId": "c3811be6-1707-4d25-acea-e0aa5d22980f",
        "colab": {
          "base_uri": "https://localhost:8080/",
          "height": 68
        }
      },
      "source": [
        "try:\n",
        "  # %tensorflow_version only exists in Colab.\n",
        "  %tensorflow_version 2.x\n",
        "except Exception:\n",
        "  pass\n",
        "\n",
        "import numpy as np\n",
        "import matplotlib.pyplot as plt\n",
        "\n",
        "import tensorflow as tf\n",
        "from tensorflow import keras\n",
        "\n",
        "print(\"Module Loaded.\")\n",
        "print(\"TensorFlow Version :{}\".format(tf.__version__))"
      ],
      "execution_count": 0,
      "outputs": [
        {
          "output_type": "stream",
          "text": [
            "TensorFlow 2.x selected.\n",
            "Module Loaded.\n",
            "TensorFlow Version :2.0.0\n"
          ],
          "name": "stdout"
        }
      ]
    },
    {
      "cell_type": "markdown",
      "metadata": {
        "id": "TTNUj5R8Vmgk",
        "colab_type": "text"
      },
      "source": [
        "### *Initialize*"
      ]
    },
    {
      "cell_type": "code",
      "metadata": {
        "id": "bvNOBR2Hg-ir",
        "colab_type": "code",
        "colab": {}
      },
      "source": [
        "# reset of notebook state\n",
        "tf.keras.backend.clear_session() \n",
        "\n",
        "# Tensorflow random seed\n",
        "tf.random.set_seed(1234)"
      ],
      "execution_count": 0,
      "outputs": []
    },
    {
      "cell_type": "markdown",
      "metadata": {
        "id": "wOiaPQ3xgJQC",
        "colab_type": "text"
      },
      "source": [
        "## ***DataSet***"
      ]
    },
    {
      "cell_type": "markdown",
      "metadata": {
        "id": "U8yh3kv1gR8r",
        "colab_type": "text"
      },
      "source": [
        "### *Load*"
      ]
    },
    {
      "cell_type": "code",
      "metadata": {
        "id": "cC8AS287Hz-9",
        "colab_type": "code",
        "colab": {}
      },
      "source": [
        "# select dataset : fashion_mnist or mnist\n",
        "fashion_mnist_on = False  # True/False\n",
        "\n",
        "if fashion_mnist_on :\n",
        "  (x_train, y_train), (x_test, y_test) = tf.keras.datasets.fashion_mnist.load_data()\n",
        "else :\n",
        "  (x_train, y_train), (x_test, y_test) = tf.keras.datasets.mnist.load_data()"
      ],
      "execution_count": 0,
      "outputs": []
    },
    {
      "cell_type": "markdown",
      "metadata": {
        "id": "O0oDy0CggOEm",
        "colab_type": "text"
      },
      "source": [
        "### *Preprocessing*"
      ]
    },
    {
      "cell_type": "code",
      "metadata": {
        "id": "R7d2RtBMDI6a",
        "colab_type": "code",
        "outputId": "4649883a-0f44-4d02-e935-6b1dfdaa6c82",
        "colab": {
          "base_uri": "https://localhost:8080/",
          "height": 299
        }
      },
      "source": [
        "# Add random noise  \n",
        "noise_on = False  # True/False\n",
        "\n",
        "# Normalize pixel values\n",
        "x_train = x_train.astype('float32') / 255.\n",
        "x_test = x_test.astype('float32') / 255.\n",
        "\n",
        "# Flatten images to 2D arrays (60000,28,28) -> (60000,784)\n",
        "x_train = x_train.reshape((len(x_train), np.prod(x_train.shape[1:])))\n",
        "x_test = x_test.reshape((len(x_test), np.prod(x_test.shape[1:])))\n",
        "\n",
        "if noise_on : \n",
        "  x_train = x_train + 0.1*np.random.randn(x_train.shape[0], 784)\n",
        "  x_test = x_test + 0.1*np.random.randn(x_test.shape[0], 784)\n",
        "  print(\"Noisy Data Selected\")\n",
        "\n",
        "# Print out the shape\n",
        "print(x_train.shape)\n",
        "print(x_test.shape)\n",
        "\n",
        "plt.imshow(x_train[1].reshape(28,28), cmap='gray')\n",
        "plt.show()"
      ],
      "execution_count": 0,
      "outputs": [
        {
          "output_type": "stream",
          "text": [
            "(60000, 784)\n",
            "(10000, 784)\n"
          ],
          "name": "stdout"
        },
        {
          "output_type": "display_data",
          "data": {
            "image/png": "[encoded data removed]",
            "text/plain": [
              "<Figure size 432x288 with 1 Axes>"
            ]
          },
          "metadata": {
            "tags": []
          }
        }
      ]
    },
    {
      "cell_type": "markdown",
      "metadata": {
        "id": "EY3zfzjlgbYj",
        "colab_type": "text"
      },
      "source": [
        "## ***Model***"
      ]
    },
    {
      "cell_type": "markdown",
      "metadata": {
        "id": "PUqUyRtngdUC",
        "colab_type": "text"
      },
      "source": [
        "### *Define*"
      ]
    },
    {
      "cell_type": "code",
      "metadata": {
        "id": "DGnO0NygDI6M",
        "colab_type": "code",
        "colab": {}
      },
      "source": [
        "# Size of encoded representation\n",
        "# 32 floats denotes a compression factor of 24.5 assuming input is 784 float\n",
        "encoding_dim = 32\n",
        "\n",
        "# Input placeholder\n",
        "i_input = keras.layers.Input(shape=(784,))\n",
        "\n",
        "# Encoded representation of input image\n",
        "encode_1 = keras.layers.Dense(encoding_dim, activation='sigmoid')(i_input)\n",
        "encode_2 = keras.layers.Dense(encoding_dim, activation='sigmoid', \\\n",
        "              activity_regularizer=keras.regularizers.l1(0.0005))(i_input)\n",
        "\n",
        "# Decode is lossy reconstruction of input              \n",
        "decoded_1 = keras.layers.Dense(784, activation='sigmoid')(encode_1)\n",
        "decoded_2 = keras.layers.Dense(784, activation='sigmoid')(encode_2)"
      ],
      "execution_count": 0,
      "outputs": []
    },
    {
      "cell_type": "code",
      "metadata": {
        "id": "AA7IGA2nZwhf",
        "colab_type": "code",
        "colab": {}
      },
      "source": [
        "# This autoencoder will map input to reconstructed output\n",
        "autoencoder1 = keras.models.Model(inputs=i_input, outputs=decoded_1)\n",
        "autoencoder2 = keras.models.Model(inputs=i_input, outputs=decoded_2)"
      ],
      "execution_count": 0,
      "outputs": []
    },
    {
      "cell_type": "code",
      "metadata": {
        "id": "vCAvqXiiDI6X",
        "colab_type": "code",
        "outputId": "bb6e3783-0f42-4e0d-e5e0-bc8a3b9c019b",
        "colab": {
          "base_uri": "https://localhost:8080/",
          "height": 255
        }
      },
      "source": [
        "# Select optimizer and loss function\n",
        "autoencoder1.compile(optimizer='rmsprop', loss='mse') \n",
        "autoencoder2.compile(optimizer='rmsprop', loss='mse')\n",
        "autoencoder1.summary()"
      ],
      "execution_count": 0,
      "outputs": [
        {
          "output_type": "stream",
          "text": [
            "Model: \"model\"\n",
            "_________________________________________________________________\n",
            "Layer (type)                 Output Shape              Param #   \n",
            "=================================================================\n",
            "input_1 (InputLayer)         [(None, 784)]             0         \n",
            "_________________________________________________________________\n",
            "dense (Dense)                (None, 32)                25120     \n",
            "_________________________________________________________________\n",
            "dense_2 (Dense)              (None, 784)               25872     \n",
            "=================================================================\n",
            "Total params: 50,992\n",
            "Trainable params: 50,992\n",
            "Non-trainable params: 0\n",
            "_________________________________________________________________\n"
          ],
          "name": "stdout"
        }
      ]
    },
    {
      "cell_type": "markdown",
      "metadata": {
        "id": "n9BG8hNUgo0n",
        "colab_type": "text"
      },
      "source": [
        "### *Fit*"
      ]
    },
    {
      "cell_type": "markdown",
      "metadata": {
        "id": "7KbIreYLd6gj",
        "colab_type": "text"
      },
      "source": [
        "Epoch 100/100\n",
        "60000/60000 [==============================] - 1s 13us/sample - loss: 0.0640 - val_loss: 0.0636\n",
        "CPU times: user 1min 27s, sys: 9.37 s, total: 1min 37s\n",
        "\n",
        "Wall time: 1min 12s (@Notebook Setting/GPU)"
      ]
    },
    {
      "cell_type": "code",
      "metadata": {
        "id": "-_idMKYwKVqX",
        "colab_type": "code",
        "outputId": "562f2d7c-78a6-4e4b-c0a3-5649ca1eb6bb",
        "colab": {
          "base_uri": "https://localhost:8080/",
          "height": 1000
        }
      },
      "source": [
        "%%time\n",
        "autoencoder1.fit(x_train, x_train,\n",
        "                epochs=100,\n",
        "                batch_size=512,\n",
        "                validation_freq=10,\n",
        "                shuffle=True,\n",
        "                validation_data=(x_test, x_test))"
      ],
      "execution_count": 0,
      "outputs": [
        {
          "output_type": "stream",
          "text": [
            "Train on 60000 samples, validate on 10000 samples\n",
            "Epoch 1/100\n",
            "60000/60000 [==============================] - 1s 23us/sample - loss: 0.0960\n",
            "Epoch 2/100\n",
            "60000/60000 [==============================] - 1s 10us/sample - loss: 0.0675\n",
            "Epoch 3/100\n",
            "60000/60000 [==============================] - 1s 10us/sample - loss: 0.0673\n",
            "Epoch 4/100\n",
            "60000/60000 [==============================] - 1s 10us/sample - loss: 0.0673\n",
            "Epoch 5/100\n",
            "60000/60000 [==============================] - 1s 10us/sample - loss: 0.0673\n",
            "Epoch 6/100\n",
            "60000/60000 [==============================] - 1s 10us/sample - loss: 0.0673\n",
            "Epoch 7/100\n",
            "60000/60000 [==============================] - 1s 10us/sample - loss: 0.0673\n",
            "Epoch 8/100\n",
            "60000/60000 [==============================] - 1s 9us/sample - loss: 0.0673\n",
            "Epoch 9/100\n",
            "60000/60000 [==============================] - 1s 10us/sample - loss: 0.0673\n",
            "Epoch 10/100\n",
            "60000/60000 [==============================] - 1s 12us/sample - loss: 0.0673 - val_loss: 0.0675\n",
            "Epoch 11/100\n",
            "60000/60000 [==============================] - 1s 9us/sample - loss: 0.0673\n",
            "Epoch 12/100\n",
            "60000/60000 [==============================] - 1s 10us/sample - loss: 0.0673\n",
            "Epoch 13/100\n",
            "60000/60000 [==============================] - 1s 10us/sample - loss: 0.0673\n",
            "Epoch 14/100\n",
            "60000/60000 [==============================] - 1s 10us/sample - loss: 0.0671\n",
            "Epoch 15/100\n",
            "60000/60000 [==============================] - 1s 10us/sample - loss: 0.0665\n",
            "Epoch 16/100\n",
            "60000/60000 [==============================] - 1s 10us/sample - loss: 0.0658\n",
            "Epoch 17/100\n",
            "60000/60000 [==============================] - 1s 10us/sample - loss: 0.0653\n",
            "Epoch 18/100\n",
            "60000/60000 [==============================] - 1s 10us/sample - loss: 0.0648\n",
            "Epoch 19/100\n",
            "60000/60000 [==============================] - 1s 10us/sample - loss: 0.0644\n",
            "Epoch 20/100\n",
            "60000/60000 [==============================] - 1s 11us/sample - loss: 0.0640 - val_loss: 0.0640\n",
            "Epoch 21/100\n",
            "60000/60000 [==============================] - 1s 10us/sample - loss: 0.0637\n",
            "Epoch 22/100\n",
            "60000/60000 [==============================] - 1s 10us/sample - loss: 0.0634\n",
            "Epoch 23/100\n",
            "60000/60000 [==============================] - 1s 10us/sample - loss: 0.0631\n",
            "Epoch 24/100\n",
            "60000/60000 [==============================] - 1s 10us/sample - loss: 0.0629\n",
            "Epoch 25/100\n",
            "60000/60000 [==============================] - 1s 10us/sample - loss: 0.0627\n",
            "Epoch 26/100\n",
            "60000/60000 [==============================] - 1s 10us/sample - loss: 0.0625\n",
            "Epoch 27/100\n",
            "60000/60000 [==============================] - 1s 10us/sample - loss: 0.0624\n",
            "Epoch 28/100\n",
            "60000/60000 [==============================] - 1s 9us/sample - loss: 0.0622\n",
            "Epoch 29/100\n",
            "60000/60000 [==============================] - 1s 10us/sample - loss: 0.0621\n",
            "Epoch 30/100\n",
            "60000/60000 [==============================] - 1s 11us/sample - loss: 0.0619 - val_loss: 0.0620\n",
            "Epoch 31/100\n",
            "60000/60000 [==============================] - 1s 10us/sample - loss: 0.0618\n",
            "Epoch 32/100\n",
            "60000/60000 [==============================] - 1s 10us/sample - loss: 0.0617\n",
            "Epoch 33/100\n",
            "60000/60000 [==============================] - 1s 10us/sample - loss: 0.0616\n",
            "Epoch 34/100\n",
            "60000/60000 [==============================] - 1s 10us/sample - loss: 0.0616\n",
            "Epoch 35/100\n",
            "60000/60000 [==============================] - 1s 10us/sample - loss: 0.0615\n",
            "Epoch 36/100\n",
            "60000/60000 [==============================] - 1s 10us/sample - loss: 0.0614\n",
            "Epoch 37/100\n",
            "60000/60000 [==============================] - 1s 9us/sample - loss: 0.0614\n",
            "Epoch 38/100\n",
            "60000/60000 [==============================] - 1s 10us/sample - loss: 0.0613\n",
            "Epoch 39/100\n",
            "60000/60000 [==============================] - 1s 10us/sample - loss: 0.0613\n",
            "Epoch 40/100\n",
            "60000/60000 [==============================] - 1s 11us/sample - loss: 0.0612 - val_loss: 0.0613\n",
            "Epoch 41/100\n",
            "60000/60000 [==============================] - 1s 10us/sample - loss: 0.0612\n",
            "Epoch 42/100\n",
            "60000/60000 [==============================] - 1s 10us/sample - loss: 0.0611\n",
            "Epoch 43/100\n",
            "60000/60000 [==============================] - 1s 9us/sample - loss: 0.0611\n",
            "Epoch 44/100\n",
            "60000/60000 [==============================] - 1s 9us/sample - loss: 0.0611\n",
            "Epoch 45/100\n",
            "60000/60000 [==============================] - 1s 10us/sample - loss: 0.0610\n",
            "Epoch 46/100\n",
            "60000/60000 [==============================] - 1s 10us/sample - loss: 0.0610\n",
            "Epoch 47/100\n",
            "60000/60000 [==============================] - 1s 10us/sample - loss: 0.0610\n",
            "Epoch 48/100\n",
            "60000/60000 [==============================] - 1s 9us/sample - loss: 0.0609\n",
            "Epoch 49/100\n",
            "60000/60000 [==============================] - 1s 10us/sample - loss: 0.0609\n",
            "Epoch 50/100\n",
            "60000/60000 [==============================] - 1s 11us/sample - loss: 0.0609 - val_loss: 0.0610\n",
            "Epoch 51/100\n",
            "60000/60000 [==============================] - 1s 10us/sample - loss: 0.0609\n",
            "Epoch 52/100\n",
            "60000/60000 [==============================] - 1s 10us/sample - loss: 0.0609\n",
            "Epoch 53/100\n",
            "60000/60000 [==============================] - 1s 10us/sample - loss: 0.0609\n",
            "Epoch 54/100\n",
            "60000/60000 [==============================] - 1s 10us/sample - loss: 0.0608\n",
            "Epoch 55/100\n",
            "60000/60000 [==============================] - 1s 10us/sample - loss: 0.0608\n",
            "Epoch 56/100\n",
            "60000/60000 [==============================] - 1s 9us/sample - loss: 0.0608\n",
            "Epoch 57/100\n",
            "60000/60000 [==============================] - 1s 10us/sample - loss: 0.0608\n",
            "Epoch 58/100\n",
            "60000/60000 [==============================] - 1s 10us/sample - loss: 0.0608\n",
            "Epoch 59/100\n",
            "60000/60000 [==============================] - 1s 10us/sample - loss: 0.0608\n",
            "Epoch 60/100\n",
            "60000/60000 [==============================] - 1s 11us/sample - loss: 0.0608 - val_loss: 0.0608\n",
            "Epoch 61/100\n",
            "60000/60000 [==============================] - 1s 10us/sample - loss: 0.0608\n",
            "Epoch 62/100\n",
            "60000/60000 [==============================] - 1s 10us/sample - loss: 0.0607\n",
            "Epoch 63/100\n",
            "60000/60000 [==============================] - 1s 9us/sample - loss: 0.0607\n",
            "Epoch 64/100\n",
            "60000/60000 [==============================] - 1s 10us/sample - loss: 0.0607\n",
            "Epoch 65/100\n",
            "60000/60000 [==============================] - 1s 9us/sample - loss: 0.0607\n",
            "Epoch 66/100\n",
            "60000/60000 [==============================] - 1s 10us/sample - loss: 0.0607\n",
            "Epoch 67/100\n",
            "60000/60000 [==============================] - 1s 10us/sample - loss: 0.0607\n",
            "Epoch 68/100\n",
            "60000/60000 [==============================] - 1s 10us/sample - loss: 0.0607\n",
            "Epoch 69/100\n",
            "60000/60000 [==============================] - 1s 10us/sample - loss: 0.0607\n",
            "Epoch 70/100\n",
            "60000/60000 [==============================] - 1s 11us/sample - loss: 0.0607 - val_loss: 0.0607\n",
            "Epoch 71/100\n",
            "60000/60000 [==============================] - 1s 10us/sample - loss: 0.0607\n",
            "Epoch 72/100\n",
            "60000/60000 [==============================] - 1s 10us/sample - loss: 0.0607\n",
            "Epoch 73/100\n",
            "60000/60000 [==============================] - 1s 10us/sample - loss: 0.0607\n",
            "Epoch 74/100\n",
            "60000/60000 [==============================] - 1s 9us/sample - loss: 0.0606\n",
            "Epoch 75/100\n",
            "60000/60000 [==============================] - 1s 10us/sample - loss: 0.0606\n",
            "Epoch 76/100\n",
            "60000/60000 [==============================] - 1s 10us/sample - loss: 0.0606\n",
            "Epoch 77/100\n",
            "60000/60000 [==============================] - 1s 10us/sample - loss: 0.0606\n",
            "Epoch 78/100\n",
            "60000/60000 [==============================] - 1s 10us/sample - loss: 0.0606\n",
            "Epoch 79/100\n",
            "60000/60000 [==============================] - 1s 10us/sample - loss: 0.0606\n",
            "Epoch 80/100\n",
            "60000/60000 [==============================] - 1s 11us/sample - loss: 0.0606 - val_loss: 0.0607\n",
            "Epoch 81/100\n",
            "60000/60000 [==============================] - 1s 10us/sample - loss: 0.0606\n",
            "Epoch 82/100\n",
            "60000/60000 [==============================] - 1s 10us/sample - loss: 0.0606\n",
            "Epoch 83/100\n",
            "60000/60000 [==============================] - 1s 10us/sample - loss: 0.0606\n",
            "Epoch 84/100\n",
            "60000/60000 [==============================] - 1s 10us/sample - loss: 0.0606\n",
            "Epoch 85/100\n",
            "60000/60000 [==============================] - 1s 10us/sample - loss: 0.0606\n",
            "Epoch 86/100\n",
            "60000/60000 [==============================] - 1s 10us/sample - loss: 0.0606\n",
            "Epoch 87/100\n",
            "60000/60000 [==============================] - 1s 10us/sample - loss: 0.0606\n",
            "Epoch 88/100\n",
            "60000/60000 [==============================] - 1s 10us/sample - loss: 0.0606\n",
            "Epoch 89/100\n",
            "60000/60000 [==============================] - 1s 9us/sample - loss: 0.0606\n",
            "Epoch 90/100\n",
            "60000/60000 [==============================] - 1s 11us/sample - loss: 0.0606 - val_loss: 0.0606\n",
            "Epoch 91/100\n",
            "60000/60000 [==============================] - 1s 10us/sample - loss: 0.0605\n",
            "Epoch 92/100\n",
            "60000/60000 [==============================] - 1s 10us/sample - loss: 0.0605\n",
            "Epoch 93/100\n",
            "60000/60000 [==============================] - 1s 10us/sample - loss: 0.0605\n",
            "Epoch 94/100\n",
            "60000/60000 [==============================] - 1s 10us/sample - loss: 0.0605\n",
            "Epoch 95/100\n",
            "60000/60000 [==============================] - 1s 10us/sample - loss: 0.0605\n",
            "Epoch 96/100\n",
            "60000/60000 [==============================] - 1s 10us/sample - loss: 0.0605\n",
            "Epoch 97/100\n",
            "60000/60000 [==============================] - 1s 10us/sample - loss: 0.0605\n",
            "Epoch 98/100\n",
            "60000/60000 [==============================] - 1s 9us/sample - loss: 0.0605\n",
            "Epoch 99/100\n",
            "60000/60000 [==============================] - 1s 10us/sample - loss: 0.0605\n",
            "Epoch 100/100\n",
            "60000/60000 [==============================] - 1s 11us/sample - loss: 0.0605 - val_loss: 0.0605\n",
            "CPU times: user 1min 10s, sys: 7.53 s, total: 1min 18s\n",
            "Wall time: 1min\n"
          ],
          "name": "stdout"
        },
        {
          "output_type": "execute_result",
          "data": {
            "text/plain": [
              "<tensorflow.python.keras.callbacks.History at 0x7faf12e30d68>"
            ]
          },
          "metadata": {
            "tags": []
          },
          "execution_count": 8
        }
      ]
    },
    {
      "cell_type": "markdown",
      "metadata": {
        "id": "7G_v00E_ayIC",
        "colab_type": "text"
      },
      "source": [
        "Epoch 100/100\n",
        "60000/60000 [==============================] - 1s 12us/sample - loss: 0.0172 - val_loss: 0.0170\n",
        "CPU times: user 1min 14s, sys: 8.23 s, total: 1min 22s\n",
        "\n",
        "Wall time: 1min 15s"
      ]
    },
    {
      "cell_type": "code",
      "metadata": {
        "id": "ue_6BwKlWI-i",
        "colab_type": "code",
        "outputId": "47161071-b9fd-40c2-f67b-54bb6535b8b0",
        "colab": {
          "base_uri": "https://localhost:8080/",
          "height": 1000
        }
      },
      "source": [
        "%%time\n",
        "autoencoder2.fit(x_train, x_train,\n",
        "                epochs=100,\n",
        "                batch_size=512,\n",
        "                validation_freq=10,\n",
        "                shuffle=True,\n",
        "                validation_data=(x_test, x_test))"
      ],
      "execution_count": 0,
      "outputs": [
        {
          "output_type": "stream",
          "text": [
            "Train on 60000 samples, validate on 10000 samples\n",
            "Epoch 1/100\n",
            "60000/60000 [==============================] - 1s 19us/sample - loss: 0.1112\n",
            "Epoch 2/100\n",
            "60000/60000 [==============================] - 1s 10us/sample - loss: 0.0761\n",
            "Epoch 3/100\n",
            "60000/60000 [==============================] - 1s 10us/sample - loss: 0.0620\n",
            "Epoch 4/100\n",
            "60000/60000 [==============================] - 1s 10us/sample - loss: 0.0525\n",
            "Epoch 5/100\n",
            "60000/60000 [==============================] - 1s 10us/sample - loss: 0.0464\n",
            "Epoch 6/100\n",
            "60000/60000 [==============================] - 1s 10us/sample - loss: 0.0422\n",
            "Epoch 7/100\n",
            "60000/60000 [==============================] - 1s 10us/sample - loss: 0.0389\n",
            "Epoch 8/100\n",
            "60000/60000 [==============================] - 1s 10us/sample - loss: 0.0364\n",
            "Epoch 9/100\n",
            "60000/60000 [==============================] - 1s 10us/sample - loss: 0.0342\n",
            "Epoch 10/100\n",
            "60000/60000 [==============================] - 1s 12us/sample - loss: 0.0325 - val_loss: 0.0314\n",
            "Epoch 11/100\n",
            "60000/60000 [==============================] - 1s 10us/sample - loss: 0.0310\n",
            "Epoch 12/100\n",
            "60000/60000 [==============================] - 1s 10us/sample - loss: 0.0297\n",
            "Epoch 13/100\n",
            "60000/60000 [==============================] - 1s 10us/sample - loss: 0.0285\n",
            "Epoch 14/100\n",
            "60000/60000 [==============================] - 1s 10us/sample - loss: 0.0275\n",
            "Epoch 15/100\n",
            "60000/60000 [==============================] - 1s 10us/sample - loss: 0.0267\n",
            "Epoch 16/100\n",
            "60000/60000 [==============================] - 1s 10us/sample - loss: 0.0259\n",
            "Epoch 17/100\n",
            "60000/60000 [==============================] - 1s 9us/sample - loss: 0.0252\n",
            "Epoch 18/100\n",
            "60000/60000 [==============================] - 1s 10us/sample - loss: 0.0247\n",
            "Epoch 19/100\n",
            "60000/60000 [==============================] - 1s 9us/sample - loss: 0.0241\n",
            "Epoch 20/100\n",
            "60000/60000 [==============================] - 1s 11us/sample - loss: 0.0237 - val_loss: 0.0232\n",
            "Epoch 21/100\n",
            "60000/60000 [==============================] - 1s 10us/sample - loss: 0.0233\n",
            "Epoch 22/100\n",
            "60000/60000 [==============================] - 1s 10us/sample - loss: 0.0229\n",
            "Epoch 23/100\n",
            "60000/60000 [==============================] - 1s 10us/sample - loss: 0.0226\n",
            "Epoch 24/100\n",
            "60000/60000 [==============================] - 1s 10us/sample - loss: 0.0223\n",
            "Epoch 25/100\n",
            "60000/60000 [==============================] - 1s 10us/sample - loss: 0.0220\n",
            "Epoch 26/100\n",
            "60000/60000 [==============================] - 1s 10us/sample - loss: 0.0217\n",
            "Epoch 27/100\n",
            "60000/60000 [==============================] - 1s 10us/sample - loss: 0.0215\n",
            "Epoch 28/100\n",
            "60000/60000 [==============================] - 1s 10us/sample - loss: 0.0213\n",
            "Epoch 29/100\n",
            "60000/60000 [==============================] - 1s 10us/sample - loss: 0.0211\n",
            "Epoch 30/100\n",
            "60000/60000 [==============================] - 1s 11us/sample - loss: 0.0209 - val_loss: 0.0205\n",
            "Epoch 31/100\n",
            "60000/60000 [==============================] - 1s 10us/sample - loss: 0.0208\n",
            "Epoch 32/100\n",
            "60000/60000 [==============================] - 1s 10us/sample - loss: 0.0206\n",
            "Epoch 33/100\n",
            "60000/60000 [==============================] - 1s 10us/sample - loss: 0.0205\n",
            "Epoch 34/100\n",
            "60000/60000 [==============================] - 1s 11us/sample - loss: 0.0203\n",
            "Epoch 35/100\n",
            "60000/60000 [==============================] - 1s 10us/sample - loss: 0.0202\n",
            "Epoch 36/100\n",
            "60000/60000 [==============================] - 1s 10us/sample - loss: 0.0201\n",
            "Epoch 37/100\n",
            "60000/60000 [==============================] - 1s 10us/sample - loss: 0.0199\n",
            "Epoch 38/100\n",
            "60000/60000 [==============================] - 1s 10us/sample - loss: 0.0198\n",
            "Epoch 39/100\n",
            "60000/60000 [==============================] - 1s 10us/sample - loss: 0.0197\n",
            "Epoch 40/100\n",
            "60000/60000 [==============================] - 1s 12us/sample - loss: 0.0196 - val_loss: 0.0193\n",
            "Epoch 41/100\n",
            "60000/60000 [==============================] - 1s 10us/sample - loss: 0.0195\n",
            "Epoch 42/100\n",
            "60000/60000 [==============================] - 1s 10us/sample - loss: 0.0195\n",
            "Epoch 43/100\n",
            "60000/60000 [==============================] - 1s 10us/sample - loss: 0.0194\n",
            "Epoch 44/100\n",
            "60000/60000 [==============================] - 1s 10us/sample - loss: 0.0193\n",
            "Epoch 45/100\n",
            "60000/60000 [==============================] - 1s 10us/sample - loss: 0.0192\n",
            "Epoch 46/100\n",
            "60000/60000 [==============================] - 1s 10us/sample - loss: 0.0191\n",
            "Epoch 47/100\n",
            "60000/60000 [==============================] - 1s 10us/sample - loss: 0.0191\n",
            "Epoch 48/100\n",
            "60000/60000 [==============================] - 1s 10us/sample - loss: 0.0190\n",
            "Epoch 49/100\n",
            "60000/60000 [==============================] - 1s 10us/sample - loss: 0.0189\n",
            "Epoch 50/100\n",
            "60000/60000 [==============================] - 1s 11us/sample - loss: 0.0189 - val_loss: 0.0185\n",
            "Epoch 51/100\n",
            "60000/60000 [==============================] - 1s 10us/sample - loss: 0.0188\n",
            "Epoch 52/100\n",
            "60000/60000 [==============================] - 1s 10us/sample - loss: 0.0188\n",
            "Epoch 53/100\n",
            "60000/60000 [==============================] - 1s 11us/sample - loss: 0.0187\n",
            "Epoch 54/100\n",
            "60000/60000 [==============================] - 1s 10us/sample - loss: 0.0186\n",
            "Epoch 55/100\n",
            "60000/60000 [==============================] - 1s 10us/sample - loss: 0.0186\n",
            "Epoch 56/100\n",
            "60000/60000 [==============================] - 1s 10us/sample - loss: 0.0185\n",
            "Epoch 57/100\n",
            "60000/60000 [==============================] - 1s 10us/sample - loss: 0.0185\n",
            "Epoch 58/100\n",
            "60000/60000 [==============================] - 1s 10us/sample - loss: 0.0184\n",
            "Epoch 59/100\n",
            "60000/60000 [==============================] - 1s 10us/sample - loss: 0.0184\n",
            "Epoch 60/100\n",
            "60000/60000 [==============================] - 1s 11us/sample - loss: 0.0184 - val_loss: 0.0180\n",
            "Epoch 61/100\n",
            "60000/60000 [==============================] - 1s 10us/sample - loss: 0.0183\n",
            "Epoch 62/100\n",
            "60000/60000 [==============================] - 1s 10us/sample - loss: 0.0183\n",
            "Epoch 63/100\n",
            "60000/60000 [==============================] - 1s 10us/sample - loss: 0.0182\n",
            "Epoch 64/100\n",
            "60000/60000 [==============================] - 1s 10us/sample - loss: 0.0182\n",
            "Epoch 65/100\n",
            "60000/60000 [==============================] - 1s 10us/sample - loss: 0.0181\n",
            "Epoch 66/100\n",
            "60000/60000 [==============================] - 1s 10us/sample - loss: 0.0181\n",
            "Epoch 67/100\n",
            "60000/60000 [==============================] - 1s 10us/sample - loss: 0.0181\n",
            "Epoch 68/100\n",
            "60000/60000 [==============================] - 1s 10us/sample - loss: 0.0180\n",
            "Epoch 69/100\n",
            "60000/60000 [==============================] - 1s 10us/sample - loss: 0.0180\n",
            "Epoch 70/100\n",
            "60000/60000 [==============================] - 1s 12us/sample - loss: 0.0180 - val_loss: 0.0177\n",
            "Epoch 71/100\n",
            "60000/60000 [==============================] - 1s 10us/sample - loss: 0.0179\n",
            "Epoch 72/100\n",
            "60000/60000 [==============================] - 1s 9us/sample - loss: 0.0179\n",
            "Epoch 73/100\n",
            "60000/60000 [==============================] - 1s 11us/sample - loss: 0.0179\n",
            "Epoch 74/100\n",
            "60000/60000 [==============================] - 1s 10us/sample - loss: 0.0178\n",
            "Epoch 75/100\n",
            "60000/60000 [==============================] - 1s 10us/sample - loss: 0.0178\n",
            "Epoch 76/100\n",
            "60000/60000 [==============================] - 1s 10us/sample - loss: 0.0178\n",
            "Epoch 77/100\n",
            "60000/60000 [==============================] - 1s 10us/sample - loss: 0.0177\n",
            "Epoch 78/100\n",
            "60000/60000 [==============================] - 1s 10us/sample - loss: 0.0177\n",
            "Epoch 79/100\n",
            "60000/60000 [==============================] - 1s 10us/sample - loss: 0.0177\n",
            "Epoch 80/100\n",
            "60000/60000 [==============================] - 1s 11us/sample - loss: 0.0177 - val_loss: 0.0175\n",
            "Epoch 81/100\n",
            "60000/60000 [==============================] - 1s 10us/sample - loss: 0.0176\n",
            "Epoch 82/100\n",
            "60000/60000 [==============================] - 1s 10us/sample - loss: 0.0176\n",
            "Epoch 83/100\n",
            "60000/60000 [==============================] - 1s 10us/sample - loss: 0.0176\n",
            "Epoch 84/100\n",
            "60000/60000 [==============================] - 1s 10us/sample - loss: 0.0176\n",
            "Epoch 85/100\n",
            "60000/60000 [==============================] - 1s 10us/sample - loss: 0.0175\n",
            "Epoch 86/100\n",
            "60000/60000 [==============================] - 1s 10us/sample - loss: 0.0175\n",
            "Epoch 87/100\n",
            "60000/60000 [==============================] - 1s 10us/sample - loss: 0.0175\n",
            "Epoch 88/100\n",
            "60000/60000 [==============================] - 1s 10us/sample - loss: 0.0175\n",
            "Epoch 89/100\n",
            "60000/60000 [==============================] - 1s 10us/sample - loss: 0.0174\n",
            "Epoch 90/100\n",
            "60000/60000 [==============================] - 1s 11us/sample - loss: 0.0174 - val_loss: 0.0171\n",
            "Epoch 91/100\n",
            "60000/60000 [==============================] - 1s 10us/sample - loss: 0.0174\n",
            "Epoch 92/100\n",
            "60000/60000 [==============================] - 1s 10us/sample - loss: 0.0174\n",
            "Epoch 93/100\n",
            "60000/60000 [==============================] - 1s 10us/sample - loss: 0.0173\n",
            "Epoch 94/100\n",
            "60000/60000 [==============================] - 1s 10us/sample - loss: 0.0173\n",
            "Epoch 95/100\n",
            "60000/60000 [==============================] - 1s 10us/sample - loss: 0.0173\n",
            "Epoch 96/100\n",
            "60000/60000 [==============================] - 1s 10us/sample - loss: 0.0173\n",
            "Epoch 97/100\n",
            "60000/60000 [==============================] - 1s 10us/sample - loss: 0.0173\n",
            "Epoch 98/100\n",
            "60000/60000 [==============================] - 1s 10us/sample - loss: 0.0172\n",
            "Epoch 99/100\n",
            "60000/60000 [==============================] - 1s 10us/sample - loss: 0.0172\n",
            "Epoch 100/100\n",
            "60000/60000 [==============================] - 1s 11us/sample - loss: 0.0172 - val_loss: 0.0169\n",
            "CPU times: user 1min 14s, sys: 8.09 s, total: 1min 22s\n",
            "Wall time: 1min 1s\n"
          ],
          "name": "stdout"
        },
        {
          "output_type": "execute_result",
          "data": {
            "text/plain": [
              "<tensorflow.python.keras.callbacks.History at 0x7faf118e5208>"
            ]
          },
          "metadata": {
            "tags": []
          },
          "execution_count": 9
        }
      ]
    },
    {
      "cell_type": "markdown",
      "metadata": {
        "id": "m4kAr8XNg2nc",
        "colab_type": "text"
      },
      "source": [
        "### *Predict*"
      ]
    },
    {
      "cell_type": "code",
      "metadata": {
        "id": "33QHvlOLeSik",
        "colab_type": "code",
        "colab": {}
      },
      "source": [
        "decoded_imgs1 = autoencoder1.predict(x_test)\n",
        "decoded_imgs2 = autoencoder2.predict(x_test)"
      ],
      "execution_count": 0,
      "outputs": []
    },
    {
      "cell_type": "markdown",
      "metadata": {
        "id": "v7Bf90ATg98K",
        "colab_type": "text"
      },
      "source": [
        "## ***Analysis***"
      ]
    },
    {
      "cell_type": "markdown",
      "metadata": {
        "id": "VcGTERphhBNs",
        "colab_type": "text"
      },
      "source": [
        "### *Plot*"
      ]
    },
    {
      "cell_type": "code",
      "metadata": {
        "id": "OFq9I4aCDI6k",
        "colab_type": "code",
        "outputId": "e4a4e785-7fb0-487b-b07a-b7687dd04336",
        "colab": {
          "base_uri": "https://localhost:8080/",
          "height": 531
        }
      },
      "source": [
        "# use Matplotlib\n",
        "import matplotlib.pyplot as plt\n",
        "\n",
        "plt.figure(figsize=(22, 9))\n",
        "\n",
        "num_imgs = 9\n",
        "\n",
        "for i in range(num_imgs):                        \n",
        "    # display original\n",
        "    ax = plt.subplot(3, num_imgs, i + 1)\n",
        "    true_img = x_test[i].reshape(28, 28)\n",
        "    plt.imshow(true_img, cmap='gray')\n",
        "\n",
        "    # display reconstruction 1\n",
        "    ax = plt.subplot(3, num_imgs, i + 1 + num_imgs)\n",
        "    reconstructed_img = decoded_imgs1[i].reshape(28,28)\n",
        "    plt.imshow(reconstructed_img, cmap='gray')\n",
        "\n",
        "    # display reconstruction 2\n",
        "    ax = plt.subplot(3, num_imgs, i + 1 + num_imgs*2)\n",
        "    reconstructed_img = decoded_imgs2[i].reshape(28,28)\n",
        "    plt.imshow(reconstructed_img, cmap=\"gray\")\n",
        "\n",
        "plt.show()"
      ],
      "execution_count": 0,
      "outputs": [
        {
          "output_type": "display_data",
          "data": {
            "image/png": "[encoded data removed]",
            "text/plain": [
              "<Figure size 1584x648 with 27 Axes>"
            ]
          },
          "metadata": {
            "tags": []
          }
        }
      ]
    },
    {
      "cell_type": "markdown",
      "metadata": {
        "id": "GnaUZbi_hIHw",
        "colab_type": "text"
      },
      "source": [
        "## ***실습과제***"
      ]
    },
    {
      "cell_type": "markdown",
      "metadata": {
        "id": "07YM3eLIWxSY",
        "colab_type": "text"
      },
      "source": [
        "#### *과제 1. 두 모델의 차이를 확인해 보자* \n"
      ]
    },
    {
      "cell_type": "markdown",
      "metadata": {
        "id": "4UkqpWR1Zex6",
        "colab_type": "text"
      },
      "source": [
        "#### *과제 2. Data set에 noise 가 추가 되는 경우 어떻게 동작하는지 확인해 보자*\n",
        ">#### *1. dataset을 읽어 오는 cell 에서 \"noise_on = False\" 를 \"True\"로 변경*\n",
        ">#### *2. Noisy data로 다시 학습 및 추론 해 보자. 결과가 무엇을 의미 하는가?*\n"
      ]
    },
    {
      "cell_type": "markdown",
      "metadata": {
        "id": "c4oG_N1oZhbz",
        "colab_type": "text"
      },
      "source": [
        "### *과제 3. Noisy data로 학습된 모델에 정상 data를 사용하여 추론하면?*\n",
        ">#### *1. 결과를 추측해 보자*\n",
        ">#### *2. 실험결과와 추측이 동일한가? 결과를 설명해 보자*"
      ]
    }
  ]
}