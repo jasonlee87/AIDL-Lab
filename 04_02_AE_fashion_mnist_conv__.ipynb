{
  "nbformat": 4,
  "nbformat_minor": 0,
  "metadata": {
    "colab": {
      "name": "Copy of  Copy of Copy of 04_02_AE_fashion_mnist_conv__.ipynb",
      "provenance": [],
      "toc_visible": true,
      "include_colab_link": true
    },
    "kernelspec": {
      "name": "python3",
      "display_name": "Python 3"
    },
    "accelerator": "GPU"
  },
  "cells": [
    {
      "cell_type": "markdown",
      "metadata": {
        "id": "view-in-github",
        "colab_type": "text"
      },
      "source": [
        "<a href=\"https://colab.research.google.com/github/jasonlee87/AIDL-Lab/blob/master/04_02_AE_fashion_mnist_conv__.ipynb\" target=\"_parent\"><img src=\"https://colab.research.google.com/assets/colab-badge.svg\" alt=\"Open In Colab\"/></a>"
      ]
    },
    {
      "cell_type": "markdown",
      "metadata": {
        "id": "YUbrsmxWf04y",
        "colab_type": "text"
      },
      "source": [
        "# ***실습 4-2 :  Convolutional Auto Encoder*** \n"
      ]
    },
    {
      "cell_type": "markdown",
      "metadata": {
        "id": "CfwO3tnWf_nY",
        "colab_type": "text"
      },
      "source": [
        "## ***Module Import***"
      ]
    },
    {
      "cell_type": "code",
      "metadata": {
        "colab_type": "code",
        "id": "0trJmd6DjqBZ",
        "outputId": "93f280f8-4e4a-40b5-8756-20cdfa137e0d",
        "colab": {
          "base_uri": "https://localhost:8080/",
          "height": 68
        }
      },
      "source": [
        "try:\n",
        "  # %tensorflow_version only exists in Colab.\n",
        "  %tensorflow_version 2.x\n",
        "except Exception:\n",
        "  pass\n",
        "\n",
        "import numpy as np\n",
        "import matplotlib.pyplot as plt\n",
        "\n",
        "import tensorflow as tf\n",
        "from tensorflow import keras\n",
        "\n",
        "print(\"Module Loaded.\")\n",
        "print(\"TensorFlow Version :{}\".format(tf.__version__))"
      ],
      "execution_count": 0,
      "outputs": [
        {
          "output_type": "stream",
          "text": [
            "TensorFlow 2.x selected.\n",
            "Module Loaded.\n",
            "TensorFlow Version :2.0.0\n"
          ],
          "name": "stdout"
        }
      ]
    },
    {
      "cell_type": "markdown",
      "metadata": {
        "id": "wOiaPQ3xgJQC",
        "colab_type": "text"
      },
      "source": [
        "## ***DataSet***"
      ]
    },
    {
      "cell_type": "markdown",
      "metadata": {
        "id": "aD28IHuegUxp",
        "colab_type": "text"
      },
      "source": [
        "### *Load*"
      ]
    },
    {
      "cell_type": "code",
      "metadata": {
        "id": "cC8AS287Hz-9",
        "colab_type": "code",
        "colab": {}
      },
      "source": [
        "# select dataset : fashion_mnist or mnist\n",
        "fashion_mnist_on = False  # True/False\n",
        "\n",
        "if fashion_mnist_on :\n",
        "  (x_train, y_train), (x_test, y_test) = tf.keras.datasets.fashion_mnist.load_data()\n",
        "else :\n",
        "  (x_train, y_train), (x_test, y_test) = tf.keras.datasets.mnist.load_data()"
      ],
      "execution_count": 0,
      "outputs": []
    },
    {
      "cell_type": "markdown",
      "metadata": {
        "id": "O0oDy0CggOEm",
        "colab_type": "text"
      },
      "source": [
        "### *Preprocessing*"
      ]
    },
    {
      "cell_type": "code",
      "metadata": {
        "id": "R7d2RtBMDI6a",
        "colab_type": "code",
        "outputId": "5ed638cb-fc13-40d8-dbca-a6bb1b9e92b0",
        "colab": {
          "base_uri": "https://localhost:8080/",
          "height": 51
        }
      },
      "source": [
        "# Add random noise  \n",
        "noise_on = False          # True/False\n",
        "\n",
        "# Normalize pixel values\n",
        "x_train = x_train.astype('float32') / 255.\n",
        "x_test = x_test.astype('float32') / 255.\n",
        "\n",
        "# Flatten images to 2D arrays (60000,28,28) -> (60000,784)\n",
        "x_train = x_train.reshape((len(x_train), np.prod(x_train.shape[1:])))\n",
        "x_test = x_test.reshape((len(x_test), np.prod(x_test.shape[1:])))\n",
        "\n",
        "if noise_on : \n",
        "  x_train = x_train + 0.1*np.random.randn(x_train.shape[0], 784)\n",
        "  x_test = x_test + 0.1*np.random.randn(x_test.shape[0], 784)\n",
        "  print(\"Noisy Data Selected\")\n",
        "\n",
        "x_train = np.reshape(x_train, (len(x_train), 28, 28, 1))  # [N H W C]\n",
        "x_test = np.reshape(x_test, (len(x_test), 28, 28, 1))     # [N H W C]\n",
        "\n",
        "# Print out the shape\n",
        "print(x_train.shape)\n",
        "print(x_test.shape)"
      ],
      "execution_count": 0,
      "outputs": [
        {
          "output_type": "stream",
          "text": [
            "(60000, 28, 28, 1)\n",
            "(10000, 28, 28, 1)\n"
          ],
          "name": "stdout"
        }
      ]
    },
    {
      "cell_type": "markdown",
      "metadata": {
        "id": "EY3zfzjlgbYj",
        "colab_type": "text"
      },
      "source": [
        "## ***Model***"
      ]
    },
    {
      "cell_type": "markdown",
      "metadata": {
        "id": "PUqUyRtngdUC",
        "colab_type": "text"
      },
      "source": [
        "### *Define*"
      ]
    },
    {
      "cell_type": "code",
      "metadata": {
        "id": "DGnO0NygDI6M",
        "colab_type": "code",
        "colab": {}
      },
      "source": [
        "# Input placeholder\n",
        "i_input = keras.layers.Input(shape=(28, 28, 1)) \n",
        "\n",
        "# encoder\n",
        "x = keras.layers.Conv2D(16, (3, 3), activation='relu', padding='same')(i_input)\n",
        "x = keras.layers.MaxPooling2D((2, 2), padding='same')(x)       # feature: 14x14x16\n",
        "x = keras.layers.Conv2D(8, (3, 3), activation='relu', padding='same')(x)\n",
        "x = keras.layers.MaxPooling2D((2, 2), padding='same')(x)       # feature: 7x7x8\n",
        "x = keras.layers.Conv2D(8, (3, 3), activation='relu', padding='same')(x)\n",
        "encoded = keras.layers.MaxPooling2D((2, 2), padding='same')(x)\n",
        "\n",
        "# decoder\n",
        "x = keras.layers.Conv2D(8, (3, 3), activation='relu', padding='same')(encoded)\n",
        "x = keras.layers.UpSampling2D((2, 2))(x)                       # feature: 7x7x8\n",
        "x = keras.layers.Conv2D(8, (3, 3), activation='relu', padding='same')(x)\n",
        "x = keras.layers.UpSampling2D((2, 2))(x)                       # feature: 14x14x8\n",
        "x = keras.layers.Conv2D(16, (3, 3), activation='relu')(x)\n",
        "x = keras.layers.UpSampling2D((2, 2))(x)                       # feature: 28x28x16\n",
        "decoded = keras.layers.Conv2D(1, (3, 3), activation='sigmoid', padding='same')(x)\n",
        "                                                  # feature: 28x28x1"
      ],
      "execution_count": 0,
      "outputs": []
    },
    {
      "cell_type": "code",
      "metadata": {
        "id": "AA7IGA2nZwhf",
        "colab_type": "code",
        "colab": {}
      },
      "source": [
        "# This autoencoder will map input to reconstructed output\n",
        "autoencoder = keras.models.Model(inputs=i_input, outputs=decoded)"
      ],
      "execution_count": 0,
      "outputs": []
    },
    {
      "cell_type": "code",
      "metadata": {
        "id": "vCAvqXiiDI6X",
        "colab_type": "code",
        "outputId": "4526dc22-a7af-4925-e9af-7318fe201cd1",
        "colab": {
          "base_uri": "https://localhost:8080/",
          "height": 629
        }
      },
      "source": [
        "# Select optimizer and loss function\n",
        "autoencoder.compile(optimizer='rmsprop', loss='mse')\n",
        "autoencoder.summary()"
      ],
      "execution_count": 0,
      "outputs": [
        {
          "output_type": "stream",
          "text": [
            "Model: \"model\"\n",
            "_________________________________________________________________\n",
            "Layer (type)                 Output Shape              Param #   \n",
            "=================================================================\n",
            "input_1 (InputLayer)         [(None, 28, 28, 1)]       0         \n",
            "_________________________________________________________________\n",
            "conv2d (Conv2D)              (None, 28, 28, 16)        160       \n",
            "_________________________________________________________________\n",
            "max_pooling2d (MaxPooling2D) (None, 14, 14, 16)        0         \n",
            "_________________________________________________________________\n",
            "conv2d_1 (Conv2D)            (None, 14, 14, 8)         1160      \n",
            "_________________________________________________________________\n",
            "max_pooling2d_1 (MaxPooling2 (None, 7, 7, 8)           0         \n",
            "_________________________________________________________________\n",
            "conv2d_2 (Conv2D)            (None, 7, 7, 8)           584       \n",
            "_________________________________________________________________\n",
            "max_pooling2d_2 (MaxPooling2 (None, 4, 4, 8)           0         \n",
            "_________________________________________________________________\n",
            "conv2d_3 (Conv2D)            (None, 4, 4, 8)           584       \n",
            "_________________________________________________________________\n",
            "up_sampling2d (UpSampling2D) (None, 8, 8, 8)           0         \n",
            "_________________________________________________________________\n",
            "conv2d_4 (Conv2D)            (None, 8, 8, 8)           584       \n",
            "_________________________________________________________________\n",
            "up_sampling2d_1 (UpSampling2 (None, 16, 16, 8)         0         \n",
            "_________________________________________________________________\n",
            "conv2d_5 (Conv2D)            (None, 14, 14, 16)        1168      \n",
            "_________________________________________________________________\n",
            "up_sampling2d_2 (UpSampling2 (None, 28, 28, 16)        0         \n",
            "_________________________________________________________________\n",
            "conv2d_6 (Conv2D)            (None, 28, 28, 1)         145       \n",
            "=================================================================\n",
            "Total params: 4,385\n",
            "Trainable params: 4,385\n",
            "Non-trainable params: 0\n",
            "_________________________________________________________________\n"
          ],
          "name": "stdout"
        }
      ]
    },
    {
      "cell_type": "markdown",
      "metadata": {
        "id": "n9BG8hNUgo0n",
        "colab_type": "text"
      },
      "source": [
        "### *Fit*"
      ]
    },
    {
      "cell_type": "markdown",
      "metadata": {
        "id": "7KbIreYLd6gj",
        "colab_type": "text"
      },
      "source": [
        "Epoch 10/10\n",
        "60000/60000 [==============================] - 6s 106us/sample - loss: 0.0275 - val_loss: 0.0274\n",
        "CPU times: user 52.4 s, sys: 9.23 s, total: 1min 1s\n",
        "\n",
        "Wall time: 1min (@Notebook Setting/GPU)"
      ]
    },
    {
      "cell_type": "code",
      "metadata": {
        "id": "-_idMKYwKVqX",
        "colab_type": "code",
        "outputId": "f6512aa0-99bf-470a-a2ae-0ddaf15f380e",
        "colab": {
          "base_uri": "https://localhost:8080/",
          "height": 445
        }
      },
      "source": [
        "%%time\n",
        "autoencoder.fit(x_train, x_train,\n",
        "                epochs=10,\n",
        "                batch_size=128,\n",
        "                validation_freq=10,\n",
        "                shuffle=True,\n",
        "                validation_data=(x_test, x_test))"
      ],
      "execution_count": 0,
      "outputs": [
        {
          "output_type": "stream",
          "text": [
            "Train on 60000 samples, validate on 10000 samples\n",
            "Epoch 1/10\n",
            "60000/60000 [==============================] - 8s 140us/sample - loss: 0.0487\n",
            "Epoch 2/10\n",
            "60000/60000 [==============================] - 6s 93us/sample - loss: 0.0317\n",
            "Epoch 3/10\n",
            "60000/60000 [==============================] - 6s 92us/sample - loss: 0.0273\n",
            "Epoch 4/10\n",
            "60000/60000 [==============================] - 6s 92us/sample - loss: 0.0247\n",
            "Epoch 5/10\n",
            "60000/60000 [==============================] - 5s 91us/sample - loss: 0.0230\n",
            "Epoch 6/10\n",
            "60000/60000 [==============================] - 5s 91us/sample - loss: 0.0216\n",
            "Epoch 7/10\n",
            "60000/60000 [==============================] - 6s 92us/sample - loss: 0.0206\n",
            "Epoch 8/10\n",
            "60000/60000 [==============================] - 6s 92us/sample - loss: 0.0197\n",
            "Epoch 9/10\n",
            "60000/60000 [==============================] - 5s 92us/sample - loss: 0.0189\n",
            "Epoch 10/10\n",
            "60000/60000 [==============================] - 6s 102us/sample - loss: 0.0183 - val_loss: 0.0184\n",
            "CPU times: user 50.2 s, sys: 9.16 s, total: 59.3 s\n",
            "Wall time: 58.7 s\n"
          ],
          "name": "stdout"
        },
        {
          "output_type": "execute_result",
          "data": {
            "text/plain": [
              "<tensorflow.python.keras.callbacks.History at 0x7fa950484cc0>"
            ]
          },
          "metadata": {
            "tags": []
          },
          "execution_count": 8
        }
      ]
    },
    {
      "cell_type": "markdown",
      "metadata": {
        "id": "m4kAr8XNg2nc",
        "colab_type": "text"
      },
      "source": [
        "### *Predict*"
      ]
    },
    {
      "cell_type": "code",
      "metadata": {
        "id": "33QHvlOLeSik",
        "colab_type": "code",
        "colab": {}
      },
      "source": [
        "decoded_imgs = autoencoder.predict(x_test)"
      ],
      "execution_count": 0,
      "outputs": []
    },
    {
      "cell_type": "markdown",
      "metadata": {
        "id": "v7Bf90ATg98K",
        "colab_type": "text"
      },
      "source": [
        "## ***Analysis***"
      ]
    },
    {
      "cell_type": "markdown",
      "metadata": {
        "id": "VcGTERphhBNs",
        "colab_type": "text"
      },
      "source": [
        "### *Plot*"
      ]
    },
    {
      "cell_type": "code",
      "metadata": {
        "id": "OFq9I4aCDI6k",
        "colab_type": "code",
        "outputId": "1b6cd6b2-44c7-46da-89e2-b12abfa2ecd5",
        "colab": {
          "base_uri": "https://localhost:8080/",
          "height": 364
        }
      },
      "source": [
        "# Plot\n",
        "plt.figure(figsize=(22, 6))\n",
        "\n",
        "num_imgs = 9\n",
        "\n",
        "for i in range(num_imgs):                        \n",
        "    # display original\n",
        "    ax = plt.subplot(2, num_imgs, i + 1)\n",
        "    true_img = x_test[i].reshape(28, 28)\n",
        "    plt.imshow(true_img, cmap='gray')\n",
        "\n",
        "    # display reconstruction \n",
        "    ax = plt.subplot(2, num_imgs, i + 1 + num_imgs)\n",
        "    reconstructed_img = decoded_imgs[i].reshape(28,28)\n",
        "    plt.imshow(reconstructed_img, cmap='gray')\n",
        "\n",
        "plt.show()"
      ],
      "execution_count": 0,
      "outputs": [
        {
          "output_type": "display_data",
          "data": {
            "image/png": "[encoded data removed]",
            "text/plain": [
              "<Figure size 1584x432 with 18 Axes>"
            ]
          },
          "metadata": {
            "tags": []
          }
        }
      ]
    },
    {
      "cell_type": "markdown",
      "metadata": {
        "id": "GnaUZbi_hIHw",
        "colab_type": "text"
      },
      "source": [
        "## ***실습과제***"
      ]
    },
    {
      "cell_type": "markdown",
      "metadata": {
        "id": "07YM3eLIWxSY",
        "colab_type": "text"
      },
      "source": [
        "#### *과제 1. 두 모델의 차이를 확인해 보자* \n"
      ]
    },
    {
      "cell_type": "markdown",
      "metadata": {
        "id": "4UkqpWR1Zex6",
        "colab_type": "text"
      },
      "source": [
        "#### *과제 2. Data set에 noise 가 추가 되는 경우 어떻게 동작하는지 확인해 보자*\n",
        ">#### *1. dataset을 읽어 오는 cell 에서 \"noise_on = False\" 를 \"True\"로 변경*\n",
        ">#### *2. Noisy data로 다시 학습 및 추론 해 보자. 결과가 무엇을 의미 하는가?*\n"
      ]
    },
    {
      "cell_type": "markdown",
      "metadata": {
        "id": "c4oG_N1oZhbz",
        "colab_type": "text"
      },
      "source": [
        "### *과제 3. Noisy data로 학습된 모델에 정상 data를 사용하여 추론하면?*\n",
        ">#### *1. 결과를 추측해 보자*\n",
        ">#### *2. 실험결과와 추측이 동일한가? 결과를 설명해 보자*"
      ]
    }
  ]
}