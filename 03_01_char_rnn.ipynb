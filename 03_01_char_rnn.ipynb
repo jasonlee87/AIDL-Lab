{
  "nbformat": 4,
  "nbformat_minor": 0,
  "metadata": {
    "kernelspec": {
      "name": "python3",
      "display_name": "Python 3"
    },
    "colab": {
      "name": "03_01_char_rnn.ipynb",
      "provenance": [],
      "include_colab_link": true
    },
    "accelerator": "GPU"
  },
  "cells": [
    {
      "cell_type": "markdown",
      "metadata": {
        "id": "view-in-github",
        "colab_type": "text"
      },
      "source": [
        "<a href=\"https://colab.research.google.com/github/jasonlee87/AIDL-Lab/blob/master/03_01_char_rnn.ipynb\" target=\"_parent\"><img src=\"https://colab.research.google.com/assets/colab-badge.svg\" alt=\"Open In Colab\"/></a>"
      ]
    },
    {
      "cell_type": "markdown",
      "metadata": {
        "id": "kwtc7TmzUcFA",
        "colab_type": "text"
      },
      "source": [
        "### Tensorflow 2.x와 관련 패키지 임포트"
      ]
    },
    {
      "cell_type": "code",
      "metadata": {
        "id": "ibGgt_nT5Po7",
        "colab_type": "code",
        "outputId": "a2af8dcf-6ee3-4ec5-c832-c44e33a7d7ad",
        "colab": {
          "base_uri": "https://localhost:8080/",
          "height": 52
        }
      },
      "source": [
        "from __future__ import absolute_import, division, print_function, unicode_literals\n",
        "\n",
        "# Install TensorFlow\n",
        "try:\n",
        "  # %tensorflow_version only exists in Colab.\n",
        "  %tensorflow_version 2.x\n",
        "except Exception:\n",
        "  pass\n",
        "\n",
        "import numpy as np\n",
        "import tensorflow as tf\n",
        "import matplotlib.pyplot as plt\n",
        "import pandas as pd\n",
        "\n",
        "tf.__version__"
      ],
      "execution_count": 0,
      "outputs": [
        {
          "output_type": "stream",
          "text": [
            "TensorFlow 2.x selected.\n"
          ],
          "name": "stdout"
        },
        {
          "output_type": "execute_result",
          "data": {
            "text/plain": [
              "'2.0.0'"
            ]
          },
          "metadata": {
            "tags": []
          },
          "execution_count": 1
        }
      ]
    },
    {
      "cell_type": "code",
      "metadata": {
        "id": "Kx8dW-JU5uTT",
        "colab_type": "code",
        "colab": {}
      },
      "source": [
        "from tensorflow.keras.models import Sequential\n",
        "from tensorflow.keras.layers import Dense\n",
        "from tensorflow.keras.layers import LSTM\n",
        "from tensorflow.keras.layers import Dropout\n",
        "from tensorflow.keras.utils  import to_categorical"
      ],
      "execution_count": 0,
      "outputs": []
    },
    {
      "cell_type": "markdown",
      "metadata": {
        "id": "l22P7vmXUcFF",
        "colab_type": "text"
      },
      "source": [
        "### 트레이닝 시퀀스(training sequence) 정의"
      ]
    },
    {
      "cell_type": "code",
      "metadata": {
        "scrolled": true,
        "id": "GwIJEHzmUcFF",
        "colab_type": "code",
        "outputId": "3bc696ab-f944-4551-cb3a-871947663095",
        "colab": {
          "base_uri": "https://localhost:8080/",
          "height": 90
        }
      },
      "source": [
        "sentence = (\"if you want to build a ship, don't drum up people together to \"\n",
        "            \"collect wood and don't assign them tasks and work, but rather \"\n",
        "            \"teach them to long for the endless immensity of the sea.\")\n",
        "print (\"FOLLOWING IS OUR TRAINING SEQUENCE:\")\n",
        "print (sentence)\n",
        "print (\"Length of 'test sentence' is %s\" %len(sentence))"
      ],
      "execution_count": 0,
      "outputs": [
        {
          "output_type": "stream",
          "text": [
            "FOLLOWING IS OUR TRAINING SEQUENCE:\n",
            "if you want to build a ship, don't drum up people together to collect wood and don't assign them tasks and work, but rather teach them to long for the endless immensity of the sea.\n",
            "Length of 'test sentence' is 180\n"
          ],
          "name": "stdout"
        }
      ]
    },
    {
      "cell_type": "markdown",
      "metadata": {
        "id": "d98aL0P2UcFI",
        "colab_type": "text"
      },
      "source": [
        "### 문자와 사전 정의"
      ]
    },
    {
      "cell_type": "code",
      "metadata": {
        "scrolled": true,
        "id": "_zLCAOuYUcFJ",
        "colab_type": "code",
        "outputId": "8edccc9b-a644-4285-e29b-ab44b1f2c8d0",
        "colab": {
          "base_uri": "https://localhost:8080/",
          "height": 142
        }
      },
      "source": [
        "char_set = list(set(sentence))\n",
        "mapping = {w: i for i, w in enumerate(char_set)}\n",
        "print (\"CHARACTERS: \")\n",
        "print (len(char_set))\n",
        "print (char_set)\n",
        "print (\"DICTIONARY: \")\n",
        "print (len(mapping))\n",
        "print (mapping)"
      ],
      "execution_count": 0,
      "outputs": [
        {
          "output_type": "stream",
          "text": [
            "CHARACTERS: \n",
            "25\n",
            "['t', 'h', \"'\", 'c', ',', 'k', 'y', 'b', 'p', 'o', 's', 'f', 'l', 'a', 'd', 'g', 'n', 'u', ' ', 'w', 'e', 'i', 'r', 'm', '.']\n",
            "DICTIONARY: \n",
            "25\n",
            "{'t': 0, 'h': 1, \"'\": 2, 'c': 3, ',': 4, 'k': 5, 'y': 6, 'b': 7, 'p': 8, 'o': 9, 's': 10, 'f': 11, 'l': 12, 'a': 13, 'd': 14, 'g': 15, 'n': 16, 'u': 17, ' ': 18, 'w': 19, 'e': 20, 'i': 21, 'r': 22, 'm': 23, '.': 24}\n"
          ],
          "name": "stdout"
        }
      ]
    },
    {
      "cell_type": "markdown",
      "metadata": {
        "id": "LrG7cnBVUcFL",
        "colab_type": "text"
      },
      "source": [
        "### 네트워크 설정"
      ]
    },
    {
      "cell_type": "code",
      "metadata": {
        "id": "dbLZ_it9UcFL",
        "colab_type": "code",
        "outputId": "bb3ff001-c588-4819-fc68-4e74bbaa9256",
        "colab": {
          "base_uri": "https://localhost:8080/",
          "height": 52
        }
      },
      "source": [
        "data_dim    = len(char_set)\n",
        "num_classes = len(char_set)\n",
        "hidden_size     = 64\n",
        "sequence_length = 10  # any arbitrary number\n",
        "print ('data_dim : %d' %data_dim)\n",
        "print ('num_classes : %d' %num_classes)"
      ],
      "execution_count": 0,
      "outputs": [
        {
          "output_type": "stream",
          "text": [
            "data_dim : 25\n",
            "num_classes : 25\n"
          ],
          "name": "stdout"
        }
      ]
    },
    {
      "cell_type": "markdown",
      "metadata": {
        "id": "trvtXMy4UcFO",
        "colab_type": "text"
      },
      "source": [
        "### 훈련용 시퀀스 생성"
      ]
    },
    {
      "cell_type": "code",
      "metadata": {
        "id": "xaPtQI5MUcFO",
        "colab_type": "code",
        "colab": {}
      },
      "source": [
        "def print_list(_name,_x):\n",
        "    print('Type of [%s] is [%s]' %(_name,type(_x)))\n",
        "    print('Length of [%s] is %s' %(_name,len(_x)))\n",
        "    print('%s[0] Looks like %s' %(_name,_x[0]))"
      ],
      "execution_count": 0,
      "outputs": []
    },
    {
      "cell_type": "code",
      "metadata": {
        "scrolled": true,
        "id": "MuGHsXodUcFQ",
        "colab_type": "code",
        "outputId": "b5fae2e8-76ba-4adb-98bd-9a27f2b26a54",
        "colab": {
          "base_uri": "https://localhost:8080/",
          "height": 459
        }
      },
      "source": [
        "dataX = [] # 170 sequences\n",
        "dataY = [] # 170 sequences\n",
        "for i in range(0, len(sentence) - sequence_length):\n",
        "    x_str = sentence[i:i + sequence_length]\n",
        "    y_str = sentence[i + 1: i + sequence_length + 1]\n",
        "    x = [mapping[c] for c in x_str]  # x str to index\n",
        "    y = [mapping[c] for c in y_str]  # y str to index\n",
        "    dataX.append(x)\n",
        "    dataY.append(y)\n",
        "    if i<5:\n",
        "        print (\"[%3d/%3d] [%s]=>[%s]\" % (i, len(sentence), x_str, y_str))\n",
        "        print (\"%s%s=>%s\" % (' '*10, x, y))\n",
        "\n",
        "print('\\n')\n",
        "print ((type(dataX)))\n",
        "print (dataX[0])\n",
        "print (dataX[1])\n",
        "print (dataX[168])\n",
        "print (dataX[169])\n",
        "#print_list('dataX',dataX)\n",
        "\n",
        "print('\\n')\n",
        "print ((type(dataY)))\n",
        "print (dataY[0])\n",
        "print (dataY[1])\n",
        "print (dataY[168])\n",
        "print (dataY[169])\n",
        "#print_list('dataY',dataY)"
      ],
      "execution_count": 0,
      "outputs": [
        {
          "output_type": "stream",
          "text": [
            "[  0/180] [if you wan]=>[f you want]\n",
            "          [21, 11, 18, 6, 9, 17, 18, 19, 13, 16]=>[11, 18, 6, 9, 17, 18, 19, 13, 16, 0]\n",
            "[  1/180] [f you want]=>[ you want ]\n",
            "          [11, 18, 6, 9, 17, 18, 19, 13, 16, 0]=>[18, 6, 9, 17, 18, 19, 13, 16, 0, 18]\n",
            "[  2/180] [ you want ]=>[you want t]\n",
            "          [18, 6, 9, 17, 18, 19, 13, 16, 0, 18]=>[6, 9, 17, 18, 19, 13, 16, 0, 18, 0]\n",
            "[  3/180] [you want t]=>[ou want to]\n",
            "          [6, 9, 17, 18, 19, 13, 16, 0, 18, 0]=>[9, 17, 18, 19, 13, 16, 0, 18, 0, 9]\n",
            "[  4/180] [ou want to]=>[u want to ]\n",
            "          [9, 17, 18, 19, 13, 16, 0, 18, 0, 9]=>[17, 18, 19, 13, 16, 0, 18, 0, 9, 18]\n",
            "\n",
            "\n",
            "<class 'list'>\n",
            "[21, 11, 18, 6, 9, 17, 18, 19, 13, 16]\n",
            "[11, 18, 6, 9, 17, 18, 19, 13, 16, 0]\n",
            "[18, 9, 11, 18, 0, 1, 20, 18, 10, 20]\n",
            "[9, 11, 18, 0, 1, 20, 18, 10, 20, 13]\n",
            "\n",
            "\n",
            "<class 'list'>\n",
            "[11, 18, 6, 9, 17, 18, 19, 13, 16, 0]\n",
            "[18, 6, 9, 17, 18, 19, 13, 16, 0, 18]\n",
            "[9, 11, 18, 0, 1, 20, 18, 10, 20, 13]\n",
            "[11, 18, 0, 1, 20, 18, 10, 20, 13, 24]\n"
          ],
          "name": "stdout"
        }
      ]
    },
    {
      "cell_type": "markdown",
      "metadata": {
        "id": "zuH86Z3aunS2",
        "colab_type": "text"
      },
      "source": [
        "### 훈련용 시퀀스 데이타 리쉐이프(reshape)"
      ]
    },
    {
      "cell_type": "code",
      "metadata": {
        "id": "YKAQaiTmkKpV",
        "colab_type": "code",
        "outputId": "c57fbde1-d165-4849-b222-832c2bd01285",
        "colab": {
          "base_uri": "https://localhost:8080/",
          "height": 87
        }
      },
      "source": [
        "# separate into input and output\n",
        "dataX = np.array(dataX)\n",
        "print (dataX.shape)\n",
        "\n",
        "dataY = np.array(dataY)\n",
        "print (dataY.shape)\n",
        "\n",
        "X = dataX[:,:]\n",
        "y = dataY[:,-1]\n",
        "print (X.shape) # (170, 10)\n",
        "print (y.shape) # (170,)"
      ],
      "execution_count": 0,
      "outputs": [
        {
          "output_type": "stream",
          "text": [
            "(170, 10)\n",
            "(170, 10)\n",
            "(170, 10)\n",
            "(170,)\n"
          ],
          "name": "stdout"
        }
      ]
    },
    {
      "cell_type": "code",
      "metadata": {
        "id": "-Cf4jGvsnXcB",
        "colab_type": "code",
        "outputId": "9ad580e5-6f48-4ea6-a02b-bb8ae1c46d78",
        "colab": {
          "base_uri": "https://localhost:8080/",
          "height": 140
        }
      },
      "source": [
        "sequences = [to_categorical(x, num_classes = data_dim) for x in X]\n",
        "print (sequences[0].shape)   # (10,25)\n",
        "print (sequences[169].shape) # (10,25)\n",
        "\n",
        "X = np.array(sequences)\n",
        "print (X.shape) # (170, 10, 25)\n",
        "\n",
        "print (y.shape) # (170,)\n",
        "y = to_categorical(y, num_classes = data_dim)\n",
        "print (y.shape) # (170, 25)\n",
        "print (y[0])  # t -> 4th one-hot"
      ],
      "execution_count": 0,
      "outputs": [
        {
          "output_type": "stream",
          "text": [
            "(10, 25)\n",
            "(10, 25)\n",
            "(170, 10, 25)\n",
            "(170,)\n",
            "(170, 25)\n",
            "[1. 0. 0. 0. 0. 0. 0. 0. 0. 0. 0. 0. 0. 0. 0. 0. 0. 0. 0. 0. 0. 0. 0. 0.\n",
            " 0.]\n"
          ],
          "name": "stdout"
        }
      ]
    },
    {
      "cell_type": "markdown",
      "metadata": {
        "id": "QNL1l0NPUcFY",
        "colab_type": "text"
      },
      "source": [
        "### 모델 설계"
      ]
    },
    {
      "cell_type": "code",
      "metadata": {
        "id": "JBbBnd8D_or3",
        "colab_type": "code",
        "outputId": "1240f4df-3425-47ee-be15-0ac5d037d14e",
        "colab": {
          "base_uri": "https://localhost:8080/",
          "height": 246
        }
      },
      "source": [
        "# define model\n",
        "model = Sequential()\n",
        "model.add(LSTM(75, input_shape=(sequence_length, num_classes)))\n",
        "model.add(Dense(data_dim, activation='softmax'))\n",
        "print(model.summary())"
      ],
      "execution_count": 0,
      "outputs": [
        {
          "output_type": "stream",
          "text": [
            "Model: \"sequential\"\n",
            "_________________________________________________________________\n",
            "Layer (type)                 Output Shape              Param #   \n",
            "=================================================================\n",
            "lstm (LSTM)                  (None, 75)                30300     \n",
            "_________________________________________________________________\n",
            "dense (Dense)                (None, 25)                1900      \n",
            "=================================================================\n",
            "Total params: 32,200\n",
            "Trainable params: 32,200\n",
            "Non-trainable params: 0\n",
            "_________________________________________________________________\n",
            "None\n"
          ],
          "name": "stdout"
        }
      ]
    },
    {
      "cell_type": "markdown",
      "metadata": {
        "id": "LhKxEOqiqZww",
        "colab_type": "text"
      },
      "source": [
        "### 훈련 셋업 및 훈련"
      ]
    },
    {
      "cell_type": "code",
      "metadata": {
        "id": "kRpQUjbA6Fxr",
        "colab_type": "code",
        "outputId": "9844cd71-c318-4c5d-9a09-90169df60b48",
        "colab": {
          "base_uri": "https://localhost:8080/",
          "height": 1000
        }
      },
      "source": [
        "# compile model\n",
        "model.compile(loss='categorical_crossentropy', optimizer='adam', metrics=['accuracy'])\n",
        "# fit model\n",
        "print (X.shape) # (170, 10, 25)\n",
        "print (y.shape) # (170, 25)\n",
        "model.fit(X, y, epochs=120, verbose=2)"
      ],
      "execution_count": 0,
      "outputs": [
        {
          "output_type": "stream",
          "text": [
            "(170, 10, 25)\n",
            "(170, 25)\n",
            "Train on 170 samples\n",
            "Epoch 1/120\n",
            "170/170 - 5s - loss: 3.2120 - accuracy: 0.0471\n",
            "Epoch 2/120\n",
            "170/170 - 0s - loss: 3.1756 - accuracy: 0.1412\n",
            "Epoch 3/120\n",
            "170/170 - 0s - loss: 3.1313 - accuracy: 0.1882\n",
            "Epoch 4/120\n",
            "170/170 - 0s - loss: 3.0585 - accuracy: 0.1882\n",
            "Epoch 5/120\n",
            "170/170 - 0s - loss: 2.9425 - accuracy: 0.1882\n",
            "Epoch 6/120\n",
            "170/170 - 0s - loss: 2.8784 - accuracy: 0.1882\n",
            "Epoch 7/120\n",
            "170/170 - 0s - loss: 2.8480 - accuracy: 0.1882\n",
            "Epoch 8/120\n",
            "170/170 - 0s - loss: 2.8229 - accuracy: 0.1882\n",
            "Epoch 9/120\n",
            "170/170 - 0s - loss: 2.8161 - accuracy: 0.1882\n",
            "Epoch 10/120\n",
            "170/170 - 0s - loss: 2.8067 - accuracy: 0.1882\n",
            "Epoch 11/120\n",
            "170/170 - 0s - loss: 2.7998 - accuracy: 0.1882\n",
            "Epoch 12/120\n",
            "170/170 - 0s - loss: 2.7856 - accuracy: 0.1882\n",
            "Epoch 13/120\n",
            "170/170 - 0s - loss: 2.7745 - accuracy: 0.1882\n",
            "Epoch 14/120\n",
            "170/170 - 0s - loss: 2.7670 - accuracy: 0.1882\n",
            "Epoch 15/120\n",
            "170/170 - 0s - loss: 2.7637 - accuracy: 0.1882\n",
            "Epoch 16/120\n",
            "170/170 - 0s - loss: 2.7615 - accuracy: 0.1882\n",
            "Epoch 17/120\n",
            "170/170 - 0s - loss: 2.7430 - accuracy: 0.1882\n",
            "Epoch 18/120\n",
            "170/170 - 0s - loss: 2.7351 - accuracy: 0.1882\n",
            "Epoch 19/120\n",
            "170/170 - 0s - loss: 2.7308 - accuracy: 0.1882\n",
            "Epoch 20/120\n",
            "170/170 - 0s - loss: 2.7152 - accuracy: 0.1882\n",
            "Epoch 21/120\n",
            "170/170 - 0s - loss: 2.7009 - accuracy: 0.1882\n",
            "Epoch 22/120\n",
            "170/170 - 0s - loss: 2.6909 - accuracy: 0.1882\n",
            "Epoch 23/120\n",
            "170/170 - 0s - loss: 2.6753 - accuracy: 0.1882\n",
            "Epoch 24/120\n",
            "170/170 - 0s - loss: 2.6635 - accuracy: 0.1882\n",
            "Epoch 25/120\n",
            "170/170 - 0s - loss: 2.6448 - accuracy: 0.1941\n",
            "Epoch 26/120\n",
            "170/170 - 0s - loss: 2.6295 - accuracy: 0.1882\n",
            "Epoch 27/120\n",
            "170/170 - 0s - loss: 2.6139 - accuracy: 0.2059\n",
            "Epoch 28/120\n",
            "170/170 - 0s - loss: 2.5857 - accuracy: 0.1941\n",
            "Epoch 29/120\n",
            "170/170 - 0s - loss: 2.5521 - accuracy: 0.2176\n",
            "Epoch 30/120\n",
            "170/170 - 0s - loss: 2.5370 - accuracy: 0.2412\n",
            "Epoch 31/120\n",
            "170/170 - 0s - loss: 2.4877 - accuracy: 0.2529\n",
            "Epoch 32/120\n",
            "170/170 - 0s - loss: 2.4711 - accuracy: 0.2529\n",
            "Epoch 33/120\n",
            "170/170 - 0s - loss: 2.4248 - accuracy: 0.2765\n",
            "Epoch 34/120\n",
            "170/170 - 0s - loss: 2.4121 - accuracy: 0.2529\n",
            "Epoch 35/120\n",
            "170/170 - 0s - loss: 2.3642 - accuracy: 0.2824\n",
            "Epoch 36/120\n",
            "170/170 - 0s - loss: 2.3333 - accuracy: 0.2882\n",
            "Epoch 37/120\n",
            "170/170 - 0s - loss: 2.3030 - accuracy: 0.2529\n",
            "Epoch 38/120\n",
            "170/170 - 0s - loss: 2.2553 - accuracy: 0.3059\n",
            "Epoch 39/120\n",
            "170/170 - 0s - loss: 2.2279 - accuracy: 0.3059\n",
            "Epoch 40/120\n",
            "170/170 - 0s - loss: 2.2011 - accuracy: 0.3294\n",
            "Epoch 41/120\n",
            "170/170 - 0s - loss: 2.1757 - accuracy: 0.3294\n",
            "Epoch 42/120\n",
            "170/170 - 0s - loss: 2.1317 - accuracy: 0.3529\n",
            "Epoch 43/120\n",
            "170/170 - 0s - loss: 2.1159 - accuracy: 0.3412\n",
            "Epoch 44/120\n",
            "170/170 - 0s - loss: 2.0937 - accuracy: 0.4059\n",
            "Epoch 45/120\n",
            "170/170 - 0s - loss: 2.0535 - accuracy: 0.3765\n",
            "Epoch 46/120\n",
            "170/170 - 0s - loss: 2.0275 - accuracy: 0.3647\n",
            "Epoch 47/120\n",
            "170/170 - 0s - loss: 2.0219 - accuracy: 0.3824\n",
            "Epoch 48/120\n",
            "170/170 - 0s - loss: 2.0234 - accuracy: 0.4000\n",
            "Epoch 49/120\n",
            "170/170 - 0s - loss: 2.0326 - accuracy: 0.3647\n",
            "Epoch 50/120\n",
            "170/170 - 0s - loss: 1.9482 - accuracy: 0.4235\n",
            "Epoch 51/120\n",
            "170/170 - 0s - loss: 1.8998 - accuracy: 0.4294\n",
            "Epoch 52/120\n",
            "170/170 - 0s - loss: 1.8769 - accuracy: 0.4471\n",
            "Epoch 53/120\n",
            "170/170 - 0s - loss: 1.8448 - accuracy: 0.4471\n",
            "Epoch 54/120\n",
            "170/170 - 0s - loss: 1.8011 - accuracy: 0.4647\n",
            "Epoch 55/120\n",
            "170/170 - 0s - loss: 1.7696 - accuracy: 0.4471\n",
            "Epoch 56/120\n",
            "170/170 - 0s - loss: 1.7484 - accuracy: 0.4882\n",
            "Epoch 57/120\n",
            "170/170 - 0s - loss: 1.7259 - accuracy: 0.5000\n",
            "Epoch 58/120\n",
            "170/170 - 0s - loss: 1.6873 - accuracy: 0.5000\n",
            "Epoch 59/120\n",
            "170/170 - 0s - loss: 1.6596 - accuracy: 0.5059\n",
            "Epoch 60/120\n",
            "170/170 - 0s - loss: 1.6222 - accuracy: 0.5471\n",
            "Epoch 61/120\n",
            "170/170 - 0s - loss: 1.6044 - accuracy: 0.5176\n",
            "Epoch 62/120\n",
            "170/170 - 0s - loss: 1.5744 - accuracy: 0.5235\n",
            "Epoch 63/120\n",
            "170/170 - 0s - loss: 1.5842 - accuracy: 0.5706\n",
            "Epoch 64/120\n",
            "170/170 - 0s - loss: 1.5314 - accuracy: 0.5529\n",
            "Epoch 65/120\n",
            "170/170 - 0s - loss: 1.5040 - accuracy: 0.5765\n",
            "Epoch 66/120\n",
            "170/170 - 0s - loss: 1.4972 - accuracy: 0.6000\n",
            "Epoch 67/120\n",
            "170/170 - 0s - loss: 1.4723 - accuracy: 0.5706\n",
            "Epoch 68/120\n",
            "170/170 - 0s - loss: 1.4228 - accuracy: 0.6118\n",
            "Epoch 69/120\n",
            "170/170 - 0s - loss: 1.4098 - accuracy: 0.6118\n",
            "Epoch 70/120\n",
            "170/170 - 0s - loss: 1.3490 - accuracy: 0.6294\n",
            "Epoch 71/120\n",
            "170/170 - 0s - loss: 1.3292 - accuracy: 0.6294\n",
            "Epoch 72/120\n",
            "170/170 - 0s - loss: 1.3052 - accuracy: 0.6412\n",
            "Epoch 73/120\n",
            "170/170 - 0s - loss: 1.2733 - accuracy: 0.6588\n",
            "Epoch 74/120\n",
            "170/170 - 0s - loss: 1.2499 - accuracy: 0.6588\n",
            "Epoch 75/120\n",
            "170/170 - 0s - loss: 1.2203 - accuracy: 0.6706\n",
            "Epoch 76/120\n",
            "170/170 - 0s - loss: 1.1899 - accuracy: 0.6882\n",
            "Epoch 77/120\n",
            "170/170 - 0s - loss: 1.2219 - accuracy: 0.6294\n",
            "Epoch 78/120\n",
            "170/170 - 0s - loss: 1.2078 - accuracy: 0.6941\n",
            "Epoch 79/120\n",
            "170/170 - 0s - loss: 1.1868 - accuracy: 0.6765\n",
            "Epoch 80/120\n",
            "170/170 - 0s - loss: 1.1087 - accuracy: 0.7294\n",
            "Epoch 81/120\n",
            "170/170 - 0s - loss: 1.0957 - accuracy: 0.6882\n",
            "Epoch 82/120\n",
            "170/170 - 0s - loss: 1.0641 - accuracy: 0.7353\n",
            "Epoch 83/120\n",
            "170/170 - 0s - loss: 1.0329 - accuracy: 0.7529\n",
            "Epoch 84/120\n",
            "170/170 - 0s - loss: 0.9987 - accuracy: 0.7529\n",
            "Epoch 85/120\n",
            "170/170 - 0s - loss: 0.9842 - accuracy: 0.7647\n",
            "Epoch 86/120\n",
            "170/170 - 0s - loss: 0.9449 - accuracy: 0.7706\n",
            "Epoch 87/120\n",
            "170/170 - 0s - loss: 0.9253 - accuracy: 0.7824\n",
            "Epoch 88/120\n",
            "170/170 - 0s - loss: 0.8925 - accuracy: 0.8000\n",
            "Epoch 89/120\n",
            "170/170 - 0s - loss: 0.8958 - accuracy: 0.7706\n",
            "Epoch 90/120\n",
            "170/170 - 0s - loss: 0.8733 - accuracy: 0.8176\n",
            "Epoch 91/120\n",
            "170/170 - 0s - loss: 0.8308 - accuracy: 0.8176\n",
            "Epoch 92/120\n",
            "170/170 - 0s - loss: 0.8151 - accuracy: 0.8235\n",
            "Epoch 93/120\n",
            "170/170 - 0s - loss: 0.7777 - accuracy: 0.8529\n",
            "Epoch 94/120\n",
            "170/170 - 0s - loss: 0.7679 - accuracy: 0.8471\n",
            "Epoch 95/120\n",
            "170/170 - 0s - loss: 0.7434 - accuracy: 0.8588\n",
            "Epoch 96/120\n",
            "170/170 - 0s - loss: 0.7293 - accuracy: 0.8529\n",
            "Epoch 97/120\n",
            "170/170 - 0s - loss: 0.7042 - accuracy: 0.8941\n",
            "Epoch 98/120\n",
            "170/170 - 0s - loss: 0.6967 - accuracy: 0.8647\n",
            "Epoch 99/120\n",
            "170/170 - 0s - loss: 0.6653 - accuracy: 0.9059\n",
            "Epoch 100/120\n",
            "170/170 - 0s - loss: 0.6365 - accuracy: 0.9059\n",
            "Epoch 101/120\n",
            "170/170 - 0s - loss: 0.6198 - accuracy: 0.9000\n",
            "Epoch 102/120\n",
            "170/170 - 0s - loss: 0.6091 - accuracy: 0.9235\n",
            "Epoch 103/120\n",
            "170/170 - 0s - loss: 0.5881 - accuracy: 0.8941\n",
            "Epoch 104/120\n",
            "170/170 - 0s - loss: 0.5827 - accuracy: 0.9412\n",
            "Epoch 105/120\n",
            "170/170 - 0s - loss: 0.5610 - accuracy: 0.9412\n",
            "Epoch 106/120\n",
            "170/170 - 0s - loss: 0.5483 - accuracy: 0.9529\n",
            "Epoch 107/120\n",
            "170/170 - 0s - loss: 0.5258 - accuracy: 0.9471\n",
            "Epoch 108/120\n",
            "170/170 - 0s - loss: 0.5256 - accuracy: 0.9294\n",
            "Epoch 109/120\n",
            "170/170 - 0s - loss: 0.5103 - accuracy: 0.9412\n",
            "Epoch 110/120\n",
            "170/170 - 0s - loss: 0.4752 - accuracy: 0.9706\n",
            "Epoch 111/120\n",
            "170/170 - 0s - loss: 0.4765 - accuracy: 0.9647\n",
            "Epoch 112/120\n",
            "170/170 - 0s - loss: 0.4506 - accuracy: 0.9529\n",
            "Epoch 113/120\n",
            "170/170 - 0s - loss: 0.4422 - accuracy: 0.9353\n",
            "Epoch 114/120\n",
            "170/170 - 0s - loss: 0.4404 - accuracy: 0.9588\n",
            "Epoch 115/120\n",
            "170/170 - 0s - loss: 0.4293 - accuracy: 0.9471\n",
            "Epoch 116/120\n",
            "170/170 - 0s - loss: 0.4181 - accuracy: 0.9706\n",
            "Epoch 117/120\n",
            "170/170 - 0s - loss: 0.3937 - accuracy: 0.9706\n",
            "Epoch 118/120\n",
            "170/170 - 0s - loss: 0.3835 - accuracy: 0.9824\n",
            "Epoch 119/120\n",
            "170/170 - 0s - loss: 0.3715 - accuracy: 0.9647\n",
            "Epoch 120/120\n",
            "170/170 - 0s - loss: 0.3621 - accuracy: 0.9765\n"
          ],
          "name": "stdout"
        },
        {
          "output_type": "execute_result",
          "data": {
            "text/plain": [
              "<tensorflow.python.keras.callbacks.History at 0x7f96025cef60>"
            ]
          },
          "metadata": {
            "tags": []
          },
          "execution_count": 11
        }
      ]
    },
    {
      "cell_type": "markdown",
      "metadata": {
        "id": "BaKSSadfUcFn",
        "colab_type": "text"
      },
      "source": [
        "## 훈련후 텍스트 생성 체크 목적"
      ]
    },
    {
      "cell_type": "code",
      "metadata": {
        "id": "hpJwcYpjBskV",
        "colab_type": "code",
        "colab": {}
      },
      "source": [
        "from pickle import load\n",
        "from tensorflow.keras.models import load_model\n",
        "from tensorflow.keras.utils import to_categorical\n",
        "from tensorflow.keras.preprocessing.sequence import pad_sequences"
      ],
      "execution_count": 0,
      "outputs": []
    },
    {
      "cell_type": "code",
      "metadata": {
        "id": "kteDW8QSosc_",
        "colab_type": "code",
        "colab": {}
      },
      "source": [
        "# generate a sequence of characters with a language model\n",
        "def generate_seq(model, mapping, seq_length, seed_text, n_chars):\n",
        "\tin_text = seed_text\n",
        "\t# generate a fixed number of characters\n",
        "\tfor _ in range(n_chars):\n",
        "\t\t# encode the characters as integers\n",
        "\t\tencoded = [mapping[char] for char in in_text]\n",
        "\t\t# truncate sequences to a fixed length\n",
        "\t\tencoded = pad_sequences([encoded], maxlen=seq_length, truncating='pre')\n",
        "\t\t# one hot encode\n",
        "\t\tencoded = to_categorical(encoded, num_classes=len(mapping))\n",
        "\t\t#encoded = encoded.reshape(1, encoded.shape[0], encoded.shape[1])\n",
        "\t\t# predict character\n",
        "\t\tyhat = model.predict_classes(encoded, verbose=0)\n",
        "\t\t# reverse map integer to character\n",
        "\t\tout_char = ''\n",
        "\t\tfor char, index in mapping.items():\n",
        "\t\t\tif index == yhat:\n",
        "\t\t\t\tout_char = char\n",
        "\t\t\t\tbreak\n",
        "\t\t# append to input\n",
        "\t\tin_text += char\n",
        "\treturn in_text"
      ],
      "execution_count": 0,
      "outputs": []
    },
    {
      "cell_type": "markdown",
      "metadata": {
        "id": "CPY3_wgzw8d5",
        "colab_type": "text"
      },
      "source": [
        "Sentence : if you want to build a ship, don't drum up people together to collect wood and don't assign them tasks and work, but rather teach them to long for the endless immensity of the sea.\n",
        "Length of 'test sentence' is 180"
      ]
    },
    {
      "cell_type": "code",
      "metadata": {
        "id": "_jDgwGD3sG1i",
        "colab_type": "code",
        "outputId": "60a79cc3-33af-45f3-e50f-49ac495803ce",
        "colab": {
          "base_uri": "https://localhost:8080/",
          "height": 70
        }
      },
      "source": [
        "# test start of rhyme\n",
        "print(generate_seq(model, mapping, 10, 'want to bu', 20))\n",
        "# test mid-line\n",
        "print(generate_seq(model, mapping, 10, 'collect wo', 20))\n",
        "# test not in original\n",
        "print(generate_seq(model, mapping, 10, 'rather tea', 20))"
      ],
      "execution_count": 0,
      "outputs": [
        {
          "output_type": "stream",
          "text": [
            "want to build a ship, don't dr\n",
            "collect wood and don't assign \n",
            "rather teach them to lo g fo d\n"
          ],
          "name": "stdout"
        }
      ]
    },
    {
      "cell_type": "code",
      "metadata": {
        "id": "ymtvpLj8wrfX",
        "colab_type": "code",
        "colab": {}
      },
      "source": [
        ""
      ],
      "execution_count": 0,
      "outputs": []
    }
  ]
}