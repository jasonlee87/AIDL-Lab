{
  "nbformat": 4,
  "nbformat_minor": 0,
  "metadata": {
    "kernelspec": {
      "name": "python3",
      "display_name": "Python 3"
    },
    "colab": {
      "name": "03_01_char_rnn.ipynb",
      "provenance": [],
      "include_colab_link": true
    },
    "accelerator": "GPU"
  },
  "cells": [
    {
      "cell_type": "markdown",
      "metadata": {
        "id": "view-in-github",
        "colab_type": "text"
      },
      "source": [
        "<a href=\"https://colab.research.google.com/github/jasonlee87/AIDL-Lab/blob/master/03_01_char_rnn.ipynb\" target=\"_parent\"><img src=\"https://colab.research.google.com/assets/colab-badge.svg\" alt=\"Open In Colab\"/></a>"
      ]
    },
    {
      "cell_type": "markdown",
      "metadata": {
        "id": "kwtc7TmzUcFA",
        "colab_type": "text"
      },
      "source": [
        "### Tensorflow 2.x와 관련 패키지 임포트"
      ]
    },
    {
      "cell_type": "code",
      "metadata": {
        "id": "ibGgt_nT5Po7",
        "colab_type": "code",
        "outputId": "3e0a8744-af2f-4d5f-b1b4-f29f603faa0f",
        "colab": {
          "base_uri": "https://localhost:8080/",
          "height": 34
        }
      },
      "source": [
        "from __future__ import absolute_import, division, print_function, unicode_literals\n",
        "\n",
        "# Install TensorFlow\n",
        "try:\n",
        "  # %tensorflow_version only exists in Colab.\n",
        "  %tensorflow_version 2.x\n",
        "except Exception:\n",
        "  pass\n",
        "\n",
        "import numpy as np\n",
        "import tensorflow as tf\n",
        "import matplotlib.pyplot as plt\n",
        "import pandas as pd\n",
        "\n",
        "tf.__version__"
      ],
      "execution_count": 15,
      "outputs": [
        {
          "output_type": "execute_result",
          "data": {
            "text/plain": [
              "'2.0.0'"
            ]
          },
          "metadata": {
            "tags": []
          },
          "execution_count": 15
        }
      ]
    },
    {
      "cell_type": "markdown",
      "metadata": {
        "id": "-4ZcdTxiETAt",
        "colab_type": "text"
      },
      "source": [
        "### 모듈 임포트"
      ]
    },
    {
      "cell_type": "code",
      "metadata": {
        "id": "Kx8dW-JU5uTT",
        "colab_type": "code",
        "colab": {}
      },
      "source": [
        "from tensorflow.keras.models import Sequential\n",
        "from tensorflow.keras.layers import Dense\n",
        "from tensorflow.keras.layers import LSTM\n",
        "from tensorflow.keras.layers import Dropout\n",
        "from tensorflow.keras.utils  import to_categorical"
      ],
      "execution_count": 0,
      "outputs": []
    },
    {
      "cell_type": "markdown",
      "metadata": {
        "id": "l22P7vmXUcFF",
        "colab_type": "text"
      },
      "source": [
        "### 학습 시퀀스(training sequence) 정의"
      ]
    },
    {
      "cell_type": "code",
      "metadata": {
        "scrolled": true,
        "id": "GwIJEHzmUcFF",
        "colab_type": "code",
        "outputId": "7ca15493-ecbf-4466-a0a8-fdff5d8338e7",
        "colab": {
          "base_uri": "https://localhost:8080/",
          "height": 88
        }
      },
      "source": [
        "sentence = (\"if you want to build a ship, don't drum up people together to \"\n",
        "            \"collect wood and don't assign them tasks and work, but rather \"\n",
        "            \"teach them to long for the endless immensity of the sea.\")\n",
        "print (\"FOLLOWING IS OUR TRAINING SEQUENCE:\")\n",
        "print (sentence)\n",
        "print (\"Length of 'test sentence' is %s\" %len(sentence))"
      ],
      "execution_count": 17,
      "outputs": [
        {
          "output_type": "stream",
          "text": [
            "FOLLOWING IS OUR TRAINING SEQUENCE:\n",
            "if you want to build a ship, don't drum up people together to collect wood and don't assign them tasks and work, but rather teach them to long for the endless immensity of the sea.\n",
            "Length of 'test sentence' is 180\n"
          ],
          "name": "stdout"
        }
      ]
    },
    {
      "cell_type": "markdown",
      "metadata": {
        "id": "d98aL0P2UcFI",
        "colab_type": "text"
      },
      "source": [
        "### 문자와 사전 정의"
      ]
    },
    {
      "cell_type": "code",
      "metadata": {
        "scrolled": true,
        "id": "_zLCAOuYUcFJ",
        "colab_type": "code",
        "outputId": "33922620-c08c-400f-88dc-a69d5727eabc",
        "colab": {
          "base_uri": "https://localhost:8080/",
          "height": 139
        }
      },
      "source": [
        "char_set = list(set(sentence))\n",
        "mapping = {w: i for i, w in enumerate(char_set)}\n",
        "print (\"CHARACTERS: \")\n",
        "print (len(char_set))\n",
        "print (char_set)\n",
        "print (\"DICTIONARY: \")\n",
        "print (len(mapping))\n",
        "print (mapping)"
      ],
      "execution_count": 18,
      "outputs": [
        {
          "output_type": "stream",
          "text": [
            "CHARACTERS: \n",
            "25\n",
            "['o', ',', 'r', '.', 'l', 'm', 'w', 'h', 'y', 'p', 's', 't', 'e', ' ', 'a', 'g', 'b', 'f', 'n', 'i', 'd', 'u', 'c', \"'\", 'k']\n",
            "DICTIONARY: \n",
            "25\n",
            "{'o': 0, ',': 1, 'r': 2, '.': 3, 'l': 4, 'm': 5, 'w': 6, 'h': 7, 'y': 8, 'p': 9, 's': 10, 't': 11, 'e': 12, ' ': 13, 'a': 14, 'g': 15, 'b': 16, 'f': 17, 'n': 18, 'i': 19, 'd': 20, 'u': 21, 'c': 22, \"'\": 23, 'k': 24}\n"
          ],
          "name": "stdout"
        }
      ]
    },
    {
      "cell_type": "markdown",
      "metadata": {
        "id": "LrG7cnBVUcFL",
        "colab_type": "text"
      },
      "source": [
        "### 변수 설정"
      ]
    },
    {
      "cell_type": "code",
      "metadata": {
        "id": "dbLZ_it9UcFL",
        "colab_type": "code",
        "outputId": "f76cd4aa-6be2-4672-9741-94460f6b8b8a",
        "colab": {
          "base_uri": "https://localhost:8080/",
          "height": 51
        }
      },
      "source": [
        "data_dim    = len(char_set)\n",
        "num_classes = len(char_set)\n",
        "hidden_size     = 64\n",
        "sequence_length = 10  # any arbitrary number\n",
        "\n",
        "print ('data_dim : %d' %data_dim)\n",
        "print ('num_classes : %d' %num_classes)"
      ],
      "execution_count": 19,
      "outputs": [
        {
          "output_type": "stream",
          "text": [
            "data_dim : 25\n",
            "num_classes : 25\n"
          ],
          "name": "stdout"
        }
      ]
    },
    {
      "cell_type": "markdown",
      "metadata": {
        "id": "trvtXMy4UcFO",
        "colab_type": "text"
      },
      "source": [
        "### print_list( )"
      ]
    },
    {
      "cell_type": "code",
      "metadata": {
        "id": "xaPtQI5MUcFO",
        "colab_type": "code",
        "colab": {}
      },
      "source": [
        "def print_list(_name,_x):\n",
        "    print('Type of [%s] is [%s]' %(_name,type(_x)))\n",
        "    print('Length of [%s] is %s' %(_name,len(_x)))\n",
        "    print('%s[0] Looks like %s' %(_name,_x[0]))"
      ],
      "execution_count": 0,
      "outputs": []
    },
    {
      "cell_type": "markdown",
      "metadata": {
        "id": "bcamF3LeEgw6",
        "colab_type": "text"
      },
      "source": [
        "### 학습용 시퀀스 생성"
      ]
    },
    {
      "cell_type": "code",
      "metadata": {
        "scrolled": true,
        "id": "MuGHsXodUcFQ",
        "colab_type": "code",
        "outputId": "ec604656-6fb0-4463-f37d-2a92cf17fe91",
        "colab": {
          "base_uri": "https://localhost:8080/",
          "height": 425
        }
      },
      "source": [
        "dataX = [] # 170 sequences\n",
        "dataY = [] # 170 sequences\n",
        "for i in range(0, len(sentence) - sequence_length):\n",
        "    x_str = sentence[i:i + sequence_length]\n",
        "    y_str = sentence[i + 1: i + sequence_length + 1]\n",
        "    x = [mapping[c] for c in x_str]  # x str to index\n",
        "    y = [mapping[c] for c in y_str]  # y str to index\n",
        "    dataX.append(x)\n",
        "    dataY.append(y)\n",
        "    if i<5:\n",
        "        print (\"[%3d/%3d] [%s]=>[%s]\" % (i, len(sentence), x_str, y_str))\n",
        "        print (\"%s%s=>%s\" % (' '*10, x, y))\n",
        "\n",
        "print('\\n') \n",
        "print ((type(dataX)))\n",
        "print (\"dataX[0] = %s\" % dataX[0])\n",
        "print (\"dataX[1] = %s\" % dataX[1])\n",
        "print (\"dataX[168] = %s\" % dataX[168])\n",
        "print (\"dataX[169] = %s\" % dataX[169])\n",
        "\n",
        "print('\\n')\n",
        "print ((type(dataY)))\n",
        "print (\"dataY[0] = %s\" % dataY[0])\n",
        "print (\"dataY[1] = %s\" % dataY[1])\n",
        "print (\"dataY[168] = %s\" % dataY[168])\n",
        "print (\"dataY[169] = %s\" % dataY[169])\n"
      ],
      "execution_count": 21,
      "outputs": [
        {
          "output_type": "stream",
          "text": [
            "[  0/180] [if you wan]=>[f you want]\n",
            "          [19, 17, 13, 8, 0, 21, 13, 6, 14, 18]=>[17, 13, 8, 0, 21, 13, 6, 14, 18, 11]\n",
            "[  1/180] [f you want]=>[ you want ]\n",
            "          [17, 13, 8, 0, 21, 13, 6, 14, 18, 11]=>[13, 8, 0, 21, 13, 6, 14, 18, 11, 13]\n",
            "[  2/180] [ you want ]=>[you want t]\n",
            "          [13, 8, 0, 21, 13, 6, 14, 18, 11, 13]=>[8, 0, 21, 13, 6, 14, 18, 11, 13, 11]\n",
            "[  3/180] [you want t]=>[ou want to]\n",
            "          [8, 0, 21, 13, 6, 14, 18, 11, 13, 11]=>[0, 21, 13, 6, 14, 18, 11, 13, 11, 0]\n",
            "[  4/180] [ou want to]=>[u want to ]\n",
            "          [0, 21, 13, 6, 14, 18, 11, 13, 11, 0]=>[21, 13, 6, 14, 18, 11, 13, 11, 0, 13]\n",
            "\n",
            "\n",
            "<class 'list'>\n",
            "dataX[0] = [19, 17, 13, 8, 0, 21, 13, 6, 14, 18]\n",
            "dataX[1] = [17, 13, 8, 0, 21, 13, 6, 14, 18, 11]\n",
            "dataX[168] = [13, 0, 17, 13, 11, 7, 12, 13, 10, 12]\n",
            "dataX[169] = [0, 17, 13, 11, 7, 12, 13, 10, 12, 14]\n",
            "\n",
            "\n",
            "<class 'list'>\n",
            "dataY[0] = [17, 13, 8, 0, 21, 13, 6, 14, 18, 11]\n",
            "dataY[1] = [13, 8, 0, 21, 13, 6, 14, 18, 11, 13]\n",
            "dataY[168] = [0, 17, 13, 11, 7, 12, 13, 10, 12, 14]\n",
            "dataY[169] = [17, 13, 11, 7, 12, 13, 10, 12, 14, 3]\n"
          ],
          "name": "stdout"
        }
      ]
    },
    {
      "cell_type": "markdown",
      "metadata": {
        "id": "zuH86Z3aunS2",
        "colab_type": "text"
      },
      "source": [
        "### 학습용 시퀀스 데이타 리쉐이프(reshape) - 1"
      ]
    },
    {
      "cell_type": "code",
      "metadata": {
        "id": "YKAQaiTmkKpV",
        "colab_type": "code",
        "outputId": "aed10612-73d9-4688-821e-421b6d9d238f",
        "colab": {
          "base_uri": "https://localhost:8080/",
          "height": 85
        }
      },
      "source": [
        "# separate into input and output\n",
        "dataX = np.array(dataX)\n",
        "print (dataX.shape) # (170, 10)\n",
        "\n",
        "dataY = np.array(dataY)\n",
        "print (dataY.shape) # (170, 10) \n",
        "\n",
        "X = dataX[:,:]      \n",
        "print (X.shape) # (170, 10)\n",
        "\n",
        "y = dataY[:,-1]\n",
        "print (y.shape) # (170,)"
      ],
      "execution_count": 22,
      "outputs": [
        {
          "output_type": "stream",
          "text": [
            "(170, 10)\n",
            "(170, 10)\n",
            "(170, 10)\n",
            "(170,)\n"
          ],
          "name": "stdout"
        }
      ]
    },
    {
      "cell_type": "markdown",
      "metadata": {
        "id": "SRhlAd5bIk1Q",
        "colab_type": "text"
      },
      "source": [
        "### 학습용 시퀀스 데이타 리쉐이프(reshape) - 2"
      ]
    },
    {
      "cell_type": "code",
      "metadata": {
        "id": "-Cf4jGvsnXcB",
        "colab_type": "code",
        "outputId": "ce3c08d8-ca6c-407e-ddd0-87708035bde9",
        "colab": {
          "base_uri": "https://localhost:8080/",
          "height": 136
        }
      },
      "source": [
        "sequences = [to_categorical(x, num_classes = data_dim) for x in X]\n",
        "print (sequences[0].shape)   # (10,25)\n",
        "print (sequences[169].shape) # (10,25)\n",
        "\n",
        "X = np.array(sequences)\n",
        "print (X.shape) # (170, 10, 25)\n",
        "\n",
        "print (y.shape) # (170,)\n",
        "y = to_categorical(y, num_classes = data_dim)\n",
        "print (y.shape) # (170, 25)\n",
        "print (y[0])"
      ],
      "execution_count": 23,
      "outputs": [
        {
          "output_type": "stream",
          "text": [
            "(10, 25)\n",
            "(10, 25)\n",
            "(170, 10, 25)\n",
            "(170,)\n",
            "(170, 25)\n",
            "[0. 0. 0. 0. 0. 0. 0. 0. 0. 0. 0. 1. 0. 0. 0. 0. 0. 0. 0. 0. 0. 0. 0. 0.\n",
            " 0.]\n"
          ],
          "name": "stdout"
        }
      ]
    },
    {
      "cell_type": "markdown",
      "metadata": {
        "id": "QNL1l0NPUcFY",
        "colab_type": "text"
      },
      "source": [
        "### 모델 설계"
      ]
    },
    {
      "cell_type": "code",
      "metadata": {
        "id": "JBbBnd8D_or3",
        "colab_type": "code",
        "outputId": "ed8747c3-7076-4797-8aa8-7db13ce44629",
        "colab": {
          "base_uri": "https://localhost:8080/",
          "height": 238
        }
      },
      "source": [
        "# define model\n",
        "model = Sequential()\n",
        "model.add(LSTM(hidden_size, input_shape=(sequence_length, num_classes)))\n",
        "model.add(Dense(data_dim, activation='softmax'))\n",
        "print(model.summary())"
      ],
      "execution_count": 24,
      "outputs": [
        {
          "output_type": "stream",
          "text": [
            "Model: \"sequential_1\"\n",
            "_________________________________________________________________\n",
            "Layer (type)                 Output Shape              Param #   \n",
            "=================================================================\n",
            "lstm_1 (LSTM)                (None, 64)                23040     \n",
            "_________________________________________________________________\n",
            "dense_1 (Dense)              (None, 25)                1625      \n",
            "=================================================================\n",
            "Total params: 24,665\n",
            "Trainable params: 24,665\n",
            "Non-trainable params: 0\n",
            "_________________________________________________________________\n",
            "None\n"
          ],
          "name": "stdout"
        }
      ]
    },
    {
      "cell_type": "markdown",
      "metadata": {
        "id": "LhKxEOqiqZww",
        "colab_type": "text"
      },
      "source": [
        "### 학습 셋업 및 학습"
      ]
    },
    {
      "cell_type": "code",
      "metadata": {
        "id": "kRpQUjbA6Fxr",
        "colab_type": "code",
        "outputId": "09fc6359-58ec-4857-f2be-c1bd1080fdd6",
        "colab": {
          "base_uri": "https://localhost:8080/",
          "height": 1000
        }
      },
      "source": [
        "# compile model\n",
        "model.compile(loss='categorical_crossentropy', optimizer='adam', metrics=['accuracy'])\n",
        "# fit model\n",
        "print (X.shape) # (170, 10, 25)\n",
        "print (y.shape) # (170, 25)\n",
        "model.fit(X, y, epochs=200, verbose=2)"
      ],
      "execution_count": 30,
      "outputs": [
        {
          "output_type": "stream",
          "text": [
            "(170, 10, 25)\n",
            "(170, 25)\n",
            "Train on 170 samples\n",
            "Epoch 1/200\n",
            "170/170 - 2s - loss: 0.4420 - accuracy: 0.9765\n",
            "Epoch 2/200\n",
            "170/170 - 0s - loss: 0.3942 - accuracy: 0.9765\n",
            "Epoch 3/200\n",
            "170/170 - 0s - loss: 0.3864 - accuracy: 0.9706\n",
            "Epoch 4/200\n",
            "170/170 - 0s - loss: 0.3777 - accuracy: 0.9882\n",
            "Epoch 5/200\n",
            "170/170 - 0s - loss: 0.3480 - accuracy: 0.9882\n",
            "Epoch 6/200\n",
            "170/170 - 0s - loss: 0.3322 - accuracy: 0.9882\n",
            "Epoch 7/200\n",
            "170/170 - 0s - loss: 0.3219 - accuracy: 0.9824\n",
            "Epoch 8/200\n",
            "170/170 - 0s - loss: 0.3133 - accuracy: 0.9882\n",
            "Epoch 9/200\n",
            "170/170 - 0s - loss: 0.3017 - accuracy: 0.9941\n",
            "Epoch 10/200\n",
            "170/170 - 0s - loss: 0.2961 - accuracy: 0.9941\n",
            "Epoch 11/200\n",
            "170/170 - 0s - loss: 0.2814 - accuracy: 0.9941\n",
            "Epoch 12/200\n",
            "170/170 - 0s - loss: 0.2710 - accuracy: 0.9941\n",
            "Epoch 13/200\n",
            "170/170 - 0s - loss: 0.2644 - accuracy: 0.9941\n",
            "Epoch 14/200\n",
            "170/170 - 0s - loss: 0.2566 - accuracy: 0.9941\n",
            "Epoch 15/200\n",
            "170/170 - 0s - loss: 0.2478 - accuracy: 0.9941\n",
            "Epoch 16/200\n",
            "170/170 - 0s - loss: 0.2396 - accuracy: 0.9941\n",
            "Epoch 17/200\n",
            "170/170 - 0s - loss: 0.2297 - accuracy: 0.9941\n",
            "Epoch 18/200\n",
            "170/170 - 0s - loss: 0.2188 - accuracy: 0.9941\n",
            "Epoch 19/200\n",
            "170/170 - 0s - loss: 0.2157 - accuracy: 0.9941\n",
            "Epoch 20/200\n",
            "170/170 - 0s - loss: 0.2063 - accuracy: 0.9941\n",
            "Epoch 21/200\n",
            "170/170 - 0s - loss: 0.1994 - accuracy: 0.9941\n",
            "Epoch 22/200\n",
            "170/170 - 0s - loss: 0.1961 - accuracy: 0.9941\n",
            "Epoch 23/200\n",
            "170/170 - 0s - loss: 0.1887 - accuracy: 0.9941\n",
            "Epoch 24/200\n",
            "170/170 - 0s - loss: 0.1825 - accuracy: 0.9941\n",
            "Epoch 25/200\n",
            "170/170 - 0s - loss: 0.1781 - accuracy: 0.9941\n",
            "Epoch 26/200\n",
            "170/170 - 0s - loss: 0.1697 - accuracy: 0.9941\n",
            "Epoch 27/200\n",
            "170/170 - 0s - loss: 0.1678 - accuracy: 0.9941\n",
            "Epoch 28/200\n",
            "170/170 - 0s - loss: 0.1617 - accuracy: 0.9941\n",
            "Epoch 29/200\n",
            "170/170 - 0s - loss: 0.1568 - accuracy: 0.9941\n",
            "Epoch 30/200\n",
            "170/170 - 0s - loss: 0.1541 - accuracy: 0.9941\n",
            "Epoch 31/200\n",
            "170/170 - 0s - loss: 0.1511 - accuracy: 0.9941\n",
            "Epoch 32/200\n",
            "170/170 - 0s - loss: 0.1472 - accuracy: 0.9941\n",
            "Epoch 33/200\n",
            "170/170 - 0s - loss: 0.1433 - accuracy: 0.9941\n",
            "Epoch 34/200\n",
            "170/170 - 0s - loss: 0.1371 - accuracy: 0.9941\n",
            "Epoch 35/200\n",
            "170/170 - 0s - loss: 0.1339 - accuracy: 0.9941\n",
            "Epoch 36/200\n",
            "170/170 - 0s - loss: 0.1262 - accuracy: 0.9941\n",
            "Epoch 37/200\n",
            "170/170 - 0s - loss: 0.1230 - accuracy: 0.9941\n",
            "Epoch 38/200\n",
            "170/170 - 0s - loss: 0.1238 - accuracy: 0.9941\n",
            "Epoch 39/200\n",
            "170/170 - 0s - loss: 0.1207 - accuracy: 0.9941\n",
            "Epoch 40/200\n",
            "170/170 - 0s - loss: 0.1162 - accuracy: 1.0000\n",
            "Epoch 41/200\n",
            "170/170 - 0s - loss: 0.1119 - accuracy: 1.0000\n",
            "Epoch 42/200\n",
            "170/170 - 0s - loss: 0.1090 - accuracy: 1.0000\n",
            "Epoch 43/200\n",
            "170/170 - 0s - loss: 0.1042 - accuracy: 1.0000\n",
            "Epoch 44/200\n",
            "170/170 - 0s - loss: 0.1015 - accuracy: 1.0000\n",
            "Epoch 45/200\n",
            "170/170 - 0s - loss: 0.0974 - accuracy: 1.0000\n",
            "Epoch 46/200\n",
            "170/170 - 0s - loss: 0.0952 - accuracy: 1.0000\n",
            "Epoch 47/200\n",
            "170/170 - 0s - loss: 0.0937 - accuracy: 1.0000\n",
            "Epoch 48/200\n",
            "170/170 - 0s - loss: 0.0912 - accuracy: 1.0000\n",
            "Epoch 49/200\n",
            "170/170 - 0s - loss: 0.0897 - accuracy: 1.0000\n",
            "Epoch 50/200\n",
            "170/170 - 0s - loss: 0.0868 - accuracy: 1.0000\n",
            "Epoch 51/200\n",
            "170/170 - 0s - loss: 0.0838 - accuracy: 1.0000\n",
            "Epoch 52/200\n",
            "170/170 - 0s - loss: 0.0813 - accuracy: 1.0000\n",
            "Epoch 53/200\n",
            "170/170 - 0s - loss: 0.0790 - accuracy: 1.0000\n",
            "Epoch 54/200\n",
            "170/170 - 0s - loss: 0.0781 - accuracy: 1.0000\n",
            "Epoch 55/200\n",
            "170/170 - 0s - loss: 0.0766 - accuracy: 1.0000\n",
            "Epoch 56/200\n",
            "170/170 - 0s - loss: 0.0736 - accuracy: 1.0000\n",
            "Epoch 57/200\n",
            "170/170 - 0s - loss: 0.0732 - accuracy: 1.0000\n",
            "Epoch 58/200\n",
            "170/170 - 0s - loss: 0.0705 - accuracy: 1.0000\n",
            "Epoch 59/200\n",
            "170/170 - 0s - loss: 0.0683 - accuracy: 1.0000\n",
            "Epoch 60/200\n",
            "170/170 - 0s - loss: 0.0665 - accuracy: 1.0000\n",
            "Epoch 61/200\n",
            "170/170 - 0s - loss: 0.0648 - accuracy: 1.0000\n",
            "Epoch 62/200\n",
            "170/170 - 0s - loss: 0.0643 - accuracy: 1.0000\n",
            "Epoch 63/200\n",
            "170/170 - 0s - loss: 0.0645 - accuracy: 1.0000\n",
            "Epoch 64/200\n",
            "170/170 - 0s - loss: 0.0717 - accuracy: 1.0000\n",
            "Epoch 65/200\n",
            "170/170 - 0s - loss: 0.0769 - accuracy: 0.9941\n",
            "Epoch 66/200\n",
            "170/170 - 0s - loss: 0.0690 - accuracy: 1.0000\n",
            "Epoch 67/200\n",
            "170/170 - 0s - loss: 0.0693 - accuracy: 1.0000\n",
            "Epoch 68/200\n",
            "170/170 - 0s - loss: 0.0649 - accuracy: 1.0000\n",
            "Epoch 69/200\n",
            "170/170 - 0s - loss: 0.0686 - accuracy: 0.9941\n",
            "Epoch 70/200\n",
            "170/170 - 0s - loss: 0.0783 - accuracy: 1.0000\n",
            "Epoch 71/200\n",
            "170/170 - 0s - loss: 0.0723 - accuracy: 1.0000\n",
            "Epoch 72/200\n",
            "170/170 - 0s - loss: 0.0654 - accuracy: 1.0000\n",
            "Epoch 73/200\n",
            "170/170 - 0s - loss: 0.0659 - accuracy: 1.0000\n",
            "Epoch 74/200\n",
            "170/170 - 0s - loss: 0.0565 - accuracy: 1.0000\n",
            "Epoch 75/200\n",
            "170/170 - 0s - loss: 0.0522 - accuracy: 1.0000\n",
            "Epoch 76/200\n",
            "170/170 - 0s - loss: 0.0496 - accuracy: 1.0000\n",
            "Epoch 77/200\n",
            "170/170 - 0s - loss: 0.0469 - accuracy: 1.0000\n",
            "Epoch 78/200\n",
            "170/170 - 0s - loss: 0.0454 - accuracy: 1.0000\n",
            "Epoch 79/200\n",
            "170/170 - 0s - loss: 0.0451 - accuracy: 1.0000\n",
            "Epoch 80/200\n",
            "170/170 - 0s - loss: 0.0445 - accuracy: 1.0000\n",
            "Epoch 81/200\n",
            "170/170 - 0s - loss: 0.0423 - accuracy: 1.0000\n",
            "Epoch 82/200\n",
            "170/170 - 0s - loss: 0.0412 - accuracy: 1.0000\n",
            "Epoch 83/200\n",
            "170/170 - 0s - loss: 0.0400 - accuracy: 1.0000\n",
            "Epoch 84/200\n",
            "170/170 - 0s - loss: 0.0393 - accuracy: 1.0000\n",
            "Epoch 85/200\n",
            "170/170 - 0s - loss: 0.0389 - accuracy: 1.0000\n",
            "Epoch 86/200\n",
            "170/170 - 0s - loss: 0.0375 - accuracy: 1.0000\n",
            "Epoch 87/200\n",
            "170/170 - 0s - loss: 0.0371 - accuracy: 1.0000\n",
            "Epoch 88/200\n",
            "170/170 - 0s - loss: 0.0381 - accuracy: 1.0000\n",
            "Epoch 89/200\n",
            "170/170 - 0s - loss: 0.0374 - accuracy: 1.0000\n",
            "Epoch 90/200\n",
            "170/170 - 0s - loss: 0.0350 - accuracy: 1.0000\n",
            "Epoch 91/200\n",
            "170/170 - 0s - loss: 0.0348 - accuracy: 1.0000\n",
            "Epoch 92/200\n",
            "170/170 - 0s - loss: 0.0338 - accuracy: 1.0000\n",
            "Epoch 93/200\n",
            "170/170 - 0s - loss: 0.0333 - accuracy: 1.0000\n",
            "Epoch 94/200\n",
            "170/170 - 0s - loss: 0.0337 - accuracy: 1.0000\n",
            "Epoch 95/200\n",
            "170/170 - 0s - loss: 0.0324 - accuracy: 1.0000\n",
            "Epoch 96/200\n",
            "170/170 - 0s - loss: 0.0326 - accuracy: 1.0000\n",
            "Epoch 97/200\n",
            "170/170 - 0s - loss: 0.0312 - accuracy: 1.0000\n",
            "Epoch 98/200\n",
            "170/170 - 0s - loss: 0.0306 - accuracy: 1.0000\n",
            "Epoch 99/200\n",
            "170/170 - 0s - loss: 0.0301 - accuracy: 1.0000\n",
            "Epoch 100/200\n",
            "170/170 - 0s - loss: 0.0294 - accuracy: 1.0000\n",
            "Epoch 101/200\n",
            "170/170 - 0s - loss: 0.0290 - accuracy: 1.0000\n",
            "Epoch 102/200\n",
            "170/170 - 0s - loss: 0.0288 - accuracy: 1.0000\n",
            "Epoch 103/200\n",
            "170/170 - 0s - loss: 0.0278 - accuracy: 1.0000\n",
            "Epoch 104/200\n",
            "170/170 - 0s - loss: 0.0290 - accuracy: 1.0000\n",
            "Epoch 105/200\n",
            "170/170 - 0s - loss: 0.0279 - accuracy: 1.0000\n",
            "Epoch 106/200\n",
            "170/170 - 0s - loss: 0.0276 - accuracy: 1.0000\n",
            "Epoch 107/200\n",
            "170/170 - 0s - loss: 0.0266 - accuracy: 1.0000\n",
            "Epoch 108/200\n",
            "170/170 - 0s - loss: 0.0265 - accuracy: 1.0000\n",
            "Epoch 109/200\n",
            "170/170 - 0s - loss: 0.0258 - accuracy: 1.0000\n",
            "Epoch 110/200\n",
            "170/170 - 0s - loss: 0.0251 - accuracy: 1.0000\n",
            "Epoch 111/200\n",
            "170/170 - 0s - loss: 0.0248 - accuracy: 1.0000\n",
            "Epoch 112/200\n",
            "170/170 - 0s - loss: 0.0247 - accuracy: 1.0000\n",
            "Epoch 113/200\n",
            "170/170 - 0s - loss: 0.0238 - accuracy: 1.0000\n",
            "Epoch 114/200\n",
            "170/170 - 0s - loss: 0.0245 - accuracy: 1.0000\n",
            "Epoch 115/200\n",
            "170/170 - 0s - loss: 0.0251 - accuracy: 1.0000\n",
            "Epoch 116/200\n",
            "170/170 - 0s - loss: 0.0256 - accuracy: 1.0000\n",
            "Epoch 117/200\n",
            "170/170 - 0s - loss: 0.0262 - accuracy: 1.0000\n",
            "Epoch 118/200\n",
            "170/170 - 0s - loss: 0.0286 - accuracy: 1.0000\n",
            "Epoch 119/200\n",
            "170/170 - 0s - loss: 0.0236 - accuracy: 1.0000\n",
            "Epoch 120/200\n",
            "170/170 - 0s - loss: 0.0249 - accuracy: 1.0000\n",
            "Epoch 121/200\n",
            "170/170 - 0s - loss: 0.0226 - accuracy: 1.0000\n",
            "Epoch 122/200\n",
            "170/170 - 0s - loss: 0.0218 - accuracy: 1.0000\n",
            "Epoch 123/200\n",
            "170/170 - 0s - loss: 0.0217 - accuracy: 1.0000\n",
            "Epoch 124/200\n",
            "170/170 - 0s - loss: 0.0211 - accuracy: 1.0000\n",
            "Epoch 125/200\n",
            "170/170 - 0s - loss: 0.0202 - accuracy: 1.0000\n",
            "Epoch 126/200\n",
            "170/170 - 0s - loss: 0.0201 - accuracy: 1.0000\n",
            "Epoch 127/200\n",
            "170/170 - 0s - loss: 0.0197 - accuracy: 1.0000\n",
            "Epoch 128/200\n",
            "170/170 - 0s - loss: 0.0196 - accuracy: 1.0000\n",
            "Epoch 129/200\n",
            "170/170 - 0s - loss: 0.0189 - accuracy: 1.0000\n",
            "Epoch 130/200\n",
            "170/170 - 0s - loss: 0.0186 - accuracy: 1.0000\n",
            "Epoch 131/200\n",
            "170/170 - 0s - loss: 0.0184 - accuracy: 1.0000\n",
            "Epoch 132/200\n",
            "170/170 - 0s - loss: 0.0182 - accuracy: 1.0000\n",
            "Epoch 133/200\n",
            "170/170 - 0s - loss: 0.0180 - accuracy: 1.0000\n",
            "Epoch 134/200\n",
            "170/170 - 0s - loss: 0.0176 - accuracy: 1.0000\n",
            "Epoch 135/200\n",
            "170/170 - 0s - loss: 0.0177 - accuracy: 1.0000\n",
            "Epoch 136/200\n",
            "170/170 - 0s - loss: 0.0173 - accuracy: 1.0000\n",
            "Epoch 137/200\n",
            "170/170 - 0s - loss: 0.0171 - accuracy: 1.0000\n",
            "Epoch 138/200\n",
            "170/170 - 0s - loss: 0.0168 - accuracy: 1.0000\n",
            "Epoch 139/200\n",
            "170/170 - 0s - loss: 0.0167 - accuracy: 1.0000\n",
            "Epoch 140/200\n",
            "170/170 - 0s - loss: 0.0164 - accuracy: 1.0000\n",
            "Epoch 141/200\n",
            "170/170 - 0s - loss: 0.0163 - accuracy: 1.0000\n",
            "Epoch 142/200\n",
            "170/170 - 0s - loss: 0.0159 - accuracy: 1.0000\n",
            "Epoch 143/200\n",
            "170/170 - 0s - loss: 0.0157 - accuracy: 1.0000\n",
            "Epoch 144/200\n",
            "170/170 - 0s - loss: 0.0155 - accuracy: 1.0000\n",
            "Epoch 145/200\n",
            "170/170 - 0s - loss: 0.0152 - accuracy: 1.0000\n",
            "Epoch 146/200\n",
            "170/170 - 0s - loss: 0.0151 - accuracy: 1.0000\n",
            "Epoch 147/200\n",
            "170/170 - 0s - loss: 0.0149 - accuracy: 1.0000\n",
            "Epoch 148/200\n",
            "170/170 - 0s - loss: 0.0147 - accuracy: 1.0000\n",
            "Epoch 149/200\n",
            "170/170 - 0s - loss: 0.0147 - accuracy: 1.0000\n",
            "Epoch 150/200\n",
            "170/170 - 0s - loss: 0.0144 - accuracy: 1.0000\n",
            "Epoch 151/200\n",
            "170/170 - 0s - loss: 0.0145 - accuracy: 1.0000\n",
            "Epoch 152/200\n",
            "170/170 - 0s - loss: 0.0140 - accuracy: 1.0000\n",
            "Epoch 153/200\n",
            "170/170 - 0s - loss: 0.0139 - accuracy: 1.0000\n",
            "Epoch 154/200\n",
            "170/170 - 0s - loss: 0.0137 - accuracy: 1.0000\n",
            "Epoch 155/200\n",
            "170/170 - 0s - loss: 0.0135 - accuracy: 1.0000\n",
            "Epoch 156/200\n",
            "170/170 - 0s - loss: 0.0134 - accuracy: 1.0000\n",
            "Epoch 157/200\n",
            "170/170 - 0s - loss: 0.0132 - accuracy: 1.0000\n",
            "Epoch 158/200\n",
            "170/170 - 0s - loss: 0.0130 - accuracy: 1.0000\n",
            "Epoch 159/200\n",
            "170/170 - 0s - loss: 0.0129 - accuracy: 1.0000\n",
            "Epoch 160/200\n",
            "170/170 - 0s - loss: 0.0128 - accuracy: 1.0000\n",
            "Epoch 161/200\n",
            "170/170 - 0s - loss: 0.0126 - accuracy: 1.0000\n",
            "Epoch 162/200\n",
            "170/170 - 0s - loss: 0.0124 - accuracy: 1.0000\n",
            "Epoch 163/200\n",
            "170/170 - 0s - loss: 0.0123 - accuracy: 1.0000\n",
            "Epoch 164/200\n",
            "170/170 - 0s - loss: 0.0122 - accuracy: 1.0000\n",
            "Epoch 165/200\n",
            "170/170 - 0s - loss: 0.0121 - accuracy: 1.0000\n",
            "Epoch 166/200\n",
            "170/170 - 0s - loss: 0.0119 - accuracy: 1.0000\n",
            "Epoch 167/200\n",
            "170/170 - 0s - loss: 0.0118 - accuracy: 1.0000\n",
            "Epoch 168/200\n",
            "170/170 - 0s - loss: 0.0117 - accuracy: 1.0000\n",
            "Epoch 169/200\n",
            "170/170 - 0s - loss: 0.0116 - accuracy: 1.0000\n",
            "Epoch 170/200\n",
            "170/170 - 0s - loss: 0.0114 - accuracy: 1.0000\n",
            "Epoch 171/200\n",
            "170/170 - 0s - loss: 0.0113 - accuracy: 1.0000\n",
            "Epoch 172/200\n",
            "170/170 - 0s - loss: 0.0112 - accuracy: 1.0000\n",
            "Epoch 173/200\n",
            "170/170 - 0s - loss: 0.0110 - accuracy: 1.0000\n",
            "Epoch 174/200\n",
            "170/170 - 0s - loss: 0.0109 - accuracy: 1.0000\n",
            "Epoch 175/200\n",
            "170/170 - 0s - loss: 0.0108 - accuracy: 1.0000\n",
            "Epoch 176/200\n",
            "170/170 - 0s - loss: 0.0107 - accuracy: 1.0000\n",
            "Epoch 177/200\n",
            "170/170 - 0s - loss: 0.0105 - accuracy: 1.0000\n",
            "Epoch 178/200\n",
            "170/170 - 0s - loss: 0.0104 - accuracy: 1.0000\n",
            "Epoch 179/200\n",
            "170/170 - 0s - loss: 0.0103 - accuracy: 1.0000\n",
            "Epoch 180/200\n",
            "170/170 - 0s - loss: 0.0102 - accuracy: 1.0000\n",
            "Epoch 181/200\n",
            "170/170 - 0s - loss: 0.0101 - accuracy: 1.0000\n",
            "Epoch 182/200\n",
            "170/170 - 0s - loss: 0.0100 - accuracy: 1.0000\n",
            "Epoch 183/200\n",
            "170/170 - 0s - loss: 0.0099 - accuracy: 1.0000\n",
            "Epoch 184/200\n",
            "170/170 - 0s - loss: 0.0098 - accuracy: 1.0000\n",
            "Epoch 185/200\n",
            "170/170 - 0s - loss: 0.0097 - accuracy: 1.0000\n",
            "Epoch 186/200\n",
            "170/170 - 0s - loss: 0.0096 - accuracy: 1.0000\n",
            "Epoch 187/200\n",
            "170/170 - 0s - loss: 0.0095 - accuracy: 1.0000\n",
            "Epoch 188/200\n",
            "170/170 - 0s - loss: 0.0094 - accuracy: 1.0000\n",
            "Epoch 189/200\n",
            "170/170 - 0s - loss: 0.0093 - accuracy: 1.0000\n",
            "Epoch 190/200\n",
            "170/170 - 0s - loss: 0.0093 - accuracy: 1.0000\n",
            "Epoch 191/200\n",
            "170/170 - 0s - loss: 0.0091 - accuracy: 1.0000\n",
            "Epoch 192/200\n",
            "170/170 - 0s - loss: 0.0090 - accuracy: 1.0000\n",
            "Epoch 193/200\n",
            "170/170 - 0s - loss: 0.0089 - accuracy: 1.0000\n",
            "Epoch 194/200\n",
            "170/170 - 0s - loss: 0.0089 - accuracy: 1.0000\n",
            "Epoch 195/200\n",
            "170/170 - 0s - loss: 0.0088 - accuracy: 1.0000\n",
            "Epoch 196/200\n",
            "170/170 - 0s - loss: 0.0087 - accuracy: 1.0000\n",
            "Epoch 197/200\n",
            "170/170 - 0s - loss: 0.0086 - accuracy: 1.0000\n",
            "Epoch 198/200\n",
            "170/170 - 0s - loss: 0.0086 - accuracy: 1.0000\n",
            "Epoch 199/200\n",
            "170/170 - 0s - loss: 0.0084 - accuracy: 1.0000\n",
            "Epoch 200/200\n",
            "170/170 - 0s - loss: 0.0084 - accuracy: 1.0000\n"
          ],
          "name": "stdout"
        },
        {
          "output_type": "execute_result",
          "data": {
            "text/plain": [
              "<tensorflow.python.keras.callbacks.History at 0x7fe986e1dc88>"
            ]
          },
          "metadata": {
            "tags": []
          },
          "execution_count": 30
        }
      ]
    },
    {
      "cell_type": "markdown",
      "metadata": {
        "id": "BaKSSadfUcFn",
        "colab_type": "text"
      },
      "source": [
        "### 학습후 텍스트 생성 함수 만들기에 필요한 모듈 임포트"
      ]
    },
    {
      "cell_type": "code",
      "metadata": {
        "id": "hpJwcYpjBskV",
        "colab_type": "code",
        "colab": {}
      },
      "source": [
        "from pickle import load\n",
        "from tensorflow.keras.models import load_model\n",
        "from tensorflow.keras.utils import to_categorical\n",
        "from tensorflow.keras.preprocessing.sequence import pad_sequences"
      ],
      "execution_count": 0,
      "outputs": []
    },
    {
      "cell_type": "markdown",
      "metadata": {
        "id": "zFK3SFm0LwYe",
        "colab_type": "text"
      },
      "source": [
        "### 학습후 텍스트 생성 함수 만들기"
      ]
    },
    {
      "cell_type": "code",
      "metadata": {
        "id": "kteDW8QSosc_",
        "colab_type": "code",
        "colab": {}
      },
      "source": [
        "# 텍스트 생성 함수\n",
        "def generate_seq(model, mapping, seq_length, seed_text, n_chars):\n",
        "\tin_text = seed_text\n",
        "\t# generate a fixed number of characters\n",
        "\tfor _ in range(n_chars):\n",
        "\t\t# encode the characters as integers\n",
        "\t\tencoded = [mapping[char] for char in in_text]\n",
        "\t\t# truncate sequences to a fixed length\n",
        "\t\tencoded = pad_sequences([encoded], maxlen=seq_length, truncating='pre')\n",
        "\t\t# one hot encode\n",
        "\t\tencoded = to_categorical(encoded, num_classes=len(mapping))\n",
        "\t\t#encoded = encoded.reshape(1, encoded.shape[0], encoded.shape[1])\n",
        "\t\t# predict character\n",
        "\t\tyhat = model.predict_classes(encoded, verbose=0)\n",
        "\t\t# reverse map integer to character\n",
        "\t\tout_char = ''\n",
        "\t\tfor char, index in mapping.items():\n",
        "\t\t\tif index == yhat:\n",
        "\t\t\t\tout_char = char\n",
        "\t\t\t\tbreak\n",
        "\t\t# append to input\n",
        "\t\tin_text += char\n",
        "\treturn in_text"
      ],
      "execution_count": 0,
      "outputs": []
    },
    {
      "cell_type": "markdown",
      "metadata": {
        "id": "CPY3_wgzw8d5",
        "colab_type": "text"
      },
      "source": [
        "학습 Sentence : \n",
        "\n",
        "if you want to build a ship, don't drum up people together to collect wood and don't assign them tasks and work, but rather teach them to long for the endless immensity of the sea.\n",
        "Length of 'test sentence' is 180"
      ]
    },
    {
      "cell_type": "code",
      "metadata": {
        "id": "_jDgwGD3sG1i",
        "colab_type": "code",
        "outputId": "64c3f604-4739-4587-ed99-de6af16b0056",
        "colab": {
          "base_uri": "https://localhost:8080/",
          "height": 68
        }
      },
      "source": [
        "# 테스트 트리거 1\n",
        "print(generate_seq(model, mapping, 10, 'want to bu', 20))\n",
        "# 테스트 트리거 2\n",
        "print(generate_seq(model, mapping, 10, 'collect wo', 20))\n",
        "# 원문에 없는 트리거\n",
        "print(generate_seq(model, mapping, 10, 'rhther tae', 20))"
      ],
      "execution_count": 31,
      "outputs": [
        {
          "output_type": "stream",
          "text": [
            "want to build a ship, don't dr\n",
            "collect wood and don't assign \n",
            "rhther taecl themhhtdos   f an\n"
          ],
          "name": "stdout"
        }
      ]
    },
    {
      "cell_type": "code",
      "metadata": {
        "id": "ymtvpLj8wrfX",
        "colab_type": "code",
        "colab": {}
      },
      "source": [
        ""
      ],
      "execution_count": 0,
      "outputs": []
    }
  ]
}