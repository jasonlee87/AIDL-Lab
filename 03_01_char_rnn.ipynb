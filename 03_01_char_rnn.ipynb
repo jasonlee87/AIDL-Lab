{
  "nbformat": 4,
  "nbformat_minor": 0,
  "metadata": {
    "kernelspec": {
      "name": "python3",
      "display_name": "Python 3"
    },
    "colab": {
      "name": "03_01_char_rnn.ipynb",
      "provenance": [],
      "include_colab_link": true
    },
    "accelerator": "GPU"
  },
  "cells": [
    {
      "cell_type": "markdown",
      "metadata": {
        "id": "view-in-github",
        "colab_type": "text"
      },
      "source": [
        "<a href=\"https://colab.research.google.com/github/jasonlee87/AIDL-Lab/blob/master/03_01_char_rnn.ipynb\" target=\"_parent\"><img src=\"https://colab.research.google.com/assets/colab-badge.svg\" alt=\"Open In Colab\"/></a>"
      ]
    },
    {
      "cell_type": "markdown",
      "metadata": {
        "id": "kwtc7TmzUcFA",
        "colab_type": "text"
      },
      "source": [
        "### Tensorflow 2.x와 관련 패키지 임포트"
      ]
    },
    {
      "cell_type": "code",
      "metadata": {
        "id": "ibGgt_nT5Po7",
        "colab_type": "code",
        "outputId": "f4af5d71-7080-448c-db3d-4c7dfa35f7fd",
        "colab": {
          "base_uri": "https://localhost:8080/",
          "height": 51
        }
      },
      "source": [
        "from __future__ import absolute_import, division, print_function, unicode_literals\n",
        "\n",
        "# Install TensorFlow\n",
        "try:\n",
        "  # %tensorflow_version only exists in Colab.\n",
        "  %tensorflow_version 2.x\n",
        "except Exception:\n",
        "  pass\n",
        "\n",
        "import numpy as np\n",
        "import tensorflow as tf\n",
        "import matplotlib.pyplot as plt\n",
        "import pandas as pd\n",
        "\n",
        "tf.__version__"
      ],
      "execution_count": 1,
      "outputs": [
        {
          "output_type": "stream",
          "text": [
            "TensorFlow 2.x selected.\n"
          ],
          "name": "stdout"
        },
        {
          "output_type": "execute_result",
          "data": {
            "text/plain": [
              "'2.0.0'"
            ]
          },
          "metadata": {
            "tags": []
          },
          "execution_count": 1
        }
      ]
    },
    {
      "cell_type": "markdown",
      "metadata": {
        "id": "-4ZcdTxiETAt",
        "colab_type": "text"
      },
      "source": [
        "### 모듈 임포트"
      ]
    },
    {
      "cell_type": "code",
      "metadata": {
        "id": "Kx8dW-JU5uTT",
        "colab_type": "code",
        "colab": {}
      },
      "source": [
        "from tensorflow.keras.models import Sequential\n",
        "from tensorflow.keras.layers import Dense\n",
        "from tensorflow.keras.layers import LSTM\n",
        "from tensorflow.keras.layers import Dropout\n",
        "from tensorflow.keras.utils  import to_categorical"
      ],
      "execution_count": 0,
      "outputs": []
    },
    {
      "cell_type": "markdown",
      "metadata": {
        "id": "l22P7vmXUcFF",
        "colab_type": "text"
      },
      "source": [
        "### 학습 시퀀스(training sequence) 정의"
      ]
    },
    {
      "cell_type": "code",
      "metadata": {
        "scrolled": true,
        "id": "GwIJEHzmUcFF",
        "colab_type": "code",
        "outputId": "c9c462f7-3dae-4cd1-f55a-b6da5f4b283b",
        "colab": {
          "base_uri": "https://localhost:8080/",
          "height": 88
        }
      },
      "source": [
        "sentence = (\"if you want to build a ship, don't drum up people together to \"\n",
        "            \"collect wood and don't assign them tasks and work, but rather \"\n",
        "            \"teach them to long for the endless immensity of the sea.\")\n",
        "print (\"FOLLOWING IS OUR TRAINING SEQUENCE:\")\n",
        "print (sentence)\n",
        "print (\"Length of 'test sentence' is %s\" %len(sentence))"
      ],
      "execution_count": 3,
      "outputs": [
        {
          "output_type": "stream",
          "text": [
            "FOLLOWING IS OUR TRAINING SEQUENCE:\n",
            "if you want to build a ship, don't drum up people together to collect wood and don't assign them tasks and work, but rather teach them to long for the endless immensity of the sea.\n",
            "Length of 'test sentence' is 180\n"
          ],
          "name": "stdout"
        }
      ]
    },
    {
      "cell_type": "markdown",
      "metadata": {
        "id": "d98aL0P2UcFI",
        "colab_type": "text"
      },
      "source": [
        "### 문자와 사전 정의"
      ]
    },
    {
      "cell_type": "code",
      "metadata": {
        "scrolled": true,
        "id": "_zLCAOuYUcFJ",
        "colab_type": "code",
        "outputId": "ef49469f-a5d5-461a-934a-b950b3baaaa0",
        "colab": {
          "base_uri": "https://localhost:8080/",
          "height": 139
        }
      },
      "source": [
        "char_set = sorted(list(set(sentence)))\n",
        "mapping = {w: i for i, w in enumerate(char_set)}\n",
        "print (\"CHARACTERS: \")\n",
        "print (len(char_set))\n",
        "print (char_set)\n",
        "print (\"DICTIONARY: \")\n",
        "print (len(mapping))\n",
        "print (mapping)"
      ],
      "execution_count": 4,
      "outputs": [
        {
          "output_type": "stream",
          "text": [
            "CHARACTERS: \n",
            "25\n",
            "[' ', \"'\", ',', '.', 'a', 'b', 'c', 'd', 'e', 'f', 'g', 'h', 'i', 'k', 'l', 'm', 'n', 'o', 'p', 'r', 's', 't', 'u', 'w', 'y']\n",
            "DICTIONARY: \n",
            "25\n",
            "{' ': 0, \"'\": 1, ',': 2, '.': 3, 'a': 4, 'b': 5, 'c': 6, 'd': 7, 'e': 8, 'f': 9, 'g': 10, 'h': 11, 'i': 12, 'k': 13, 'l': 14, 'm': 15, 'n': 16, 'o': 17, 'p': 18, 'r': 19, 's': 20, 't': 21, 'u': 22, 'w': 23, 'y': 24}\n"
          ],
          "name": "stdout"
        }
      ]
    },
    {
      "cell_type": "markdown",
      "metadata": {
        "id": "LrG7cnBVUcFL",
        "colab_type": "text"
      },
      "source": [
        "### 변수 설정"
      ]
    },
    {
      "cell_type": "code",
      "metadata": {
        "id": "dbLZ_it9UcFL",
        "colab_type": "code",
        "outputId": "266622b0-cdd6-4fc4-fc0c-b1baeafdcd89",
        "colab": {
          "base_uri": "https://localhost:8080/",
          "height": 51
        }
      },
      "source": [
        "data_dim    = len(char_set)\n",
        "num_classes = len(char_set)\n",
        "hidden_size     = 64\n",
        "sequence_length = 10  # any arbitrary number\n",
        "\n",
        "print ('data_dim : %d' %data_dim)\n",
        "print ('num_classes : %d' %num_classes)"
      ],
      "execution_count": 5,
      "outputs": [
        {
          "output_type": "stream",
          "text": [
            "data_dim : 25\n",
            "num_classes : 25\n"
          ],
          "name": "stdout"
        }
      ]
    },
    {
      "cell_type": "markdown",
      "metadata": {
        "id": "trvtXMy4UcFO",
        "colab_type": "text"
      },
      "source": [
        "### print_list( )"
      ]
    },
    {
      "cell_type": "code",
      "metadata": {
        "id": "xaPtQI5MUcFO",
        "colab_type": "code",
        "colab": {}
      },
      "source": [
        "def print_list(_name,_x):\n",
        "    print('Type of [%s] is [%s]' %(_name,type(_x)))\n",
        "    print('Length of [%s] is %s' %(_name,len(_x)))\n",
        "    print('%s[0] Looks like %s' %(_name,_x[0]))"
      ],
      "execution_count": 0,
      "outputs": []
    },
    {
      "cell_type": "markdown",
      "metadata": {
        "id": "bcamF3LeEgw6",
        "colab_type": "text"
      },
      "source": [
        "### 학습용 시퀀스 생성"
      ]
    },
    {
      "cell_type": "code",
      "metadata": {
        "scrolled": true,
        "id": "MuGHsXodUcFQ",
        "colab_type": "code",
        "outputId": "b6cb2f86-81bc-42e5-aada-6f8a13ccc250",
        "colab": {
          "base_uri": "https://localhost:8080/",
          "height": 425
        }
      },
      "source": [
        "dataX = [] # 170 sequences\n",
        "dataY = [] # 170 sequences\n",
        "for i in range(0, len(sentence) - sequence_length):\n",
        "    x_str = sentence[i:i + sequence_length]\n",
        "    y_str = sentence[i + 1: i + sequence_length + 1]\n",
        "    x = [mapping[c] for c in x_str]  # x str to index\n",
        "    y = [mapping[c] for c in y_str]  # y str to index\n",
        "    dataX.append(x)\n",
        "    dataY.append(y)\n",
        "    if i<5:\n",
        "        print (\"[%3d/%3d] [%s]=>[%s]\" % (i, len(sentence), x_str, y_str))\n",
        "        print (\"%s%s=>%s\" % (' '*10, x, y))\n",
        "\n",
        "print('\\n') \n",
        "print ((type(dataX)))\n",
        "print (\"dataX[0] = %s\" % dataX[0])\n",
        "print (\"dataX[1] = %s\" % dataX[1])\n",
        "print (\"dataX[168] = %s\" % dataX[168])\n",
        "print (\"dataX[169] = %s\" % dataX[169])\n",
        "\n",
        "print('\\n')\n",
        "print ((type(dataY)))\n",
        "print (\"dataY[0] = %s\" % dataY[0])\n",
        "print (\"dataY[1] = %s\" % dataY[1])\n",
        "print (\"dataY[168] = %s\" % dataY[168])\n",
        "print (\"dataY[169] = %s\" % dataY[169])\n"
      ],
      "execution_count": 7,
      "outputs": [
        {
          "output_type": "stream",
          "text": [
            "[  0/180] [if you wan]=>[f you want]\n",
            "          [12, 9, 0, 24, 17, 22, 0, 23, 4, 16]=>[9, 0, 24, 17, 22, 0, 23, 4, 16, 21]\n",
            "[  1/180] [f you want]=>[ you want ]\n",
            "          [9, 0, 24, 17, 22, 0, 23, 4, 16, 21]=>[0, 24, 17, 22, 0, 23, 4, 16, 21, 0]\n",
            "[  2/180] [ you want ]=>[you want t]\n",
            "          [0, 24, 17, 22, 0, 23, 4, 16, 21, 0]=>[24, 17, 22, 0, 23, 4, 16, 21, 0, 21]\n",
            "[  3/180] [you want t]=>[ou want to]\n",
            "          [24, 17, 22, 0, 23, 4, 16, 21, 0, 21]=>[17, 22, 0, 23, 4, 16, 21, 0, 21, 17]\n",
            "[  4/180] [ou want to]=>[u want to ]\n",
            "          [17, 22, 0, 23, 4, 16, 21, 0, 21, 17]=>[22, 0, 23, 4, 16, 21, 0, 21, 17, 0]\n",
            "\n",
            "\n",
            "<class 'list'>\n",
            "dataX[0] = [12, 9, 0, 24, 17, 22, 0, 23, 4, 16]\n",
            "dataX[1] = [9, 0, 24, 17, 22, 0, 23, 4, 16, 21]\n",
            "dataX[168] = [0, 17, 9, 0, 21, 11, 8, 0, 20, 8]\n",
            "dataX[169] = [17, 9, 0, 21, 11, 8, 0, 20, 8, 4]\n",
            "\n",
            "\n",
            "<class 'list'>\n",
            "dataY[0] = [9, 0, 24, 17, 22, 0, 23, 4, 16, 21]\n",
            "dataY[1] = [0, 24, 17, 22, 0, 23, 4, 16, 21, 0]\n",
            "dataY[168] = [17, 9, 0, 21, 11, 8, 0, 20, 8, 4]\n",
            "dataY[169] = [9, 0, 21, 11, 8, 0, 20, 8, 4, 3]\n"
          ],
          "name": "stdout"
        }
      ]
    },
    {
      "cell_type": "markdown",
      "metadata": {
        "id": "zuH86Z3aunS2",
        "colab_type": "text"
      },
      "source": [
        "### 학습용 시퀀스 데이타 리쉐이프(reshape) - 1"
      ]
    },
    {
      "cell_type": "code",
      "metadata": {
        "id": "YKAQaiTmkKpV",
        "colab_type": "code",
        "outputId": "9bce893a-caf3-49f9-9440-6e53d3bc41d8",
        "colab": {
          "base_uri": "https://localhost:8080/",
          "height": 85
        }
      },
      "source": [
        "# separate into input and output\n",
        "dataX = np.array(dataX)\n",
        "print (dataX.shape) # (170, 10)\n",
        "\n",
        "dataY = np.array(dataY)\n",
        "print (dataY.shape) # (170, 10) \n",
        "\n",
        "X = dataX[:,:]      \n",
        "print (X.shape) # (170, 10)\n",
        "\n",
        "y = dataY[:,-1]\n",
        "print (y.shape) # (170,)"
      ],
      "execution_count": 8,
      "outputs": [
        {
          "output_type": "stream",
          "text": [
            "(170, 10)\n",
            "(170, 10)\n",
            "(170, 10)\n",
            "(170,)\n"
          ],
          "name": "stdout"
        }
      ]
    },
    {
      "cell_type": "markdown",
      "metadata": {
        "id": "SRhlAd5bIk1Q",
        "colab_type": "text"
      },
      "source": [
        "### 학습용 시퀀스 데이타 리쉐이프(reshape) - 2"
      ]
    },
    {
      "cell_type": "code",
      "metadata": {
        "id": "-Cf4jGvsnXcB",
        "colab_type": "code",
        "outputId": "fa22cc98-6d50-4697-8907-5c122ad95c4a",
        "colab": {
          "base_uri": "https://localhost:8080/",
          "height": 136
        }
      },
      "source": [
        "sequences = [to_categorical(x, num_classes = data_dim) for x in X]\n",
        "print (sequences[0].shape)   # (10,25)\n",
        "print (sequences[169].shape) # (10,25)\n",
        "\n",
        "X = np.array(sequences)\n",
        "print (X.shape) # (170, 10, 25)\n",
        "\n",
        "print (y.shape) # (170,)\n",
        "y = to_categorical(y, num_classes = data_dim)\n",
        "print (y.shape) # (170, 25)\n",
        "print (y[0])"
      ],
      "execution_count": 9,
      "outputs": [
        {
          "output_type": "stream",
          "text": [
            "(10, 25)\n",
            "(10, 25)\n",
            "(170, 10, 25)\n",
            "(170,)\n",
            "(170, 25)\n",
            "[0. 0. 0. 0. 0. 0. 0. 0. 0. 0. 0. 0. 0. 0. 0. 0. 0. 0. 0. 0. 0. 1. 0. 0.\n",
            " 0.]\n"
          ],
          "name": "stdout"
        }
      ]
    },
    {
      "cell_type": "markdown",
      "metadata": {
        "id": "QNL1l0NPUcFY",
        "colab_type": "text"
      },
      "source": [
        "### 모델 설계"
      ]
    },
    {
      "cell_type": "code",
      "metadata": {
        "id": "JBbBnd8D_or3",
        "colab_type": "code",
        "outputId": "75f6fae3-e13f-4eda-f190-ec02169d343d",
        "colab": {
          "base_uri": "https://localhost:8080/",
          "height": 238
        }
      },
      "source": [
        "# define model\n",
        "model = Sequential()\n",
        "model.add(LSTM(hidden_size, input_shape=(sequence_length, num_classes)))\n",
        "model.add(Dense(data_dim, activation='softmax'))\n",
        "print(model.summary())"
      ],
      "execution_count": 10,
      "outputs": [
        {
          "output_type": "stream",
          "text": [
            "Model: \"sequential\"\n",
            "_________________________________________________________________\n",
            "Layer (type)                 Output Shape              Param #   \n",
            "=================================================================\n",
            "lstm (LSTM)                  (None, 64)                23040     \n",
            "_________________________________________________________________\n",
            "dense (Dense)                (None, 25)                1625      \n",
            "=================================================================\n",
            "Total params: 24,665\n",
            "Trainable params: 24,665\n",
            "Non-trainable params: 0\n",
            "_________________________________________________________________\n",
            "None\n"
          ],
          "name": "stdout"
        }
      ]
    },
    {
      "cell_type": "markdown",
      "metadata": {
        "id": "LhKxEOqiqZww",
        "colab_type": "text"
      },
      "source": [
        "### 학습 셋업 및 학습"
      ]
    },
    {
      "cell_type": "code",
      "metadata": {
        "id": "kRpQUjbA6Fxr",
        "colab_type": "code",
        "outputId": "4d4c22e7-0e26-4a97-df76-f1e540d99c3c",
        "colab": {
          "base_uri": "https://localhost:8080/",
          "height": 1000
        }
      },
      "source": [
        "# compile model\n",
        "model.compile(loss='categorical_crossentropy', optimizer='adam', metrics=['accuracy'])\n",
        "# fit model\n",
        "print (X.shape) # (170, 10, 25)\n",
        "print (y.shape) # (170, 25)\n",
        "model.fit(X, y, epochs=200, verbose=2)"
      ],
      "execution_count": 11,
      "outputs": [
        {
          "output_type": "stream",
          "text": [
            "(170, 10, 25)\n",
            "(170, 25)\n",
            "Train on 170 samples\n",
            "Epoch 1/200\n",
            "170/170 - 3s - loss: 3.2047 - accuracy: 0.0765\n",
            "Epoch 2/200\n",
            "170/170 - 0s - loss: 3.1750 - accuracy: 0.1118\n",
            "Epoch 3/200\n",
            "170/170 - 0s - loss: 3.1435 - accuracy: 0.1765\n",
            "Epoch 4/200\n",
            "170/170 - 0s - loss: 3.0928 - accuracy: 0.1941\n",
            "Epoch 5/200\n",
            "170/170 - 0s - loss: 3.0241 - accuracy: 0.1882\n",
            "Epoch 6/200\n",
            "170/170 - 0s - loss: 2.9141 - accuracy: 0.1882\n",
            "Epoch 7/200\n",
            "170/170 - 0s - loss: 2.8551 - accuracy: 0.1882\n",
            "Epoch 8/200\n",
            "170/170 - 0s - loss: 2.8353 - accuracy: 0.1882\n",
            "Epoch 9/200\n",
            "170/170 - 0s - loss: 2.8046 - accuracy: 0.1882\n",
            "Epoch 10/200\n",
            "170/170 - 0s - loss: 2.7944 - accuracy: 0.1882\n",
            "Epoch 11/200\n",
            "170/170 - 0s - loss: 2.7869 - accuracy: 0.1882\n",
            "Epoch 12/200\n",
            "170/170 - 0s - loss: 2.7717 - accuracy: 0.1882\n",
            "Epoch 13/200\n",
            "170/170 - 0s - loss: 2.7600 - accuracy: 0.1882\n",
            "Epoch 14/200\n",
            "170/170 - 0s - loss: 2.7510 - accuracy: 0.1882\n",
            "Epoch 15/200\n",
            "170/170 - 0s - loss: 2.7372 - accuracy: 0.1882\n",
            "Epoch 16/200\n",
            "170/170 - 0s - loss: 2.7297 - accuracy: 0.1882\n",
            "Epoch 17/200\n",
            "170/170 - 0s - loss: 2.7152 - accuracy: 0.1882\n",
            "Epoch 18/200\n",
            "170/170 - 0s - loss: 2.7051 - accuracy: 0.1882\n",
            "Epoch 19/200\n",
            "170/170 - 0s - loss: 2.6907 - accuracy: 0.1882\n",
            "Epoch 20/200\n",
            "170/170 - 0s - loss: 2.6807 - accuracy: 0.1882\n",
            "Epoch 21/200\n",
            "170/170 - 0s - loss: 2.6607 - accuracy: 0.1941\n",
            "Epoch 22/200\n",
            "170/170 - 0s - loss: 2.6524 - accuracy: 0.1941\n",
            "Epoch 23/200\n",
            "170/170 - 0s - loss: 2.6402 - accuracy: 0.1882\n",
            "Epoch 24/200\n",
            "170/170 - 0s - loss: 2.6204 - accuracy: 0.1882\n",
            "Epoch 25/200\n",
            "170/170 - 0s - loss: 2.5988 - accuracy: 0.2294\n",
            "Epoch 26/200\n",
            "170/170 - 0s - loss: 2.5854 - accuracy: 0.2353\n",
            "Epoch 27/200\n",
            "170/170 - 0s - loss: 2.5589 - accuracy: 0.2412\n",
            "Epoch 28/200\n",
            "170/170 - 0s - loss: 2.5348 - accuracy: 0.2000\n",
            "Epoch 29/200\n",
            "170/170 - 0s - loss: 2.5248 - accuracy: 0.2059\n",
            "Epoch 30/200\n",
            "170/170 - 0s - loss: 2.4883 - accuracy: 0.2529\n",
            "Epoch 31/200\n",
            "170/170 - 0s - loss: 2.4606 - accuracy: 0.2647\n",
            "Epoch 32/200\n",
            "170/170 - 0s - loss: 2.4352 - accuracy: 0.2529\n",
            "Epoch 33/200\n",
            "170/170 - 0s - loss: 2.4084 - accuracy: 0.2294\n",
            "Epoch 34/200\n",
            "170/170 - 0s - loss: 2.3781 - accuracy: 0.2706\n",
            "Epoch 35/200\n",
            "170/170 - 0s - loss: 2.3525 - accuracy: 0.2647\n",
            "Epoch 36/200\n",
            "170/170 - 0s - loss: 2.3310 - accuracy: 0.2765\n",
            "Epoch 37/200\n",
            "170/170 - 0s - loss: 2.2949 - accuracy: 0.2588\n",
            "Epoch 38/200\n",
            "170/170 - 0s - loss: 2.2649 - accuracy: 0.2882\n",
            "Epoch 39/200\n",
            "170/170 - 0s - loss: 2.2414 - accuracy: 0.2882\n",
            "Epoch 40/200\n",
            "170/170 - 0s - loss: 2.2233 - accuracy: 0.3000\n",
            "Epoch 41/200\n",
            "170/170 - 0s - loss: 2.1751 - accuracy: 0.3118\n",
            "Epoch 42/200\n",
            "170/170 - 0s - loss: 2.1595 - accuracy: 0.3353\n",
            "Epoch 43/200\n",
            "170/170 - 0s - loss: 2.1273 - accuracy: 0.3588\n",
            "Epoch 44/200\n",
            "170/170 - 0s - loss: 2.0975 - accuracy: 0.3588\n",
            "Epoch 45/200\n",
            "170/170 - 0s - loss: 2.0710 - accuracy: 0.3412\n",
            "Epoch 46/200\n",
            "170/170 - 0s - loss: 2.0469 - accuracy: 0.3412\n",
            "Epoch 47/200\n",
            "170/170 - 0s - loss: 2.0068 - accuracy: 0.3765\n",
            "Epoch 48/200\n",
            "170/170 - 0s - loss: 1.9846 - accuracy: 0.3529\n",
            "Epoch 49/200\n",
            "170/170 - 0s - loss: 1.9619 - accuracy: 0.4000\n",
            "Epoch 50/200\n",
            "170/170 - 0s - loss: 1.9442 - accuracy: 0.4118\n",
            "Epoch 51/200\n",
            "170/170 - 0s - loss: 1.9175 - accuracy: 0.3647\n",
            "Epoch 52/200\n",
            "170/170 - 0s - loss: 1.8877 - accuracy: 0.4000\n",
            "Epoch 53/200\n",
            "170/170 - 0s - loss: 1.8485 - accuracy: 0.4471\n",
            "Epoch 54/200\n",
            "170/170 - 0s - loss: 1.8271 - accuracy: 0.5000\n",
            "Epoch 55/200\n",
            "170/170 - 0s - loss: 1.8140 - accuracy: 0.4412\n",
            "Epoch 56/200\n",
            "170/170 - 0s - loss: 1.7802 - accuracy: 0.4706\n",
            "Epoch 57/200\n",
            "170/170 - 0s - loss: 1.7433 - accuracy: 0.4824\n",
            "Epoch 58/200\n",
            "170/170 - 0s - loss: 1.7241 - accuracy: 0.4882\n",
            "Epoch 59/200\n",
            "170/170 - 0s - loss: 1.6975 - accuracy: 0.4941\n",
            "Epoch 60/200\n",
            "170/170 - 0s - loss: 1.6654 - accuracy: 0.5294\n",
            "Epoch 61/200\n",
            "170/170 - 0s - loss: 1.6420 - accuracy: 0.5471\n",
            "Epoch 62/200\n",
            "170/170 - 0s - loss: 1.6369 - accuracy: 0.4941\n",
            "Epoch 63/200\n",
            "170/170 - 0s - loss: 1.6117 - accuracy: 0.5059\n",
            "Epoch 64/200\n",
            "170/170 - 0s - loss: 1.5815 - accuracy: 0.5588\n",
            "Epoch 65/200\n",
            "170/170 - 0s - loss: 1.5564 - accuracy: 0.5647\n",
            "Epoch 66/200\n",
            "170/170 - 0s - loss: 1.5574 - accuracy: 0.5176\n",
            "Epoch 67/200\n",
            "170/170 - 0s - loss: 1.4902 - accuracy: 0.5647\n",
            "Epoch 68/200\n",
            "170/170 - 0s - loss: 1.4614 - accuracy: 0.5588\n",
            "Epoch 69/200\n",
            "170/170 - 0s - loss: 1.4479 - accuracy: 0.5647\n",
            "Epoch 70/200\n",
            "170/170 - 0s - loss: 1.4038 - accuracy: 0.5941\n",
            "Epoch 71/200\n",
            "170/170 - 0s - loss: 1.3842 - accuracy: 0.6059\n",
            "Epoch 72/200\n",
            "170/170 - 0s - loss: 1.3593 - accuracy: 0.5824\n",
            "Epoch 73/200\n",
            "170/170 - 0s - loss: 1.3303 - accuracy: 0.6353\n",
            "Epoch 74/200\n",
            "170/170 - 0s - loss: 1.3205 - accuracy: 0.6118\n",
            "Epoch 75/200\n",
            "170/170 - 0s - loss: 1.3201 - accuracy: 0.5941\n",
            "Epoch 76/200\n",
            "170/170 - 0s - loss: 1.2537 - accuracy: 0.6294\n",
            "Epoch 77/200\n",
            "170/170 - 0s - loss: 1.2214 - accuracy: 0.6647\n",
            "Epoch 78/200\n",
            "170/170 - 0s - loss: 1.1860 - accuracy: 0.6941\n",
            "Epoch 79/200\n",
            "170/170 - 0s - loss: 1.1656 - accuracy: 0.7118\n",
            "Epoch 80/200\n",
            "170/170 - 0s - loss: 1.1409 - accuracy: 0.7118\n",
            "Epoch 81/200\n",
            "170/170 - 0s - loss: 1.1238 - accuracy: 0.7118\n",
            "Epoch 82/200\n",
            "170/170 - 0s - loss: 1.0882 - accuracy: 0.7059\n",
            "Epoch 83/200\n",
            "170/170 - 0s - loss: 1.0710 - accuracy: 0.7118\n",
            "Epoch 84/200\n",
            "170/170 - 0s - loss: 1.0408 - accuracy: 0.7353\n",
            "Epoch 85/200\n",
            "170/170 - 0s - loss: 1.0170 - accuracy: 0.7176\n",
            "Epoch 86/200\n",
            "170/170 - 0s - loss: 1.0055 - accuracy: 0.7765\n",
            "Epoch 87/200\n",
            "170/170 - 0s - loss: 0.9958 - accuracy: 0.7412\n",
            "Epoch 88/200\n",
            "170/170 - 0s - loss: 0.9666 - accuracy: 0.7824\n",
            "Epoch 89/200\n",
            "170/170 - 0s - loss: 0.9260 - accuracy: 0.7765\n",
            "Epoch 90/200\n",
            "170/170 - 0s - loss: 0.9207 - accuracy: 0.7941\n",
            "Epoch 91/200\n",
            "170/170 - 0s - loss: 0.8894 - accuracy: 0.7765\n",
            "Epoch 92/200\n",
            "170/170 - 0s - loss: 0.8489 - accuracy: 0.8353\n",
            "Epoch 93/200\n",
            "170/170 - 0s - loss: 0.8371 - accuracy: 0.8118\n",
            "Epoch 94/200\n",
            "170/170 - 0s - loss: 0.7929 - accuracy: 0.8529\n",
            "Epoch 95/200\n",
            "170/170 - 0s - loss: 0.7839 - accuracy: 0.8588\n",
            "Epoch 96/200\n",
            "170/170 - 0s - loss: 0.7485 - accuracy: 0.8647\n",
            "Epoch 97/200\n",
            "170/170 - 0s - loss: 0.7236 - accuracy: 0.9000\n",
            "Epoch 98/200\n",
            "170/170 - 0s - loss: 0.7012 - accuracy: 0.8941\n",
            "Epoch 99/200\n",
            "170/170 - 0s - loss: 0.6756 - accuracy: 0.9176\n",
            "Epoch 100/200\n",
            "170/170 - 0s - loss: 0.6569 - accuracy: 0.9059\n",
            "Epoch 101/200\n",
            "170/170 - 0s - loss: 0.6342 - accuracy: 0.9176\n",
            "Epoch 102/200\n",
            "170/170 - 0s - loss: 0.6120 - accuracy: 0.9588\n",
            "Epoch 103/200\n",
            "170/170 - 0s - loss: 0.5979 - accuracy: 0.9471\n",
            "Epoch 104/200\n",
            "170/170 - 0s - loss: 0.5815 - accuracy: 0.9647\n",
            "Epoch 105/200\n",
            "170/170 - 0s - loss: 0.5689 - accuracy: 0.9588\n",
            "Epoch 106/200\n",
            "170/170 - 0s - loss: 0.5450 - accuracy: 0.9588\n",
            "Epoch 107/200\n",
            "170/170 - 0s - loss: 0.5285 - accuracy: 0.9647\n",
            "Epoch 108/200\n",
            "170/170 - 0s - loss: 0.5209 - accuracy: 0.9588\n",
            "Epoch 109/200\n",
            "170/170 - 0s - loss: 0.4947 - accuracy: 0.9765\n",
            "Epoch 110/200\n",
            "170/170 - 0s - loss: 0.4793 - accuracy: 0.9824\n",
            "Epoch 111/200\n",
            "170/170 - 0s - loss: 0.4682 - accuracy: 0.9882\n",
            "Epoch 112/200\n",
            "170/170 - 0s - loss: 0.4506 - accuracy: 0.9882\n",
            "Epoch 113/200\n",
            "170/170 - 0s - loss: 0.4325 - accuracy: 0.9824\n",
            "Epoch 114/200\n",
            "170/170 - 0s - loss: 0.4233 - accuracy: 0.9882\n",
            "Epoch 115/200\n",
            "170/170 - 0s - loss: 0.4057 - accuracy: 0.9941\n",
            "Epoch 116/200\n",
            "170/170 - 0s - loss: 0.3944 - accuracy: 0.9882\n",
            "Epoch 117/200\n",
            "170/170 - 0s - loss: 0.3833 - accuracy: 0.9882\n",
            "Epoch 118/200\n",
            "170/170 - 0s - loss: 0.3676 - accuracy: 0.9941\n",
            "Epoch 119/200\n",
            "170/170 - 0s - loss: 0.3628 - accuracy: 0.9882\n",
            "Epoch 120/200\n",
            "170/170 - 0s - loss: 0.3522 - accuracy: 0.9882\n",
            "Epoch 121/200\n",
            "170/170 - 0s - loss: 0.3406 - accuracy: 0.9882\n",
            "Epoch 122/200\n",
            "170/170 - 0s - loss: 0.3301 - accuracy: 0.9941\n",
            "Epoch 123/200\n",
            "170/170 - 0s - loss: 0.3170 - accuracy: 0.9941\n",
            "Epoch 124/200\n",
            "170/170 - 0s - loss: 0.3101 - accuracy: 0.9941\n",
            "Epoch 125/200\n",
            "170/170 - 0s - loss: 0.3020 - accuracy: 0.9941\n",
            "Epoch 126/200\n",
            "170/170 - 0s - loss: 0.2928 - accuracy: 1.0000\n",
            "Epoch 127/200\n",
            "170/170 - 0s - loss: 0.2838 - accuracy: 1.0000\n",
            "Epoch 128/200\n",
            "170/170 - 0s - loss: 0.2736 - accuracy: 1.0000\n",
            "Epoch 129/200\n",
            "170/170 - 0s - loss: 0.2680 - accuracy: 1.0000\n",
            "Epoch 130/200\n",
            "170/170 - 0s - loss: 0.2573 - accuracy: 1.0000\n",
            "Epoch 131/200\n",
            "170/170 - 0s - loss: 0.2540 - accuracy: 1.0000\n",
            "Epoch 132/200\n",
            "170/170 - 0s - loss: 0.2430 - accuracy: 1.0000\n",
            "Epoch 133/200\n",
            "170/170 - 0s - loss: 0.2438 - accuracy: 1.0000\n",
            "Epoch 134/200\n",
            "170/170 - 0s - loss: 0.2335 - accuracy: 1.0000\n",
            "Epoch 135/200\n",
            "170/170 - 0s - loss: 0.2259 - accuracy: 1.0000\n",
            "Epoch 136/200\n",
            "170/170 - 0s - loss: 0.2217 - accuracy: 1.0000\n",
            "Epoch 137/200\n",
            "170/170 - 0s - loss: 0.2143 - accuracy: 1.0000\n",
            "Epoch 138/200\n",
            "170/170 - 0s - loss: 0.2081 - accuracy: 1.0000\n",
            "Epoch 139/200\n",
            "170/170 - 0s - loss: 0.2005 - accuracy: 1.0000\n",
            "Epoch 140/200\n",
            "170/170 - 0s - loss: 0.1979 - accuracy: 1.0000\n",
            "Epoch 141/200\n",
            "170/170 - 0s - loss: 0.1941 - accuracy: 1.0000\n",
            "Epoch 142/200\n",
            "170/170 - 0s - loss: 0.1946 - accuracy: 1.0000\n",
            "Epoch 143/200\n",
            "170/170 - 0s - loss: 0.1845 - accuracy: 1.0000\n",
            "Epoch 144/200\n",
            "170/170 - 0s - loss: 0.1806 - accuracy: 1.0000\n",
            "Epoch 145/200\n",
            "170/170 - 0s - loss: 0.1759 - accuracy: 1.0000\n",
            "Epoch 146/200\n",
            "170/170 - 0s - loss: 0.1725 - accuracy: 1.0000\n",
            "Epoch 147/200\n",
            "170/170 - 0s - loss: 0.1636 - accuracy: 1.0000\n",
            "Epoch 148/200\n",
            "170/170 - 0s - loss: 0.1618 - accuracy: 1.0000\n",
            "Epoch 149/200\n",
            "170/170 - 0s - loss: 0.1635 - accuracy: 1.0000\n",
            "Epoch 150/200\n",
            "170/170 - 0s - loss: 0.1618 - accuracy: 1.0000\n",
            "Epoch 151/200\n",
            "170/170 - 0s - loss: 0.1562 - accuracy: 0.9941\n",
            "Epoch 152/200\n",
            "170/170 - 0s - loss: 0.1529 - accuracy: 1.0000\n",
            "Epoch 153/200\n",
            "170/170 - 0s - loss: 0.1447 - accuracy: 1.0000\n",
            "Epoch 154/200\n",
            "170/170 - 0s - loss: 0.1431 - accuracy: 1.0000\n",
            "Epoch 155/200\n",
            "170/170 - 0s - loss: 0.1375 - accuracy: 1.0000\n",
            "Epoch 156/200\n",
            "170/170 - 0s - loss: 0.1360 - accuracy: 1.0000\n",
            "Epoch 157/200\n",
            "170/170 - 0s - loss: 0.1294 - accuracy: 1.0000\n",
            "Epoch 158/200\n",
            "170/170 - 0s - loss: 0.1279 - accuracy: 1.0000\n",
            "Epoch 159/200\n",
            "170/170 - 0s - loss: 0.1249 - accuracy: 1.0000\n",
            "Epoch 160/200\n",
            "170/170 - 0s - loss: 0.1220 - accuracy: 1.0000\n",
            "Epoch 161/200\n",
            "170/170 - 0s - loss: 0.1207 - accuracy: 1.0000\n",
            "Epoch 162/200\n",
            "170/170 - 0s - loss: 0.1170 - accuracy: 1.0000\n",
            "Epoch 163/200\n",
            "170/170 - 0s - loss: 0.1139 - accuracy: 1.0000\n",
            "Epoch 164/200\n",
            "170/170 - 0s - loss: 0.1123 - accuracy: 1.0000\n",
            "Epoch 165/200\n",
            "170/170 - 0s - loss: 0.1106 - accuracy: 1.0000\n",
            "Epoch 166/200\n",
            "170/170 - 0s - loss: 0.1083 - accuracy: 1.0000\n",
            "Epoch 167/200\n",
            "170/170 - 0s - loss: 0.1063 - accuracy: 1.0000\n",
            "Epoch 168/200\n",
            "170/170 - 0s - loss: 0.1036 - accuracy: 1.0000\n",
            "Epoch 169/200\n",
            "170/170 - 0s - loss: 0.1042 - accuracy: 1.0000\n",
            "Epoch 170/200\n",
            "170/170 - 0s - loss: 0.1000 - accuracy: 1.0000\n",
            "Epoch 171/200\n",
            "170/170 - 0s - loss: 0.0981 - accuracy: 1.0000\n",
            "Epoch 172/200\n",
            "170/170 - 0s - loss: 0.0971 - accuracy: 1.0000\n",
            "Epoch 173/200\n",
            "170/170 - 0s - loss: 0.0939 - accuracy: 1.0000\n",
            "Epoch 174/200\n",
            "170/170 - 0s - loss: 0.0923 - accuracy: 1.0000\n",
            "Epoch 175/200\n",
            "170/170 - 0s - loss: 0.0918 - accuracy: 1.0000\n",
            "Epoch 176/200\n",
            "170/170 - 0s - loss: 0.0903 - accuracy: 1.0000\n",
            "Epoch 177/200\n",
            "170/170 - 0s - loss: 0.0883 - accuracy: 1.0000\n",
            "Epoch 178/200\n",
            "170/170 - 0s - loss: 0.0900 - accuracy: 1.0000\n",
            "Epoch 179/200\n",
            "170/170 - 0s - loss: 0.0858 - accuracy: 1.0000\n",
            "Epoch 180/200\n",
            "170/170 - 0s - loss: 0.0857 - accuracy: 1.0000\n",
            "Epoch 181/200\n",
            "170/170 - 0s - loss: 0.0838 - accuracy: 1.0000\n",
            "Epoch 182/200\n",
            "170/170 - 0s - loss: 0.0806 - accuracy: 1.0000\n",
            "Epoch 183/200\n",
            "170/170 - 0s - loss: 0.0785 - accuracy: 1.0000\n",
            "Epoch 184/200\n",
            "170/170 - 0s - loss: 0.0777 - accuracy: 1.0000\n",
            "Epoch 185/200\n",
            "170/170 - 0s - loss: 0.0762 - accuracy: 1.0000\n",
            "Epoch 186/200\n",
            "170/170 - 0s - loss: 0.0756 - accuracy: 1.0000\n",
            "Epoch 187/200\n",
            "170/170 - 0s - loss: 0.0739 - accuracy: 1.0000\n",
            "Epoch 188/200\n",
            "170/170 - 0s - loss: 0.0734 - accuracy: 1.0000\n",
            "Epoch 189/200\n",
            "170/170 - 0s - loss: 0.0716 - accuracy: 1.0000\n",
            "Epoch 190/200\n",
            "170/170 - 0s - loss: 0.0725 - accuracy: 1.0000\n",
            "Epoch 191/200\n",
            "170/170 - 0s - loss: 0.0693 - accuracy: 1.0000\n",
            "Epoch 192/200\n",
            "170/170 - 0s - loss: 0.0682 - accuracy: 1.0000\n",
            "Epoch 193/200\n",
            "170/170 - 0s - loss: 0.0666 - accuracy: 1.0000\n",
            "Epoch 194/200\n",
            "170/170 - 0s - loss: 0.0666 - accuracy: 1.0000\n",
            "Epoch 195/200\n",
            "170/170 - 0s - loss: 0.0652 - accuracy: 1.0000\n",
            "Epoch 196/200\n",
            "170/170 - 0s - loss: 0.0642 - accuracy: 1.0000\n",
            "Epoch 197/200\n",
            "170/170 - 0s - loss: 0.0634 - accuracy: 1.0000\n",
            "Epoch 198/200\n",
            "170/170 - 0s - loss: 0.0622 - accuracy: 1.0000\n",
            "Epoch 199/200\n",
            "170/170 - 0s - loss: 0.0612 - accuracy: 1.0000\n",
            "Epoch 200/200\n",
            "170/170 - 0s - loss: 0.0607 - accuracy: 1.0000\n"
          ],
          "name": "stdout"
        },
        {
          "output_type": "execute_result",
          "data": {
            "text/plain": [
              "<tensorflow.python.keras.callbacks.History at 0x7f13185b4f28>"
            ]
          },
          "metadata": {
            "tags": []
          },
          "execution_count": 11
        }
      ]
    },
    {
      "cell_type": "markdown",
      "metadata": {
        "id": "BaKSSadfUcFn",
        "colab_type": "text"
      },
      "source": [
        "### 학습후 텍스트 생성 함수 만들기에 필요한 모듈 임포트"
      ]
    },
    {
      "cell_type": "code",
      "metadata": {
        "id": "hpJwcYpjBskV",
        "colab_type": "code",
        "colab": {}
      },
      "source": [
        "from pickle import load\n",
        "from tensorflow.keras.models import load_model\n",
        "from tensorflow.keras.utils import to_categorical\n",
        "from tensorflow.keras.preprocessing.sequence import pad_sequences"
      ],
      "execution_count": 0,
      "outputs": []
    },
    {
      "cell_type": "markdown",
      "metadata": {
        "id": "zFK3SFm0LwYe",
        "colab_type": "text"
      },
      "source": [
        "### 학습후 텍스트 생성 함수 만들기"
      ]
    },
    {
      "cell_type": "code",
      "metadata": {
        "id": "kteDW8QSosc_",
        "colab_type": "code",
        "colab": {}
      },
      "source": [
        "# 텍스트 생성 함수\n",
        "def generate_seq(model, mapping, seq_length, seed_text, n_chars):\n",
        "\tin_text = seed_text\n",
        "\t# generate a fixed number of characters\n",
        "\tfor _ in range(n_chars):\n",
        "\t\t# encode the characters as integers\n",
        "\t\tencoded = [mapping[char] for char in in_text]\n",
        "\t\tprint (encoded)\n",
        "\t\t# truncate sequences to a fixed length\n",
        "\t\tencoded = pad_sequences([encoded], maxlen=seq_length, truncating='pre')\n",
        "\t\tprint (encoded)\n",
        "\t\t# one hot encode\n",
        "\t\tencoded = to_categorical(encoded, num_classes=len(mapping))\n",
        "\t\tprint (encoded.shape)\n",
        "\t\t#encoded = encoded.reshape(1, encoded.shape[0], encoded.shape[1])\n",
        "\t\t# predict character\n",
        "\t\tyhat = model.predict_classes(encoded, verbose=0)\n",
        "\t\tprint (yhat)\n",
        "\t\t# reverse map integer to character\n",
        "\t\tout_char = ''\n",
        "\t\tfor char, index in mapping.items():\n",
        "\t\t\tif index == yhat:\n",
        "\t\t\t\tout_char = char\n",
        "\t\t\t\tbreak\n",
        "\t\t# append to input\n",
        "\t\tin_text += char\n",
        "\treturn in_text"
      ],
      "execution_count": 0,
      "outputs": []
    },
    {
      "cell_type": "markdown",
      "metadata": {
        "id": "CPY3_wgzw8d5",
        "colab_type": "text"
      },
      "source": [
        "학습 Sentence : \n",
        "\n",
        "if you want to build a ship, don't drum up people together to collect wood and don't assign them tasks and work, but rather teach them to long for the endless immensity of the sea.\n",
        "Length of 'test sentence' is 180"
      ]
    },
    {
      "cell_type": "code",
      "metadata": {
        "id": "_jDgwGD3sG1i",
        "colab_type": "code",
        "outputId": "8adb9210-7658-4fee-9d3f-c9ea0acd41c1",
        "colab": {
          "base_uri": "https://localhost:8080/",
          "height": 1000
        }
      },
      "source": [
        "# 테스트 트리거 1\n",
        "print(generate_seq(model, mapping, 10, 'want to bu', 20))\n",
        "# 테스트 트리거 2\n",
        "#print(generate_seq(model, mapping, 10, 'collect wo', 20))\n",
        "# 원문에 없는 트리거\n",
        "#print(generate_seq(model, mapping, 10, 'rhther tae', 20))"
      ],
      "execution_count": 16,
      "outputs": [
        {
          "output_type": "stream",
          "text": [
            "[23, 4, 16, 21, 0, 21, 17, 0, 5, 22]\n",
            "[[23  4 16 21  0 21 17  0  5 22]]\n",
            "(1, 10, 25)\n",
            "[12]\n",
            "[23, 4, 16, 21, 0, 21, 17, 0, 5, 22, 12]\n",
            "[[ 4 16 21  0 21 17  0  5 22 12]]\n",
            "(1, 10, 25)\n",
            "[14]\n",
            "[23, 4, 16, 21, 0, 21, 17, 0, 5, 22, 12, 14]\n",
            "[[16 21  0 21 17  0  5 22 12 14]]\n",
            "(1, 10, 25)\n",
            "[7]\n",
            "[23, 4, 16, 21, 0, 21, 17, 0, 5, 22, 12, 14, 7]\n",
            "[[21  0 21 17  0  5 22 12 14  7]]\n",
            "(1, 10, 25)\n",
            "[0]\n",
            "[23, 4, 16, 21, 0, 21, 17, 0, 5, 22, 12, 14, 7, 0]\n",
            "[[ 0 21 17  0  5 22 12 14  7  0]]\n",
            "(1, 10, 25)\n",
            "[4]\n",
            "[23, 4, 16, 21, 0, 21, 17, 0, 5, 22, 12, 14, 7, 0, 4]\n",
            "[[21 17  0  5 22 12 14  7  0  4]]\n",
            "(1, 10, 25)\n",
            "[0]\n",
            "[23, 4, 16, 21, 0, 21, 17, 0, 5, 22, 12, 14, 7, 0, 4, 0]\n",
            "[[17  0  5 22 12 14  7  0  4  0]]\n",
            "(1, 10, 25)\n",
            "[20]\n",
            "[23, 4, 16, 21, 0, 21, 17, 0, 5, 22, 12, 14, 7, 0, 4, 0, 20]\n",
            "[[ 0  5 22 12 14  7  0  4  0 20]]\n",
            "(1, 10, 25)\n",
            "[11]\n",
            "[23, 4, 16, 21, 0, 21, 17, 0, 5, 22, 12, 14, 7, 0, 4, 0, 20, 11]\n",
            "[[ 5 22 12 14  7  0  4  0 20 11]]\n",
            "(1, 10, 25)\n",
            "[12]\n",
            "[23, 4, 16, 21, 0, 21, 17, 0, 5, 22, 12, 14, 7, 0, 4, 0, 20, 11, 12]\n",
            "[[22 12 14  7  0  4  0 20 11 12]]\n",
            "(1, 10, 25)\n",
            "[18]\n",
            "[23, 4, 16, 21, 0, 21, 17, 0, 5, 22, 12, 14, 7, 0, 4, 0, 20, 11, 12, 18]\n",
            "[[12 14  7  0  4  0 20 11 12 18]]\n",
            "(1, 10, 25)\n",
            "[2]\n",
            "[23, 4, 16, 21, 0, 21, 17, 0, 5, 22, 12, 14, 7, 0, 4, 0, 20, 11, 12, 18, 2]\n",
            "[[14  7  0  4  0 20 11 12 18  2]]\n",
            "(1, 10, 25)\n",
            "[0]\n",
            "[23, 4, 16, 21, 0, 21, 17, 0, 5, 22, 12, 14, 7, 0, 4, 0, 20, 11, 12, 18, 2, 0]\n",
            "[[ 7  0  4  0 20 11 12 18  2  0]]\n",
            "(1, 10, 25)\n",
            "[7]\n",
            "[23, 4, 16, 21, 0, 21, 17, 0, 5, 22, 12, 14, 7, 0, 4, 0, 20, 11, 12, 18, 2, 0, 7]\n",
            "[[ 0  4  0 20 11 12 18  2  0  7]]\n",
            "(1, 10, 25)\n",
            "[17]\n",
            "[23, 4, 16, 21, 0, 21, 17, 0, 5, 22, 12, 14, 7, 0, 4, 0, 20, 11, 12, 18, 2, 0, 7, 17]\n",
            "[[ 4  0 20 11 12 18  2  0  7 17]]\n",
            "(1, 10, 25)\n",
            "[16]\n",
            "[23, 4, 16, 21, 0, 21, 17, 0, 5, 22, 12, 14, 7, 0, 4, 0, 20, 11, 12, 18, 2, 0, 7, 17, 16]\n",
            "[[ 0 20 11 12 18  2  0  7 17 16]]\n",
            "(1, 10, 25)\n",
            "[1]\n",
            "[23, 4, 16, 21, 0, 21, 17, 0, 5, 22, 12, 14, 7, 0, 4, 0, 20, 11, 12, 18, 2, 0, 7, 17, 16, 1]\n",
            "[[20 11 12 18  2  0  7 17 16  1]]\n",
            "(1, 10, 25)\n",
            "[21]\n",
            "[23, 4, 16, 21, 0, 21, 17, 0, 5, 22, 12, 14, 7, 0, 4, 0, 20, 11, 12, 18, 2, 0, 7, 17, 16, 1, 21]\n",
            "[[11 12 18  2  0  7 17 16  1 21]]\n",
            "(1, 10, 25)\n",
            "[0]\n",
            "[23, 4, 16, 21, 0, 21, 17, 0, 5, 22, 12, 14, 7, 0, 4, 0, 20, 11, 12, 18, 2, 0, 7, 17, 16, 1, 21, 0]\n",
            "[[12 18  2  0  7 17 16  1 21  0]]\n",
            "(1, 10, 25)\n",
            "[7]\n",
            "[23, 4, 16, 21, 0, 21, 17, 0, 5, 22, 12, 14, 7, 0, 4, 0, 20, 11, 12, 18, 2, 0, 7, 17, 16, 1, 21, 0, 7]\n",
            "[[18  2  0  7 17 16  1 21  0  7]]\n",
            "(1, 10, 25)\n",
            "[19]\n",
            "want to build a ship, don't dr\n"
          ],
          "name": "stdout"
        }
      ]
    },
    {
      "cell_type": "code",
      "metadata": {
        "id": "ymtvpLj8wrfX",
        "colab_type": "code",
        "colab": {}
      },
      "source": [
        ""
      ],
      "execution_count": 0,
      "outputs": []
    }
  ]
}