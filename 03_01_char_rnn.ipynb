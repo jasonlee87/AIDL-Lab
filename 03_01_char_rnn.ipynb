{
  "nbformat": 4,
  "nbformat_minor": 0,
  "metadata": {
    "kernelspec": {
      "name": "python3",
      "display_name": "Python 3"
    },
    "colab": {
      "name": "03_01_char_rnn.ipynb",
      "provenance": [],
      "include_colab_link": true
    },
    "accelerator": "GPU"
  },
  "cells": [
    {
      "cell_type": "markdown",
      "metadata": {
        "id": "view-in-github",
        "colab_type": "text"
      },
      "source": [
        "<a href=\"https://colab.research.google.com/github/jasonlee87/AIDL-Lab/blob/master/03_01_char_rnn.ipynb\" target=\"_parent\"><img src=\"https://colab.research.google.com/assets/colab-badge.svg\" alt=\"Open In Colab\"/></a>"
      ]
    },
    {
      "cell_type": "markdown",
      "metadata": {
        "id": "kwtc7TmzUcFA",
        "colab_type": "text"
      },
      "source": [
        "### Tensorflow 2.x와 관련 패키지 임포트"
      ]
    },
    {
      "cell_type": "code",
      "metadata": {
        "id": "ibGgt_nT5Po7",
        "colab_type": "code",
        "outputId": "97be4105-d3a7-4255-c39e-1218f3eec23b",
        "colab": {
          "base_uri": "https://localhost:8080/",
          "height": 51
        }
      },
      "source": [
        "from __future__ import absolute_import, division, print_function, unicode_literals\n",
        "\n",
        "# Install TensorFlow\n",
        "try:\n",
        "  # %tensorflow_version only exists in Colab.\n",
        "  %tensorflow_version 2.x\n",
        "except Exception:\n",
        "  pass\n",
        "\n",
        "import numpy as np\n",
        "import tensorflow as tf\n",
        "import matplotlib.pyplot as plt\n",
        "import pandas as pd\n",
        "\n",
        "tf.__version__"
      ],
      "execution_count": 1,
      "outputs": [
        {
          "output_type": "stream",
          "text": [
            "TensorFlow 2.x selected.\n"
          ],
          "name": "stdout"
        },
        {
          "output_type": "execute_result",
          "data": {
            "text/plain": [
              "'2.0.0'"
            ]
          },
          "metadata": {
            "tags": []
          },
          "execution_count": 1
        }
      ]
    },
    {
      "cell_type": "markdown",
      "metadata": {
        "id": "-4ZcdTxiETAt",
        "colab_type": "text"
      },
      "source": [
        "### 모듈 임포트"
      ]
    },
    {
      "cell_type": "code",
      "metadata": {
        "id": "Kx8dW-JU5uTT",
        "colab_type": "code",
        "colab": {}
      },
      "source": [
        "from tensorflow.keras.models import Sequential\n",
        "from tensorflow.keras.layers import Dense\n",
        "from tensorflow.keras.layers import LSTM\n",
        "from tensorflow.keras.layers import Dropout\n",
        "from tensorflow.keras.utils  import to_categorical"
      ],
      "execution_count": 0,
      "outputs": []
    },
    {
      "cell_type": "markdown",
      "metadata": {
        "id": "l22P7vmXUcFF",
        "colab_type": "text"
      },
      "source": [
        "### 트레이닝 시퀀스(training sequence) 정의"
      ]
    },
    {
      "cell_type": "code",
      "metadata": {
        "scrolled": true,
        "id": "GwIJEHzmUcFF",
        "colab_type": "code",
        "outputId": "ce8ecdc3-cc5c-4277-b2d2-3236987eee1f",
        "colab": {
          "base_uri": "https://localhost:8080/",
          "height": 88
        }
      },
      "source": [
        "sentence = (\"if you want to build a ship, don't drum up people together to \"\n",
        "            \"collect wood and don't assign them tasks and work, but rather \"\n",
        "            \"teach them to long for the endless immensity of the sea.\")\n",
        "print (\"FOLLOWING IS OUR TRAINING SEQUENCE:\")\n",
        "print (sentence)\n",
        "print (\"Length of 'test sentence' is %s\" %len(sentence))"
      ],
      "execution_count": 3,
      "outputs": [
        {
          "output_type": "stream",
          "text": [
            "FOLLOWING IS OUR TRAINING SEQUENCE:\n",
            "if you want to build a ship, don't drum up people together to collect wood and don't assign them tasks and work, but rather teach them to long for the endless immensity of the sea.\n",
            "Length of 'test sentence' is 180\n"
          ],
          "name": "stdout"
        }
      ]
    },
    {
      "cell_type": "markdown",
      "metadata": {
        "id": "d98aL0P2UcFI",
        "colab_type": "text"
      },
      "source": [
        "### 문자와 사전 정의"
      ]
    },
    {
      "cell_type": "code",
      "metadata": {
        "scrolled": true,
        "id": "_zLCAOuYUcFJ",
        "colab_type": "code",
        "outputId": "32d8482b-9212-489d-d0e2-77965c365a16",
        "colab": {
          "base_uri": "https://localhost:8080/",
          "height": 139
        }
      },
      "source": [
        "char_set = list(set(sentence))\n",
        "mapping = {w: i for i, w in enumerate(char_set)}\n",
        "print (\"CHARACTERS: \")\n",
        "print (len(char_set))\n",
        "print (char_set)\n",
        "print (\"DICTIONARY: \")\n",
        "print (len(mapping))\n",
        "print (mapping)"
      ],
      "execution_count": 4,
      "outputs": [
        {
          "output_type": "stream",
          "text": [
            "CHARACTERS: \n",
            "25\n",
            "['f', 't', 'h', 'y', 'g', 's', 'u', 'w', \"'\", 'c', 'k', 'p', 'o', '.', 'b', ',', 'l', 'i', 'r', 'e', 'd', 'n', 'a', 'm', ' ']\n",
            "DICTIONARY: \n",
            "25\n",
            "{'f': 0, 't': 1, 'h': 2, 'y': 3, 'g': 4, 's': 5, 'u': 6, 'w': 7, \"'\": 8, 'c': 9, 'k': 10, 'p': 11, 'o': 12, '.': 13, 'b': 14, ',': 15, 'l': 16, 'i': 17, 'r': 18, 'e': 19, 'd': 20, 'n': 21, 'a': 22, 'm': 23, ' ': 24}\n"
          ],
          "name": "stdout"
        }
      ]
    },
    {
      "cell_type": "markdown",
      "metadata": {
        "id": "LrG7cnBVUcFL",
        "colab_type": "text"
      },
      "source": [
        "### 변수 설정"
      ]
    },
    {
      "cell_type": "code",
      "metadata": {
        "id": "dbLZ_it9UcFL",
        "colab_type": "code",
        "outputId": "a001bb40-1f98-424d-8322-faf3653e8d46",
        "colab": {
          "base_uri": "https://localhost:8080/",
          "height": 51
        }
      },
      "source": [
        "data_dim    = len(char_set)\n",
        "num_classes = len(char_set)\n",
        "hidden_size     = 64\n",
        "sequence_length = 10  # any arbitrary number\n",
        "\n",
        "print ('data_dim : %d' %data_dim)\n",
        "print ('num_classes : %d' %num_classes)"
      ],
      "execution_count": 25,
      "outputs": [
        {
          "output_type": "stream",
          "text": [
            "data_dim : 25\n",
            "num_classes : 25\n"
          ],
          "name": "stdout"
        }
      ]
    },
    {
      "cell_type": "markdown",
      "metadata": {
        "id": "trvtXMy4UcFO",
        "colab_type": "text"
      },
      "source": [
        "### print_list( )"
      ]
    },
    {
      "cell_type": "code",
      "metadata": {
        "id": "xaPtQI5MUcFO",
        "colab_type": "code",
        "colab": {}
      },
      "source": [
        "def print_list(_name,_x):\n",
        "    print('Type of [%s] is [%s]' %(_name,type(_x)))\n",
        "    print('Length of [%s] is %s' %(_name,len(_x)))\n",
        "    print('%s[0] Looks like %s' %(_name,_x[0]))"
      ],
      "execution_count": 0,
      "outputs": []
    },
    {
      "cell_type": "markdown",
      "metadata": {
        "id": "bcamF3LeEgw6",
        "colab_type": "text"
      },
      "source": [
        "### 학습용 시퀀스 생성"
      ]
    },
    {
      "cell_type": "code",
      "metadata": {
        "scrolled": true,
        "id": "MuGHsXodUcFQ",
        "colab_type": "code",
        "outputId": "2e42bb61-5d1b-4209-f6dc-81c74c9d95c7",
        "colab": {
          "base_uri": "https://localhost:8080/",
          "height": 425
        }
      },
      "source": [
        "dataX = [] # 170 sequences\n",
        "dataY = [] # 170 sequences\n",
        "for i in range(0, len(sentence) - sequence_length):\n",
        "    x_str = sentence[i:i + sequence_length]\n",
        "    y_str = sentence[i + 1: i + sequence_length + 1]\n",
        "    x = [mapping[c] for c in x_str]  # x str to index\n",
        "    y = [mapping[c] for c in y_str]  # y str to index\n",
        "    dataX.append(x)\n",
        "    dataY.append(y)\n",
        "    if i<5:\n",
        "        print (\"[%3d/%3d] [%s]=>[%s]\" % (i, len(sentence), x_str, y_str))\n",
        "        print (\"%s%s=>%s\" % (' '*10, x, y))\n",
        "\n",
        "print('\\n') \n",
        "print ((type(dataX)))\n",
        "print (\"dataX[0] = %s\" % dataX[0])\n",
        "print (\"dataX[1] = %s\" % dataX[1])\n",
        "print (\"dataX[168] = %s\" % dataX[168])\n",
        "print (\"dataX[169] = %s\" % dataX[169])\n",
        "\n",
        "print('\\n')\n",
        "print ((type(dataY)))\n",
        "print (\"dataY[0] = %s\" % dataY[0])\n",
        "print (\"dataY[1] = %s\" % dataY[1])\n",
        "print (\"dataY[168] = %s\" % dataY[168])\n",
        "print (\"dataY[169] = %s\" % dataY[169])\n"
      ],
      "execution_count": 24,
      "outputs": [
        {
          "output_type": "stream",
          "text": [
            "[  0/180] [if you wan]=>[f you want]\n",
            "          [17, 0, 24, 3, 12, 6, 24, 7, 22, 21]=>[0, 24, 3, 12, 6, 24, 7, 22, 21, 1]\n",
            "[  1/180] [f you want]=>[ you want ]\n",
            "          [0, 24, 3, 12, 6, 24, 7, 22, 21, 1]=>[24, 3, 12, 6, 24, 7, 22, 21, 1, 24]\n",
            "[  2/180] [ you want ]=>[you want t]\n",
            "          [24, 3, 12, 6, 24, 7, 22, 21, 1, 24]=>[3, 12, 6, 24, 7, 22, 21, 1, 24, 1]\n",
            "[  3/180] [you want t]=>[ou want to]\n",
            "          [3, 12, 6, 24, 7, 22, 21, 1, 24, 1]=>[12, 6, 24, 7, 22, 21, 1, 24, 1, 12]\n",
            "[  4/180] [ou want to]=>[u want to ]\n",
            "          [12, 6, 24, 7, 22, 21, 1, 24, 1, 12]=>[6, 24, 7, 22, 21, 1, 24, 1, 12, 24]\n",
            "\n",
            "\n",
            "<class 'list'>\n",
            "dataX[0] = [17, 0, 24, 3, 12, 6, 24, 7, 22, 21]\n",
            "dataX[1] = [0, 24, 3, 12, 6, 24, 7, 22, 21, 1]\n",
            "dataX[168] = [24, 12, 0, 24, 1, 2, 19, 24, 5, 19]\n",
            "dataX[169] = [12, 0, 24, 1, 2, 19, 24, 5, 19, 22]\n",
            "\n",
            "\n",
            "<class 'list'>\n",
            "dataY[0] = [0, 24, 3, 12, 6, 24, 7, 22, 21, 1]\n",
            "dataY[1] = [24, 3, 12, 6, 24, 7, 22, 21, 1, 24]\n",
            "dataY[168] = [12, 0, 24, 1, 2, 19, 24, 5, 19, 22]\n",
            "dataY[169] = [0, 24, 1, 2, 19, 24, 5, 19, 22, 13]\n"
          ],
          "name": "stdout"
        }
      ]
    },
    {
      "cell_type": "markdown",
      "metadata": {
        "id": "zuH86Z3aunS2",
        "colab_type": "text"
      },
      "source": [
        "### 학습용 시퀀스 데이타 리쉐이프(reshape) - 1"
      ]
    },
    {
      "cell_type": "code",
      "metadata": {
        "id": "YKAQaiTmkKpV",
        "colab_type": "code",
        "outputId": "698f0cba-e665-4287-c5be-1035514943e0",
        "colab": {
          "base_uri": "https://localhost:8080/",
          "height": 85
        }
      },
      "source": [
        "# separate into input and output\n",
        "dataX = np.array(dataX)\n",
        "print (dataX.shape) # (170, 10)\n",
        "\n",
        "dataY = np.array(dataY)\n",
        "print (dataY.shape) # (170, 10) \n",
        "\n",
        "X = dataX[:,:]      \n",
        "print (X.shape) # (170, 10)\n",
        "\n",
        "y = dataY[:,-1]\n",
        "print (y.shape) # (170,)"
      ],
      "execution_count": 26,
      "outputs": [
        {
          "output_type": "stream",
          "text": [
            "(170, 10)\n",
            "(170, 10)\n",
            "(170, 10)\n",
            "(170,)\n"
          ],
          "name": "stdout"
        }
      ]
    },
    {
      "cell_type": "markdown",
      "metadata": {
        "id": "SRhlAd5bIk1Q",
        "colab_type": "text"
      },
      "source": [
        "### 학습용 시퀀스 데이타 리쉐이프(reshape) - 2"
      ]
    },
    {
      "cell_type": "code",
      "metadata": {
        "id": "-Cf4jGvsnXcB",
        "colab_type": "code",
        "outputId": "c771e3b5-5eee-41f0-c80c-68266a2c742c",
        "colab": {
          "base_uri": "https://localhost:8080/",
          "height": 136
        }
      },
      "source": [
        "sequences = [to_categorical(x, num_classes = data_dim) for x in X]\n",
        "print (sequences[0].shape)   # (10,25)\n",
        "print (sequences[169].shape) # (10,25)\n",
        "\n",
        "X = np.array(sequences)\n",
        "print (X.shape) # (170, 10, 25)\n",
        "\n",
        "print (y.shape) # (170,)\n",
        "y = to_categorical(y, num_classes = data_dim)\n",
        "print (y.shape) # (170, 25)\n",
        "print (y[0])"
      ],
      "execution_count": 9,
      "outputs": [
        {
          "output_type": "stream",
          "text": [
            "(10, 25)\n",
            "(10, 25)\n",
            "(170, 10, 25)\n",
            "(170,)\n",
            "(170, 25)\n",
            "[0. 1. 0. 0. 0. 0. 0. 0. 0. 0. 0. 0. 0. 0. 0. 0. 0. 0. 0. 0. 0. 0. 0. 0.\n",
            " 0.]\n"
          ],
          "name": "stdout"
        }
      ]
    },
    {
      "cell_type": "markdown",
      "metadata": {
        "id": "QNL1l0NPUcFY",
        "colab_type": "text"
      },
      "source": [
        "### 모델 설계"
      ]
    },
    {
      "cell_type": "code",
      "metadata": {
        "id": "JBbBnd8D_or3",
        "colab_type": "code",
        "outputId": "0f06dcdf-6d85-45b1-af20-c29d3247a4ca",
        "colab": {
          "base_uri": "https://localhost:8080/",
          "height": 238
        }
      },
      "source": [
        "# define model\n",
        "model = Sequential()\n",
        "model.add(LSTM(75, input_shape=(sequence_length, num_classes)))\n",
        "model.add(Dense(data_dim, activation='softmax'))\n",
        "print(model.summary())"
      ],
      "execution_count": 10,
      "outputs": [
        {
          "output_type": "stream",
          "text": [
            "Model: \"sequential\"\n",
            "_________________________________________________________________\n",
            "Layer (type)                 Output Shape              Param #   \n",
            "=================================================================\n",
            "lstm (LSTM)                  (None, 75)                30300     \n",
            "_________________________________________________________________\n",
            "dense (Dense)                (None, 25)                1900      \n",
            "=================================================================\n",
            "Total params: 32,200\n",
            "Trainable params: 32,200\n",
            "Non-trainable params: 0\n",
            "_________________________________________________________________\n",
            "None\n"
          ],
          "name": "stdout"
        }
      ]
    },
    {
      "cell_type": "markdown",
      "metadata": {
        "id": "LhKxEOqiqZww",
        "colab_type": "text"
      },
      "source": [
        "### 학습 셋업 및 학습"
      ]
    },
    {
      "cell_type": "code",
      "metadata": {
        "id": "kRpQUjbA6Fxr",
        "colab_type": "code",
        "outputId": "fc31486d-b130-44d8-c9ae-c68769bd2402",
        "colab": {
          "base_uri": "https://localhost:8080/",
          "height": 1000
        }
      },
      "source": [
        "# compile model\n",
        "model.compile(loss='categorical_crossentropy', optimizer='adam', metrics=['accuracy'])\n",
        "# fit model\n",
        "print (X.shape) # (170, 10, 25)\n",
        "print (y.shape) # (170, 25)\n",
        "model.fit(X, y, epochs=120, verbose=2)"
      ],
      "execution_count": 11,
      "outputs": [
        {
          "output_type": "stream",
          "text": [
            "(170, 10, 25)\n",
            "(170, 25)\n",
            "Train on 170 samples\n",
            "Epoch 1/120\n",
            "170/170 - 5s - loss: 3.2182 - accuracy: 0.0412\n",
            "Epoch 2/120\n",
            "170/170 - 0s - loss: 3.1836 - accuracy: 0.1882\n",
            "Epoch 3/120\n",
            "170/170 - 0s - loss: 3.1455 - accuracy: 0.1941\n",
            "Epoch 4/120\n",
            "170/170 - 0s - loss: 3.0913 - accuracy: 0.1882\n",
            "Epoch 5/120\n",
            "170/170 - 0s - loss: 2.9984 - accuracy: 0.1882\n",
            "Epoch 6/120\n",
            "170/170 - 0s - loss: 2.8648 - accuracy: 0.1882\n",
            "Epoch 7/120\n",
            "170/170 - 0s - loss: 2.8551 - accuracy: 0.1882\n",
            "Epoch 8/120\n",
            "170/170 - 0s - loss: 2.8229 - accuracy: 0.1882\n",
            "Epoch 9/120\n",
            "170/170 - 0s - loss: 2.8102 - accuracy: 0.1882\n",
            "Epoch 10/120\n",
            "170/170 - 0s - loss: 2.7965 - accuracy: 0.1882\n",
            "Epoch 11/120\n",
            "170/170 - 0s - loss: 2.7882 - accuracy: 0.1882\n",
            "Epoch 12/120\n",
            "170/170 - 0s - loss: 2.7775 - accuracy: 0.1882\n",
            "Epoch 13/120\n",
            "170/170 - 0s - loss: 2.7693 - accuracy: 0.1882\n",
            "Epoch 14/120\n",
            "170/170 - 0s - loss: 2.7574 - accuracy: 0.1882\n",
            "Epoch 15/120\n",
            "170/170 - 0s - loss: 2.7466 - accuracy: 0.1882\n",
            "Epoch 16/120\n",
            "170/170 - 0s - loss: 2.7280 - accuracy: 0.1882\n",
            "Epoch 17/120\n",
            "170/170 - 0s - loss: 2.7139 - accuracy: 0.1882\n",
            "Epoch 18/120\n",
            "170/170 - 0s - loss: 2.7018 - accuracy: 0.1882\n",
            "Epoch 19/120\n",
            "170/170 - 0s - loss: 2.6812 - accuracy: 0.1824\n",
            "Epoch 20/120\n",
            "170/170 - 0s - loss: 2.6618 - accuracy: 0.1824\n",
            "Epoch 21/120\n",
            "170/170 - 0s - loss: 2.6421 - accuracy: 0.1941\n",
            "Epoch 22/120\n",
            "170/170 - 0s - loss: 2.6199 - accuracy: 0.1941\n",
            "Epoch 23/120\n",
            "170/170 - 0s - loss: 2.5860 - accuracy: 0.2000\n",
            "Epoch 24/120\n",
            "170/170 - 0s - loss: 2.5485 - accuracy: 0.2059\n",
            "Epoch 25/120\n",
            "170/170 - 0s - loss: 2.5337 - accuracy: 0.2176\n",
            "Epoch 26/120\n",
            "170/170 - 0s - loss: 2.4968 - accuracy: 0.2471\n",
            "Epoch 27/120\n",
            "170/170 - 0s - loss: 2.4664 - accuracy: 0.2235\n",
            "Epoch 28/120\n",
            "170/170 - 0s - loss: 2.4434 - accuracy: 0.2353\n",
            "Epoch 29/120\n",
            "170/170 - 0s - loss: 2.4320 - accuracy: 0.2824\n",
            "Epoch 30/120\n",
            "170/170 - 0s - loss: 2.4042 - accuracy: 0.2647\n",
            "Epoch 31/120\n",
            "170/170 - 0s - loss: 2.3789 - accuracy: 0.2647\n",
            "Epoch 32/120\n",
            "170/170 - 0s - loss: 2.3373 - accuracy: 0.2765\n",
            "Epoch 33/120\n",
            "170/170 - 0s - loss: 2.3084 - accuracy: 0.3353\n",
            "Epoch 34/120\n",
            "170/170 - 0s - loss: 2.2729 - accuracy: 0.3000\n",
            "Epoch 35/120\n",
            "170/170 - 0s - loss: 2.2617 - accuracy: 0.2882\n",
            "Epoch 36/120\n",
            "170/170 - 0s - loss: 2.2378 - accuracy: 0.3412\n",
            "Epoch 37/120\n",
            "170/170 - 0s - loss: 2.1945 - accuracy: 0.3294\n",
            "Epoch 38/120\n",
            "170/170 - 0s - loss: 2.2120 - accuracy: 0.3118\n",
            "Epoch 39/120\n",
            "170/170 - 0s - loss: 2.1877 - accuracy: 0.3235\n",
            "Epoch 40/120\n",
            "170/170 - 0s - loss: 2.1189 - accuracy: 0.3471\n",
            "Epoch 41/120\n",
            "170/170 - 0s - loss: 2.0971 - accuracy: 0.4059\n",
            "Epoch 42/120\n",
            "170/170 - 0s - loss: 2.0689 - accuracy: 0.3706\n",
            "Epoch 43/120\n",
            "170/170 - 0s - loss: 2.0389 - accuracy: 0.3941\n",
            "Epoch 44/120\n",
            "170/170 - 0s - loss: 2.0126 - accuracy: 0.4059\n",
            "Epoch 45/120\n",
            "170/170 - 0s - loss: 1.9764 - accuracy: 0.4000\n",
            "Epoch 46/120\n",
            "170/170 - 0s - loss: 1.9520 - accuracy: 0.4412\n",
            "Epoch 47/120\n",
            "170/170 - 0s - loss: 1.9205 - accuracy: 0.4647\n",
            "Epoch 48/120\n",
            "170/170 - 0s - loss: 1.8927 - accuracy: 0.4824\n",
            "Epoch 49/120\n",
            "170/170 - 0s - loss: 1.8775 - accuracy: 0.4235\n",
            "Epoch 50/120\n",
            "170/170 - 0s - loss: 1.8411 - accuracy: 0.4647\n",
            "Epoch 51/120\n",
            "170/170 - 0s - loss: 1.8002 - accuracy: 0.4824\n",
            "Epoch 52/120\n",
            "170/170 - 0s - loss: 1.7848 - accuracy: 0.4706\n",
            "Epoch 53/120\n",
            "170/170 - 0s - loss: 1.7600 - accuracy: 0.4941\n",
            "Epoch 54/120\n",
            "170/170 - 0s - loss: 1.7410 - accuracy: 0.5353\n",
            "Epoch 55/120\n",
            "170/170 - 0s - loss: 1.7100 - accuracy: 0.5000\n",
            "Epoch 56/120\n",
            "170/170 - 0s - loss: 1.6734 - accuracy: 0.5176\n",
            "Epoch 57/120\n",
            "170/170 - 0s - loss: 1.6622 - accuracy: 0.5176\n",
            "Epoch 58/120\n",
            "170/170 - 0s - loss: 1.6290 - accuracy: 0.5353\n",
            "Epoch 59/120\n",
            "170/170 - 0s - loss: 1.6017 - accuracy: 0.5588\n",
            "Epoch 60/120\n",
            "170/170 - 0s - loss: 1.5555 - accuracy: 0.5706\n",
            "Epoch 61/120\n",
            "170/170 - 0s - loss: 1.5329 - accuracy: 0.5647\n",
            "Epoch 62/120\n",
            "170/170 - 0s - loss: 1.5147 - accuracy: 0.5882\n",
            "Epoch 63/120\n",
            "170/170 - 0s - loss: 1.4900 - accuracy: 0.5941\n",
            "Epoch 64/120\n",
            "170/170 - 0s - loss: 1.4424 - accuracy: 0.6412\n",
            "Epoch 65/120\n",
            "170/170 - 0s - loss: 1.4361 - accuracy: 0.6294\n",
            "Epoch 66/120\n",
            "170/170 - 0s - loss: 1.3811 - accuracy: 0.6412\n",
            "Epoch 67/120\n",
            "170/170 - 0s - loss: 1.3661 - accuracy: 0.6471\n",
            "Epoch 68/120\n",
            "170/170 - 0s - loss: 1.3365 - accuracy: 0.6412\n",
            "Epoch 69/120\n",
            "170/170 - 0s - loss: 1.3061 - accuracy: 0.6647\n",
            "Epoch 70/120\n",
            "170/170 - 0s - loss: 1.2773 - accuracy: 0.6471\n",
            "Epoch 71/120\n",
            "170/170 - 0s - loss: 1.2473 - accuracy: 0.6765\n",
            "Epoch 72/120\n",
            "170/170 - 0s - loss: 1.2241 - accuracy: 0.6765\n",
            "Epoch 73/120\n",
            "170/170 - 0s - loss: 1.2004 - accuracy: 0.6941\n",
            "Epoch 74/120\n",
            "170/170 - 0s - loss: 1.1563 - accuracy: 0.7059\n",
            "Epoch 75/120\n",
            "170/170 - 0s - loss: 1.1388 - accuracy: 0.7059\n",
            "Epoch 76/120\n",
            "170/170 - 0s - loss: 1.0948 - accuracy: 0.7235\n",
            "Epoch 77/120\n",
            "170/170 - 0s - loss: 1.0702 - accuracy: 0.7471\n",
            "Epoch 78/120\n",
            "170/170 - 0s - loss: 1.0634 - accuracy: 0.7471\n",
            "Epoch 79/120\n",
            "170/170 - 0s - loss: 1.0252 - accuracy: 0.7471\n",
            "Epoch 80/120\n",
            "170/170 - 0s - loss: 0.9879 - accuracy: 0.7588\n",
            "Epoch 81/120\n",
            "170/170 - 0s - loss: 0.9701 - accuracy: 0.7471\n",
            "Epoch 82/120\n",
            "170/170 - 0s - loss: 0.9688 - accuracy: 0.7824\n",
            "Epoch 83/120\n",
            "170/170 - 0s - loss: 0.9601 - accuracy: 0.7824\n",
            "Epoch 84/120\n",
            "170/170 - 0s - loss: 0.9110 - accuracy: 0.7941\n",
            "Epoch 85/120\n",
            "170/170 - 0s - loss: 0.8721 - accuracy: 0.8706\n",
            "Epoch 86/120\n",
            "170/170 - 0s - loss: 0.8477 - accuracy: 0.8059\n",
            "Epoch 87/120\n",
            "170/170 - 0s - loss: 0.8308 - accuracy: 0.8412\n",
            "Epoch 88/120\n",
            "170/170 - 0s - loss: 0.8122 - accuracy: 0.8471\n",
            "Epoch 89/120\n",
            "170/170 - 0s - loss: 0.7906 - accuracy: 0.8647\n",
            "Epoch 90/120\n",
            "170/170 - 0s - loss: 0.7863 - accuracy: 0.8353\n",
            "Epoch 91/120\n",
            "170/170 - 0s - loss: 0.7405 - accuracy: 0.8588\n",
            "Epoch 92/120\n",
            "170/170 - 0s - loss: 0.7361 - accuracy: 0.8588\n",
            "Epoch 93/120\n",
            "170/170 - 0s - loss: 0.7094 - accuracy: 0.8882\n",
            "Epoch 94/120\n",
            "170/170 - 0s - loss: 0.6964 - accuracy: 0.8824\n",
            "Epoch 95/120\n",
            "170/170 - 0s - loss: 0.6735 - accuracy: 0.8765\n",
            "Epoch 96/120\n",
            "170/170 - 0s - loss: 0.6366 - accuracy: 0.8941\n",
            "Epoch 97/120\n",
            "170/170 - 0s - loss: 0.6241 - accuracy: 0.9176\n",
            "Epoch 98/120\n",
            "170/170 - 0s - loss: 0.6032 - accuracy: 0.9235\n",
            "Epoch 99/120\n",
            "170/170 - 0s - loss: 0.5846 - accuracy: 0.9294\n",
            "Epoch 100/120\n",
            "170/170 - 0s - loss: 0.5648 - accuracy: 0.9294\n",
            "Epoch 101/120\n",
            "170/170 - 0s - loss: 0.5499 - accuracy: 0.9353\n",
            "Epoch 102/120\n",
            "170/170 - 0s - loss: 0.5211 - accuracy: 0.9412\n",
            "Epoch 103/120\n",
            "170/170 - 0s - loss: 0.5044 - accuracy: 0.9471\n",
            "Epoch 104/120\n",
            "170/170 - 0s - loss: 0.5024 - accuracy: 0.9529\n",
            "Epoch 105/120\n",
            "170/170 - 0s - loss: 0.5012 - accuracy: 0.9647\n",
            "Epoch 106/120\n",
            "170/170 - 0s - loss: 0.4759 - accuracy: 0.9647\n",
            "Epoch 107/120\n",
            "170/170 - 0s - loss: 0.4559 - accuracy: 0.9706\n",
            "Epoch 108/120\n",
            "170/170 - 0s - loss: 0.4477 - accuracy: 0.9706\n",
            "Epoch 109/120\n",
            "170/170 - 0s - loss: 0.4303 - accuracy: 0.9765\n",
            "Epoch 110/120\n",
            "170/170 - 0s - loss: 0.4237 - accuracy: 0.9765\n",
            "Epoch 111/120\n",
            "170/170 - 0s - loss: 0.4034 - accuracy: 0.9824\n",
            "Epoch 112/120\n",
            "170/170 - 0s - loss: 0.3899 - accuracy: 0.9824\n",
            "Epoch 113/120\n",
            "170/170 - 0s - loss: 0.3811 - accuracy: 0.9765\n",
            "Epoch 114/120\n",
            "170/170 - 0s - loss: 0.3622 - accuracy: 0.9824\n",
            "Epoch 115/120\n",
            "170/170 - 0s - loss: 0.3512 - accuracy: 0.9882\n",
            "Epoch 116/120\n",
            "170/170 - 0s - loss: 0.3407 - accuracy: 0.9882\n",
            "Epoch 117/120\n",
            "170/170 - 0s - loss: 0.3325 - accuracy: 0.9824\n",
            "Epoch 118/120\n",
            "170/170 - 0s - loss: 0.3212 - accuracy: 0.9882\n",
            "Epoch 119/120\n",
            "170/170 - 0s - loss: 0.3161 - accuracy: 0.9882\n",
            "Epoch 120/120\n",
            "170/170 - 0s - loss: 0.3054 - accuracy: 0.9882\n"
          ],
          "name": "stdout"
        },
        {
          "output_type": "execute_result",
          "data": {
            "text/plain": [
              "<tensorflow.python.keras.callbacks.History at 0x7f9f10040f60>"
            ]
          },
          "metadata": {
            "tags": []
          },
          "execution_count": 11
        }
      ]
    },
    {
      "cell_type": "markdown",
      "metadata": {
        "id": "BaKSSadfUcFn",
        "colab_type": "text"
      },
      "source": [
        "## 학습후 텍스트 생성 함수 만들기"
      ]
    },
    {
      "cell_type": "code",
      "metadata": {
        "id": "hpJwcYpjBskV",
        "colab_type": "code",
        "colab": {}
      },
      "source": [
        "from pickle import load\n",
        "from tensorflow.keras.models import load_model\n",
        "from tensorflow.keras.utils import to_categorical\n",
        "from tensorflow.keras.preprocessing.sequence import pad_sequences"
      ],
      "execution_count": 0,
      "outputs": []
    },
    {
      "cell_type": "code",
      "metadata": {
        "id": "kteDW8QSosc_",
        "colab_type": "code",
        "colab": {}
      },
      "source": [
        "# 텍스트 생성 함수\n",
        "def generate_seq(model, mapping, seq_length, seed_text, n_chars):\n",
        "\tin_text = seed_text\n",
        "\t# generate a fixed number of characters\n",
        "\tfor _ in range(n_chars):\n",
        "\t\t# encode the characters as integers\n",
        "\t\tencoded = [mapping[char] for char in in_text]\n",
        "\t\t# truncate sequences to a fixed length\n",
        "\t\tencoded = pad_sequences([encoded], maxlen=seq_length, truncating='pre')\n",
        "\t\t# one hot encode\n",
        "\t\tencoded = to_categorical(encoded, num_classes=len(mapping))\n",
        "\t\t#encoded = encoded.reshape(1, encoded.shape[0], encoded.shape[1])\n",
        "\t\t# predict character\n",
        "\t\tyhat = model.predict_classes(encoded, verbose=0)\n",
        "\t\t# reverse map integer to character\n",
        "\t\tout_char = ''\n",
        "\t\tfor char, index in mapping.items():\n",
        "\t\t\tif index == yhat:\n",
        "\t\t\t\tout_char = char\n",
        "\t\t\t\tbreak\n",
        "\t\t# append to input\n",
        "\t\tin_text += char\n",
        "\treturn in_text"
      ],
      "execution_count": 0,
      "outputs": []
    },
    {
      "cell_type": "markdown",
      "metadata": {
        "id": "CPY3_wgzw8d5",
        "colab_type": "text"
      },
      "source": [
        "학습 Sentence : \n",
        "\n",
        "if you want to build a ship, don't drum up people together to collect wood and don't assign them tasks and work, but rather teach them to long for the endless immensity of the sea.\n",
        "Length of 'test sentence' is 180"
      ]
    },
    {
      "cell_type": "code",
      "metadata": {
        "id": "_jDgwGD3sG1i",
        "colab_type": "code",
        "outputId": "91505183-b79d-4996-9d92-b3059ab7993e",
        "colab": {
          "base_uri": "https://localhost:8080/",
          "height": 68
        }
      },
      "source": [
        "# 테스트 트리거 1\n",
        "print(generate_seq(model, mapping, 10, 'want to bu', 20))\n",
        "# 테스트 트리거 2\n",
        "print(generate_seq(model, mapping, 10, 'collect wo', 20))\n",
        "# 원문에 없는 트리거\n",
        "print(generate_seq(model, mapping, 10, 'rather tea', 20))"
      ],
      "execution_count": 28,
      "outputs": [
        {
          "output_type": "stream",
          "text": [
            "want to buuld a a tpp dhwo n t\n",
            "collect wood and don't assign \n",
            "rather teach them to long for \n"
          ],
          "name": "stdout"
        }
      ]
    },
    {
      "cell_type": "code",
      "metadata": {
        "id": "ymtvpLj8wrfX",
        "colab_type": "code",
        "colab": {}
      },
      "source": [
        ""
      ],
      "execution_count": 0,
      "outputs": []
    }
  ]
}