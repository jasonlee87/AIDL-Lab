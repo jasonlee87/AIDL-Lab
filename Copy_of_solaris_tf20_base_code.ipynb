{
  "nbformat": 4,
  "nbformat_minor": 0,
  "metadata": {
    "colab": {
      "name": "Copy of solaris-tf20-base-code.ipynb",
      "provenance": [],
      "include_colab_link": true
    },
    "kernelspec": {
      "name": "python3",
      "display_name": "Python 3"
    }
  },
  "cells": [
    {
      "cell_type": "markdown",
      "metadata": {
        "id": "view-in-github",
        "colab_type": "text"
      },
      "source": [
        "<a href=\"https://colab.research.google.com/github/jasonlee87/AIDL-Lab/blob/master/Copy_of_solaris_tf20_base_code.ipynb\" target=\"_parent\"><img src=\"https://colab.research.google.com/assets/colab-badge.svg\" alt=\"Open In Colab\"/></a>"
      ]
    },
    {
      "cell_type": "markdown",
      "metadata": {
        "id": "zQG4pJAPzIsk",
        "colab_type": "text"
      },
      "source": [
        "2.1 Install check"
      ]
    },
    {
      "cell_type": "code",
      "metadata": {
        "id": "8ATaROWXzVPB",
        "colab_type": "code",
        "outputId": "d35ce9c6-b8f3-425b-be5c-382c65f6e4e0",
        "colab": {
          "base_uri": "https://localhost:8080/",
          "height": 35
        }
      },
      "source": [
        "%tensorflow_version 2.x"
      ],
      "execution_count": 0,
      "outputs": [
        {
          "output_type": "stream",
          "text": [
            "TensorFlow 2.x selected.\n"
          ],
          "name": "stdout"
        }
      ]
    },
    {
      "cell_type": "code",
      "metadata": {
        "id": "re6mbX--wtVe",
        "colab_type": "code",
        "outputId": "62477644-42af-478f-d788-00acfd5ea307",
        "colab": {
          "base_uri": "https://localhost:8080/",
          "height": 54
        }
      },
      "source": [
        "# -*- coding: utf-8 -*-\n",
        "# 텐서플로우 설치 체크 - 텐서플로우가 제대로 설치되었는지 체크해봅시다.\n",
        "\n",
        "import tensorflow as tf\n",
        "\n",
        "hello = tf.constant('Hello, TensorFlow!')\n",
        "print(hello.numpy())\n",
        "#'Hello, TensorFlow!'\n",
        "\n",
        "a = tf.constant(10)\n",
        "b = tf.constant(32)\n",
        "print((a + b).numpy())\n",
        "#42"
      ],
      "execution_count": 0,
      "outputs": [
        {
          "output_type": "stream",
          "text": [
            "b'Hello, TensorFlow!'\n",
            "42\n"
          ],
          "name": "stdout"
        }
      ]
    },
    {
      "cell_type": "markdown",
      "metadata": {
        "id": "IxqinhqizgK_",
        "colab_type": "text"
      },
      "source": [
        "3.1 Graph example"
      ]
    },
    {
      "cell_type": "code",
      "metadata": {
        "id": "xZHm1DejzNn-",
        "colab_type": "code",
        "outputId": "6a247693-bcaf-4ac0-de4e-e6c648a62f2c",
        "colab": {
          "base_uri": "https://localhost:8080/",
          "height": 90
        }
      },
      "source": [
        "# -*- coding: utf-8 -*-\n",
        "\n",
        "import tensorflow as tf\n",
        "\n",
        "# 그래프 노드를 정의하고 출력합니다.\n",
        "# 출력값 : <tf.Tensor: id=0, shape=(), dtype=float32, numpy=3.0>, <tf.Tensor: id=1, shape=(), dtype=float32, numpy=4.0>\n",
        "node1 = tf.constant(3.0, dtype=tf.float32)\n",
        "node2 = tf.constant(4.0) # 암시적으로 tf.float32 타입으로 선언될 것입니다.\n",
        "print(node1, node2)\n",
        "\n",
        "# 그래프를 실행합니다.\n",
        "# 출력값 : [3.0, 4.0]\n",
        "print(node1.numpy(), node2.numpy())\n",
        "\n",
        "# 두개의 노드의 값을 더하는 연산을 수행하는 node3을 정의합니다.\n",
        "# 출력값:\n",
        "# node3: <tf.Tensor: id=2, shape=(), dtype=float32, numpy=7.0>\n",
        "# node3.numpy(): 7.0\n",
        "node3 = tf.add(node1, node2)\n",
        "print(\"node3:\", node3)\n",
        "print(\"node3.numpy():\", node3.numpy())"
      ],
      "execution_count": 0,
      "outputs": [
        {
          "output_type": "stream",
          "text": [
            "tf.Tensor(3.0, shape=(), dtype=float32) tf.Tensor(4.0, shape=(), dtype=float32)\n",
            "3.0 4.0\n",
            "node3: tf.Tensor(7.0, shape=(), dtype=float32)\n",
            "node3.numpy(): 7.0\n"
          ],
          "name": "stdout"
        }
      ]
    },
    {
      "cell_type": "markdown",
      "metadata": {
        "id": "aac8bY9kzpaY",
        "colab_type": "text"
      },
      "source": [
        "3.2 Placeholder"
      ]
    },
    {
      "cell_type": "code",
      "metadata": {
        "id": "lmbN9DO7znGh",
        "colab_type": "code",
        "outputId": "273f068c-8152-4606-fe39-7561d04c10fb",
        "colab": {
          "base_uri": "https://localhost:8080/",
          "height": 72
        }
      },
      "source": [
        "# -*- coding: utf-8 -*-\n",
        "\n",
        "import tensorflow as tf\n",
        "import numpy as np\n",
        "\n",
        "# 2개의 값을 더하는 function을 정의합니다.\n",
        "@tf.function\n",
        "def add_two_values(x, y):\n",
        "  return x + y\n",
        "\n",
        "# 세션을 열고 그래프를 실행합니다.\n",
        "# 출력값 :\n",
        "# 7.5\n",
        "# [ 3.  7.]\n",
        "print(add_two_values(3, 4.5).numpy())\n",
        "print(add_two_values(np.array([1, 3]), np.array([2, 4])).numpy())\n",
        "\n",
        "# 노드를 추가해서 더 복잡한 그래프 형태를 만들어봅시다.\n",
        "@tf.function\n",
        "def add_two_values_and_multiply_three(x, y):\n",
        "  return 3 * add_two_values(x, y)\n",
        "\n",
        "# 출력값 : 22.5\n",
        "print(add_two_values_and_multiply_three(3, 4.5).numpy())"
      ],
      "execution_count": 0,
      "outputs": [
        {
          "output_type": "stream",
          "text": [
            "7.5\n",
            "[3 7]\n",
            "22.5\n"
          ],
          "name": "stdout"
        }
      ]
    },
    {
      "cell_type": "code",
      "metadata": {
        "id": "EwiYLpgmzxFw",
        "colab_type": "code",
        "colab": {}
      },
      "source": [
        ""
      ],
      "execution_count": 0,
      "outputs": []
    },
    {
      "cell_type": "markdown",
      "metadata": {
        "id": "Avpt95sUz14X",
        "colab_type": "text"
      },
      "source": [
        "3.3 Linear regression @tf2.0"
      ]
    },
    {
      "cell_type": "code",
      "metadata": {
        "id": "P1tqInAKz3F2",
        "colab_type": "code",
        "outputId": "1f57e77d-c6f1-4bb2-dc5c-7c2a08d7d8ac",
        "colab": {
          "base_uri": "https://localhost:8080/",
          "height": 35
        }
      },
      "source": [
        "# -*- coding: utf-8 -*-\n",
        "\n",
        "import tensorflow as tf\n",
        "\n",
        "# 선형회귀 모델(Wx + b)을 위한 tf.Variable을 선언합니다.\n",
        "W = tf.Variable(tf.random.normal(shape=[1]))\n",
        "b = tf.Variable(tf.random.normal(shape=[1]))\n",
        "\n",
        "@tf.function\n",
        "def linear_model(x):\n",
        "  return W*x + b\n",
        "\n",
        "# 손실 함수를 정의합니다.\n",
        "# MSE 손실함수 \\mean{(y' - y)^2}\n",
        "@tf.function\n",
        "def mse_loss(y_pred, y):\n",
        "  return tf.reduce_mean(tf.square(y_pred - y))\n",
        "\n",
        "# 최적화를 위한 그라디언트 디센트 옵티마이저를 정의합니다.\n",
        "optimizer = tf.optimizers.SGD(0.01)\n",
        "\n",
        "# 최적화를 위한 function을 정의합니다.\n",
        "@tf.function\n",
        "def train_step(x, y):\n",
        "  with tf.GradientTape() as tape:\n",
        "    y_pred = linear_model(x)\n",
        "    loss = mse_loss(y_pred, y)\n",
        "  gradients = tape.gradient(loss, [W, b])\n",
        "  optimizer.apply_gradients(zip(gradients, [W, b]))\n",
        "\n",
        "# 트레이닝을 위한 입력값과 출력값을 준비합니다.\n",
        "x_train = [1, 2, 3, 4]\n",
        "y_train = [2, 4, 6, 8]\n",
        "\n",
        "# 경사하강법을 1000번 수행합니다.\n",
        "for i in range(1000):\n",
        "  train_step(x_train, y_train)\n",
        "\n",
        "# 테스트를 위한 입력값을 준비합니다.\n",
        "x_test = [3.5, 5, 5.5, 6]\n",
        "# 테스트 데이터를 이용해 학습된 선형회귀 모델이 데이터의 경향성(y=2x)을 잘 학습했는지 측정합니다.\n",
        "# 예상되는 참값 : [7, 10, 11, 12]\n",
        "print(linear_model(x_test).numpy())"
      ],
      "execution_count": 0,
      "outputs": [
        {
          "output_type": "stream",
          "text": [
            "[ 7.0002875 10.001058  11.001314  12.001572 ]\n"
          ],
          "name": "stdout"
        }
      ]
    },
    {
      "cell_type": "markdown",
      "metadata": {
        "id": "xqOzSVLw0KdK",
        "colab_type": "text"
      },
      "source": [
        "3.4 Linear regression with tensorboard @tf2.0"
      ]
    },
    {
      "cell_type": "code",
      "metadata": {
        "id": "0zhw3k8-0DcC",
        "colab_type": "code",
        "outputId": "7f7eec63-2a21-4768-df67-9ec628ef63ef",
        "colab": {
          "base_uri": "https://localhost:8080/",
          "height": 110
        }
      },
      "source": [
        "# -*- coding: utf-8 -*-\n",
        "\n",
        "import tensorflow as tf\n",
        "\n",
        "# 선형회귀 모델(Wx + b)을 위한 tf.Variable을 선언합니다.\n",
        "W = tf.Variable(tf.random.normal(shape=[1]))\n",
        "b = tf.Variable(tf.random.normal(shape=[1]))\n",
        "\n",
        "@tf.function\n",
        "def linear_model(x):\n",
        "  return W*x + b\n",
        "\n",
        "# 손실 함수를 정의합니다.\n",
        "# MSE 손실함수 \\mean{(y' - y)^2}\n",
        "@tf.function\n",
        "def mse_loss(y_pred, y):\n",
        "  return tf.reduce_mean(tf.square(y_pred - y))\n",
        "\n",
        "# 최적화를 위한 그라디언트 디센트 옵티마이저를 정의합니다.\n",
        "optimizer = tf.optimizers.SGD(0.01)\n",
        "\n",
        "# 텐서보드 summary 정보들을 저장할 폴더 경로를 설정합니다.\n",
        "summary_writer = tf.summary.create_file_writer('./tensorboard_log')\n",
        "\n",
        "# 최적화를 위한 function을 정의합니다.\n",
        "@tf.function\n",
        "def train_step(x, y):\n",
        "  with tf.GradientTape() as tape:\n",
        "    y_pred = linear_model(x)\n",
        "    loss = mse_loss(y_pred, y)\n",
        "    with summary_writer.as_default():\n",
        "      tf.summary.scalar('loss', loss, step=optimizer.iterations)\n",
        "  gradients = tape.gradient(loss, [W, b])\n",
        "  optimizer.apply_gradients(zip(gradients, [W, b]))\n",
        "\n",
        "# 트레이닝을 위한 입력값과 출력값을 준비합니다.\n",
        "x_train = [1, 2, 3, 4]\n",
        "y_train = [2, 4, 6, 8]\n",
        "\n",
        "# 경사하강법을 1000번 수행합니다.\n",
        "for i in range(1000):\n",
        "  train_step(x_train, y_train)\n",
        "\n",
        "# 테스트를 위한 입력값을 준비합니다.\n",
        "x_test = [3.5, 5, 5.5, 6]\n",
        "# 테스트 데이터를 이용해 학습된 선형회귀 모델이 데이터의 경향성(y=2x)을 잘 학습했는지 측정합니다.\n",
        "# 예상되는 참값 : [7, 10, 11, 12]\n",
        "print(linear_model(x_test).numpy())"
      ],
      "execution_count": 0,
      "outputs": [
        {
          "output_type": "stream",
          "text": [
            "WARNING:tensorflow:From /tensorflow-2.0.0/python3.6/tensorflow_core/python/ops/resource_variable_ops.py:1781: calling BaseResourceVariable.__init__ (from tensorflow.python.ops.resource_variable_ops) with constraint is deprecated and will be removed in a future version.\n",
            "Instructions for updating:\n",
            "If using Keras pass *_constraint arguments to layers.\n",
            "[ 6.9964533  9.986951  10.983783  11.980616 ]\n"
          ],
          "name": "stdout"
        }
      ]
    },
    {
      "cell_type": "code",
      "metadata": {
        "id": "dWFwrxlk0WTB",
        "colab_type": "code",
        "colab": {}
      },
      "source": [
        ""
      ],
      "execution_count": 0,
      "outputs": []
    },
    {
      "cell_type": "markdown",
      "metadata": {
        "id": "YRkbtk1D0czT",
        "colab_type": "text"
      },
      "source": [
        "4.1 MNIST classification using softmax regression @tf2.0"
      ]
    },
    {
      "cell_type": "code",
      "metadata": {
        "id": "N3aUX1Gl0kaq",
        "colab_type": "code",
        "outputId": "7f9a2e39-b568-4c12-f08a-b6304eefdc8d",
        "colab": {
          "base_uri": "https://localhost:8080/",
          "height": 92
        }
      },
      "source": [
        "# -*- coding: utf-8 -*-\n",
        "\n",
        "import tensorflow as tf\n",
        "\n",
        "# MNIST 데이터를 다운로드 합니다.\n",
        "(x_train, y_train), (x_test, y_test) = tf.keras.datasets.mnist.load_data()\n",
        "# 이미지들을 float32 데이터 타입으로 변경합니다.\n",
        "x_train, x_test = x_train.astype('float32'), x_test.astype('float32')\n",
        "# 28*28 형태의 이미지를 784차원으로 flattening 합니다.\n",
        "x_train, x_test = x_train.reshape([-1, 784]), x_test.reshape([-1, 784])\n",
        "# [0, 255] 사이의 값을 [0, 1]사이의 값으로 Normalize합니다.\n",
        "x_train, x_test = x_train / 255., x_test / 255.\n",
        "# 레이블 데이터에 one-hot encoding을 적용합니다.\n",
        "y_train, y_test = tf.one_hot(y_train, depth=10), tf.one_hot(y_test, depth=10)\n",
        "\n",
        "# tf.data API를 이용해서 데이터를 섞고 batch 형태로 가져옵니다.\n",
        "train_data = tf.data.Dataset.from_tensor_slices((x_train, y_train))\n",
        "train_data = train_data.repeat().shuffle(60000).batch(100)\n",
        "train_data_iter = iter(train_data)\n",
        "\n",
        "# Softmax Regression 모델을 위한 tf.Variable들을 정의합니다.\n",
        "W = tf.Variable(tf.zeros(shape=[784, 10]))\n",
        "b = tf.Variable(tf.zeros(shape=[10]))\n",
        "\n",
        "# Softmax Regression 모델을 정의합니다.\n",
        "@tf.function\n",
        "def softmax_regression(x):\n",
        "  logits = tf.matmul(x, W) + b\n",
        "  return tf.nn.softmax(logits)\n",
        "\n",
        "# cross-entropy 손실 함수를 정의합니다.\n",
        "@tf.function\n",
        "def cross_entropy_loss(y_pred, y):\n",
        "  return tf.reduce_mean(-tf.reduce_sum(y * tf.math.log(y_pred), axis=[1]))\n",
        "  #return tf.reduce_mean(tf.nn.softmax_cross_entropy_with_logits(logits=logtis, labels=y)) # tf.nn.softmax_cross_entropy_with_logits API를 이용한 구현\n",
        "\n",
        "# 모델의 정확도를 출력하는 함수를 정의합니다.\n",
        "@tf.function\n",
        "def compute_accuracy(y_pred, y):\n",
        "  correct_prediction = tf.equal(tf.argmax(y_pred,1), tf.argmax(y,1))\n",
        "  accuracy = tf.reduce_mean(tf.cast(correct_prediction, tf.float32))\n",
        "\n",
        "  return accuracy\n",
        "\n",
        "# 최적화를 위한 그라디언트 디센트 옵티마이저를 정의합니다.\n",
        "optimizer = tf.optimizers.SGD(0.5)\n",
        "\n",
        "# 최적화를 위한 function을 정의합니다.\n",
        "@tf.function\n",
        "def train_step(x, y):\n",
        "  with tf.GradientTape() as tape:\n",
        "    y_pred = softmax_regression(x)\n",
        "    loss = cross_entropy_loss(y_pred, y)\n",
        "  gradients = tape.gradient(loss, [W, b])\n",
        "  optimizer.apply_gradients(zip(gradients, [W, b]))\n",
        "\n",
        "# 1000번 반복을 수행하면서 최적화를 수행합니다.\n",
        "for i in range(1000):\n",
        "  batch_xs, batch_ys = next(train_data_iter)\n",
        "  train_step(batch_xs, batch_ys)\n",
        "\n",
        "# 학습이 끝나면 학습된 모델의 정확도를 출력합니다.\n",
        "print(\"정확도(Accuracy): %f\" % compute_accuracy(softmax_regression(x_test), y_test)) # 정확도 : 약 91%"
      ],
      "execution_count": 0,
      "outputs": [
        {
          "output_type": "stream",
          "text": [
            "Downloading data from https://storage.googleapis.com/tensorflow/tf-keras-datasets/mnist.npz\n",
            "11493376/11490434 [==============================] - 0s 0us/step\n",
            "정확도(Accuracy): 0.916400\n"
          ],
          "name": "stdout"
        }
      ]
    },
    {
      "cell_type": "code",
      "metadata": {
        "id": "udeJwJL50o3N",
        "colab_type": "code",
        "colab": {}
      },
      "source": [
        ""
      ],
      "execution_count": 0,
      "outputs": []
    },
    {
      "cell_type": "markdown",
      "metadata": {
        "id": "QiMwRIe90wRI",
        "colab_type": "text"
      },
      "source": [
        "4.2 tf_nn_sparse_softmax_cross_entropy_with_logits_example @tf2.0"
      ]
    },
    {
      "cell_type": "code",
      "metadata": {
        "id": "vh81GvAT01M0",
        "colab_type": "code",
        "outputId": "9fd7426a-fbf4-4cf3-f144-2dfe02e6ac87",
        "colab": {
          "base_uri": "https://localhost:8080/",
          "height": 35
        }
      },
      "source": [
        "# -*- coding: utf-8 -*-\n",
        "\n",
        "import tensorflow as tf\n",
        "\n",
        "# MNIST 데이터를 다운로드 합니다.\n",
        "(x_train, y_train), (x_test, y_test) = tf.keras.datasets.mnist.load_data()\n",
        "# 이미지들을 float32 데이터 타입으로 변경합니다.\n",
        "x_train, x_test = x_train.astype('float32'), x_test.astype('float32')\n",
        "# 레이블들을 int64 데이터 타입으로 변경합니다.\n",
        "y_train, y_test = y_train.astype('int64'), y_test.astype('int64')\n",
        "# 28*28 형태의 이미지를 784차원으로 flattening 합니다.\n",
        "x_train, x_test = x_train.reshape([-1, 784]), x_test.reshape([-1, 784])\n",
        "# [0, 255] 사이의 값을 [0, 1]사이의 값으로 Normalize합니다.\n",
        "x_train, x_test = x_train / 255., x_test / 255.\n",
        "\n",
        "# tf.data API를 이용해서 데이터를 섞고 batch 형태로 가져옵니다.\n",
        "train_data = tf.data.Dataset.from_tensor_slices((x_train, y_train))\n",
        "train_data = train_data.repeat().shuffle(60000).batch(100)\n",
        "train_data_iter = iter(train_data)\n",
        "\n",
        "# Softmax Regression 모델을 위한 tf.Variable들을 정의합니다.\n",
        "W = tf.Variable(tf.zeros(shape=[784, 10]))\n",
        "b = tf.Variable(tf.zeros(shape=[10]))\n",
        "\n",
        "# Softmax Regression 모델을 정의합니다.\n",
        "@tf.function\n",
        "def softmax_regression(x):\n",
        "  logits = tf.matmul(x, W) + b\n",
        "  return tf.nn.softmax(logits), logits\n",
        "\n",
        "# cross-entropy 손실 함수를 정의합니다.\n",
        "@tf.function\n",
        "def cross_entropy_loss(logits, y):\n",
        "  #return tf.reduce_mean(tf.nn.softmax_cross_entropy_with_logits(logits=logtis, labels=y)) # tf.nn.softmax_cross_entropy_with_logits API를 이용한 구\n",
        "  return tf.reduce_mean(tf.nn.sparse_softmax_cross_entropy_with_logits(logits=logits, labels=y)) # tf.nn.sparse_softmax_cross_entropy_with_logits API를 이용한 구현현\n",
        "\n",
        "# 모델의 정확도를 출력하는 함수를 정의합니다.\n",
        "@tf.function\n",
        "def compute_accuracy(y_pred, y):\n",
        "  correct_prediction = tf.equal(tf.argmax(y_pred,1), y)\n",
        "  accuracy = tf.reduce_mean(tf.cast(correct_prediction, tf.float32))\n",
        "\n",
        "  return accuracy\n",
        "\n",
        "# 최적화를 위한 그라디언트 디센트 옵티마이저를 정의합니다.\n",
        "optimizer = tf.optimizers.SGD(0.5)\n",
        "\n",
        "# 최적화를 위한 function을 정의합니다.\n",
        "@tf.function\n",
        "def train_step(x, y):\n",
        "  with tf.GradientTape() as tape:\n",
        "    y_pred, logits = softmax_regression(x)\n",
        "    loss = cross_entropy_loss(logits, y)\n",
        "  gradients = tape.gradient(loss, [W, b])\n",
        "  optimizer.apply_gradients(zip(gradients, [W, b]))\n",
        "\n",
        "# 1000번 반복을 수행하면서 최적화를 수행합니다.\n",
        "for i in range(1000):\n",
        "  batch_xs, batch_ys = next(train_data_iter)\n",
        "  train_step(batch_xs, batch_ys)\n",
        "\n",
        "# 학습이 끝나면 학습된 모델의 정확도를 출력합니다.\n",
        "print(\"정확도(Accuracy): %f\" % compute_accuracy(softmax_regression(x_test)[0], y_test)) # 정확도 : 약 91%"
      ],
      "execution_count": 0,
      "outputs": [
        {
          "output_type": "stream",
          "text": [
            "정확도(Accuracy): 0.916800\n"
          ],
          "name": "stdout"
        }
      ]
    },
    {
      "cell_type": "markdown",
      "metadata": {
        "id": "58DbzdJ0099S",
        "colab_type": "text"
      },
      "source": [
        "5.1 MNIST classification usiong ANN @tf2.0"
      ]
    },
    {
      "cell_type": "code",
      "metadata": {
        "id": "rCcBIYVO04Co",
        "colab_type": "code",
        "outputId": "3a62d831-dc42-429d-950a-dc6645d8208d",
        "colab": {
          "base_uri": "https://localhost:8080/",
          "height": 581
        }
      },
      "source": [
        "# -*- coding: utf-8 -*-\n",
        "# 텐서플로우를 이용한 ANN(Artificial Neural Networks) 구현\n",
        "\n",
        "import tensorflow as tf\n",
        "\n",
        "# MNIST 데이터를 다운로드 합니다.\n",
        "(x_train, y_train), (x_test, y_test) = tf.keras.datasets.mnist.load_data()\n",
        "# 이미지들을 float32 데이터 타입으로 변경합니다.\n",
        "x_train, x_test = x_train.astype('float32'), x_test.astype('float32')\n",
        "# 28*28 형태의 이미지를 784차원으로 flattening 합니다.\n",
        "x_train, x_test = x_train.reshape([-1, 784]), x_test.reshape([-1, 784])\n",
        "# [0, 255] 사이의 값을 [0, 1]사이의 값으로 Normalize합니다.\n",
        "x_train, x_test = x_train / 255., x_test / 255.\n",
        "# 레이블 데이터에 one-hot encoding을 적용합니다.\n",
        "y_train, y_test = tf.one_hot(y_train, depth=10), tf.one_hot(y_test, depth=10)\n",
        "\n",
        "# 학습을 위한 설정값들을 정의합니다.\n",
        "learning_rate = 0.001\n",
        "num_epochs = 30     # 학습횟수\n",
        "batch_size = 256    # 배치개수\n",
        "display_step = 1    # 손실함수 출력 주기\n",
        "input_size = 784    # 28 * 28\n",
        "hidden1_size = 256\n",
        "hidden2_size = 256\n",
        "output_size = 10\n",
        "\n",
        "# tf.data API를 이용해서 데이터를 섞고 batch 형태로 가져옵니다.\n",
        "train_data = tf.data.Dataset.from_tensor_slices((x_train, y_train))\n",
        "train_data = train_data.shuffle(60000).batch(batch_size)\n",
        "\n",
        "# ANN 모델을 정의합니다.\n",
        "class ANN(object):\n",
        "  # ANN 모델을 위한 tf.Variable들을 정의합니다.\n",
        "  def __init__(self):\n",
        "    self.W1 = tf.Variable(tf.random.normal(shape=[input_size, hidden1_size]))\n",
        "    self.b1 = tf.Variable(tf.random.normal(shape=[hidden1_size]))\n",
        "    self.W2 = tf.Variable(tf.random.normal(shape=[hidden1_size, hidden2_size]))\n",
        "    self.b2 = tf.Variable(tf.random.normal(shape=[hidden2_size]))\n",
        "    self.W_output = tf.Variable(tf.random.normal(shape=[hidden2_size, output_size]))\n",
        "    self.b_output = tf.Variable(tf.random.normal(shape=[output_size]))\n",
        "\n",
        "  def __call__(self, x):\n",
        "    H1_output = tf.nn.relu(tf.matmul(x, self.W1) + self.b1)\n",
        "    H2_output = tf.nn.relu(tf.matmul(H1_output, self.W2) + self.b2)\n",
        "    logits = tf.matmul(H2_output, self.W_output) + self.b_output\n",
        "\n",
        "    return logits\n",
        "\n",
        "# cross-entropy 손실 함수를 정의합니다.\n",
        "@tf.function\n",
        "def cross_entropy_loss(logits, y):\n",
        "  return tf.reduce_mean(tf.nn.softmax_cross_entropy_with_logits(logits=logits, labels=y))\n",
        "\n",
        "# 최적화를 위한 Adam 옵티마이저를 정의합니다.\n",
        "optimizer = tf.optimizers.Adam(learning_rate)\n",
        "\n",
        "# 최적화를 위한 function을 정의합니다.\n",
        "@tf.function\n",
        "def train_step(model, x, y):\n",
        "  with tf.GradientTape() as tape:\n",
        "    y_pred = model(x)\n",
        "    loss = cross_entropy_loss(y_pred, y)\n",
        "  gradients = tape.gradient(loss, vars(model).values())\n",
        "  optimizer.apply_gradients(zip(gradients, vars(model).values()))\n",
        "\n",
        "# 모델의 정확도를 출력하는 함수를 정의합니다.\n",
        "@tf.function\n",
        "def compute_accuracy(y_pred, y):\n",
        "  correct_prediction = tf.equal(tf.argmax(y_pred,1), tf.argmax(y,1))\n",
        "  accuracy = tf.reduce_mean(tf.cast(correct_prediction, tf.float32))\n",
        "\n",
        "  return accuracy\n",
        "\n",
        "# ANN 모델을 선언합니다.\n",
        "ANN_model = ANN()\n",
        "\n",
        "# 지정된 횟수만큼 최적화를 수행합니다.\n",
        "for epoch in range(num_epochs):\n",
        "  average_loss = 0.\n",
        "  total_batch = int(x_train.shape[0] / batch_size)\n",
        "  # 모든 배치들에 대해서 최적화를 수행합니다.\n",
        "  for batch_x, batch_y in train_data:\n",
        "    # 옵티마이저를 실행해서 파라마터들을 업데이트합니다.\n",
        "    _, current_loss = train_step(ANN_model, batch_x, batch_y), cross_entropy_loss(ANN_model(batch_x), batch_y)\n",
        "    # 평균 손실을 측정합니다.\n",
        "    average_loss += current_loss / total_batch\n",
        "  # 지정된 epoch마다 학습결과를 출력합니다.\n",
        "  if epoch % display_step == 0:\n",
        "    print(\"반복(Epoch): %d, 손실 함수(Loss): %f\" % ((epoch+1), average_loss))\n",
        "\n",
        "# 테스트 데이터를 이용해서 학습된 모델이 얼마나 정확한지 정확도를 출력합니다.\n",
        "print(\"정확도(Accuracy): %f\" % compute_accuracy(ANN_model(x_test), y_test)) # 정확도: 약 94%"
      ],
      "execution_count": 0,
      "outputs": [
        {
          "output_type": "stream",
          "text": [
            "반복(Epoch): 1, 손실 함수(Loss): 312.994080\n",
            "반복(Epoch): 2, 손실 함수(Loss): 65.030205\n",
            "반복(Epoch): 3, 손실 함수(Loss): 41.822811\n",
            "반복(Epoch): 4, 손실 함수(Loss): 30.622065\n",
            "반복(Epoch): 5, 손실 함수(Loss): 23.496592\n",
            "반복(Epoch): 6, 손실 함수(Loss): 18.703409\n",
            "반복(Epoch): 7, 손실 함수(Loss): 15.184997\n",
            "반복(Epoch): 8, 손실 함수(Loss): 12.452821\n",
            "반복(Epoch): 9, 손실 함수(Loss): 10.281927\n",
            "반복(Epoch): 10, 손실 함수(Loss): 8.480984\n",
            "반복(Epoch): 11, 손실 함수(Loss): 6.901198\n",
            "반복(Epoch): 12, 손실 함수(Loss): 5.684555\n",
            "반복(Epoch): 13, 손실 함수(Loss): 4.647721\n",
            "반복(Epoch): 14, 손실 함수(Loss): 3.825606\n",
            "반복(Epoch): 15, 손실 함수(Loss): 3.095915\n",
            "반복(Epoch): 16, 손실 함수(Loss): 2.493911\n",
            "반복(Epoch): 17, 손실 함수(Loss): 2.023993\n",
            "반복(Epoch): 18, 손실 함수(Loss): 1.567518\n",
            "반복(Epoch): 19, 손실 함수(Loss): 1.269541\n",
            "반복(Epoch): 20, 손실 함수(Loss): 0.997227\n",
            "반복(Epoch): 21, 손실 함수(Loss): 0.768236\n",
            "반복(Epoch): 22, 손실 함수(Loss): 0.556392\n",
            "반복(Epoch): 23, 손실 함수(Loss): 0.447514\n",
            "반복(Epoch): 24, 손실 함수(Loss): 0.322730\n",
            "반복(Epoch): 25, 손실 함수(Loss): 0.244426\n",
            "반복(Epoch): 26, 손실 함수(Loss): 0.179969\n",
            "반복(Epoch): 27, 손실 함수(Loss): 0.131907\n",
            "반복(Epoch): 28, 손실 함수(Loss): 0.152229\n",
            "반복(Epoch): 29, 손실 함수(Loss): 0.080268\n",
            "반복(Epoch): 30, 손실 함수(Loss): 0.079263\n",
            "정확도(Accuracy): 0.940700\n"
          ],
          "name": "stdout"
        }
      ]
    },
    {
      "cell_type": "code",
      "metadata": {
        "id": "VNIdOf_G1I0S",
        "colab_type": "code",
        "colab": {}
      },
      "source": [
        ""
      ],
      "execution_count": 0,
      "outputs": []
    }
  ]
}