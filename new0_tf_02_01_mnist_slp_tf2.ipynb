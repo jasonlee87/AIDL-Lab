{
  "nbformat": 4,
  "nbformat_minor": 0,
  "metadata": {
    "colab": {
      "name": "new0-tf_02_01_mnist_slp_tf2.ipynb",
      "provenance": [],
      "toc_visible": true,
      "include_colab_link": true
    },
    "kernelspec": {
      "name": "python3",
      "display_name": "Python 3"
    },
    "accelerator": "GPU"
  },
  "cells": [
    {
      "cell_type": "markdown",
      "metadata": {
        "id": "view-in-github",
        "colab_type": "text"
      },
      "source": [
        "<a href=\"https://colab.research.google.com/github/jasonlee87/AIDL-Lab/blob/master/new0_tf_02_01_mnist_slp_tf2.ipynb\" target=\"_parent\"><img src=\"https://colab.research.google.com/assets/colab-badge.svg\" alt=\"Open In Colab\"/></a>"
      ]
    },
    {
      "cell_type": "markdown",
      "metadata": {
        "id": "YUbrsmxWf04y",
        "colab_type": "text"
      },
      "source": [
        "# ***실습 2-1 :  tf.keras 모듈을 이용해 SLP(Single Layer Perceptron) 설계하기*** \n"
      ]
    },
    {
      "cell_type": "markdown",
      "metadata": {
        "id": "NiRRh004Veeq",
        "colab_type": "text"
      },
      "source": [
        "- *이미지 분류(Image Classification)를 위한 뉴럴 네트워크를 SLP로 설계한다*\n",
        "- *NN 모델을 훈련시킨다*\n",
        "- *NN 모델의 정확도를 검증한다*"
      ]
    },
    {
      "cell_type": "markdown",
      "metadata": {
        "id": "CfwO3tnWf_nY",
        "colab_type": "text"
      },
      "source": [
        "## ***Module Import***"
      ]
    },
    {
      "cell_type": "code",
      "metadata": {
        "id": "bC2OU4zcDdVC",
        "colab_type": "code",
        "outputId": "fe878ba4-573f-41ec-bb6d-9f805a9808ee",
        "colab": {
          "base_uri": "https://localhost:8080/",
          "height": 34
        }
      },
      "source": [
        "try:\n",
        "  # %tensorflow_version only exists in Colab.\n",
        "  %tensorflow_version 2.x\n",
        "except Exception:\n",
        "  pass"
      ],
      "execution_count": 1,
      "outputs": [
        {
          "output_type": "stream",
          "text": [
            "TensorFlow 2.x selected.\n"
          ],
          "name": "stdout"
        }
      ]
    },
    {
      "cell_type": "code",
      "metadata": {
        "id": "DZ4hSO9Cy0l7",
        "colab_type": "code",
        "outputId": "7d7255a4-5595-4ed3-c51f-88ddd4fe29b8",
        "colab": {
          "base_uri": "https://localhost:8080/",
          "height": 51
        }
      },
      "source": [
        "import tensorflow as tf\n",
        "from tensorflow import keras\n",
        "from tensorflow.keras.models import Sequential\n",
        "from tensorflow.keras.layers import Dense\n",
        "from tensorflow.keras.optimizers import SGD\n",
        "from tensorflow.keras.datasets import mnist\n",
        "import numpy as np\n",
        "import matplotlib.pyplot as plt\n",
        "\n",
        "print (tf.__version__)\n",
        "print (keras.__version__)"
      ],
      "execution_count": 18,
      "outputs": [
        {
          "output_type": "stream",
          "text": [
            "2.0.0\n",
            "2.2.4-tf\n"
          ],
          "name": "stdout"
        }
      ]
    },
    {
      "cell_type": "code",
      "metadata": {
        "id": "Ti76o9-8f91P",
        "colab_type": "code",
        "colab": {}
      },
      "source": [
        ""
      ],
      "execution_count": 0,
      "outputs": []
    },
    {
      "cell_type": "markdown",
      "metadata": {
        "id": "wOiaPQ3xgJQC",
        "colab_type": "text"
      },
      "source": [
        "## ***DataSet***"
      ]
    },
    {
      "cell_type": "markdown",
      "metadata": {
        "id": "U8yh3kv1gR8r",
        "colab_type": "text"
      },
      "source": [
        "### *Load*"
      ]
    },
    {
      "cell_type": "code",
      "metadata": {
        "colab_type": "code",
        "id": "7FP5258xjs-v",
        "colab": {
          "base_uri": "https://localhost:8080/",
          "height": 71
        },
        "outputId": "a545dd65-1dac-4fcc-a7c9-993af8825355"
      },
      "source": [
        "(x_train, y_train), (x_test, y_test) = mnist.load_data()\n",
        "x_train, x_test = x_train / 255.0, x_test / 255.0"
      ],
      "execution_count": 3,
      "outputs": [
        {
          "output_type": "stream",
          "text": [
            "Downloading data from https://storage.googleapis.com/tensorflow/tf-keras-datasets/mnist.npz\n",
            "11493376/11490434 [==============================] - 0s 0us/step\n"
          ],
          "name": "stdout"
        }
      ]
    },
    {
      "cell_type": "code",
      "metadata": {
        "id": "h16ge_8ukQgD",
        "colab_type": "code",
        "colab": {}
      },
      "source": [
        ""
      ],
      "execution_count": 0,
      "outputs": []
    },
    {
      "cell_type": "markdown",
      "metadata": {
        "id": "O0oDy0CggOEm",
        "colab_type": "text"
      },
      "source": [
        "### *Preview*"
      ]
    },
    {
      "cell_type": "code",
      "metadata": {
        "id": "p0gD96iQbpFp",
        "colab_type": "code",
        "outputId": "915ed57a-406f-44fa-f512-e2e979b8dbe4",
        "colab": {
          "base_uri": "https://localhost:8080/",
          "height": 160
        }
      },
      "source": [
        "plt.figure(figsize=(12, 2))\n",
        "for i in range(36):\n",
        "    plt.subplot(3, 12, i+1)\n",
        "    plt.imshow(x_train[i], cmap=\"gray\")\n",
        "    plt.axis(\"off\")\n",
        "plt.show()"
      ],
      "execution_count": 4,
      "outputs": [
        {
          "output_type": "display_data",
          "data": {
            "image/png": "[encoded data removed]",
            "text/plain": [
              "<Figure size 864x144 with 36 Axes>"
            ]
          },
          "metadata": {
            "tags": []
          }
        }
      ]
    },
    {
      "cell_type": "markdown",
      "metadata": {
        "id": "EY3zfzjlgbYj",
        "colab_type": "text"
      },
      "source": [
        "## ***Model***"
      ]
    },
    {
      "cell_type": "markdown",
      "metadata": {
        "id": "PUqUyRtngdUC",
        "colab_type": "text"
      },
      "source": [
        "### *Define*"
      ]
    },
    {
      "cell_type": "code",
      "metadata": {
        "colab_type": "code",
        "id": "wwrqskp8ZRA2",
        "colab": {}
      },
      "source": [
        "model = tf.keras.models.Sequential([\n",
        "  tf.keras.layers.Flatten(input_shape=(28, 28)),\n",
        "  tf.keras.layers.Dense(10, activation='softmax')\n",
        "])"
      ],
      "execution_count": 0,
      "outputs": []
    },
    {
      "cell_type": "code",
      "metadata": {
        "id": "MDiJ4ze_gj0j",
        "colab_type": "code",
        "colab": {}
      },
      "source": [
        ""
      ],
      "execution_count": 0,
      "outputs": []
    },
    {
      "cell_type": "markdown",
      "metadata": {
        "id": "aACwVs7QgmLq",
        "colab_type": "text"
      },
      "source": [
        "### *Compile*"
      ]
    },
    {
      "cell_type": "code",
      "metadata": {
        "id": "hP7ohoahKZ-K",
        "colab_type": "code",
        "outputId": "7bdcd2b5-a9cc-4014-f3b1-a781e5ce80af",
        "colab": {
          "base_uri": "https://localhost:8080/",
          "height": 221
        }
      },
      "source": [
        "model.compile(optimizer='adam',\n",
        "              loss='sparse_categorical_crossentropy',\n",
        "              metrics=['accuracy'])\n",
        "\n",
        "model.summary()"
      ],
      "execution_count": 6,
      "outputs": [
        {
          "output_type": "stream",
          "text": [
            "Model: \"sequential\"\n",
            "_________________________________________________________________\n",
            "Layer (type)                 Output Shape              Param #   \n",
            "=================================================================\n",
            "flatten (Flatten)            (None, 784)               0         \n",
            "_________________________________________________________________\n",
            "dense (Dense)                (None, 10)                7850      \n",
            "=================================================================\n",
            "Total params: 7,850\n",
            "Trainable params: 7,850\n",
            "Non-trainable params: 0\n",
            "_________________________________________________________________\n"
          ],
          "name": "stdout"
        }
      ]
    },
    {
      "cell_type": "code",
      "metadata": {
        "id": "sf3xDhGoBITb",
        "colab_type": "code",
        "outputId": "9ba86d1b-45fb-4e99-de83-6013666bcb83",
        "colab": {
          "base_uri": "https://localhost:8080/",
          "height": 312
        }
      },
      "source": [
        "tf.keras.utils.plot_model(model, 'my_slp_model.png', show_shapes=True)"
      ],
      "execution_count": 7,
      "outputs": [
        {
          "output_type": "execute_result",
          "data": {
            "image/png": "[encoded data removed]",
            "text/plain": [
              "<IPython.core.display.Image object>"
            ]
          },
          "metadata": {
            "tags": []
          },
          "execution_count": 7
        }
      ]
    },
    {
      "cell_type": "markdown",
      "metadata": {
        "id": "n9BG8hNUgo0n",
        "colab_type": "text"
      },
      "source": [
        "### *Fit*"
      ]
    },
    {
      "cell_type": "markdown",
      "metadata": {
        "id": "7KbIreYLd6gj",
        "colab_type": "text"
      },
      "source": [
        "Epoch 400/400\n",
        "60000/60000 [==============================] - 0s 4us/sample - loss: 0.2135 - accuracy: 0.9410\n",
        "CPU times: user 2min 21s, sys: 7.46 s, total: 2min 29s\n",
        "\n",
        "Wall time: 1min 47s  (@Notebook Setting/GPU)"
      ]
    },
    {
      "cell_type": "code",
      "metadata": {
        "id": "Qh7qgt0_9Tz4",
        "colab_type": "code",
        "outputId": "4b8c90ae-8439-4462-aca0-a526f1c8fb76",
        "colab": {
          "base_uri": "https://localhost:8080/",
          "height": 71
        }
      },
      "source": [
        "l1 = model.layers[0]\n",
        "l2 = model.layers[1]\n",
        "\n",
        "print(l1.name, type(l1), l1.output_shape, l1.count_params())\n",
        "print(l2.name, type(l1), l2.output_shape, l2.activation.__name__, l2.count_params())"
      ],
      "execution_count": 8,
      "outputs": [
        {
          "output_type": "stream",
          "text": [
            "flatten <class 'tensorflow.python.keras.layers.core.Flatten'> (None, 784) 0\n",
            "dense <class 'tensorflow.python.keras.layers.core.Flatten'> (None, 10) softmax 7850\n"
          ],
          "name": "stdout"
        }
      ]
    },
    {
      "cell_type": "code",
      "metadata": {
        "id": "-_idMKYwKVqX",
        "colab_type": "code",
        "outputId": "12e366a4-8b4c-4555-c975-46e54909e48d",
        "colab": {
          "base_uri": "https://localhost:8080/",
          "height": 1000
        }
      },
      "source": [
        "%%time\n",
        "hist = model.fit(x_train, y_train, batch_size=1000, epochs=100)"
      ],
      "execution_count": 9,
      "outputs": [
        {
          "output_type": "stream",
          "text": [
            "Train on 60000 samples\n",
            "Epoch 1/100\n",
            "60000/60000 [==============================] - 2s 35us/sample - loss: 1.4884 - accuracy: 0.6226\n",
            "Epoch 2/100\n",
            "60000/60000 [==============================] - 0s 5us/sample - loss: 0.7494 - accuracy: 0.8372\n",
            "Epoch 3/100\n",
            "60000/60000 [==============================] - 0s 5us/sample - loss: 0.5702 - accuracy: 0.8657\n",
            "Epoch 4/100\n",
            "60000/60000 [==============================] - 0s 5us/sample - loss: 0.4891 - accuracy: 0.8794\n",
            "Epoch 5/100\n",
            "60000/60000 [==============================] - 0s 5us/sample - loss: 0.4413 - accuracy: 0.8874\n",
            "Epoch 6/100\n",
            "60000/60000 [==============================] - 0s 4us/sample - loss: 0.4094 - accuracy: 0.8936\n",
            "Epoch 7/100\n",
            "60000/60000 [==============================] - 0s 5us/sample - loss: 0.3868 - accuracy: 0.8979\n",
            "Epoch 8/100\n",
            "60000/60000 [==============================] - 0s 5us/sample - loss: 0.3693 - accuracy: 0.9018\n",
            "Epoch 9/100\n",
            "60000/60000 [==============================] - 0s 5us/sample - loss: 0.3555 - accuracy: 0.9048\n",
            "Epoch 10/100\n",
            "60000/60000 [==============================] - 0s 4us/sample - loss: 0.3445 - accuracy: 0.9074\n",
            "Epoch 11/100\n",
            "60000/60000 [==============================] - 0s 5us/sample - loss: 0.3351 - accuracy: 0.9096\n",
            "Epoch 12/100\n",
            "60000/60000 [==============================] - 0s 5us/sample - loss: 0.3275 - accuracy: 0.9107\n",
            "Epoch 13/100\n",
            "60000/60000 [==============================] - 0s 5us/sample - loss: 0.3207 - accuracy: 0.9129\n",
            "Epoch 14/100\n",
            "60000/60000 [==============================] - 0s 5us/sample - loss: 0.3148 - accuracy: 0.9136\n",
            "Epoch 15/100\n",
            "60000/60000 [==============================] - 0s 5us/sample - loss: 0.3096 - accuracy: 0.9153\n",
            "Epoch 16/100\n",
            "60000/60000 [==============================] - 0s 5us/sample - loss: 0.3051 - accuracy: 0.9167\n",
            "Epoch 17/100\n",
            "60000/60000 [==============================] - 0s 5us/sample - loss: 0.3012 - accuracy: 0.9176\n",
            "Epoch 18/100\n",
            "60000/60000 [==============================] - 0s 5us/sample - loss: 0.2974 - accuracy: 0.9182\n",
            "Epoch 19/100\n",
            "60000/60000 [==============================] - 0s 5us/sample - loss: 0.2940 - accuracy: 0.9193\n",
            "Epoch 20/100\n",
            "60000/60000 [==============================] - 0s 5us/sample - loss: 0.2911 - accuracy: 0.9197\n",
            "Epoch 21/100\n",
            "60000/60000 [==============================] - 0s 5us/sample - loss: 0.2883 - accuracy: 0.9205\n",
            "Epoch 22/100\n",
            "60000/60000 [==============================] - 0s 5us/sample - loss: 0.2859 - accuracy: 0.9211\n",
            "Epoch 23/100\n",
            "60000/60000 [==============================] - 0s 5us/sample - loss: 0.2833 - accuracy: 0.9221\n",
            "Epoch 24/100\n",
            "60000/60000 [==============================] - 0s 5us/sample - loss: 0.2812 - accuracy: 0.9226\n",
            "Epoch 25/100\n",
            "60000/60000 [==============================] - 0s 5us/sample - loss: 0.2792 - accuracy: 0.9230\n",
            "Epoch 26/100\n",
            "60000/60000 [==============================] - 0s 5us/sample - loss: 0.2773 - accuracy: 0.9235\n",
            "Epoch 27/100\n",
            "60000/60000 [==============================] - 0s 5us/sample - loss: 0.2753 - accuracy: 0.9240\n",
            "Epoch 28/100\n",
            "60000/60000 [==============================] - 0s 5us/sample - loss: 0.2738 - accuracy: 0.9247\n",
            "Epoch 29/100\n",
            "60000/60000 [==============================] - 0s 5us/sample - loss: 0.2721 - accuracy: 0.9247\n",
            "Epoch 30/100\n",
            "60000/60000 [==============================] - 0s 5us/sample - loss: 0.2708 - accuracy: 0.9248\n",
            "Epoch 31/100\n",
            "60000/60000 [==============================] - 0s 5us/sample - loss: 0.2695 - accuracy: 0.9255\n",
            "Epoch 32/100\n",
            "60000/60000 [==============================] - 0s 5us/sample - loss: 0.2682 - accuracy: 0.9259\n",
            "Epoch 33/100\n",
            "60000/60000 [==============================] - 0s 5us/sample - loss: 0.2668 - accuracy: 0.9263\n",
            "Epoch 34/100\n",
            "60000/60000 [==============================] - 0s 5us/sample - loss: 0.2657 - accuracy: 0.9265\n",
            "Epoch 35/100\n",
            "60000/60000 [==============================] - 0s 5us/sample - loss: 0.2644 - accuracy: 0.9269\n",
            "Epoch 36/100\n",
            "60000/60000 [==============================] - 0s 5us/sample - loss: 0.2635 - accuracy: 0.9269\n",
            "Epoch 37/100\n",
            "60000/60000 [==============================] - 0s 5us/sample - loss: 0.2622 - accuracy: 0.9273\n",
            "Epoch 38/100\n",
            "60000/60000 [==============================] - 0s 5us/sample - loss: 0.2613 - accuracy: 0.9275\n",
            "Epoch 39/100\n",
            "60000/60000 [==============================] - 0s 5us/sample - loss: 0.2606 - accuracy: 0.9274\n",
            "Epoch 40/100\n",
            "60000/60000 [==============================] - 0s 5us/sample - loss: 0.2595 - accuracy: 0.9281\n",
            "Epoch 41/100\n",
            "60000/60000 [==============================] - 0s 5us/sample - loss: 0.2585 - accuracy: 0.9283\n",
            "Epoch 42/100\n",
            "60000/60000 [==============================] - 0s 5us/sample - loss: 0.2577 - accuracy: 0.9287\n",
            "Epoch 43/100\n",
            "60000/60000 [==============================] - 0s 5us/sample - loss: 0.2570 - accuracy: 0.9287\n",
            "Epoch 44/100\n",
            "60000/60000 [==============================] - 0s 5us/sample - loss: 0.2562 - accuracy: 0.9292\n",
            "Epoch 45/100\n",
            "60000/60000 [==============================] - 0s 5us/sample - loss: 0.2554 - accuracy: 0.9293\n",
            "Epoch 46/100\n",
            "60000/60000 [==============================] - 0s 5us/sample - loss: 0.2547 - accuracy: 0.9293\n",
            "Epoch 47/100\n",
            "60000/60000 [==============================] - 0s 5us/sample - loss: 0.2541 - accuracy: 0.9297\n",
            "Epoch 48/100\n",
            "60000/60000 [==============================] - 0s 5us/sample - loss: 0.2535 - accuracy: 0.9298\n",
            "Epoch 49/100\n",
            "60000/60000 [==============================] - 0s 5us/sample - loss: 0.2530 - accuracy: 0.9304\n",
            "Epoch 50/100\n",
            "60000/60000 [==============================] - 0s 5us/sample - loss: 0.2523 - accuracy: 0.9303\n",
            "Epoch 51/100\n",
            "60000/60000 [==============================] - 0s 5us/sample - loss: 0.2516 - accuracy: 0.9307\n",
            "Epoch 52/100\n",
            "60000/60000 [==============================] - 0s 5us/sample - loss: 0.2510 - accuracy: 0.9307\n",
            "Epoch 53/100\n",
            "60000/60000 [==============================] - 0s 5us/sample - loss: 0.2506 - accuracy: 0.9309\n",
            "Epoch 54/100\n",
            "60000/60000 [==============================] - 0s 5us/sample - loss: 0.2499 - accuracy: 0.9312\n",
            "Epoch 55/100\n",
            "60000/60000 [==============================] - 0s 5us/sample - loss: 0.2492 - accuracy: 0.9312\n",
            "Epoch 56/100\n",
            "60000/60000 [==============================] - 0s 5us/sample - loss: 0.2491 - accuracy: 0.9313\n",
            "Epoch 57/100\n",
            "60000/60000 [==============================] - 0s 5us/sample - loss: 0.2483 - accuracy: 0.9313\n",
            "Epoch 58/100\n",
            "60000/60000 [==============================] - 0s 5us/sample - loss: 0.2478 - accuracy: 0.9316\n",
            "Epoch 59/100\n",
            "60000/60000 [==============================] - 0s 5us/sample - loss: 0.2475 - accuracy: 0.9316\n",
            "Epoch 60/100\n",
            "60000/60000 [==============================] - 0s 5us/sample - loss: 0.2470 - accuracy: 0.9316\n",
            "Epoch 61/100\n",
            "60000/60000 [==============================] - 0s 5us/sample - loss: 0.2464 - accuracy: 0.9321\n",
            "Epoch 62/100\n",
            "60000/60000 [==============================] - 0s 5us/sample - loss: 0.2462 - accuracy: 0.9320\n",
            "Epoch 63/100\n",
            "60000/60000 [==============================] - 0s 5us/sample - loss: 0.2457 - accuracy: 0.9324\n",
            "Epoch 64/100\n",
            "60000/60000 [==============================] - 0s 5us/sample - loss: 0.2452 - accuracy: 0.9323\n",
            "Epoch 65/100\n",
            "60000/60000 [==============================] - 0s 5us/sample - loss: 0.2449 - accuracy: 0.9326\n",
            "Epoch 66/100\n",
            "60000/60000 [==============================] - 0s 5us/sample - loss: 0.2446 - accuracy: 0.9324\n",
            "Epoch 67/100\n",
            "60000/60000 [==============================] - 0s 5us/sample - loss: 0.2441 - accuracy: 0.9327\n",
            "Epoch 68/100\n",
            "60000/60000 [==============================] - 0s 5us/sample - loss: 0.2438 - accuracy: 0.9329\n",
            "Epoch 69/100\n",
            "60000/60000 [==============================] - 0s 5us/sample - loss: 0.2432 - accuracy: 0.9329\n",
            "Epoch 70/100\n",
            "60000/60000 [==============================] - 0s 5us/sample - loss: 0.2428 - accuracy: 0.9333\n",
            "Epoch 71/100\n",
            "60000/60000 [==============================] - 0s 5us/sample - loss: 0.2428 - accuracy: 0.9333\n",
            "Epoch 72/100\n",
            "60000/60000 [==============================] - 0s 5us/sample - loss: 0.2425 - accuracy: 0.9331\n",
            "Epoch 73/100\n",
            "60000/60000 [==============================] - 0s 5us/sample - loss: 0.2421 - accuracy: 0.9333\n",
            "Epoch 74/100\n",
            "60000/60000 [==============================] - 0s 5us/sample - loss: 0.2418 - accuracy: 0.9335\n",
            "Epoch 75/100\n",
            "60000/60000 [==============================] - 0s 5us/sample - loss: 0.2413 - accuracy: 0.9338\n",
            "Epoch 76/100\n",
            "60000/60000 [==============================] - 0s 5us/sample - loss: 0.2415 - accuracy: 0.9343\n",
            "Epoch 77/100\n",
            "60000/60000 [==============================] - 0s 5us/sample - loss: 0.2407 - accuracy: 0.9338\n",
            "Epoch 78/100\n",
            "60000/60000 [==============================] - 0s 5us/sample - loss: 0.2404 - accuracy: 0.9339\n",
            "Epoch 79/100\n",
            "60000/60000 [==============================] - 0s 5us/sample - loss: 0.2403 - accuracy: 0.9342\n",
            "Epoch 80/100\n",
            "60000/60000 [==============================] - 0s 5us/sample - loss: 0.2399 - accuracy: 0.9339\n",
            "Epoch 81/100\n",
            "60000/60000 [==============================] - 0s 4us/sample - loss: 0.2396 - accuracy: 0.9347\n",
            "Epoch 82/100\n",
            "60000/60000 [==============================] - 0s 5us/sample - loss: 0.2398 - accuracy: 0.9340\n",
            "Epoch 83/100\n",
            "60000/60000 [==============================] - 0s 5us/sample - loss: 0.2391 - accuracy: 0.9346\n",
            "Epoch 84/100\n",
            "60000/60000 [==============================] - 0s 5us/sample - loss: 0.2388 - accuracy: 0.9346\n",
            "Epoch 85/100\n",
            "60000/60000 [==============================] - 0s 5us/sample - loss: 0.2386 - accuracy: 0.9345\n",
            "Epoch 86/100\n",
            "60000/60000 [==============================] - 0s 5us/sample - loss: 0.2383 - accuracy: 0.9349\n",
            "Epoch 87/100\n",
            "60000/60000 [==============================] - 0s 5us/sample - loss: 0.2382 - accuracy: 0.9350\n",
            "Epoch 88/100\n",
            "60000/60000 [==============================] - 0s 4us/sample - loss: 0.2379 - accuracy: 0.9353\n",
            "Epoch 89/100\n",
            "60000/60000 [==============================] - 0s 5us/sample - loss: 0.2376 - accuracy: 0.9350\n",
            "Epoch 90/100\n",
            "60000/60000 [==============================] - 0s 5us/sample - loss: 0.2374 - accuracy: 0.9350\n",
            "Epoch 91/100\n",
            "60000/60000 [==============================] - 0s 5us/sample - loss: 0.2375 - accuracy: 0.9352\n",
            "Epoch 92/100\n",
            "60000/60000 [==============================] - 0s 5us/sample - loss: 0.2369 - accuracy: 0.9356\n",
            "Epoch 93/100\n",
            "60000/60000 [==============================] - 0s 5us/sample - loss: 0.2366 - accuracy: 0.9353\n",
            "Epoch 94/100\n",
            "60000/60000 [==============================] - 0s 5us/sample - loss: 0.2367 - accuracy: 0.9354\n",
            "Epoch 95/100\n",
            "60000/60000 [==============================] - 0s 4us/sample - loss: 0.2361 - accuracy: 0.9352\n",
            "Epoch 96/100\n",
            "60000/60000 [==============================] - 0s 5us/sample - loss: 0.2361 - accuracy: 0.9355\n",
            "Epoch 97/100\n",
            "60000/60000 [==============================] - 0s 5us/sample - loss: 0.2359 - accuracy: 0.9357\n",
            "Epoch 98/100\n",
            "60000/60000 [==============================] - 0s 5us/sample - loss: 0.2357 - accuracy: 0.9357\n",
            "Epoch 99/100\n",
            "60000/60000 [==============================] - 0s 5us/sample - loss: 0.2354 - accuracy: 0.9356\n",
            "Epoch 100/100\n",
            "60000/60000 [==============================] - 0s 5us/sample - loss: 0.2355 - accuracy: 0.9354\n",
            "CPU times: user 37.7 s, sys: 2.34 s, total: 40.1 s\n",
            "Wall time: 31.1 s\n"
          ],
          "name": "stdout"
        }
      ]
    },
    {
      "cell_type": "markdown",
      "metadata": {
        "id": "m4kAr8XNg2nc",
        "colab_type": "text"
      },
      "source": [
        "### *Evaluate*"
      ]
    },
    {
      "cell_type": "code",
      "metadata": {
        "id": "33QHvlOLeSik",
        "colab_type": "code",
        "outputId": "9293bee2-b84d-410d-ea9f-7d6d1b3b4da2",
        "colab": {
          "base_uri": "https://localhost:8080/",
          "height": 34
        }
      },
      "source": [
        "model.evaluate(x_test,  y_test, verbose=0)"
      ],
      "execution_count": 10,
      "outputs": [
        {
          "output_type": "execute_result",
          "data": {
            "text/plain": [
              "[0.26240049744844435, 0.9275]"
            ]
          },
          "metadata": {
            "tags": []
          },
          "execution_count": 10
        }
      ]
    },
    {
      "cell_type": "markdown",
      "metadata": {
        "id": "v7Bf90ATg98K",
        "colab_type": "text"
      },
      "source": [
        "## ***Analysis***"
      ]
    },
    {
      "cell_type": "markdown",
      "metadata": {
        "id": "VcGTERphhBNs",
        "colab_type": "text"
      },
      "source": [
        "### *Plot*"
      ]
    },
    {
      "cell_type": "code",
      "metadata": {
        "id": "CjMu2fQKLD_N",
        "colab_type": "code",
        "outputId": "cd96f4b0-fcf4-4f42-f31a-48147b465ab5",
        "colab": {
          "base_uri": "https://localhost:8080/",
          "height": 424
        }
      },
      "source": [
        "history_dict = hist.history\n",
        "history_dict.keys()\n",
        "\n",
        "loss = history_dict['loss']\n",
        "epochs = range(1, len(loss)+1)\n",
        "\n",
        "plt.figure(figsize=(10, 6))\n",
        "plt.subplot(2, 1, 1)\n",
        "plt.title('Accuray')\n",
        "plt.plot(epochs, hist.history['accuracy'], 'b', label='accuracy')\n",
        "plt.grid(True)\n",
        "#plt.xlabel('Epoch')\n",
        "plt.ylabel('Accuracy')\n",
        "plt.ylim([0.6, 1])\n",
        "plt.legend(loc='best')\n",
        "\n",
        "plt.subplot(2, 1, 2)\n",
        "plt.title('Loss')\n",
        "plt.plot(epochs, hist.history['loss'], 'r', label='loss')\n",
        "plt.grid(True)\n",
        "plt.xlabel('Epoch')\n",
        "plt.ylabel('loss')\n",
        "plt.ylim([0.0, 0.6])\n",
        "plt.legend(loc='best')\n",
        "plt.show()\n"
      ],
      "execution_count": 11,
      "outputs": [
        {
          "output_type": "display_data",
          "data": {
            "image/png": "[encoded data removed]",
            "text/plain": [
              "<Figure size 720x432 with 2 Axes>"
            ]
          },
          "metadata": {
            "tags": []
          }
        }
      ]
    },
    {
      "cell_type": "markdown",
      "metadata": {
        "colab_type": "text",
        "id": "JyGjpP3qCEsN"
      },
      "source": [
        "### *Prediction*"
      ]
    },
    {
      "cell_type": "code",
      "metadata": {
        "id": "8NildFhh_bXu",
        "colab_type": "code",
        "outputId": "9eb869fd-ea8c-4d52-af76-0c8c5aacdf2e",
        "colab": {
          "base_uri": "https://localhost:8080/",
          "height": 51
        }
      },
      "source": [
        "# 테스트셋 첫 이미지 예측정보\n",
        "print (model.predict(x_test[:1, :]))"
      ],
      "execution_count": 12,
      "outputs": [
        {
          "output_type": "stream",
          "text": [
            "[[2.5696477e-06 1.9071919e-12 7.1330041e-06 4.7451281e-03 2.1014286e-07\n",
            "  2.8417364e-05 8.6406979e-11 9.9493223e-01 1.3601735e-05 2.7064228e-04]]\n"
          ],
          "name": "stdout"
        }
      ]
    },
    {
      "cell_type": "code",
      "metadata": {
        "id": "IMPbCcht_hSW",
        "colab_type": "code",
        "outputId": "002278bb-afb3-4521-872b-db30f437b4cb",
        "colab": {
          "base_uri": "https://localhost:8080/",
          "height": 34
        }
      },
      "source": [
        "# 데스트셋 첫 이미지 분류\n",
        "print (model.predict_classes(x_test[:1, :], verbose=0))"
      ],
      "execution_count": 13,
      "outputs": [
        {
          "output_type": "stream",
          "text": [
            "[7]\n"
          ],
          "name": "stdout"
        }
      ]
    },
    {
      "cell_type": "code",
      "metadata": {
        "id": "6BZYppIV_lem",
        "colab_type": "code",
        "outputId": "fb64b72c-2b07-4605-af52-bec8900e48d9",
        "colab": {
          "base_uri": "https://localhost:8080/",
          "height": 85
        }
      },
      "source": [
        "plt.figure(figsize=(1, 1))\n",
        "plt.imshow(x_test[0], cmap='gray')\n",
        "plt.grid(False)\n",
        "plt.axis(\"off\")\n",
        "plt.show()"
      ],
      "execution_count": 14,
      "outputs": [
        {
          "output_type": "display_data",
          "data": {
            "image/png": "[encoded data removed]",
            "text/plain": [
              "<Figure size 72x72 with 1 Axes>"
            ]
          },
          "metadata": {
            "tags": []
          }
        }
      ]
    },
    {
      "cell_type": "markdown",
      "metadata": {
        "colab_type": "text",
        "id": "tI4ULJYDNkbQ"
      },
      "source": [
        "## ***File***"
      ]
    },
    {
      "cell_type": "markdown",
      "metadata": {
        "colab_type": "text",
        "id": "0DoMx92wJtVQ"
      },
      "source": [
        "### *Save model*"
      ]
    },
    {
      "cell_type": "code",
      "metadata": {
        "id": "pLY-0R9W_16O",
        "colab_type": "code",
        "colab": {}
      },
      "source": [
        "model.save('my_slp_model.hdf5')\n",
        "# delete\n",
        "del model"
      ],
      "execution_count": 0,
      "outputs": []
    },
    {
      "cell_type": "markdown",
      "metadata": {
        "colab_type": "text",
        "id": "vP_XCIXCJ6RC"
      },
      "source": [
        "### *Load model*"
      ]
    },
    {
      "cell_type": "code",
      "metadata": {
        "id": "RmfPqRMR3fNM",
        "colab_type": "code",
        "outputId": "21dacfb3-242e-4ff4-dc16-1c37ae1fe75d",
        "colab": {
          "base_uri": "https://localhost:8080/",
          "height": 34
        }
      },
      "source": [
        "from tensorflow.keras.models import load_model\n",
        "\n",
        "model2 = load_model('my_slp_model.hdf5')\n",
        "print(model2.predict_classes(x_test[:1, :], verbose=0))"
      ],
      "execution_count": 16,
      "outputs": [
        {
          "output_type": "stream",
          "text": [
            "[7]\n"
          ],
          "name": "stdout"
        }
      ]
    },
    {
      "cell_type": "code",
      "metadata": {
        "id": "VMzq-EBwA9PB",
        "colab_type": "code",
        "outputId": "b1840b47-3bb6-47f0-bc52-0971036db262",
        "colab": {
          "base_uri": "https://localhost:8080/",
          "height": 221
        }
      },
      "source": [
        "# chkeck a loaded mode\n",
        "model2.summary()"
      ],
      "execution_count": 17,
      "outputs": [
        {
          "output_type": "stream",
          "text": [
            "Model: \"sequential\"\n",
            "_________________________________________________________________\n",
            "Layer (type)                 Output Shape              Param #   \n",
            "=================================================================\n",
            "flatten (Flatten)            (None, 784)               0         \n",
            "_________________________________________________________________\n",
            "dense (Dense)                (None, 10)                7850      \n",
            "=================================================================\n",
            "Total params: 7,850\n",
            "Trainable params: 7,850\n",
            "Non-trainable params: 0\n",
            "_________________________________________________________________\n"
          ],
          "name": "stdout"
        }
      ]
    },
    {
      "cell_type": "markdown",
      "metadata": {
        "colab_type": "text",
        "id": "n6GtmFf3K-ZP"
      },
      "source": [
        "### *Tip*"
      ]
    },
    {
      "cell_type": "markdown",
      "metadata": {
        "id": "F3FCGA6MLCES",
        "colab_type": "text"
      },
      "source": [
        "- 로칼과의 다운로드과 업로드는 Colab의 왼편 창 Files brower를 이용하면 편리하다\n",
        "- Colab과 내 구글드라이브('My Drive')를 연결시키고자 한다면 마운트한다"
      ]
    },
    {
      "cell_type": "code",
      "metadata": {
        "id": "gFPP6kUxLAJy",
        "colab_type": "code",
        "colab": {}
      },
      "source": [
        ""
      ],
      "execution_count": 0,
      "outputs": []
    },
    {
      "cell_type": "markdown",
      "metadata": {
        "id": "GnaUZbi_hIHw",
        "colab_type": "text"
      },
      "source": [
        "## ***실습과제***"
      ]
    },
    {
      "cell_type": "markdown",
      "metadata": {
        "id": "o5QEUAIbhVUQ",
        "colab_type": "text"
      },
      "source": [
        "### *과제1*"
      ]
    },
    {
      "cell_type": "markdown",
      "metadata": {
        "id": "07YM3eLIWxSY",
        "colab_type": "text"
      },
      "source": [
        "- #### *학습데이타셋과 테스트데이타셋을 맞바꿔보라. 정확도에 변화가 있는가?*     \n",
        "- #### *loss와 optimizer의 종류를 변경시켜 실험해 보라*    \n",
        "- #### *학습 parameter 갯수를 유도해보라*"
      ]
    },
    {
      "cell_type": "markdown",
      "metadata": {
        "colab_type": "text",
        "id": "hbahvk4TlsXB"
      },
      "source": [
        "### *과제2*"
      ]
    },
    {
      "cell_type": "markdown",
      "metadata": {
        "id": "pIoUlvLGONA8",
        "colab_type": "text"
      },
      "source": [
        "- #### *그외 verbose 같은 개발을 돕는 옵션들도 변경해보자*"
      ]
    },
    {
      "cell_type": "code",
      "metadata": {
        "id": "BVoZzyXpOv17",
        "colab_type": "code",
        "colab": {}
      },
      "source": [
        ""
      ],
      "execution_count": 0,
      "outputs": []
    }
  ]
}