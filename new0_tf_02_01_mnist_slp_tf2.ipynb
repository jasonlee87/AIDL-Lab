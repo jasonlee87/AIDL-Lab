{
  "nbformat": 4,
  "nbformat_minor": 0,
  "metadata": {
    "colab": {
      "name": "new0-tf_02_01_mnist_slp_tf2.ipynb",
      "provenance": [],
      "toc_visible": true,
      "include_colab_link": true
    },
    "kernelspec": {
      "name": "python3",
      "display_name": "Python 3"
    },
    "accelerator": "GPU"
  },
  "cells": [
    {
      "cell_type": "markdown",
      "metadata": {
        "id": "view-in-github",
        "colab_type": "text"
      },
      "source": [
        "<a href=\"https://colab.research.google.com/github/jasonlee87/AIDL-Lab/blob/master/new0_tf_02_01_mnist_slp_tf2.ipynb\" target=\"_parent\"><img src=\"https://colab.research.google.com/assets/colab-badge.svg\" alt=\"Open In Colab\"/></a>"
      ]
    },
    {
      "cell_type": "markdown",
      "metadata": {
        "id": "YUbrsmxWf04y",
        "colab_type": "text"
      },
      "source": [
        "# ***실습 2-1 :  tf.keras 모듈을 이용해 SLP(Single Layer Perceptron) 설계하기*** \n"
      ]
    },
    {
      "cell_type": "markdown",
      "metadata": {
        "id": "NiRRh004Veeq",
        "colab_type": "text"
      },
      "source": [
        "- *이미지 분류(Image Classification)를 위한 뉴럴 네트워크를 SLP로 설계한다*\n",
        "- *NN 모델을 훈련시킨다*\n",
        "- *NN 모델의 정확도를 검증한다*"
      ]
    },
    {
      "cell_type": "markdown",
      "metadata": {
        "id": "CfwO3tnWf_nY",
        "colab_type": "text"
      },
      "source": [
        "## ***Module Import***"
      ]
    },
    {
      "cell_type": "code",
      "metadata": {
        "id": "bC2OU4zcDdVC",
        "colab_type": "code",
        "outputId": "96d96cd4-64c4-406a-c8c3-d66a867eb15c",
        "colab": {
          "base_uri": "https://localhost:8080/",
          "height": 34
        }
      },
      "source": [
        "try:\n",
        "  # %tensorflow_version only exists in Colab.\n",
        "  %tensorflow_version 2.x\n",
        "except Exception:\n",
        "  pass"
      ],
      "execution_count": 1,
      "outputs": [
        {
          "output_type": "stream",
          "text": [
            "TensorFlow 2.x selected.\n"
          ],
          "name": "stdout"
        }
      ]
    },
    {
      "cell_type": "code",
      "metadata": {
        "id": "DZ4hSO9Cy0l7",
        "colab_type": "code",
        "outputId": "f6319d67-4e49-47f6-dd7a-15e0031cc61d",
        "colab": {
          "base_uri": "https://localhost:8080/",
          "height": 34
        }
      },
      "source": [
        "import tensorflow as tf\n",
        "from tensorflow import keras\n",
        "from tensorflow.keras.models import Sequential\n",
        "from tensorflow.keras.layers import Dense\n",
        "from tensorflow.keras.optimizers import SGD\n",
        "from tensorflow.keras.datasets import mnist\n",
        "import numpy as np\n",
        "import matplotlib.pyplot as plt\n",
        "\n",
        "tf.__version__ \n",
        "keras.__version__"
      ],
      "execution_count": 2,
      "outputs": [
        {
          "output_type": "execute_result",
          "data": {
            "text/plain": [
              "'2.2.4-tf'"
            ]
          },
          "metadata": {
            "tags": []
          },
          "execution_count": 2
        }
      ]
    },
    {
      "cell_type": "code",
      "metadata": {
        "id": "Ti76o9-8f91P",
        "colab_type": "code",
        "colab": {}
      },
      "source": [
        ""
      ],
      "execution_count": 0,
      "outputs": []
    },
    {
      "cell_type": "markdown",
      "metadata": {
        "id": "wOiaPQ3xgJQC",
        "colab_type": "text"
      },
      "source": [
        "## ***DataSet***"
      ]
    },
    {
      "cell_type": "markdown",
      "metadata": {
        "id": "U8yh3kv1gR8r",
        "colab_type": "text"
      },
      "source": [
        "### *Load*"
      ]
    },
    {
      "cell_type": "code",
      "metadata": {
        "colab_type": "code",
        "id": "7FP5258xjs-v",
        "colab": {}
      },
      "source": [
        "(x_train, y_train), (x_test, y_test) = mnist.load_data()\n",
        "x_train, x_test = x_train / 255.0, x_test / 255.0"
      ],
      "execution_count": 0,
      "outputs": []
    },
    {
      "cell_type": "code",
      "metadata": {
        "id": "h16ge_8ukQgD",
        "colab_type": "code",
        "colab": {}
      },
      "source": [
        ""
      ],
      "execution_count": 0,
      "outputs": []
    },
    {
      "cell_type": "markdown",
      "metadata": {
        "id": "O0oDy0CggOEm",
        "colab_type": "text"
      },
      "source": [
        "### *Preview*"
      ]
    },
    {
      "cell_type": "code",
      "metadata": {
        "id": "p0gD96iQbpFp",
        "colab_type": "code",
        "outputId": "0e7787be-4c1c-4b87-c657-93cb153834b4",
        "colab": {
          "base_uri": "https://localhost:8080/",
          "height": 140
        }
      },
      "source": [
        "plt.figure(figsize=(12, 2))\n",
        "for i in range(36):\n",
        "    plt.subplot(3, 12, i+1)\n",
        "    plt.imshow(x_train[i], cmap=\"gray\")\n",
        "    plt.axis(\"off\")\n",
        "plt.show()"
      ],
      "execution_count": 4,
      "outputs": [
        {
          "output_type": "display_data",
          "data": {
            "image/png": "[encoded data removed]",
            "text/plain": [
              "<Figure size 864x144 with 36 Axes>"
            ]
          },
          "metadata": {
            "tags": []
          }
        }
      ]
    },
    {
      "cell_type": "markdown",
      "metadata": {
        "id": "EY3zfzjlgbYj",
        "colab_type": "text"
      },
      "source": [
        "## ***Model***"
      ]
    },
    {
      "cell_type": "markdown",
      "metadata": {
        "id": "PUqUyRtngdUC",
        "colab_type": "text"
      },
      "source": [
        "### *Define*"
      ]
    },
    {
      "cell_type": "code",
      "metadata": {
        "colab_type": "code",
        "id": "wwrqskp8ZRA2",
        "colab": {}
      },
      "source": [
        "model = tf.keras.models.Sequential([\n",
        "  tf.keras.layers.Flatten(input_shape=(28, 28)),\n",
        "  tf.keras.layers.Dense(10, activation='softmax')\n",
        "])"
      ],
      "execution_count": 0,
      "outputs": []
    },
    {
      "cell_type": "code",
      "metadata": {
        "id": "MDiJ4ze_gj0j",
        "colab_type": "code",
        "colab": {}
      },
      "source": [
        ""
      ],
      "execution_count": 0,
      "outputs": []
    },
    {
      "cell_type": "markdown",
      "metadata": {
        "id": "aACwVs7QgmLq",
        "colab_type": "text"
      },
      "source": [
        "### *Compile*"
      ]
    },
    {
      "cell_type": "code",
      "metadata": {
        "id": "hP7ohoahKZ-K",
        "colab_type": "code",
        "outputId": "f214eb06-6df3-413a-b0c6-613ed43d83c5",
        "colab": {
          "base_uri": "https://localhost:8080/",
          "height": 221
        }
      },
      "source": [
        "model.compile(optimizer='adam',\n",
        "              loss='sparse_categorical_crossentropy',\n",
        "              metrics=['accuracy'])\n",
        "\n",
        "model.summary()"
      ],
      "execution_count": 6,
      "outputs": [
        {
          "output_type": "stream",
          "text": [
            "Model: \"sequential\"\n",
            "_________________________________________________________________\n",
            "Layer (type)                 Output Shape              Param #   \n",
            "=================================================================\n",
            "flatten (Flatten)            (None, 784)               0         \n",
            "_________________________________________________________________\n",
            "dense (Dense)                (None, 10)                7850      \n",
            "=================================================================\n",
            "Total params: 7,850\n",
            "Trainable params: 7,850\n",
            "Non-trainable params: 0\n",
            "_________________________________________________________________\n"
          ],
          "name": "stdout"
        }
      ]
    },
    {
      "cell_type": "code",
      "metadata": {
        "id": "sf3xDhGoBITb",
        "colab_type": "code",
        "outputId": "7d43b431-a640-481e-d90c-a0765a682ab5",
        "colab": {
          "base_uri": "https://localhost:8080/",
          "height": 312
        }
      },
      "source": [
        "tf.keras.utils.plot_model(model, 'my_slp_model.png', show_shapes=True)"
      ],
      "execution_count": 7,
      "outputs": [
        {
          "output_type": "execute_result",
          "data": {
            "image/png": "[encoded data removed]",
            "text/plain": [
              "<IPython.core.display.Image object>"
            ]
          },
          "metadata": {
            "tags": []
          },
          "execution_count": 7
        }
      ]
    },
    {
      "cell_type": "markdown",
      "metadata": {
        "id": "n9BG8hNUgo0n",
        "colab_type": "text"
      },
      "source": [
        "### *Fit*"
      ]
    },
    {
      "cell_type": "markdown",
      "metadata": {
        "id": "7KbIreYLd6gj",
        "colab_type": "text"
      },
      "source": [
        "Epoch 400/400\n",
        "60000/60000 [==============================] - 0s 4us/sample - loss: 0.2135 - accuracy: 0.9410\n",
        "CPU times: user 2min 21s, sys: 7.46 s, total: 2min 29s\n",
        "\n",
        "Wall time: 1min 47s  (@Notebook Setting/GPU)"
      ]
    },
    {
      "cell_type": "code",
      "metadata": {
        "id": "Qh7qgt0_9Tz4",
        "colab_type": "code",
        "outputId": "651308ac-93dd-449a-80ad-7e5fbeef16c8",
        "colab": {
          "base_uri": "https://localhost:8080/",
          "height": 51
        }
      },
      "source": [
        "l1 = model.layers[0]\n",
        "l2 = model.layers[1]\n",
        "\n",
        "print(l1.name, type(l1), l1.output_shape, l1.count_params())\n",
        "print(l2.name, type(l1), l2.output_shape, l2.activation.__name__, l2.count_params())"
      ],
      "execution_count": 8,
      "outputs": [
        {
          "output_type": "stream",
          "text": [
            "flatten <class 'tensorflow.python.keras.layers.core.Flatten'> (None, 784) 0\n",
            "dense <class 'tensorflow.python.keras.layers.core.Flatten'> (None, 10) softmax 7850\n"
          ],
          "name": "stdout"
        }
      ]
    },
    {
      "cell_type": "code",
      "metadata": {
        "id": "-_idMKYwKVqX",
        "colab_type": "code",
        "outputId": "041194be-0bb6-404b-8327-14ef04d7e987",
        "colab": {
          "base_uri": "https://localhost:8080/",
          "height": 1000
        }
      },
      "source": [
        "%%time\n",
        "hist = model.fit(x_train, y_train, batch_size=1000, epochs=100)"
      ],
      "execution_count": 9,
      "outputs": [
        {
          "output_type": "stream",
          "text": [
            "Train on 60000 samples\n",
            "Epoch 1/100\n",
            "60000/60000 [==============================] - 1s 22us/sample - loss: 1.4891 - accuracy: 0.6113\n",
            "Epoch 2/100\n",
            "60000/60000 [==============================] - 0s 6us/sample - loss: 0.7507 - accuracy: 0.8376\n",
            "Epoch 3/100\n",
            "60000/60000 [==============================] - 0s 6us/sample - loss: 0.5698 - accuracy: 0.8673\n",
            "Epoch 4/100\n",
            "60000/60000 [==============================] - 0s 6us/sample - loss: 0.4879 - accuracy: 0.8802\n",
            "Epoch 5/100\n",
            "60000/60000 [==============================] - 0s 6us/sample - loss: 0.4399 - accuracy: 0.8891\n",
            "Epoch 6/100\n",
            "60000/60000 [==============================] - 0s 6us/sample - loss: 0.4081 - accuracy: 0.8949\n",
            "Epoch 7/100\n",
            "60000/60000 [==============================] - 0s 6us/sample - loss: 0.3852 - accuracy: 0.8998\n",
            "Epoch 8/100\n",
            "60000/60000 [==============================] - 0s 7us/sample - loss: 0.3680 - accuracy: 0.9032\n",
            "Epoch 9/100\n",
            "60000/60000 [==============================] - 0s 6us/sample - loss: 0.3545 - accuracy: 0.9055\n",
            "Epoch 10/100\n",
            "60000/60000 [==============================] - 0s 6us/sample - loss: 0.3432 - accuracy: 0.9083\n",
            "Epoch 11/100\n",
            "60000/60000 [==============================] - 0s 6us/sample - loss: 0.3343 - accuracy: 0.9108\n",
            "Epoch 12/100\n",
            "60000/60000 [==============================] - 0s 6us/sample - loss: 0.3266 - accuracy: 0.9115\n",
            "Epoch 13/100\n",
            "60000/60000 [==============================] - 0s 6us/sample - loss: 0.3200 - accuracy: 0.9133\n",
            "Epoch 14/100\n",
            "60000/60000 [==============================] - 0s 6us/sample - loss: 0.3141 - accuracy: 0.9146\n",
            "Epoch 15/100\n",
            "60000/60000 [==============================] - 0s 7us/sample - loss: 0.3090 - accuracy: 0.9161\n",
            "Epoch 16/100\n",
            "60000/60000 [==============================] - 0s 6us/sample - loss: 0.3046 - accuracy: 0.9170\n",
            "Epoch 17/100\n",
            "60000/60000 [==============================] - 0s 6us/sample - loss: 0.3005 - accuracy: 0.9183\n",
            "Epoch 18/100\n",
            "60000/60000 [==============================] - 0s 6us/sample - loss: 0.2970 - accuracy: 0.9187\n",
            "Epoch 19/100\n",
            "60000/60000 [==============================] - 0s 6us/sample - loss: 0.2935 - accuracy: 0.9200\n",
            "Epoch 20/100\n",
            "60000/60000 [==============================] - 0s 6us/sample - loss: 0.2906 - accuracy: 0.9203\n",
            "Epoch 21/100\n",
            "60000/60000 [==============================] - 0s 6us/sample - loss: 0.2879 - accuracy: 0.9206\n",
            "Epoch 22/100\n",
            "60000/60000 [==============================] - 0s 6us/sample - loss: 0.2852 - accuracy: 0.9215\n",
            "Epoch 23/100\n",
            "60000/60000 [==============================] - 0s 6us/sample - loss: 0.2831 - accuracy: 0.9226\n",
            "Epoch 24/100\n",
            "60000/60000 [==============================] - 0s 6us/sample - loss: 0.2808 - accuracy: 0.9225\n",
            "Epoch 25/100\n",
            "60000/60000 [==============================] - 0s 6us/sample - loss: 0.2788 - accuracy: 0.9239\n",
            "Epoch 26/100\n",
            "60000/60000 [==============================] - 0s 6us/sample - loss: 0.2770 - accuracy: 0.9239\n",
            "Epoch 27/100\n",
            "60000/60000 [==============================] - 0s 6us/sample - loss: 0.2753 - accuracy: 0.9246\n",
            "Epoch 28/100\n",
            "60000/60000 [==============================] - 0s 6us/sample - loss: 0.2736 - accuracy: 0.9247\n",
            "Epoch 29/100\n",
            "60000/60000 [==============================] - 0s 6us/sample - loss: 0.2720 - accuracy: 0.9251\n",
            "Epoch 30/100\n",
            "60000/60000 [==============================] - 0s 6us/sample - loss: 0.2706 - accuracy: 0.9255\n",
            "Epoch 31/100\n",
            "60000/60000 [==============================] - 0s 6us/sample - loss: 0.2690 - accuracy: 0.9260\n",
            "Epoch 32/100\n",
            "60000/60000 [==============================] - 0s 6us/sample - loss: 0.2677 - accuracy: 0.9266\n",
            "Epoch 33/100\n",
            "60000/60000 [==============================] - 0s 7us/sample - loss: 0.2666 - accuracy: 0.9265\n",
            "Epoch 34/100\n",
            "60000/60000 [==============================] - 0s 6us/sample - loss: 0.2653 - accuracy: 0.9272\n",
            "Epoch 35/100\n",
            "60000/60000 [==============================] - 0s 6us/sample - loss: 0.2645 - accuracy: 0.9272\n",
            "Epoch 36/100\n",
            "60000/60000 [==============================] - 0s 6us/sample - loss: 0.2631 - accuracy: 0.9276\n",
            "Epoch 37/100\n",
            "60000/60000 [==============================] - 0s 6us/sample - loss: 0.2624 - accuracy: 0.9280\n",
            "Epoch 38/100\n",
            "60000/60000 [==============================] - 0s 6us/sample - loss: 0.2612 - accuracy: 0.9279\n",
            "Epoch 39/100\n",
            "60000/60000 [==============================] - 0s 6us/sample - loss: 0.2603 - accuracy: 0.9283\n",
            "Epoch 40/100\n",
            "60000/60000 [==============================] - 0s 6us/sample - loss: 0.2592 - accuracy: 0.9286\n",
            "Epoch 41/100\n",
            "60000/60000 [==============================] - 0s 7us/sample - loss: 0.2584 - accuracy: 0.9289\n",
            "Epoch 42/100\n",
            "60000/60000 [==============================] - 0s 6us/sample - loss: 0.2575 - accuracy: 0.9290\n",
            "Epoch 43/100\n",
            "60000/60000 [==============================] - 0s 6us/sample - loss: 0.2569 - accuracy: 0.9294\n",
            "Epoch 44/100\n",
            "60000/60000 [==============================] - 0s 6us/sample - loss: 0.2560 - accuracy: 0.9295\n",
            "Epoch 45/100\n",
            "60000/60000 [==============================] - 0s 5us/sample - loss: 0.2553 - accuracy: 0.9295\n",
            "Epoch 46/100\n",
            "60000/60000 [==============================] - 0s 5us/sample - loss: 0.2546 - accuracy: 0.9299\n",
            "Epoch 47/100\n",
            "60000/60000 [==============================] - 0s 6us/sample - loss: 0.2539 - accuracy: 0.9297\n",
            "Epoch 48/100\n",
            "60000/60000 [==============================] - 0s 6us/sample - loss: 0.2533 - accuracy: 0.9305\n",
            "Epoch 49/100\n",
            "60000/60000 [==============================] - 0s 6us/sample - loss: 0.2526 - accuracy: 0.9305\n",
            "Epoch 50/100\n",
            "60000/60000 [==============================] - 0s 6us/sample - loss: 0.2520 - accuracy: 0.9309\n",
            "Epoch 51/100\n",
            "60000/60000 [==============================] - 0s 6us/sample - loss: 0.2513 - accuracy: 0.9309\n",
            "Epoch 52/100\n",
            "60000/60000 [==============================] - 0s 6us/sample - loss: 0.2508 - accuracy: 0.9308\n",
            "Epoch 53/100\n",
            "60000/60000 [==============================] - 0s 6us/sample - loss: 0.2502 - accuracy: 0.9312\n",
            "Epoch 54/100\n",
            "60000/60000 [==============================] - 0s 5us/sample - loss: 0.2497 - accuracy: 0.9311\n",
            "Epoch 55/100\n",
            "60000/60000 [==============================] - 0s 6us/sample - loss: 0.2493 - accuracy: 0.9315\n",
            "Epoch 56/100\n",
            "60000/60000 [==============================] - 0s 6us/sample - loss: 0.2488 - accuracy: 0.9313\n",
            "Epoch 57/100\n",
            "60000/60000 [==============================] - 0s 7us/sample - loss: 0.2483 - accuracy: 0.9313\n",
            "Epoch 58/100\n",
            "60000/60000 [==============================] - 0s 6us/sample - loss: 0.2479 - accuracy: 0.9316\n",
            "Epoch 59/100\n",
            "60000/60000 [==============================] - 0s 6us/sample - loss: 0.2472 - accuracy: 0.9320\n",
            "Epoch 60/100\n",
            "60000/60000 [==============================] - 0s 6us/sample - loss: 0.2469 - accuracy: 0.9323\n",
            "Epoch 61/100\n",
            "60000/60000 [==============================] - 0s 6us/sample - loss: 0.2463 - accuracy: 0.9322\n",
            "Epoch 62/100\n",
            "60000/60000 [==============================] - 0s 6us/sample - loss: 0.2463 - accuracy: 0.9316\n",
            "Epoch 63/100\n",
            "60000/60000 [==============================] - 0s 6us/sample - loss: 0.2454 - accuracy: 0.9327\n",
            "Epoch 64/100\n",
            "60000/60000 [==============================] - 0s 7us/sample - loss: 0.2455 - accuracy: 0.9320\n",
            "Epoch 65/100\n",
            "60000/60000 [==============================] - 0s 6us/sample - loss: 0.2448 - accuracy: 0.9325\n",
            "Epoch 66/100\n",
            "60000/60000 [==============================] - 0s 6us/sample - loss: 0.2444 - accuracy: 0.9331\n",
            "Epoch 67/100\n",
            "60000/60000 [==============================] - 0s 7us/sample - loss: 0.2439 - accuracy: 0.9329\n",
            "Epoch 68/100\n",
            "60000/60000 [==============================] - 0s 6us/sample - loss: 0.2436 - accuracy: 0.9329\n",
            "Epoch 69/100\n",
            "60000/60000 [==============================] - 0s 6us/sample - loss: 0.2432 - accuracy: 0.9330\n",
            "Epoch 70/100\n",
            "60000/60000 [==============================] - 0s 6us/sample - loss: 0.2429 - accuracy: 0.9332\n",
            "Epoch 71/100\n",
            "60000/60000 [==============================] - 0s 6us/sample - loss: 0.2425 - accuracy: 0.9334\n",
            "Epoch 72/100\n",
            "60000/60000 [==============================] - 0s 6us/sample - loss: 0.2422 - accuracy: 0.9332\n",
            "Epoch 73/100\n",
            "60000/60000 [==============================] - 0s 6us/sample - loss: 0.2417 - accuracy: 0.9334\n",
            "Epoch 74/100\n",
            "60000/60000 [==============================] - 0s 7us/sample - loss: 0.2418 - accuracy: 0.9340\n",
            "Epoch 75/100\n",
            "60000/60000 [==============================] - 0s 6us/sample - loss: 0.2413 - accuracy: 0.9337\n",
            "Epoch 76/100\n",
            "60000/60000 [==============================] - 0s 6us/sample - loss: 0.2412 - accuracy: 0.9339\n",
            "Epoch 77/100\n",
            "60000/60000 [==============================] - 0s 7us/sample - loss: 0.2406 - accuracy: 0.9339\n",
            "Epoch 78/100\n",
            "60000/60000 [==============================] - 0s 6us/sample - loss: 0.2403 - accuracy: 0.9346\n",
            "Epoch 79/100\n",
            "60000/60000 [==============================] - 0s 6us/sample - loss: 0.2401 - accuracy: 0.9342\n",
            "Epoch 80/100\n",
            "60000/60000 [==============================] - 0s 6us/sample - loss: 0.2399 - accuracy: 0.9339\n",
            "Epoch 81/100\n",
            "60000/60000 [==============================] - 0s 7us/sample - loss: 0.2396 - accuracy: 0.9342\n",
            "Epoch 82/100\n",
            "60000/60000 [==============================] - 0s 7us/sample - loss: 0.2391 - accuracy: 0.9349\n",
            "Epoch 83/100\n",
            "60000/60000 [==============================] - 0s 6us/sample - loss: 0.2391 - accuracy: 0.9349\n",
            "Epoch 84/100\n",
            "60000/60000 [==============================] - 0s 7us/sample - loss: 0.2389 - accuracy: 0.9348\n",
            "Epoch 85/100\n",
            "60000/60000 [==============================] - 0s 6us/sample - loss: 0.2385 - accuracy: 0.9346\n",
            "Epoch 86/100\n",
            "60000/60000 [==============================] - 0s 6us/sample - loss: 0.2383 - accuracy: 0.9346\n",
            "Epoch 87/100\n",
            "60000/60000 [==============================] - 0s 6us/sample - loss: 0.2381 - accuracy: 0.9352\n",
            "Epoch 88/100\n",
            "60000/60000 [==============================] - 0s 6us/sample - loss: 0.2377 - accuracy: 0.9352\n",
            "Epoch 89/100\n",
            "60000/60000 [==============================] - 0s 6us/sample - loss: 0.2375 - accuracy: 0.9345\n",
            "Epoch 90/100\n",
            "60000/60000 [==============================] - 0s 6us/sample - loss: 0.2371 - accuracy: 0.9353\n",
            "Epoch 91/100\n",
            "60000/60000 [==============================] - 0s 6us/sample - loss: 0.2370 - accuracy: 0.9351\n",
            "Epoch 92/100\n",
            "60000/60000 [==============================] - 0s 6us/sample - loss: 0.2369 - accuracy: 0.9353\n",
            "Epoch 93/100\n",
            "60000/60000 [==============================] - 0s 6us/sample - loss: 0.2368 - accuracy: 0.9351\n",
            "Epoch 94/100\n",
            "60000/60000 [==============================] - 0s 6us/sample - loss: 0.2365 - accuracy: 0.9355\n",
            "Epoch 95/100\n",
            "60000/60000 [==============================] - 0s 6us/sample - loss: 0.2363 - accuracy: 0.9356\n",
            "Epoch 96/100\n",
            "60000/60000 [==============================] - 0s 6us/sample - loss: 0.2361 - accuracy: 0.9355\n",
            "Epoch 97/100\n",
            "60000/60000 [==============================] - 0s 6us/sample - loss: 0.2356 - accuracy: 0.9356\n",
            "Epoch 98/100\n",
            "60000/60000 [==============================] - 0s 6us/sample - loss: 0.2357 - accuracy: 0.9357\n",
            "Epoch 99/100\n",
            "60000/60000 [==============================] - 0s 6us/sample - loss: 0.2353 - accuracy: 0.9355\n",
            "Epoch 100/100\n",
            "60000/60000 [==============================] - 0s 6us/sample - loss: 0.2352 - accuracy: 0.9360\n",
            "CPU times: user 46 s, sys: 3.72 s, total: 49.7 s\n",
            "Wall time: 37.8 s\n"
          ],
          "name": "stdout"
        }
      ]
    },
    {
      "cell_type": "markdown",
      "metadata": {
        "id": "m4kAr8XNg2nc",
        "colab_type": "text"
      },
      "source": [
        "### *Evaluate*"
      ]
    },
    {
      "cell_type": "code",
      "metadata": {
        "id": "33QHvlOLeSik",
        "colab_type": "code",
        "outputId": "5d00a673-649b-4445-dae6-913e7d07495f",
        "colab": {
          "base_uri": "https://localhost:8080/",
          "height": 34
        }
      },
      "source": [
        "model.evaluate(x_test,  y_test, verbose=0)"
      ],
      "execution_count": 10,
      "outputs": [
        {
          "output_type": "execute_result",
          "data": {
            "text/plain": [
              "[0.26222107605338096, 0.9276]"
            ]
          },
          "metadata": {
            "tags": []
          },
          "execution_count": 10
        }
      ]
    },
    {
      "cell_type": "markdown",
      "metadata": {
        "id": "v7Bf90ATg98K",
        "colab_type": "text"
      },
      "source": [
        "## ***Analysis***"
      ]
    },
    {
      "cell_type": "markdown",
      "metadata": {
        "id": "VcGTERphhBNs",
        "colab_type": "text"
      },
      "source": [
        "### *Plot*"
      ]
    },
    {
      "cell_type": "code",
      "metadata": {
        "id": "CjMu2fQKLD_N",
        "colab_type": "code",
        "outputId": "cbc538f2-2469-4ed1-e495-6a09e9ba889a",
        "colab": {
          "base_uri": "https://localhost:8080/",
          "height": 404
        }
      },
      "source": [
        "history_dict = hist.history\n",
        "history_dict.keys()\n",
        "\n",
        "loss = history_dict['loss']\n",
        "epochs = range(1, len(loss)+1)\n",
        "\n",
        "plt.figure(figsize=(10, 6))\n",
        "plt.subplot(2, 1, 1)\n",
        "plt.title('Accuray')\n",
        "plt.plot(epochs, hist.history['accuracy'], 'b', label='accuracy')\n",
        "plt.grid(True)\n",
        "#plt.xlabel('Epoch')\n",
        "plt.ylabel('Accuracy')\n",
        "plt.ylim([0.6, 1])\n",
        "plt.legend(loc='best')\n",
        "\n",
        "plt.subplot(2, 1, 2)\n",
        "plt.title('Loss')\n",
        "plt.plot(epochs, hist.history['loss'], 'r', label='loss')\n",
        "plt.grid(True)\n",
        "plt.xlabel('Epoch')\n",
        "plt.ylabel('loss')\n",
        "plt.ylim([0.0, 0.6])\n",
        "plt.legend(loc='best')\n",
        "plt.show()\n"
      ],
      "execution_count": 11,
      "outputs": [
        {
          "output_type": "display_data",
          "data": {
            "image/png": "[encoded data removed]",
            "text/plain": [
              "<Figure size 720x432 with 2 Axes>"
            ]
          },
          "metadata": {
            "tags": []
          }
        }
      ]
    },
    {
      "cell_type": "markdown",
      "metadata": {
        "colab_type": "text",
        "id": "JyGjpP3qCEsN"
      },
      "source": [
        "### *Prediction*"
      ]
    },
    {
      "cell_type": "code",
      "metadata": {
        "id": "8NildFhh_bXu",
        "colab_type": "code",
        "outputId": "19c1ef9c-6965-42f5-f9e6-6d2c183c8b8b",
        "colab": {
          "base_uri": "https://localhost:8080/",
          "height": 51
        }
      },
      "source": [
        "# 테스트셋 첫 이미지 예측정보\n",
        "print (model.predict(x_test[:1, :]))"
      ],
      "execution_count": 12,
      "outputs": [
        {
          "output_type": "stream",
          "text": [
            "[[2.1072631e-06 1.6799187e-12 5.2571540e-06 5.0949818e-03 2.3159578e-07\n",
            "  2.4673660e-05 1.0330736e-10 9.9458861e-01 1.2361391e-05 2.7185207e-04]]\n"
          ],
          "name": "stdout"
        }
      ]
    },
    {
      "cell_type": "code",
      "metadata": {
        "id": "IMPbCcht_hSW",
        "colab_type": "code",
        "outputId": "4f434f0e-bcdc-4c76-e35e-2e5c38f0c383",
        "colab": {
          "base_uri": "https://localhost:8080/",
          "height": 34
        }
      },
      "source": [
        "# 데스트셋 첫 이미지 분류\n",
        "print (model.predict_classes(x_test[:1, :], verbose=0))"
      ],
      "execution_count": 13,
      "outputs": [
        {
          "output_type": "stream",
          "text": [
            "[7]\n"
          ],
          "name": "stdout"
        }
      ]
    },
    {
      "cell_type": "code",
      "metadata": {
        "id": "6BZYppIV_lem",
        "colab_type": "code",
        "outputId": "13bf4fc6-9ac0-4855-a44f-c2348dccb1ec",
        "colab": {
          "base_uri": "https://localhost:8080/",
          "height": 85
        }
      },
      "source": [
        "plt.figure(figsize=(1, 1))\n",
        "plt.imshow(x_test[0], cmap='gray')\n",
        "plt.grid(False)\n",
        "plt.axis(\"off\")\n",
        "plt.show()"
      ],
      "execution_count": 14,
      "outputs": [
        {
          "output_type": "display_data",
          "data": {
            "image/png": "[encoded data removed]",
            "text/plain": [
              "<Figure size 72x72 with 1 Axes>"
            ]
          },
          "metadata": {
            "tags": []
          }
        }
      ]
    },
    {
      "cell_type": "markdown",
      "metadata": {
        "colab_type": "text",
        "id": "tI4ULJYDNkbQ"
      },
      "source": [
        "## ***File***"
      ]
    },
    {
      "cell_type": "markdown",
      "metadata": {
        "colab_type": "text",
        "id": "0DoMx92wJtVQ"
      },
      "source": [
        "### *Save model*"
      ]
    },
    {
      "cell_type": "code",
      "metadata": {
        "id": "pLY-0R9W_16O",
        "colab_type": "code",
        "colab": {}
      },
      "source": [
        "model.save('my_model.hdf5')\n",
        "# delete\n",
        "del model"
      ],
      "execution_count": 0,
      "outputs": []
    },
    {
      "cell_type": "markdown",
      "metadata": {
        "colab_type": "text",
        "id": "vP_XCIXCJ6RC"
      },
      "source": [
        "### *Load model*"
      ]
    },
    {
      "cell_type": "code",
      "metadata": {
        "id": "RmfPqRMR3fNM",
        "colab_type": "code",
        "outputId": "acf2337b-79bf-437f-d949-ad738c8c11ed",
        "colab": {
          "base_uri": "https://localhost:8080/",
          "height": 34
        }
      },
      "source": [
        "from tensorflow.keras.models import load_model\n",
        "\n",
        "model2 = load_model('my_model.hdf5')\n",
        "print(model2.predict_classes(x_test[:1, :], verbose=0))"
      ],
      "execution_count": 16,
      "outputs": [
        {
          "output_type": "stream",
          "text": [
            "[7]\n"
          ],
          "name": "stdout"
        }
      ]
    },
    {
      "cell_type": "code",
      "metadata": {
        "id": "VMzq-EBwA9PB",
        "colab_type": "code",
        "outputId": "882734b9-340a-4c19-b3b2-012239bfd022",
        "colab": {
          "base_uri": "https://localhost:8080/",
          "height": 221
        }
      },
      "source": [
        "# chkeck a loaded mode\n",
        "model2.summary()"
      ],
      "execution_count": 17,
      "outputs": [
        {
          "output_type": "stream",
          "text": [
            "Model: \"sequential\"\n",
            "_________________________________________________________________\n",
            "Layer (type)                 Output Shape              Param #   \n",
            "=================================================================\n",
            "flatten (Flatten)            (None, 784)               0         \n",
            "_________________________________________________________________\n",
            "dense (Dense)                (None, 10)                7850      \n",
            "=================================================================\n",
            "Total params: 7,850\n",
            "Trainable params: 7,850\n",
            "Non-trainable params: 0\n",
            "_________________________________________________________________\n"
          ],
          "name": "stdout"
        }
      ]
    },
    {
      "cell_type": "markdown",
      "metadata": {
        "colab_type": "text",
        "id": "n6GtmFf3K-ZP"
      },
      "source": [
        "### *Tip*"
      ]
    },
    {
      "cell_type": "markdown",
      "metadata": {
        "id": "F3FCGA6MLCES",
        "colab_type": "text"
      },
      "source": [
        "- 로칼과의 다운로드과 업로드는 Colab의 왼편 창 Files brower를 이용하면 편리하다\n",
        "- Colab과 내 구글드라이브('My Drive')를 연결시키고자 한다면 마운트한다"
      ]
    },
    {
      "cell_type": "code",
      "metadata": {
        "id": "gFPP6kUxLAJy",
        "colab_type": "code",
        "colab": {}
      },
      "source": [
        ""
      ],
      "execution_count": 0,
      "outputs": []
    },
    {
      "cell_type": "markdown",
      "metadata": {
        "id": "GnaUZbi_hIHw",
        "colab_type": "text"
      },
      "source": [
        "## ***실습과제***"
      ]
    },
    {
      "cell_type": "markdown",
      "metadata": {
        "id": "o5QEUAIbhVUQ",
        "colab_type": "text"
      },
      "source": [
        "### *과제1*"
      ]
    },
    {
      "cell_type": "markdown",
      "metadata": {
        "id": "07YM3eLIWxSY",
        "colab_type": "text"
      },
      "source": [
        "- #### *학습데이타셋과 테스트데이타셋을 맞바꿔보라. 정확도에 변화가 있는가?*     \n",
        "- #### *loss와 optimizer의 종류를 변경시켜 실험해 보라*    \n",
        "- #### *학습 parameter 갯수를 유도해보라*"
      ]
    },
    {
      "cell_type": "markdown",
      "metadata": {
        "colab_type": "text",
        "id": "hbahvk4TlsXB"
      },
      "source": [
        "### *과제2*"
      ]
    },
    {
      "cell_type": "markdown",
      "metadata": {
        "id": "pIoUlvLGONA8",
        "colab_type": "text"
      },
      "source": [
        "- #### *그외 verbose 같은 개발을 돕는 옵션들도 변경해보자*"
      ]
    },
    {
      "cell_type": "code",
      "metadata": {
        "id": "BVoZzyXpOv17",
        "colab_type": "code",
        "colab": {}
      },
      "source": [
        ""
      ],
      "execution_count": 0,
      "outputs": []
    }
  ]
}