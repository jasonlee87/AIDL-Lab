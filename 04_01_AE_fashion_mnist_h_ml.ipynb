{
  "nbformat": 4,
  "nbformat_minor": 0,
  "metadata": {
    "kernelspec": {
      "name": "python3",
      "display_name": "Python 3"
    },
    "language_info": {
      "codemirror_mode": {
        "name": "ipython",
        "version": 3
      },
      "file_extension": ".py",
      "mimetype": "text/x-python",
      "name": "python",
      "nbconvert_exporter": "python",
      "pygments_lexer": "ipython3",
      "version": "3.6.5"
    },
    "colab": {
      "name": "04_01_AE_fashion_mnist_h_ml.ipynb",
      "provenance": [],
      "collapsed_sections": [],
      "include_colab_link": true
    },
    "accelerator": "GPU"
  },
  "cells": [
    {
      "cell_type": "markdown",
      "metadata": {
        "id": "view-in-github",
        "colab_type": "text"
      },
      "source": [
        "<a href=\"https://colab.research.google.com/github/jasonlee87/AIDL-Lab/blob/master/04_01_AE_fashion_mnist_h_ml.ipynb\" target=\"_parent\"><img src=\"https://colab.research.google.com/assets/colab-badge.svg\" alt=\"Open In Colab\"/></a>"
      ]
    },
    {
      "cell_type": "code",
      "metadata": {
        "id": "bC2OU4zcDdVC",
        "colab_type": "code",
        "colab": {
          "base_uri": "https://localhost:8080/",
          "height": 34
        },
        "outputId": "a7c3c86c-dbb7-494e-9ac9-dcddb4792562"
      },
      "source": [
        "try:\n",
        "  # %tensorflow_version only exists in Colab.\n",
        "  %tensorflow_version 2.x\n",
        "except Exception:\n",
        "  pass"
      ],
      "execution_count": 1,
      "outputs": [
        {
          "output_type": "stream",
          "text": [
            "TensorFlow 2.x selected.\n"
          ],
          "name": "stdout"
        }
      ]
    },
    {
      "cell_type": "code",
      "metadata": {
        "id": "XeVuGaUQDI59",
        "colab_type": "code",
        "colab": {}
      },
      "source": [
        "import numpy as np\n",
        "import matplotlib.pyplot as plt\n",
        "\n",
        "import tensorflow as tf\n",
        "from tensorflow import keras"
      ],
      "execution_count": 0,
      "outputs": []
    },
    {
      "cell_type": "code",
      "metadata": {
        "id": "bvNOBR2Hg-ir",
        "colab_type": "code",
        "colab": {}
      },
      "source": [
        "# reset of notebook state\n",
        "tf.keras.backend.clear_session()  # For easy reset of notebook state."
      ],
      "execution_count": 0,
      "outputs": []
    },
    {
      "cell_type": "code",
      "metadata": {
        "id": "at7yIelslEBV",
        "colab_type": "code",
        "colab": {}
      },
      "source": [
        "# Tensorflow random seed (graph level) \n",
        "tf.random.set_seed(1234)"
      ],
      "execution_count": 0,
      "outputs": []
    },
    {
      "cell_type": "code",
      "metadata": {
        "id": "DGnO0NygDI6M",
        "colab_type": "code",
        "colab": {}
      },
      "source": [
        "# Size of encoded representation\n",
        "# 32 floats denotes a compression factor of 24.5 assuming input is 784 float\n",
        "encoding_dim = 32\n",
        "\n",
        "# Input placeholder\n",
        "i_input = keras.layers.Input(shape=(784,))\n",
        "\n",
        "# Encoded representation of input image\n",
        "encode_1 = keras.layers.Dense(encoding_dim, activation='sigmoid')(i_input)\n",
        "encode_2 = keras.layers.Dense(encoding_dim, activation='sigmoid', \\\n",
        "              activity_regularizer=keras.regularizers.l1(0.0005))(i_input)\n",
        "\n",
        "# Decode is lossy reconstruction of input              \n",
        "decoded_1 = keras.layers.Dense(784, activation='sigmoid')(encode_1)\n",
        "decoded_2 = keras.layers.Dense(784, activation='sigmoid')(encode_2)"
      ],
      "execution_count": 0,
      "outputs": []
    },
    {
      "cell_type": "code",
      "metadata": {
        "id": "AA7IGA2nZwhf",
        "colab_type": "code",
        "colab": {}
      },
      "source": [
        "# This autoencoder will map input to reconstructed output\n",
        "autoencoder1 = keras.models.Model(inputs=i_input, outputs=decoded_1)\n",
        "autoencoder2 = keras.models.Model(inputs=i_input, outputs=decoded_2)"
      ],
      "execution_count": 0,
      "outputs": []
    },
    {
      "cell_type": "code",
      "metadata": {
        "id": "vCAvqXiiDI6X",
        "colab_type": "code",
        "outputId": "53a5a8c1-09a1-4a7c-bde6-14e2c2e6ba71",
        "colab": {
          "base_uri": "https://localhost:8080/",
          "height": 255
        }
      },
      "source": [
        "# Select optimizer and loss function\n",
        "autoencoder1.compile(optimizer='rmsprop', loss='mse') \n",
        "autoencoder2.compile(optimizer='rmsprop', loss='mse')\n",
        "autoencoder1.summary()"
      ],
      "execution_count": 7,
      "outputs": [
        {
          "output_type": "stream",
          "text": [
            "Model: \"model\"\n",
            "_________________________________________________________________\n",
            "Layer (type)                 Output Shape              Param #   \n",
            "=================================================================\n",
            "input_1 (InputLayer)         [(None, 784)]             0         \n",
            "_________________________________________________________________\n",
            "dense (Dense)                (None, 32)                25120     \n",
            "_________________________________________________________________\n",
            "dense_2 (Dense)              (None, 784)               25872     \n",
            "=================================================================\n",
            "Total params: 50,992\n",
            "Trainable params: 50,992\n",
            "Non-trainable params: 0\n",
            "_________________________________________________________________\n"
          ],
          "name": "stdout"
        }
      ]
    },
    {
      "cell_type": "code",
      "metadata": {
        "id": "cC8AS287Hz-9",
        "colab_type": "code",
        "outputId": "688d106b-9fa6-4758-dd58-799928ecb315",
        "colab": {
          "base_uri": "https://localhost:8080/",
          "height": 51
        }
      },
      "source": [
        "# select dataset\n",
        "fashion_mnist_on = False  # True/False\n",
        "\n",
        "if fashion_mnist_on :\n",
        "  (x_train, y_train), (x_test, y_test) = tf.keras.datasets.fashion_mnist.load_data()\n",
        "else :\n",
        "  (x_train, y_train), (x_test, y_test) = tf.keras.datasets.mnist.load_data()"
      ],
      "execution_count": 8,
      "outputs": [
        {
          "output_type": "stream",
          "text": [
            "Downloading data from https://storage.googleapis.com/tensorflow/tf-keras-datasets/mnist.npz\n",
            "11493376/11490434 [==============================] - 0s 0us/step\n"
          ],
          "name": "stdout"
        }
      ]
    },
    {
      "cell_type": "code",
      "metadata": {
        "id": "R7d2RtBMDI6a",
        "colab_type": "code",
        "outputId": "25fbbac4-88b0-4969-c448-8e9f1c172d0b",
        "colab": {
          "base_uri": "https://localhost:8080/",
          "height": 299
        }
      },
      "source": [
        "# Add random noise  \n",
        "noise_on = False  # True/False\n",
        "\n",
        "# Normalize pixel values\n",
        "x_train = x_train.astype('float32') / 255.\n",
        "x_test = x_test.astype('float32') / 255.\n",
        "\n",
        "# Flatten images to 2D arrays (60000,28,28) -> (60000,784)\n",
        "x_train = x_train.reshape((len(x_train), np.prod(x_train.shape[1:])))\n",
        "x_test = x_test.reshape((len(x_test), np.prod(x_test.shape[1:])))\n",
        "\n",
        "if noise_on : \n",
        "  x_train = x_train + 0.1*np.random.randn(x_train.shape[0], 784)\n",
        "  x_test = x_test + 0.1*np.random.randn(x_test.shape[0], 784)\n",
        "  print(\"Noisy Data Selected\")\n",
        "\n",
        "# Print out the shape\n",
        "print(x_train.shape)\n",
        "print(x_test.shape)\n",
        "\n",
        "plt.imshow(x_train[1].reshape(28,28), cmap='gray')\n",
        "plt.show()"
      ],
      "execution_count": 9,
      "outputs": [
        {
          "output_type": "stream",
          "text": [
            "(60000, 784)\n",
            "(10000, 784)\n"
          ],
          "name": "stdout"
        },
        {
          "output_type": "display_data",
          "data": {
            "image/png": "[encoded data removed]",
            "text/plain": [
              "<Figure size 432x288 with 1 Axes>"
            ]
          },
          "metadata": {
            "tags": []
          }
        }
      ]
    },
    {
      "cell_type": "code",
      "metadata": {
        "id": "gvJYXTb-DI6f",
        "colab_type": "code",
        "outputId": "65863070-f631-41e2-b8b9-2606285e721c",
        "colab": {
          "base_uri": "https://localhost:8080/",
          "height": 1000
        }
      },
      "source": [
        "# Training\n",
        "autoencoder1.fit(x_train, x_train,\n",
        "                epochs=30,\n",
        "                batch_size=512,\n",
        "                validation_freq=10,\n",
        "                shuffle=True,\n",
        "                validation_data=(x_test, x_test))"
      ],
      "execution_count": 10,
      "outputs": [
        {
          "output_type": "stream",
          "text": [
            "Train on 60000 samples, validate on 10000 samples\n",
            "Epoch 1/30\n",
            "60000/60000 [==============================] - 2s 36us/sample - loss: 0.0960\n",
            "Epoch 2/30\n",
            "60000/60000 [==============================] - 1s 10us/sample - loss: 0.0675\n",
            "Epoch 3/30\n",
            "60000/60000 [==============================] - 1s 10us/sample - loss: 0.0673\n",
            "Epoch 4/30\n",
            "60000/60000 [==============================] - 1s 10us/sample - loss: 0.0673\n",
            "Epoch 5/30\n",
            "60000/60000 [==============================] - 1s 10us/sample - loss: 0.0673\n",
            "Epoch 6/30\n",
            "60000/60000 [==============================] - 1s 10us/sample - loss: 0.0673\n",
            "Epoch 7/30\n",
            "60000/60000 [==============================] - 1s 9us/sample - loss: 0.0673\n",
            "Epoch 8/30\n",
            "60000/60000 [==============================] - 1s 10us/sample - loss: 0.0673\n",
            "Epoch 9/30\n",
            "60000/60000 [==============================] - 1s 10us/sample - loss: 0.0673\n",
            "Epoch 10/30\n",
            "60000/60000 [==============================] - 1s 12us/sample - loss: 0.0673 - val_loss: 0.0675\n",
            "Epoch 11/30\n",
            "60000/60000 [==============================] - 1s 10us/sample - loss: 0.0673\n",
            "Epoch 12/30\n",
            "60000/60000 [==============================] - 1s 9us/sample - loss: 0.0673\n",
            "Epoch 13/30\n",
            "60000/60000 [==============================] - 1s 10us/sample - loss: 0.0673\n",
            "Epoch 14/30\n",
            "60000/60000 [==============================] - 1s 10us/sample - loss: 0.0671\n",
            "Epoch 15/30\n",
            "60000/60000 [==============================] - 1s 10us/sample - loss: 0.0665\n",
            "Epoch 16/30\n",
            "60000/60000 [==============================] - 1s 9us/sample - loss: 0.0658\n",
            "Epoch 17/30\n",
            "60000/60000 [==============================] - 1s 10us/sample - loss: 0.0653\n",
            "Epoch 18/30\n",
            "60000/60000 [==============================] - 1s 10us/sample - loss: 0.0648\n",
            "Epoch 19/30\n",
            "60000/60000 [==============================] - 1s 10us/sample - loss: 0.0644\n",
            "Epoch 20/30\n",
            "60000/60000 [==============================] - 1s 11us/sample - loss: 0.0640 - val_loss: 0.0640\n",
            "Epoch 21/30\n",
            "60000/60000 [==============================] - 1s 11us/sample - loss: 0.0637\n",
            "Epoch 22/30\n",
            "60000/60000 [==============================] - 1s 10us/sample - loss: 0.0634\n",
            "Epoch 23/30\n",
            "60000/60000 [==============================] - 1s 10us/sample - loss: 0.0631\n",
            "Epoch 24/30\n",
            "60000/60000 [==============================] - 1s 10us/sample - loss: 0.0629\n",
            "Epoch 25/30\n",
            "60000/60000 [==============================] - 1s 10us/sample - loss: 0.0627\n",
            "Epoch 26/30\n",
            "60000/60000 [==============================] - 1s 10us/sample - loss: 0.0625\n",
            "Epoch 27/30\n",
            "60000/60000 [==============================] - 1s 10us/sample - loss: 0.0624\n",
            "Epoch 28/30\n",
            "60000/60000 [==============================] - 1s 10us/sample - loss: 0.0622\n",
            "Epoch 29/30\n",
            "60000/60000 [==============================] - 1s 10us/sample - loss: 0.0621\n",
            "Epoch 30/30\n",
            "60000/60000 [==============================] - 1s 11us/sample - loss: 0.0619 - val_loss: 0.0620\n"
          ],
          "name": "stdout"
        },
        {
          "output_type": "execute_result",
          "data": {
            "text/plain": [
              "<tensorflow.python.keras.callbacks.History at 0x7fa810078fd0>"
            ]
          },
          "metadata": {
            "tags": []
          },
          "execution_count": 10
        }
      ]
    },
    {
      "cell_type": "code",
      "metadata": {
        "id": "9qULO-Asvqw_",
        "colab_type": "code",
        "outputId": "7338ea46-41e2-41b9-a5d8-6cb3c0d11ee4",
        "colab": {
          "base_uri": "https://localhost:8080/",
          "height": 1000
        }
      },
      "source": [
        "# Training \n",
        "autoencoder2.fit(x_train, x_train,\n",
        "                epochs=30,\n",
        "                batch_size=512,\n",
        "                validation_freq=10,\n",
        "                shuffle=True,\n",
        "                validation_data=(x_test, x_test))"
      ],
      "execution_count": 11,
      "outputs": [
        {
          "output_type": "stream",
          "text": [
            "Train on 60000 samples, validate on 10000 samples\n",
            "Epoch 1/30\n",
            "60000/60000 [==============================] - 1s 18us/sample - loss: 0.1112\n",
            "Epoch 2/30\n",
            "60000/60000 [==============================] - 1s 10us/sample - loss: 0.0761\n",
            "Epoch 3/30\n",
            "60000/60000 [==============================] - 1s 10us/sample - loss: 0.0620\n",
            "Epoch 4/30\n",
            "60000/60000 [==============================] - 1s 11us/sample - loss: 0.0525\n",
            "Epoch 5/30\n",
            "60000/60000 [==============================] - 1s 11us/sample - loss: 0.0464\n",
            "Epoch 6/30\n",
            "60000/60000 [==============================] - 1s 10us/sample - loss: 0.0422\n",
            "Epoch 7/30\n",
            "60000/60000 [==============================] - 1s 11us/sample - loss: 0.0389\n",
            "Epoch 8/30\n",
            "60000/60000 [==============================] - 1s 10us/sample - loss: 0.0364\n",
            "Epoch 9/30\n",
            "60000/60000 [==============================] - 1s 10us/sample - loss: 0.0342\n",
            "Epoch 10/30\n",
            "60000/60000 [==============================] - 1s 15us/sample - loss: 0.0325 - val_loss: 0.0314\n",
            "Epoch 11/30\n",
            "60000/60000 [==============================] - 1s 10us/sample - loss: 0.0310\n",
            "Epoch 12/30\n",
            "60000/60000 [==============================] - 1s 10us/sample - loss: 0.0297\n",
            "Epoch 13/30\n",
            "60000/60000 [==============================] - 1s 10us/sample - loss: 0.0285\n",
            "Epoch 14/30\n",
            "60000/60000 [==============================] - 1s 10us/sample - loss: 0.0275\n",
            "Epoch 15/30\n",
            "60000/60000 [==============================] - 1s 11us/sample - loss: 0.0267\n",
            "Epoch 16/30\n",
            "60000/60000 [==============================] - 1s 10us/sample - loss: 0.0259\n",
            "Epoch 17/30\n",
            "60000/60000 [==============================] - 1s 10us/sample - loss: 0.0252\n",
            "Epoch 18/30\n",
            "60000/60000 [==============================] - 1s 10us/sample - loss: 0.0247\n",
            "Epoch 19/30\n",
            "60000/60000 [==============================] - 1s 10us/sample - loss: 0.0241\n",
            "Epoch 20/30\n",
            "60000/60000 [==============================] - 1s 12us/sample - loss: 0.0237 - val_loss: 0.0232\n",
            "Epoch 21/30\n",
            "60000/60000 [==============================] - 1s 11us/sample - loss: 0.0233\n",
            "Epoch 22/30\n",
            "60000/60000 [==============================] - 1s 10us/sample - loss: 0.0229\n",
            "Epoch 23/30\n",
            "60000/60000 [==============================] - 1s 10us/sample - loss: 0.0226\n",
            "Epoch 24/30\n",
            "60000/60000 [==============================] - 1s 10us/sample - loss: 0.0223\n",
            "Epoch 25/30\n",
            "60000/60000 [==============================] - 1s 10us/sample - loss: 0.0220\n",
            "Epoch 26/30\n",
            "60000/60000 [==============================] - 1s 10us/sample - loss: 0.0217\n",
            "Epoch 27/30\n",
            "60000/60000 [==============================] - 1s 10us/sample - loss: 0.0215\n",
            "Epoch 28/30\n",
            "60000/60000 [==============================] - 1s 10us/sample - loss: 0.0213\n",
            "Epoch 29/30\n",
            "60000/60000 [==============================] - 1s 10us/sample - loss: 0.0211\n",
            "Epoch 30/30\n",
            "60000/60000 [==============================] - 1s 12us/sample - loss: 0.0209 - val_loss: 0.0205\n"
          ],
          "name": "stdout"
        },
        {
          "output_type": "execute_result",
          "data": {
            "text/plain": [
              "<tensorflow.python.keras.callbacks.History at 0x7fa7c74eb630>"
            ]
          },
          "metadata": {
            "tags": []
          },
          "execution_count": 11
        }
      ]
    },
    {
      "cell_type": "code",
      "metadata": {
        "id": "q3cZ0UzcDI6i",
        "colab_type": "code",
        "colab": {}
      },
      "source": [
        "# Time to encode some images\n",
        "decoded_imgs1 = autoencoder1.predict(x_test)\n",
        "decoded_imgs2 = autoencoder2.predict(x_test)"
      ],
      "execution_count": 0,
      "outputs": []
    },
    {
      "cell_type": "code",
      "metadata": {
        "id": "OFq9I4aCDI6k",
        "colab_type": "code",
        "outputId": "951f7773-c6ba-4f95-8ecb-8cf82879314c",
        "colab": {
          "base_uri": "https://localhost:8080/",
          "height": 511
        }
      },
      "source": [
        "# use Matplotlib\n",
        "import matplotlib.pyplot as plt\n",
        "\n",
        "plt.figure(figsize=(22, 9))\n",
        "\n",
        "num_imgs = 9\n",
        "\n",
        "for i in range(num_imgs):                        \n",
        "    # display original\n",
        "    ax = plt.subplot(3, num_imgs, i + 1)\n",
        "    true_img = x_test[i].reshape(28, 28)\n",
        "    plt.imshow(true_img, cmap='gray')\n",
        "\n",
        "    # display reconstruction 1\n",
        "    ax = plt.subplot(3, num_imgs, i + 1 + num_imgs)\n",
        "    reconstructed_img = decoded_imgs1[i].reshape(28,28)\n",
        "    plt.imshow(reconstructed_img, cmap='gray')\n",
        "\n",
        "    # display reconstruction 2\n",
        "    ax = plt.subplot(3, num_imgs, i + 1 + num_imgs*2)\n",
        "    reconstructed_img = decoded_imgs2[i].reshape(28,28)\n",
        "    plt.imshow(reconstructed_img, cmap=\"gray\")\n",
        "\n",
        "plt.show()"
      ],
      "execution_count": 13,
      "outputs": [
        {
          "output_type": "display_data",
          "data": {
            "image/png": "[encoded data removed]",
            "text/plain": [
              "<Figure size 1584x648 with 27 Axes>"
            ]
          },
          "metadata": {
            "tags": []
          }
        }
      ]
    },
    {
      "cell_type": "markdown",
      "metadata": {
        "id": "qXvRz-AkxD4D",
        "colab_type": "text"
      },
      "source": [
        "# 실습 과제 "
      ]
    },
    {
      "cell_type": "markdown",
      "metadata": {
        "id": "iMXezkb1xIcj",
        "colab_type": "text"
      },
      "source": [
        "## 1. 두 모델의 차이를 확인해 보자 \n",
        "## 2. Data set에 noise 가 추가 되는 경우 어떻게 동작하는지 확인해 보자\n",
        ">### 1. dataset을 읽어 오는 cell 에서 \"noise_on = False\" 를 \"True\"로 변경\n",
        ">### 2. Noisy data로 다시 학습 및 추론 해 보자. 결과가 무엇을 의미 하는가?\n",
        "## 3. Noisy data로 학습된 모델에 정상 data를 사용하여 추론하면?\n",
        ">### 1. 결과를 추측해 보자\n",
        ">### 2. 실험결과와 추측이 동일한가? 결과를 설명해 보자"
      ]
    },
    {
      "cell_type": "code",
      "metadata": {
        "id": "s7UeHa-09mK1",
        "colab_type": "code",
        "colab": {}
      },
      "source": [
        ""
      ],
      "execution_count": 0,
      "outputs": []
    }
  ]
}