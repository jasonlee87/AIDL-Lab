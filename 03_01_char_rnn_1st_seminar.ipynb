{
  "nbformat": 4,
  "nbformat_minor": 0,
  "metadata": {
    "kernelspec": {
      "display_name": "TensorFlow-GPU",
      "language": "python",
      "name": "tf-gpu"
    },
    "language_info": {
      "codemirror_mode": {
        "name": "ipython",
        "version": 3
      },
      "file_extension": ".py",
      "mimetype": "text/x-python",
      "name": "python",
      "nbconvert_exporter": "python",
      "pygments_lexer": "ipython3",
      "version": "3.6.8"
    },
    "colab": {
      "name": "03_01_char_rnn_1st_seminar.ipynb",
      "provenance": [],
      "include_colab_link": true
    }
  },
  "cells": [
    {
      "cell_type": "markdown",
      "metadata": {
        "id": "view-in-github",
        "colab_type": "text"
      },
      "source": [
        "<a href=\"https://colab.research.google.com/github/jasonlee87/AIDL-Lab/blob/master/03_01_char_rnn_1st_seminar.ipynb\" target=\"_parent\"><img src=\"https://colab.research.google.com/assets/colab-badge.svg\" alt=\"Open In Colab\"/></a>"
      ]
    },
    {
      "cell_type": "markdown",
      "metadata": {
        "id": "kwtc7TmzUcFA",
        "colab_type": "text"
      },
      "source": [
        "## SIMPLE CHAR-RNN "
      ]
    },
    {
      "cell_type": "code",
      "metadata": {
        "id": "5HJy9rbTUcFB",
        "colab_type": "code",
        "outputId": "c648344a-cbfe-4d5f-f316-5ddc51825902",
        "colab": {
          "base_uri": "https://localhost:8080/",
          "height": 34
        }
      },
      "source": [
        "from __future__ import print_function\n",
        "import tensorflow as tf\n",
        "old_v = tf.logging.get_verbosity()\n",
        "tf.logging.set_verbosity(tf.logging.ERROR)\n",
        "import numpy as np\n",
        "from tensorflow.contrib import rnn\n",
        "tf.set_random_seed(0)  \n",
        "print (\"TENSORFLOW VERSION IS %s\" % (tf.__version__))"
      ],
      "execution_count": 0,
      "outputs": [
        {
          "output_type": "stream",
          "text": [
            "TENSORFLOW VERSION IS 1.14.0\n"
          ],
          "name": "stdout"
        }
      ]
    },
    {
      "cell_type": "markdown",
      "metadata": {
        "id": "l22P7vmXUcFF",
        "colab_type": "text"
      },
      "source": [
        "## DEFINE TRAINING SEQUENCE"
      ]
    },
    {
      "cell_type": "code",
      "metadata": {
        "scrolled": true,
        "id": "GwIJEHzmUcFF",
        "colab_type": "code",
        "outputId": "c1856fd5-b6c3-4889-a897-f1705c8e692c",
        "colab": {
          "base_uri": "https://localhost:8080/",
          "height": 87
        }
      },
      "source": [
        "sentence = (\"if you want to build a ship, don't drum up people together to \"\n",
        "            \"collect wood and don't assign them tasks and work, but rather \"\n",
        "            \"teach them to long for the endless immensity of the sea.\")\n",
        "print (\"FOLLOWING IS OUR TRAINING SEQUENCE:\")\n",
        "print (sentence)\n",
        "print (\"Length of 'test sentence' is %s\" %len(sentence))"
      ],
      "execution_count": 0,
      "outputs": [
        {
          "output_type": "stream",
          "text": [
            "FOLLOWING IS OUR TRAINING SEQUENCE:\n",
            "if you want to build a ship, don't drum up people together to collect wood and don't assign them tasks and work, but rather teach them to long for the endless immensity of the sea.\n",
            "Length of 'test sentence' is 180\n"
          ],
          "name": "stdout"
        }
      ]
    },
    {
      "cell_type": "markdown",
      "metadata": {
        "id": "d98aL0P2UcFI",
        "colab_type": "text"
      },
      "source": [
        "## DEFINE VOCABULARY AND DICTIONARY"
      ]
    },
    {
      "cell_type": "code",
      "metadata": {
        "scrolled": true,
        "id": "_zLCAOuYUcFJ",
        "colab_type": "code",
        "outputId": "75ab236d-f6ab-4a18-ccd3-194b22f5c45e",
        "colab": {
          "base_uri": "https://localhost:8080/",
          "height": 104
        }
      },
      "source": [
        "char_set = list(set(sentence))\n",
        "char_dic = {w: i for i, w in enumerate(char_set)}\n",
        "print (\"VOCABULARY: \")\n",
        "print (char_set)\n",
        "print (\"DICTIONARY: \")\n",
        "print (char_dic)"
      ],
      "execution_count": 0,
      "outputs": [
        {
          "output_type": "stream",
          "text": [
            "VOCABULARY: \n",
            "['b', 'r', 'i', 'o', 'p', 'w', 's', 'c', 'l', 'u', 'k', 'g', '.', 'm', 'e', 'y', 'f', ' ', ',', \"'\", 'n', 't', 'd', 'h', 'a']\n",
            "DICTIONARY: \n",
            "{'b': 0, 'r': 1, 'i': 2, 'o': 3, 'p': 4, 'w': 5, 's': 6, 'c': 7, 'l': 8, 'u': 9, 'k': 10, 'g': 11, '.': 12, 'm': 13, 'e': 14, 'y': 15, 'f': 16, ' ': 17, ',': 18, \"'\": 19, 'n': 20, 't': 21, 'd': 22, 'h': 23, 'a': 24}\n"
          ],
          "name": "stdout"
        }
      ]
    },
    {
      "cell_type": "markdown",
      "metadata": {
        "id": "LrG7cnBVUcFL",
        "colab_type": "text"
      },
      "source": [
        "## CONFIGURE NETWORK"
      ]
    },
    {
      "cell_type": "code",
      "metadata": {
        "id": "dbLZ_it9UcFL",
        "colab_type": "code",
        "outputId": "4aa13133-27e8-467c-d099-e45eb5c7d1a1",
        "colab": {
          "base_uri": "https://localhost:8080/",
          "height": 50
        }
      },
      "source": [
        "data_dim    = len(char_set)\n",
        "num_classes = len(char_set)\n",
        "hidden_size     = 64\n",
        "sequence_length = 10  # Any arbitrary number\n",
        "print ('data_dim : %d' %data_dim)\n",
        "print ('num_classes : %d' %num_classes)"
      ],
      "execution_count": 0,
      "outputs": [
        {
          "output_type": "stream",
          "text": [
            "data_dim : 25\n",
            "num_classes : 25\n"
          ],
          "name": "stdout"
        }
      ]
    },
    {
      "cell_type": "markdown",
      "metadata": {
        "id": "trvtXMy4UcFO",
        "colab_type": "text"
      },
      "source": [
        "## SET TRAINING BATCHES"
      ]
    },
    {
      "cell_type": "code",
      "metadata": {
        "id": "xaPtQI5MUcFO",
        "colab_type": "code",
        "colab": {}
      },
      "source": [
        "def print_list(_name,_x):\n",
        "    print('Type of [%s] is [%s]' %(_name,type(_x)))\n",
        "    print('Length of [%s] is %s' %(_name,len(_x)))\n",
        "    print('%s[0] Looks like %s' %(_name,_x[0]))"
      ],
      "execution_count": 0,
      "outputs": []
    },
    {
      "cell_type": "code",
      "metadata": {
        "scrolled": true,
        "id": "MuGHsXodUcFQ",
        "colab_type": "code",
        "outputId": "d23465b4-e22d-4d3f-e8d7-27481590b840",
        "colab": {
          "base_uri": "https://localhost:8080/",
          "height": 286
        }
      },
      "source": [
        "dataX = []\n",
        "dataY = []\n",
        "for i in range(0, len(sentence) - sequence_length):\n",
        "    x_str = sentence[i:i + sequence_length]\n",
        "    y_str = sentence[i + 1: i + sequence_length + 1]\n",
        "    x = [char_dic[c] for c in x_str]  # x str to index\n",
        "    y = [char_dic[c] for c in y_str]  # y str to index\n",
        "    dataX.append(x)\n",
        "    dataY.append(y)\n",
        "    if i<5:\n",
        "        print (\"[%3d/%3d] [%s]=>[%s]\" % (i, len(sentence), x_str, y_str))\n",
        "        print (\"%s%s=>%s\" % (' '*10, x, y))\n",
        "print_list('dataX',dataX)\n",
        "print_list('dataY',dataY)"
      ],
      "execution_count": 0,
      "outputs": [
        {
          "output_type": "stream",
          "text": [
            "[  0/180] [if you wan]=>[f you want]\n",
            "          [2, 16, 17, 15, 3, 9, 17, 5, 24, 20]=>[16, 17, 15, 3, 9, 17, 5, 24, 20, 21]\n",
            "[  1/180] [f you want]=>[ you want ]\n",
            "          [16, 17, 15, 3, 9, 17, 5, 24, 20, 21]=>[17, 15, 3, 9, 17, 5, 24, 20, 21, 17]\n",
            "[  2/180] [ you want ]=>[you want t]\n",
            "          [17, 15, 3, 9, 17, 5, 24, 20, 21, 17]=>[15, 3, 9, 17, 5, 24, 20, 21, 17, 21]\n",
            "[  3/180] [you want t]=>[ou want to]\n",
            "          [15, 3, 9, 17, 5, 24, 20, 21, 17, 21]=>[3, 9, 17, 5, 24, 20, 21, 17, 21, 3]\n",
            "[  4/180] [ou want to]=>[u want to ]\n",
            "          [3, 9, 17, 5, 24, 20, 21, 17, 21, 3]=>[9, 17, 5, 24, 20, 21, 17, 21, 3, 17]\n",
            "Type of [dataX] is [<class 'list'>]\n",
            "Length of [dataX] is 170\n",
            "dataX[0] Looks like [2, 16, 17, 15, 3, 9, 17, 5, 24, 20]\n",
            "Type of [dataY] is [<class 'list'>]\n",
            "Length of [dataY] is 170\n",
            "dataY[0] Looks like [16, 17, 15, 3, 9, 17, 5, 24, 20, 21]\n"
          ],
          "name": "stdout"
        }
      ]
    },
    {
      "cell_type": "code",
      "metadata": {
        "id": "RGZNQgOrUcFS",
        "colab_type": "code",
        "outputId": "e64c050e-d5c9-4cae-e56c-326f1899fbe9",
        "colab": {
          "base_uri": "https://localhost:8080/",
          "height": 50
        }
      },
      "source": [
        "ndata      = len(dataX)\n",
        "batch_size = 20\n",
        "print (\"     'NDATA' IS %d\" % (ndata))\n",
        "print (\"'BATCH_SIZE' IS %d\" % (batch_size))"
      ],
      "execution_count": 0,
      "outputs": [
        {
          "output_type": "stream",
          "text": [
            "     'NDATA' IS 170\n",
            "'BATCH_SIZE' IS 20\n"
          ],
          "name": "stdout"
        }
      ]
    },
    {
      "cell_type": "markdown",
      "metadata": {
        "id": "yuRCZzvDUcFU",
        "colab_type": "text"
      },
      "source": [
        "## DEFINE PLACEHOLDERS"
      ]
    },
    {
      "cell_type": "code",
      "metadata": {
        "scrolled": true,
        "id": "23oza21fUcFV",
        "colab_type": "code",
        "outputId": "2ef395a4-b90d-49c2-9b37-057e9120a077",
        "colab": {
          "base_uri": "https://localhost:8080/",
          "height": 118
        }
      },
      "source": [
        "X = tf.placeholder(tf.int32, [None, sequence_length])\n",
        "Y = tf.placeholder(tf.int32, [None, sequence_length])\n",
        "X_OH = tf.one_hot(X, num_classes)\n",
        "print (\"'sequence_length' IS [%d]\" % (sequence_length))\n",
        "print (\"    'num_classes' IS [%d]\" % (num_classes))\n",
        "print(\"'X' LOOKS LIKE \\n   [%s]\" % (X))  \n",
        "print(\"'X_OH' LOOKS LIKE \\n   [%s]\" % (X_OH))"
      ],
      "execution_count": 0,
      "outputs": [
        {
          "output_type": "stream",
          "text": [
            "'sequence_length' IS [10]\n",
            "    'num_classes' IS [25]\n",
            "'X' LOOKS LIKE \n",
            "   [Tensor(\"Placeholder:0\", shape=(?, 10), dtype=int32)]\n",
            "'X_OH' LOOKS LIKE \n",
            "   [Tensor(\"one_hot:0\", shape=(?, 10, 25), dtype=float32)]\n"
          ],
          "name": "stdout"
        }
      ]
    },
    {
      "cell_type": "markdown",
      "metadata": {
        "id": "QNL1l0NPUcFY",
        "colab_type": "text"
      },
      "source": [
        "## DEFINE MODEL"
      ]
    },
    {
      "cell_type": "code",
      "metadata": {
        "id": "gl2-2cjJUcFd",
        "colab_type": "code",
        "outputId": "ccf06a38-6263-4f66-8d1d-9b72c5dd442b",
        "colab": {
          "base_uri": "https://localhost:8080/",
          "height": 101
        }
      },
      "source": [
        "with tf.variable_scope('CHAR-RNN', reuse=False):\n",
        "    cell = rnn.BasicLSTMCell(hidden_size, state_is_tuple=True)\n",
        "    # DYNAMIC RNN WITH FULLY CONNECTED LAYER\n",
        "    _hiddens = tf.contrib.layers.fully_connected(X_OH, hidden_size, activation_fn=tf.nn.relu)\n",
        "    _rnnouts, _states = tf.nn.dynamic_rnn(cell, _hiddens, dtype=tf.float32)\n",
        "    _densouts  = tf.contrib.layers.fully_connected(_rnnouts, num_classes, activation_fn=None)\n",
        "    # RESHAPE FOR SEQUNCE LOSS\n",
        "    outputs = tf.reshape(_densouts, [batch_size, sequence_length, num_classes])\n",
        "print (\"_hiddens  [%s]\" % (_hiddens))\n",
        "print (\"_rnnouts  [%s]\" % (_rnnouts))\n",
        "print (\"_densouts [%s]\" % (_densouts))\n",
        "print (\"outputs   [%s]\" % (outputs))\n",
        "print (\"MODEL DEFINED.\")"
      ],
      "execution_count": 0,
      "outputs": [
        {
          "output_type": "stream",
          "text": [
            "_hiddens  [Tensor(\"CHAR-RNN/fully_connected/Relu:0\", shape=(?, 10, 64), dtype=float32)]\n",
            "_rnnouts  [Tensor(\"CHAR-RNN/rnn/transpose_1:0\", shape=(?, 10, 64), dtype=float32)]\n",
            "_densouts [Tensor(\"CHAR-RNN/fully_connected_1/BiasAdd:0\", shape=(?, 10, 25), dtype=float32)]\n",
            "outputs   [Tensor(\"CHAR-RNN/Reshape:0\", shape=(20, 10, 25), dtype=float32)]\n",
            "MODEL DEFINED.\n"
          ],
          "name": "stdout"
        }
      ]
    },
    {
      "cell_type": "markdown",
      "metadata": {
        "id": "Rk41UheeUcFg",
        "colab_type": "text"
      },
      "source": [
        "## DEFINE TF FUNCTIONS"
      ]
    },
    {
      "cell_type": "code",
      "metadata": {
        "scrolled": false,
        "id": "33SESl_DUcFg",
        "colab_type": "code",
        "outputId": "95273b13-6e97-4d05-d2e3-26212a52123e",
        "colab": {
          "base_uri": "https://localhost:8080/",
          "height": 84
        }
      },
      "source": [
        "# EQUAL WEIGHTS\n",
        "weights = tf.ones([batch_size, sequence_length])\n",
        "seq_loss = tf.contrib.seq2seq.sequence_loss(\n",
        "    logits=outputs, targets=Y, weights=weights)\n",
        "loss = tf.reduce_mean(seq_loss)\n",
        "optm  = tf.train.AdamOptimizer(learning_rate=0.1).minimize(loss)\n",
        "print (\"weights  [%s]\" % (weights))\n",
        "print (\"outputs  [%s]\" % (outputs))\n",
        "print (\"Y        [%s]\" % (Y))\n",
        "print (\"FUNCTIONS DEFINED.\")"
      ],
      "execution_count": 0,
      "outputs": [
        {
          "output_type": "stream",
          "text": [
            "weights  [Tensor(\"ones:0\", shape=(20, 10), dtype=float32)]\n",
            "outputs  [Tensor(\"CHAR-RNN/Reshape:0\", shape=(20, 10, 25), dtype=float32)]\n",
            "Y        [Tensor(\"Placeholder_1:0\", shape=(?, 10), dtype=int32)]\n",
            "FUNCTIONS DEFINED.\n"
          ],
          "name": "stdout"
        }
      ]
    },
    {
      "cell_type": "markdown",
      "metadata": {
        "id": "4fp-DRJFUcFi",
        "colab_type": "text"
      },
      "source": [
        "## OPTIMIZE"
      ]
    },
    {
      "cell_type": "code",
      "metadata": {
        "scrolled": true,
        "id": "dC9dijhUUcFi",
        "colab_type": "code",
        "outputId": "48cd5833-fd6a-497e-c5cf-2d7ac18132e7",
        "colab": {
          "base_uri": "https://localhost:8080/",
          "height": 101
        }
      },
      "source": [
        "sess = tf.Session()\n",
        "sess.run(tf.global_variables_initializer())\n",
        "iteration = 500\n",
        "for i in range(iteration):\n",
        "    randidx = np.random.randint(low=0, high=ndata, size=batch_size)\n",
        "    batchX = [dataX[iii] for iii in randidx]\n",
        "    batchY = [dataY[iii] for iii in randidx]\n",
        "    feeds = {X: batchX, Y: batchY}\n",
        "    _, loss_val, results = sess.run([optm, loss, outputs], feed_dict=feeds)\n",
        "    if (i%100) == 0:\n",
        "        #for j, result in enumerate(results):\n",
        "            index = np.argmax(results[0], axis=1)\n",
        "            print('Epotch:',i,', Results:[',''.join([char_set[t] for t in index]),'],  Loss:', loss_val)"
      ],
      "execution_count": 0,
      "outputs": [
        {
          "output_type": "stream",
          "text": [
            "Epotch: 0 , Results:[ ccwywhhhww ],  Loss: 3.2218745\n",
            "Epotch: 100 , Results:[ to long fo ],  Loss: 0.35110405\n",
            "Epotch: 200 , Results:[ o of the s ],  Loss: 0.2889866\n",
            "Epotch: 300 , Results:[ ui rather  ],  Loss: 0.32004464\n",
            "Epotch: 400 , Results:[ hem te col ],  Loss: 0.32904407\n"
          ],
          "name": "stdout"
        }
      ]
    },
    {
      "cell_type": "markdown",
      "metadata": {
        "id": "hZ7XkUlFUcFl",
        "colab_type": "text"
      },
      "source": [
        "### SAMPLING FUNCTION "
      ]
    },
    {
      "cell_type": "code",
      "metadata": {
        "id": "cbpq2QZzUcFl",
        "colab_type": "code",
        "outputId": "4a5ec29a-0c91-433e-ce63-5d4e4ba54582",
        "colab": {
          "base_uri": "https://localhost:8080/",
          "height": 84
        }
      },
      "source": [
        "LEN = 1;\n",
        "XL     = tf.placeholder(tf.int32, [None, 1])\n",
        "XL_OH  = tf.one_hot(XL, num_classes)\n",
        "with tf.variable_scope('CHAR-RNN', reuse=True):\n",
        "    cell_L = rnn.BasicLSTMCell(hidden_size, state_is_tuple=True,reuse=True)\n",
        "    istate = cell_L.zero_state(batch_size=1, dtype=tf.float32)\n",
        "    # DYNAMIC RNN WITH FULLY CONNECTED LAYER\n",
        "    _hiddens = tf.contrib.layers.fully_connected(XL_OH,hidden_size,activation_fn=tf.nn.relu)\n",
        "    _outputs_L, states_L = tf.nn.dynamic_rnn(cell_L, _hiddens\n",
        "                                , initial_state=istate, dtype=tf.float32)\n",
        "    _outputs_L  = tf.contrib.layers.fully_connected(\n",
        "        _outputs_L, num_classes, activation_fn=None)\n",
        "    # RESHAPE FOR SEQUNCE LOSS\n",
        "    outputs_L = tf.reshape(_outputs_L, [LEN, 1, num_classes])\n",
        "print (\"XL        [%s]\" % (XL))\n",
        "print (\"_hiddens  [%s]\" % (_hiddens))\n",
        "print (\"_outputs_L[%s]\" % (_outputs_L))\n",
        "print (\"outputs_L [%s]\" % (outputs_L))"
      ],
      "execution_count": 0,
      "outputs": [
        {
          "output_type": "stream",
          "text": [
            "XL        [Tensor(\"Placeholder_2:0\", shape=(?, 1), dtype=int32)]\n",
            "_hiddens  [Tensor(\"CHAR-RNN_1/fully_connected/Relu:0\", shape=(?, 1, 64), dtype=float32)]\n",
            "_outputs_L[Tensor(\"CHAR-RNN_1/fully_connected_1/BiasAdd:0\", shape=(1, 1, 25), dtype=float32)]\n",
            "outputs_L [Tensor(\"CHAR-RNN_1/Reshape:0\", shape=(1, 1, 25), dtype=float32)]\n"
          ],
          "name": "stdout"
        }
      ]
    },
    {
      "cell_type": "markdown",
      "metadata": {
        "id": "BaKSSadfUcFn",
        "colab_type": "text"
      },
      "source": [
        "## SAMPLE"
      ]
    },
    {
      "cell_type": "code",
      "metadata": {
        "id": "Usf9xG65UcFo",
        "colab_type": "code",
        "outputId": "8111b2b0-f388-42db-f803-4ee68b1ad8a2",
        "colab": {
          "base_uri": "https://localhost:8080/",
          "height": 370
        }
      },
      "source": [
        "# BURNIN\n",
        "prime = \"if you\"\n",
        "istateval = sess.run(cell_L.zero_state(1, tf.float32))\n",
        "for i,c in enumerate(prime[:-1]):\n",
        "    index = char_dic[c]\n",
        "    inval = [[index]]\n",
        "    outval, stateval = sess.run([outputs_L, states_L], feed_dict={XL:inval, istate:istateval})\n",
        "    istateval = stateval ## Updata State Manually!!\n",
        "    if i<3:\n",
        "        print('[%d] char:%s\\n    index:[%s]\\n    outval[%s]'%(i,c,index,outval))"
      ],
      "execution_count": 0,
      "outputs": [
        {
          "output_type": "stream",
          "text": [
            "[0] char:i\n",
            "    index:[2]\n",
            "    outval[[[[ -1.6557319    1.9737705   -2.8105857    0.6829062    3.405521\n",
            "     0.7120827   -1.0422974    0.6258025    8.051093     1.4545879\n",
            "    -3.1343708    4.352645    -2.3679652    5.654833    -5.9854355\n",
            "     0.6415327    3.2710943    2.562506    -7.3916683   -6.8828897\n",
            "    -2.7129982    4.6576123   -1.2414296  -13.206303     0.41702092]]]]\n",
            "[1] char:f\n",
            "    index:[16]\n",
            "    outval[[[[-7.1981034  -1.2956831  -6.5815387   4.115356   -0.01123041\n",
            "   -6.5440354  -7.039941   -5.191717   -2.806518   -5.702012\n",
            "   -5.274781   -5.5006013  -5.604516    3.7385488  -4.202286\n",
            "    1.5635679  -1.1815397   5.2233777  -5.8300314  -7.7316384\n",
            "    2.8460474  -6.023552   -3.7154255  -0.35675585 -0.8780604 ]]]]\n",
            "[2] char: \n",
            "    index:[17]\n",
            "    outval[[[[-4.631573    5.6741786   0.7299041   1.7961905  -1.3119183\n",
            "    0.48574406 -4.920066   -6.7528834   3.0348525  -1.2925389\n",
            "   -8.813699    0.9602537  -7.5885663  -1.1515355   2.9360108\n",
            "    7.0721083   1.9819705  -1.5325236  -4.9666567  -2.4994142\n",
            "   -8.380194    6.551611   -2.6242986  -7.1895914   2.03402   ]]]]\n"
          ],
          "name": "stdout"
        }
      ]
    },
    {
      "cell_type": "code",
      "metadata": {
        "scrolled": true,
        "id": "IPyowC_bUcFp",
        "colab_type": "code",
        "outputId": "bbac26fe-8938-4b8c-96a2-d78d2c709d5b",
        "colab": {
          "base_uri": "https://localhost:8080/",
          "height": 171
        }
      },
      "source": [
        "# SAMPLE\n",
        "inval  = [[char_dic[prime[-1]]]]\n",
        "print ('prime: \"{}\", prime[-1]: {}, inval: {}'.format(prime, prime[-1], inval))\n",
        "outval, stateval = sess.run([outputs_L, states_L]\n",
        "                    , feed_dict={XL:inval, istate:istateval})\n",
        "index = np.argmax(outval)\n",
        "print ('index : ', index)\n",
        "char  = char_set[index]\n",
        "print (char)\n",
        "chars = ' '\n",
        "for i in range(200):\n",
        "    inval = [[index]]\n",
        "    outval, stateval = sess.run([outputs_L, states_L]\n",
        "                        , feed_dict={XL:inval, istate:istateval})\n",
        "    istateval = stateval\n",
        "    index = np.argmax(outval)\n",
        "    char  = char_set[index]\n",
        "    chars += char\n",
        "\n",
        "print (\"SAMPLED SETENCE: \\n %s\" % (prime+chars))\n",
        "print (\"\\nORIGINAL SENTENCE: \\n %s\" % (sentence))"
      ],
      "execution_count": 0,
      "outputs": [
        {
          "output_type": "stream",
          "text": [
            "prime: \"if you\", prime[-1]: u, inval: [[9]]\n",
            "index :  17\n",
            " \n",
            "SAMPLED SETENCE: \n",
            " if you the sea., don't drum up people together to collect wood a ship, don't drum up people together to collect wood a ship, don't drum up people together to collect wood a ship, don't drum up people togethe\n",
            "\n",
            "ORIGINAL SENTENCE: \n",
            " if you want to build a ship, don't drum up people together to collect wood and don't assign them tasks and work, but rather teach them to long for the endless immensity of the sea.\n"
          ],
          "name": "stdout"
        }
      ]
    },
    {
      "cell_type": "code",
      "metadata": {
        "id": "W7BUTHVoUcFr",
        "colab_type": "code",
        "colab": {}
      },
      "source": [
        ""
      ],
      "execution_count": 0,
      "outputs": []
    }
  ]
}