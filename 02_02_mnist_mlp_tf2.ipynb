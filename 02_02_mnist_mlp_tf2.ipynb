{
  "nbformat": 4,
  "nbformat_minor": 0,
  "metadata": {
    "colab": {
      "name": "02_02_mnist_mlp_tf2.ipynb",
      "provenance": [],
      "collapsed_sections": [],
      "include_colab_link": true
    },
    "kernelspec": {
      "name": "python3",
      "display_name": "Python 3"
    },
    "accelerator": "GPU"
  },
  "cells": [
    {
      "cell_type": "markdown",
      "metadata": {
        "id": "view-in-github",
        "colab_type": "text"
      },
      "source": [
        "<a href=\"https://colab.research.google.com/github/jasonlee87/AIDL-Lab/blob/master/02_02_mnist_mlp_tf2.ipynb\" target=\"_parent\"><img src=\"https://colab.research.google.com/assets/colab-badge.svg\" alt=\"Open In Colab\"/></a>"
      ]
    },
    {
      "cell_type": "markdown",
      "metadata": {
        "colab_type": "text",
        "id": "3wF5wszaj97Y"
      },
      "source": [
        "# tf.keras 패키지를 이용해 MLP(Mingle Layer Perceptron) 설계하기"
      ]
    },
    {
      "cell_type": "markdown",
      "metadata": {
        "colab_type": "text",
        "id": "04QgGZc9bF5D"
      },
      "source": [
        "1. 이미지 분류(Image Classification)를 위한 뉴럴 네트워크(Neural Network)를 MLP로 설계한다.\n",
        "2. NN 모델을 훈련시킨다.\n",
        "3. NN 모델의 정확도를 검증한다."
      ]
    },
    {
      "cell_type": "markdown",
      "metadata": {
        "colab_type": "text",
        "id": "nnrWf3PCEzXL"
      },
      "source": [
        "## TensorFlow 2 패키지를 설치하고 관련 모듈들을 import 한다."
      ]
    },
    {
      "cell_type": "code",
      "metadata": {
        "colab_type": "code",
        "id": "0trJmd6DjqBZ",
        "colab": {}
      },
      "source": [
        "from __future__ import absolute_import, division, print_function, unicode_literals\n",
        "\n",
        "# Install TensorFlow\n",
        "try:\n",
        "  # %tensorflow_version only exists in Colab.\n",
        "  %tensorflow_version 2.x\n",
        "except Exception:\n",
        "  pass\n",
        "\n",
        "import tensorflow as tf\n",
        "import matplotlib.pyplot as plt"
      ],
      "execution_count": 0,
      "outputs": []
    },
    {
      "cell_type": "markdown",
      "metadata": {
        "colab_type": "text",
        "id": "7NAbSZiaoJ4z"
      },
      "source": [
        "## tf.keras.dataset의 mnist dataset을 다운받는다. 그리고 255.0으로 나눠 int를 float로 변환한다."
      ]
    },
    {
      "cell_type": "code",
      "metadata": {
        "colab_type": "code",
        "id": "WGCyRzC2xxW1",
        "colab": {}
      },
      "source": [
        "mnist = tf.keras.datasets.mnist\n",
        "\n",
        "(x_train, y_train), (x_test, y_test) = mnist.load_data()\n",
        "x_train, x_test = x_train / 255.0, x_test / 255.0"
      ],
      "execution_count": 0,
      "outputs": []
    },
    {
      "cell_type": "code",
      "metadata": {
        "colab_type": "code",
        "id": "7FP5258xjs-v",
        "colab": {}
      },
      "source": [
        "mnist = tf.keras.datasets.mnist\n",
        "\n",
        "(x_train, y_train), (test_images, test_labels) = mnist.load_data()\n",
        "x_train, test_images = x_train / 255.0, test_images / 255.0"
      ],
      "execution_count": 0,
      "outputs": []
    },
    {
      "cell_type": "markdown",
      "metadata": {
        "id": "R1Z73kWybrg8",
        "colab_type": "text"
      },
      "source": [
        "## 실제 mnist dataset 모습 (총 60000개)"
      ]
    },
    {
      "cell_type": "code",
      "metadata": {
        "id": "p0gD96iQbpFp",
        "colab_type": "code",
        "outputId": "e8c601b3-31f2-4278-9ac0-f25e7b76ab23",
        "colab": {
          "base_uri": "https://localhost:8080/",
          "height": 265
        }
      },
      "source": [
        "plt.imshow(x_train[59999], cmap='gray_r')\n",
        "plt.show()"
      ],
      "execution_count": 47,
      "outputs": [
        {
          "output_type": "display_data",
          "data": {
            "image/png": "[encoded data removed]",
            "text/plain": [
              "<Figure size 432x288 with 1 Axes>"
            ]
          },
          "metadata": {
            "tags": []
          }
        }
      ]
    },
    {
      "cell_type": "markdown",
      "metadata": {
        "colab_type": "text",
        "id": "BPZ68wASog_I"
      },
      "source": [
        "## tf.keras.Sequential 모델을 만든다."
      ]
    },
    {
      "cell_type": "code",
      "metadata": {
        "colab_type": "code",
        "id": "h3IKyzTCDNGo",
        "colab": {}
      },
      "source": [
        "model = tf.keras.models.Sequential([\n",
        "  tf.keras.layers.Flatten(input_shape=(28, 28)),\n",
        "  tf.keras.layers.Dense(512, activation='relu'),\n",
        "  tf.keras.layers.Dropout(0.2),\n",
        "  tf.keras.layers.Dense(128, activation='relu'),\n",
        "  tf.keras.layers.Dropout(0.2),\n",
        "  tf.keras.layers.Dense(10, activation='softmax')\n",
        "])"
      ],
      "execution_count": 0,
      "outputs": []
    },
    {
      "cell_type": "markdown",
      "metadata": {
        "id": "yKX-32Lu52ob",
        "colab_type": "text"
      },
      "source": [
        "## 그리고 훈련에 사용할 optimizer와 loss 함수를 선택한다."
      ]
    },
    {
      "cell_type": "code",
      "metadata": {
        "id": "hP7ohoahKZ-K",
        "colab_type": "code",
        "colab": {}
      },
      "source": [
        "model.compile(optimizer='adam',\n",
        "              loss='sparse_categorical_crossentropy',\n",
        "              metrics=['accuracy'])"
      ],
      "execution_count": 0,
      "outputs": []
    },
    {
      "cell_type": "markdown",
      "metadata": {
        "id": "G8HsfpQDjEVK",
        "colab_type": "text"
      },
      "source": [
        "## 모델 학습"
      ]
    },
    {
      "cell_type": "code",
      "metadata": {
        "id": "-_idMKYwKVqX",
        "colab_type": "code",
        "outputId": "83c7ebbe-51d6-4e78-d255-2fb569b2684f",
        "colab": {
          "base_uri": "https://localhost:8080/",
          "height": 224
        }
      },
      "source": [
        "history = model.fit(x_train, y_train, epochs=5)"
      ],
      "execution_count": 50,
      "outputs": [
        {
          "output_type": "stream",
          "text": [
            "Train on 60000 samples\n",
            "Epoch 1/5\n",
            "60000/60000 [==============================] - 7s 121us/sample - loss: 0.2356 - accuracy: 0.9302\n",
            "Epoch 2/5\n",
            "60000/60000 [==============================] - 7s 113us/sample - loss: 0.1087 - accuracy: 0.9673\n",
            "Epoch 3/5\n",
            "60000/60000 [==============================] - 7s 113us/sample - loss: 0.0829 - accuracy: 0.9732\n",
            "Epoch 4/5\n",
            "60000/60000 [==============================] - 7s 113us/sample - loss: 0.0672 - accuracy: 0.9796\n",
            "Epoch 5/5\n",
            "60000/60000 [==============================] - 7s 115us/sample - loss: 0.0593 - accuracy: 0.9815\n"
          ],
          "name": "stdout"
        }
      ]
    },
    {
      "cell_type": "markdown",
      "metadata": {
        "colab_type": "text",
        "id": "ix4mEL65on-w"
      },
      "source": [
        "## 모델 구성 요약을 보는 2가지 방법"
      ]
    },
    {
      "cell_type": "code",
      "metadata": {
        "id": "13WbCZ6De3_5",
        "colab_type": "code",
        "outputId": "4bdf398f-99ae-43e2-903e-1036f154cd09",
        "colab": {
          "base_uri": "https://localhost:8080/",
          "height": 357
        }
      },
      "source": [
        "model.summary()"
      ],
      "execution_count": 51,
      "outputs": [
        {
          "output_type": "stream",
          "text": [
            "Model: \"sequential_1\"\n",
            "_________________________________________________________________\n",
            "Layer (type)                 Output Shape              Param #   \n",
            "=================================================================\n",
            "flatten_1 (Flatten)          (None, 784)               0         \n",
            "_________________________________________________________________\n",
            "dense_3 (Dense)              (None, 512)               401920    \n",
            "_________________________________________________________________\n",
            "dropout_2 (Dropout)          (None, 512)               0         \n",
            "_________________________________________________________________\n",
            "dense_4 (Dense)              (None, 128)               65664     \n",
            "_________________________________________________________________\n",
            "dropout_3 (Dropout)          (None, 128)               0         \n",
            "_________________________________________________________________\n",
            "dense_5 (Dense)              (None, 10)                1290      \n",
            "=================================================================\n",
            "Total params: 468,874\n",
            "Trainable params: 468,874\n",
            "Non-trainable params: 0\n",
            "_________________________________________________________________\n"
          ],
          "name": "stdout"
        }
      ]
    },
    {
      "cell_type": "code",
      "metadata": {
        "colab_type": "code",
        "id": "6yFNeEz83RW3",
        "outputId": "c0c0f659-5562-4e57-ed9d-c71069926be1",
        "colab": {
          "base_uri": "https://localhost:8080/",
          "height": 754
        }
      },
      "source": [
        "#tf.keras.utils.plot_model(model) \n",
        "tf.keras.utils.plot_model(model, \n",
        "                          'file_name.png',\n",
        "                          show_shapes=True\n",
        "                          )"
      ],
      "execution_count": 52,
      "outputs": [
        {
          "output_type": "execute_result",
          "data": {
            "image/png": "[encoded data removed]",
            "text/plain": [
              "<IPython.core.display.Image object>"
            ]
          },
          "metadata": {
            "tags": []
          },
          "execution_count": 52
        }
      ]
    },
    {
      "cell_type": "markdown",
      "metadata": {
        "id": "eaj5lRiNeTzI",
        "colab_type": "text"
      },
      "source": [
        "## 모델 테스트"
      ]
    },
    {
      "cell_type": "code",
      "metadata": {
        "id": "33QHvlOLeSik",
        "colab_type": "code",
        "outputId": "ad456090-a361-4dad-89fb-eb85a89855a2",
        "colab": {
          "base_uri": "https://localhost:8080/",
          "height": 51
        }
      },
      "source": [
        "model.evaluate(x_test,  y_test, verbose=2)"
      ],
      "execution_count": 53,
      "outputs": [
        {
          "output_type": "stream",
          "text": [
            "10000/1 - 1s - loss: 0.0357 - accuracy: 0.9801\n"
          ],
          "name": "stdout"
        },
        {
          "output_type": "execute_result",
          "data": {
            "text/plain": [
              "[0.07143671840808674, 0.9801]"
            ]
          },
          "metadata": {
            "tags": []
          },
          "execution_count": 53
        }
      ]
    },
    {
      "cell_type": "markdown",
      "metadata": {
        "colab_type": "text",
        "id": "T4JfEh7kvx6m"
      },
      "source": [
        "## MNIST 데이타셋중 테스트셋을 대상으로 한 MLP 이미지 분류기의 정확도는 97% 수준이다."
      ]
    },
    {
      "cell_type": "markdown",
      "metadata": {
        "id": "gqhIPdhQnfc9",
        "colab_type": "text"
      },
      "source": [
        "## Plot 그리기"
      ]
    },
    {
      "cell_type": "code",
      "metadata": {
        "id": "CjMu2fQKLD_N",
        "colab_type": "code",
        "outputId": "68d87c8d-f0f6-4be8-f053-ece5767e50f4",
        "colab": {
          "base_uri": "https://localhost:8080/",
          "height": 295
        }
      },
      "source": [
        "history_dict = history.history\n",
        "history_dict.keys()\n",
        "\n",
        "loss = history_dict['loss']\n",
        "epochs = range(1, len(loss)+1)\n",
        "\n",
        "plt.subplot(2, 1, 1)\n",
        "plt.title('Accuray')\n",
        "plt.plot(epochs, history.history['accuracy'], 'b', label='accuracy')\n",
        "plt.grid(True)\n",
        "plt.xlabel('Epoch')\n",
        "plt.ylabel('Accuracy')\n",
        "plt.ylim([0.6, 1])\n",
        "plt.legend(loc='best')\n",
        "\n",
        "plt.subplot(2, 1, 2)\n",
        "plt.title('Cost')\n",
        "plt.plot(epochs, history.history['loss'], 'r', label='loss')\n",
        "plt.grid(True)\n",
        "plt.xlabel('Epoch')\n",
        "plt.ylabel('Cost')\n",
        "plt.ylim([0.0, 0.6])\n",
        "plt.legend(loc='best')\n",
        "plt.show()\n"
      ],
      "execution_count": 54,
      "outputs": [
        {
          "output_type": "display_data",
          "data": {
            "image/png": "[encoded data removed]",
            "text/plain": [
              "<Figure size 432x288 with 2 Axes>"
            ]
          },
          "metadata": {
            "tags": []
          }
        }
      ]
    },
    {
      "cell_type": "code",
      "metadata": {
        "id": "PanwoClE82A6",
        "colab_type": "code",
        "colab": {}
      },
      "source": [
        "#model.save('file_name.h5')\n",
        "#ld_model=tf.keras.models.load_model('path_to_model.h5')"
      ],
      "execution_count": 0,
      "outputs": []
    },
    {
      "cell_type": "code",
      "metadata": {
        "id": "KKv8X_QBhFIR",
        "colab_type": "code",
        "colab": {}
      },
      "source": [
        "#tf.saved_model.save(model, \"path_to_folder_on_disk\")\n",
        "#loaded_model = tf.saved_model.load(\"path_to_folder\")"
      ],
      "execution_count": 0,
      "outputs": []
    },
    {
      "cell_type": "code",
      "metadata": {
        "id": "nFdE2pA3hOw3",
        "colab_type": "code",
        "colab": {}
      },
      "source": [
        "#loaded_model = tf.saved_model.load(\"path_to_folder\")"
      ],
      "execution_count": 0,
      "outputs": []
    },
    {
      "cell_type": "code",
      "metadata": {
        "id": "7BwVn7-rhZv-",
        "colab_type": "code",
        "colab": {
          "base_uri": "https://localhost:8080/",
          "height": 224
        },
        "outputId": "37775a55-0974-4405-a2b7-3ce8a4698c35"
      },
      "source": [
        "#model = create_model()\n",
        "\n",
        "model.fit(x_train, y_train, epochs=5)\n",
        "\n",
        "# 전체 모델을 HDF5 포맷 파일로 저장합니다.\n",
        "model.save('my_model.h5')"
      ],
      "execution_count": 59,
      "outputs": [
        {
          "output_type": "stream",
          "text": [
            "Train on 60000 samples\n",
            "Epoch 1/5\n",
            "60000/60000 [==============================] - 7s 114us/sample - loss: 0.0501 - accuracy: 0.9844\n",
            "Epoch 2/5\n",
            "60000/60000 [==============================] - 7s 113us/sample - loss: 0.0429 - accuracy: 0.9862\n",
            "Epoch 3/5\n",
            "60000/60000 [==============================] - 7s 116us/sample - loss: 0.0418 - accuracy: 0.9867\n",
            "Epoch 4/5\n",
            "60000/60000 [==============================] - 7s 121us/sample - loss: 0.0366 - accuracy: 0.9881\n",
            "Epoch 5/5\n",
            "60000/60000 [==============================] - 7s 114us/sample - loss: 0.0358 - accuracy: 0.9886\n"
          ],
          "name": "stdout"
        }
      ]
    },
    {
      "cell_type": "code",
      "metadata": {
        "id": "jxQCAIaepkSU",
        "colab_type": "code",
        "colab": {}
      },
      "source": [
        "#import tensorflow.keras as keras"
      ],
      "execution_count": 0,
      "outputs": []
    },
    {
      "cell_type": "code",
      "metadata": {
        "id": "P8UJI9gDpLgE",
        "colab_type": "code",
        "colab": {
          "base_uri": "https://localhost:8080/",
          "height": 357
        },
        "outputId": "e85d31f8-5c83-4781-e63f-5f9a85c56f77"
      },
      "source": [
        "# 가중치와 옵티마이저를 포함하여 정확히 동일한 모델을 다시 생성합니다\n",
        "new_model = tf.keras.models.load_model('my_model.h5')\n",
        "new_model.summary()"
      ],
      "execution_count": 61,
      "outputs": [
        {
          "output_type": "stream",
          "text": [
            "Model: \"sequential_1\"\n",
            "_________________________________________________________________\n",
            "Layer (type)                 Output Shape              Param #   \n",
            "=================================================================\n",
            "flatten_1 (Flatten)          (None, 784)               0         \n",
            "_________________________________________________________________\n",
            "dense_3 (Dense)              (None, 512)               401920    \n",
            "_________________________________________________________________\n",
            "dropout_2 (Dropout)          (None, 512)               0         \n",
            "_________________________________________________________________\n",
            "dense_4 (Dense)              (None, 128)               65664     \n",
            "_________________________________________________________________\n",
            "dropout_3 (Dropout)          (None, 128)               0         \n",
            "_________________________________________________________________\n",
            "dense_5 (Dense)              (None, 10)                1290      \n",
            "=================================================================\n",
            "Total params: 468,874\n",
            "Trainable params: 468,874\n",
            "Non-trainable params: 0\n",
            "_________________________________________________________________\n"
          ],
          "name": "stdout"
        }
      ]
    },
    {
      "cell_type": "code",
      "metadata": {
        "id": "7YHmS8zBpgF8",
        "colab_type": "code",
        "colab": {
          "base_uri": "https://localhost:8080/",
          "height": 51
        },
        "outputId": "a2305f7f-11af-4d24-b023-6e2c5f0865ee"
      },
      "source": [
        "import time\n",
        "saved_model_path = \"./saved_models/{}\".format(int(time.time()))\n",
        "\n",
        "tf.keras.models.save_model(model, saved_model_path)\n",
        "\n",
        "saved_model_path"
      ],
      "execution_count": 62,
      "outputs": [
        {
          "output_type": "stream",
          "text": [
            "INFO:tensorflow:Assets written to: ./saved_models/1574593250/assets\n"
          ],
          "name": "stdout"
        },
        {
          "output_type": "execute_result",
          "data": {
            "text/plain": [
              "'./saved_models/1574593250'"
            ]
          },
          "metadata": {
            "tags": []
          },
          "execution_count": 62
        }
      ]
    },
    {
      "cell_type": "code",
      "metadata": {
        "id": "gGqdvsZaEmkX",
        "colab_type": "code",
        "colab": {
          "base_uri": "https://localhost:8080/",
          "height": 119
        },
        "outputId": "3b97ddaf-c0ec-4a8b-d4d7-576e6bb32504"
      },
      "source": [
        "!ls -al ./saved_models/1574593250"
      ],
      "execution_count": 63,
      "outputs": [
        {
          "output_type": "stream",
          "text": [
            "total 136\n",
            "drwxr-xr-x 4 root root   4096 Nov 24 11:00 .\n",
            "drwxr-xr-x 4 root root   4096 Nov 24 11:00 ..\n",
            "drwxr-xr-x 2 root root   4096 Nov 24 11:00 assets\n",
            "-rw-r--r-- 1 root root 121639 Nov 24 11:00 saved_model.pb\n",
            "drwxr-xr-x 2 root root   4096 Nov 24 11:00 variables\n"
          ],
          "name": "stdout"
        }
      ]
    },
    {
      "cell_type": "code",
      "metadata": {
        "id": "Hlm1rZWP0JZP",
        "colab_type": "code",
        "colab": {}
      },
      "source": [
        "new_model = tf.keras.models.load_model(saved_model_path)\n",
        "new_model.summary()"
      ],
      "execution_count": 0,
      "outputs": []
    },
    {
      "cell_type": "code",
      "metadata": {
        "id": "WR2rrAp0uzF2",
        "colab_type": "code",
        "colab": {}
      },
      "source": [
        "pred = model.predict(test_images)\n",
        "predictions_check = tf.equal(tf.argmax(pred, 1), test_labels)\n",
        "accuracy = tf.reduce_mean(tf.cast(predictions_check, tf.float32))\n",
        "print (\"Accuracy : {:5.2f}%\".format(100*accuracy))"
      ],
      "execution_count": 0,
      "outputs": []
    },
    {
      "cell_type": "code",
      "metadata": {
        "id": "_b75d_SQwEfE",
        "colab_type": "code",
        "colab": {}
      },
      "source": [
        "# 복원된 옵티마이저를 사용합니다.\n",
        "new_model.compile(optimizer='adam',\n",
        "              loss='sparse_categorical_crossentropy',\n",
        "              metrics=['accuracy'])\n",
        "loss, acc = new_model.evaluate(test_images, test_labels, verbose=2)"
      ],
      "execution_count": 0,
      "outputs": []
    },
    {
      "cell_type": "code",
      "metadata": {
        "id": "kyPTk1NCy_EA",
        "colab_type": "code",
        "colab": {}
      },
      "source": [
        ""
      ],
      "execution_count": 0,
      "outputs": []
    }
  ]
}