{
  "nbformat": 4,
  "nbformat_minor": 0,
  "metadata": {
    "colab": {
      "name": "02_02_mnist_mlp_tf2.ipynb",
      "provenance": [],
      "collapsed_sections": [],
      "toc_visible": true,
      "include_colab_link": true
    },
    "kernelspec": {
      "name": "python3",
      "display_name": "Python 3"
    },
    "accelerator": "GPU"
  },
  "cells": [
    {
      "cell_type": "markdown",
      "metadata": {
        "id": "view-in-github",
        "colab_type": "text"
      },
      "source": [
        "<a href=\"https://colab.research.google.com/github/jasonlee87/AIDL-Lab/blob/master/02_02_mnist_mlp_tf2.ipynb\" target=\"_parent\"><img src=\"https://colab.research.google.com/assets/colab-badge.svg\" alt=\"Open In Colab\"/></a>"
      ]
    },
    {
      "cell_type": "markdown",
      "metadata": {
        "colab_type": "text",
        "id": "3wF5wszaj97Y"
      },
      "source": [
        "# tf.keras 패키지를 이용해 MLP(Mingle Layer Perceptron) 설계하기"
      ]
    },
    {
      "cell_type": "markdown",
      "metadata": {
        "colab_type": "text",
        "id": "04QgGZc9bF5D"
      },
      "source": [
        "1. 이미지 분류(Image Classification)를 위한 뉴럴 네트워크(Neural Network)를 MLP로 설계한다.\n",
        "2. NN 모델을 훈련시킨다.\n",
        "3. NN 모델의 정확도를 검증한다."
      ]
    },
    {
      "cell_type": "markdown",
      "metadata": {
        "colab_type": "text",
        "id": "nnrWf3PCEzXL"
      },
      "source": [
        "## TensorFlow 2 패키지를 설치하고 관련 모듈들을 import 한다."
      ]
    },
    {
      "cell_type": "code",
      "metadata": {
        "colab_type": "code",
        "id": "0trJmd6DjqBZ",
        "colab": {}
      },
      "source": [
        "from __future__ import absolute_import, division, print_function, unicode_literals\n",
        "\n",
        "# Install TensorFlow\n",
        "try:\n",
        "  # %tensorflow_version only exists in Colab.\n",
        "  %tensorflow_version 2.x\n",
        "except Exception:\n",
        "  pass\n",
        "\n",
        "import tensorflow as tf\n",
        "import matplotlib.pyplot as plt"
      ],
      "execution_count": 0,
      "outputs": []
    },
    {
      "cell_type": "markdown",
      "metadata": {
        "colab_type": "text",
        "id": "7NAbSZiaoJ4z"
      },
      "source": [
        "## tf.keras.dataset의 mnist dataset을 다운받는다. 그리고 255.0으로 나눠 int를 float로 변환한다."
      ]
    },
    {
      "cell_type": "code",
      "metadata": {
        "colab_type": "code",
        "id": "7FP5258xjs-v",
        "colab": {}
      },
      "source": [
        "mnist = tf.keras.datasets.mnist\n",
        "\n",
        "(x_train, y_train), (x_test, y_test) = mnist.load_data()\n",
        "x_train, x_test = x_train / 255.0, x_test / 255.0"
      ],
      "execution_count": 0,
      "outputs": []
    },
    {
      "cell_type": "markdown",
      "metadata": {
        "id": "R1Z73kWybrg8",
        "colab_type": "text"
      },
      "source": [
        "## 실제 mnist dataset 모습 (총 60000개)"
      ]
    },
    {
      "cell_type": "code",
      "metadata": {
        "id": "p0gD96iQbpFp",
        "colab_type": "code",
        "colab": {}
      },
      "source": [
        "plt.imshow(x_train[59999], cmap='gray_r')\n",
        "plt.show()"
      ],
      "execution_count": 0,
      "outputs": []
    },
    {
      "cell_type": "markdown",
      "metadata": {
        "colab_type": "text",
        "id": "BPZ68wASog_I"
      },
      "source": [
        "## tf.keras.Sequential 모델을 만든다."
      ]
    },
    {
      "cell_type": "code",
      "metadata": {
        "colab_type": "code",
        "id": "h3IKyzTCDNGo",
        "colab": {}
      },
      "source": [
        "model = tf.keras.models.Sequential([\n",
        "  tf.keras.layers.Flatten(input_shape=(28, 28)),\n",
        "  tf.keras.layers.Dense(512, activation='relu'),\n",
        "  tf.keras.layers.Dropout(0.2),\n",
        "  tf.keras.layers.Dense(128, activation='relu'),\n",
        "  tf.keras.layers.Dropout(0.2),\n",
        "  tf.keras.layers.Dense(10, activation='softmax')\n",
        "])"
      ],
      "execution_count": 0,
      "outputs": []
    },
    {
      "cell_type": "markdown",
      "metadata": {
        "id": "yKX-32Lu52ob",
        "colab_type": "text"
      },
      "source": [
        "## 그리고 훈련에 사용할 optimizer와 loss 함수를 선택한다."
      ]
    },
    {
      "cell_type": "code",
      "metadata": {
        "id": "hP7ohoahKZ-K",
        "colab_type": "code",
        "colab": {}
      },
      "source": [
        "model.compile(optimizer='adam',\n",
        "              loss='sparse_categorical_crossentropy',\n",
        "              metrics=['accuracy'])"
      ],
      "execution_count": 0,
      "outputs": []
    },
    {
      "cell_type": "markdown",
      "metadata": {
        "id": "G8HsfpQDjEVK",
        "colab_type": "text"
      },
      "source": [
        "## 모델 학습"
      ]
    },
    {
      "cell_type": "code",
      "metadata": {
        "id": "-_idMKYwKVqX",
        "colab_type": "code",
        "colab": {}
      },
      "source": [
        "history = model.fit(x_train, y_train, epochs=5)"
      ],
      "execution_count": 0,
      "outputs": []
    },
    {
      "cell_type": "markdown",
      "metadata": {
        "colab_type": "text",
        "id": "ix4mEL65on-w"
      },
      "source": [
        "## 모델 구성 요약을 보는 2가지 방법"
      ]
    },
    {
      "cell_type": "code",
      "metadata": {
        "id": "13WbCZ6De3_5",
        "colab_type": "code",
        "colab": {}
      },
      "source": [
        "model.summary()"
      ],
      "execution_count": 0,
      "outputs": []
    },
    {
      "cell_type": "code",
      "metadata": {
        "colab_type": "code",
        "id": "6yFNeEz83RW3",
        "colab": {}
      },
      "source": [
        "tf.keras.utils.plot_model(model) \n",
        "#tf.keras.utils.plot_model(model, 'my_first_model_with_shape_info.png', show_shapes=True)"
      ],
      "execution_count": 0,
      "outputs": []
    },
    {
      "cell_type": "markdown",
      "metadata": {
        "id": "eaj5lRiNeTzI",
        "colab_type": "text"
      },
      "source": [
        "## 모델 테스트"
      ]
    },
    {
      "cell_type": "code",
      "metadata": {
        "id": "33QHvlOLeSik",
        "colab_type": "code",
        "colab": {}
      },
      "source": [
        "model.evaluate(x_test,  y_test, verbose=2)"
      ],
      "execution_count": 0,
      "outputs": []
    },
    {
      "cell_type": "markdown",
      "metadata": {
        "colab_type": "text",
        "id": "T4JfEh7kvx6m"
      },
      "source": [
        "## MNIST 데이타셋중 테스트셋을 대상으로 한 MLP 이미지 분류기의 정확도는 98% 수준이다."
      ]
    },
    {
      "cell_type": "markdown",
      "metadata": {
        "id": "gqhIPdhQnfc9",
        "colab_type": "text"
      },
      "source": [
        "## Plot 그리기"
      ]
    },
    {
      "cell_type": "code",
      "metadata": {
        "id": "CjMu2fQKLD_N",
        "colab_type": "code",
        "colab": {}
      },
      "source": [
        "history_dict = history.history\n",
        "history_dict.keys()\n",
        "\n",
        "loss = history_dict['loss']\n",
        "epochs = range(1, len(loss)+1)\n",
        "\n",
        "plt.subplot(2, 1, 1)\n",
        "plt.title('Accuray')\n",
        "plt.plot(epochs, history.history['accuracy'], 'b', label='accuracy')\n",
        "plt.grid(True)\n",
        "plt.xlabel('Epoch')\n",
        "plt.ylabel('Accuracy')\n",
        "plt.ylim([0.6, 1])\n",
        "plt.legend(loc='best')\n",
        "\n",
        "plt.subplot(2, 1, 2)\n",
        "plt.title('Cost')\n",
        "plt.plot(epochs, history.history['loss'], 'r', label='loss')\n",
        "plt.grid(True)\n",
        "plt.xlabel('Epoch')\n",
        "plt.ylabel('Cost')\n",
        "plt.ylim([0.0, 0.6])\n",
        "plt.legend(loc='best')\n",
        "plt.show()\n"
      ],
      "execution_count": 0,
      "outputs": []
    },
    {
      "cell_type": "code",
      "metadata": {
        "id": "PanwoClE82A6",
        "colab_type": "code",
        "colab": {}
      },
      "source": [
        ""
      ],
      "execution_count": 0,
      "outputs": []
    }
  ]
}