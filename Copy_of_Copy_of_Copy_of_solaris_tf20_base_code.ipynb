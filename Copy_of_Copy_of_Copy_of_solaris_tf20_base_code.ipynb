{
  "nbformat": 4,
  "nbformat_minor": 0,
  "metadata": {
    "colab": {
      "name": "Copy of Copy of Copy of solaris-tf20-base-code.ipynb",
      "provenance": [],
      "collapsed_sections": [],
      "include_colab_link": true
    },
    "kernelspec": {
      "name": "python3",
      "display_name": "Python 3"
    }
  },
  "cells": [
    {
      "cell_type": "markdown",
      "metadata": {
        "id": "view-in-github",
        "colab_type": "text"
      },
      "source": [
        "<a href=\"https://colab.research.google.com/github/jasonlee87/AIDL-Lab/blob/master/Copy_of_Copy_of_Copy_of_solaris_tf20_base_code.ipynb\" target=\"_parent\"><img src=\"https://colab.research.google.com/assets/colab-badge.svg\" alt=\"Open In Colab\"/></a>"
      ]
    },
    {
      "cell_type": "markdown",
      "metadata": {
        "id": "zQG4pJAPzIsk",
        "colab_type": "text"
      },
      "source": [
        "2.1 Install check"
      ]
    },
    {
      "cell_type": "code",
      "metadata": {
        "id": "re6mbX--wtVe",
        "colab_type": "code",
        "outputId": "bac848eb-0e3d-4987-aa95-9c40cd235b68",
        "colab": {
          "base_uri": "https://localhost:8080/",
          "height": 85
        }
      },
      "source": [
        "# 텐서플로우 2.0 지정 명령어. \n",
        "# 구글 Colab 환경에서만 사용가능한 명령어.\n",
        "%tensorflow_version 2.x\n",
        "# 출력: TensorFlow 2.x selected.\n",
        "\n",
        "# 원하는 버전의 텐서플로우가 설치되었는지 체크한다.\n",
        "import tensorflow as tf\n",
        "print(tf.__version__)\n",
        "# 출력: 2.0.0\n",
        "\n",
        "# 문자열 출력\n",
        "hello = tf.constant('Hello, TensorFlow 2.0')\n",
        "print(hello.numpy())\n",
        "# 출력: b'Hello, TensorFlow 2.0'\n",
        "\n",
        "# 더하기 연산\n",
        "a = tf.constant(11)\n",
        "b = tf.constant(22)\n",
        "print((a + b).numpy())\n",
        "# 출력: 33"
      ],
      "execution_count": 0,
      "outputs": [
        {
          "output_type": "stream",
          "text": [
            "TensorFlow 2.x selected.\n",
            "2.0.0\n",
            "b'Hello, TensorFlow 2.0'\n",
            "33\n"
          ],
          "name": "stdout"
        }
      ]
    },
    {
      "cell_type": "markdown",
      "metadata": {
        "id": "IxqinhqizgK_",
        "colab_type": "text"
      },
      "source": [
        "3.1 Graph example"
      ]
    },
    {
      "cell_type": "code",
      "metadata": {
        "id": "xZHm1DejzNn-",
        "colab_type": "code",
        "outputId": "66dceb8a-e8a9-4d6a-e5c7-3391df792af2",
        "colab": {
          "base_uri": "https://localhost:8080/",
          "height": 102
        }
      },
      "source": [
        "%tensorflow_version 2.x\n",
        "import tensorflow as tf\n",
        "\n",
        "# 노드(node)를 생성하고 출력해본다\n",
        "node1 = tf.constant(1.0, dtype=tf.float32)\n",
        "node2 = tf.constant(2.0) # 생략시 tf.float32 타입으로 선언\n",
        "print(node1)\n",
        "# 출력: tf.Tensor(1.0, shape=(), dtype=float32)\n",
        "print(node2)\n",
        "# 출력: tf.Tensor(2.0, shape=(), dtype=float32)\n",
        "\n",
        "# 세션을 열고 그래프를 실행합니다.\n",
        "print(node1.numpy(), node2.numpy())\n",
        "# 출력: 1.0, 2.0\n",
        "\n",
        "# 2개의 노드를 더하는 노드 3을 선언한다\n",
        "node3 = tf.add(node1, node2)\n",
        "print(node3)\n",
        "# 출력: tf.Tensor(2.0, shape=(), dtype=float32)\n",
        "print(node3.numpy())\n",
        "# 출력: 3.0"
      ],
      "execution_count": 0,
      "outputs": [
        {
          "output_type": "stream",
          "text": [
            "tf.Tensor(1.0, shape=(), dtype=float32)\n",
            "tf.Tensor(2.0, shape=(), dtype=float32)\n",
            "1.0 2.0\n",
            "tf.Tensor(3.0, shape=(), dtype=float32)\n",
            "3.0\n"
          ],
          "name": "stdout"
        }
      ]
    },
    {
      "cell_type": "markdown",
      "metadata": {
        "id": "aac8bY9kzpaY",
        "colab_type": "text"
      },
      "source": [
        "3.2 Placeholder"
      ]
    },
    {
      "cell_type": "code",
      "metadata": {
        "id": "lmbN9DO7znGh",
        "colab_type": "code",
        "outputId": "1feb07fe-ea98-4356-b156-1f85f7b6f765",
        "colab": {
          "base_uri": "https://localhost:8080/",
          "height": 68
        }
      },
      "source": [
        "%tensorflow_version 2.x\n",
        "import tensorflow as tf\n",
        "import numpy as np\n",
        "\n",
        "# 2개의 값을 더하는 function을 선언\n",
        "@tf.function\n",
        "def add_two_values(x, y):\n",
        "  return x + y\n",
        "\n",
        "# 세션이 아닌 함수를 직접 실행합니다.\n",
        "print(add_two_values(1.5, 2.0).numpy())\n",
        "# 출력: 3.5\n",
        "print(add_two_values(np.array([1, 3]), np.array([2, 4])).numpy())\n",
        "# 출력: [3 7]\n",
        "\n",
        "# 곱셈 함수 선언\n",
        "@tf.function\n",
        "def add_two_values_and_multiply_three(x, y):\n",
        "  return 3 * add_two_values(x, y)\n",
        "\n",
        "# 함수 실행과 출력\n",
        "print(add_two_values_and_multiply_three(1.5, 2.0).numpy())\n",
        "# 출력: 10.5"
      ],
      "execution_count": 0,
      "outputs": [
        {
          "output_type": "stream",
          "text": [
            "3.5\n",
            "[3 7]\n",
            "10.5\n"
          ],
          "name": "stdout"
        }
      ]
    },
    {
      "cell_type": "code",
      "metadata": {
        "id": "EwiYLpgmzxFw",
        "colab_type": "code",
        "colab": {}
      },
      "source": [
        ""
      ],
      "execution_count": 0,
      "outputs": []
    },
    {
      "cell_type": "markdown",
      "metadata": {
        "id": "Avpt95sUz14X",
        "colab_type": "text"
      },
      "source": [
        "3.3 Linear regression @tf2.0"
      ]
    },
    {
      "cell_type": "code",
      "metadata": {
        "id": "P1tqInAKz3F2",
        "colab_type": "code",
        "outputId": "6130fe8a-06f4-4203-aa3e-f990e26218d2",
        "colab": {
          "base_uri": "https://localhost:8080/",
          "height": 34
        }
      },
      "source": [
        "%tensorflow_version 2.x\n",
        "import tensorflow as tf\n",
        "\n",
        "# 선형회귀 모델(Wx + b)을 위한 tf.Variable을 선언합니다.\n",
        "W = tf.Variable(tf.random.normal(shape=[1]))\n",
        "b = tf.Variable(tf.random.normal(shape=[1]))\n",
        "\n",
        "@tf.function\n",
        "def linear_model(x):\n",
        "  return W*x + b\n",
        "\n",
        "# 손실함수로 MSE(Mean Squared Error) 선택\n",
        "# MSE = mean{(y' - y)^2})\n",
        "@tf.function\n",
        "def mse_loss(y_pred, y):\n",
        "  return tf.reduce_mean(tf.square(y_pred - y))\n",
        "\n",
        "# 옵티마이저중 그라디언트 디센트(SGD) 옵티마이저를 선택했다.\n",
        "optimizer = tf.keras.optimizers.SGD(0.01)\n",
        "\n",
        "# 최적화를 위한 함수를 정의합니다.\n",
        "@tf.function\n",
        "def train_step(x, y):\n",
        "  with tf.GradientTape() as tape:\n",
        "    y_pred = linear_model(x)\n",
        "    loss = mse_loss(y_pred, y)\n",
        "  gradients = tape.gradient(loss, [W, b])\n",
        "  optimizer.apply_gradients(zip(gradients, [W, b]))\n",
        "\n",
        "# 트레이닝을 위한 입력값과 출력값을 준비합니다.\n",
        "x_train = [1, 2, 3, 4]\n",
        "y_train = [2, 4, 6, 8]\n",
        "\n",
        "# 경사하강법으로 1000번 훈련 수행합니다.\n",
        "for i in range(1000):\n",
        "  train_step(x_train, y_train)\n",
        "\n",
        "# 성능 체크를 위해 입력값을 준비합니다.\n",
        "x_test = [3.5, 5, 5.5, 6]\n",
        "# 테스트 데이터를 이용해 학습된 선형회귀 모델이 \n",
        "# 데이터의 경향성(y=2x)을 잘 학습했는지 측정합니다.\n",
        "# 예상되는 참값 : [7, 10, 11, 12]\n",
        "print(linear_model(x_test).numpy())"
      ],
      "execution_count": 0,
      "outputs": [
        {
          "output_type": "stream",
          "text": [
            "[ 6.9951286  9.982078  10.977728  11.973377 ]\n"
          ],
          "name": "stdout"
        }
      ]
    },
    {
      "cell_type": "markdown",
      "metadata": {
        "id": "xqOzSVLw0KdK",
        "colab_type": "text"
      },
      "source": [
        "3.4 Linear regression with tensorboard @tf2.0"
      ]
    },
    {
      "cell_type": "code",
      "metadata": {
        "id": "0zhw3k8-0DcC",
        "colab_type": "code",
        "outputId": "32f76124-8468-4053-930d-9bc0ab1565f1",
        "colab": {
          "base_uri": "https://localhost:8080/",
          "height": 105
        }
      },
      "source": [
        "# -*- coding: utf-8 -*-\n",
        "\n",
        "import tensorflow as tf\n",
        "\n",
        "# 선형회귀 모델(Wx + b)을 위한 tf.Variable을 선언합니다.\n",
        "W = tf.Variable(tf.random.normal(shape=[1]))\n",
        "b = tf.Variable(tf.random.normal(shape=[1]))\n",
        "\n",
        "@tf.function\n",
        "def linear_model(x):\n",
        "  return W*x + b\n",
        "\n",
        "# 손실 함수를 정의합니다.\n",
        "# MSE 손실함수 \\mean{(y' - y)^2}\n",
        "@tf.function\n",
        "def mse_loss(y_pred, y):\n",
        "  return tf.reduce_mean(tf.square(y_pred - y))\n",
        "\n",
        "# 최적화를 위한 그라디언트 디센트 옵티마이저를 정의합니다.\n",
        "optimizer = tf.optimizers.SGD(0.01)\n",
        "\n",
        "# 텐서보드 summary 정보들을 저장할 폴더 경로를 설정합니다.\n",
        "summary_writer = tf.summary.create_file_writer('./tensorboard_log')\n",
        "\n",
        "# 최적화를 위한 function을 정의합니다.\n",
        "@tf.function\n",
        "def train_step(x, y):\n",
        "  with tf.GradientTape() as tape:\n",
        "    y_pred = linear_model(x)\n",
        "    loss = mse_loss(y_pred, y)\n",
        "    with summary_writer.as_default():\n",
        "      tf.summary.scalar('loss', loss, step=optimizer.iterations)\n",
        "  gradients = tape.gradient(loss, [W, b])\n",
        "  optimizer.apply_gradients(zip(gradients, [W, b]))\n",
        "\n",
        "# 트레이닝을 위한 입력값과 출력값을 준비합니다.\n",
        "x_train = [1, 2, 3, 4]\n",
        "y_train = [2, 4, 6, 8]\n",
        "\n",
        "# 경사하강법을 1000번 수행합니다.\n",
        "for i in range(1000):\n",
        "  train_step(x_train, y_train)\n",
        "\n",
        "# 테스트를 위한 입력값을 준비합니다.\n",
        "x_test = [3.5, 5, 5.5, 6]\n",
        "# 테스트 데이터를 이용해 학습된 선형회귀 모델이 데이터의 경향성(y=2x)을 잘 학습했는지 측정합니다.\n",
        "# 예상되는 참값 : [7, 10, 11, 12]\n",
        "print(linear_model(x_test).numpy())"
      ],
      "execution_count": 0,
      "outputs": [
        {
          "output_type": "stream",
          "text": [
            "WARNING:tensorflow:From /tensorflow-2.0.0/python3.6/tensorflow_core/python/ops/resource_variable_ops.py:1781: calling BaseResourceVariable.__init__ (from tensorflow.python.ops.resource_variable_ops) with constraint is deprecated and will be removed in a future version.\n",
            "Instructions for updating:\n",
            "If using Keras pass *_constraint arguments to layers.\n",
            "[ 7.004626 10.01702  11.021152 12.025283]\n"
          ],
          "name": "stdout"
        }
      ]
    },
    {
      "cell_type": "code",
      "metadata": {
        "id": "dWFwrxlk0WTB",
        "colab_type": "code",
        "colab": {}
      },
      "source": [
        ""
      ],
      "execution_count": 0,
      "outputs": []
    },
    {
      "cell_type": "markdown",
      "metadata": {
        "id": "YRkbtk1D0czT",
        "colab_type": "text"
      },
      "source": [
        "4.1 MNIST classification using softmax regression @tf2.0"
      ]
    },
    {
      "cell_type": "code",
      "metadata": {
        "id": "N3aUX1Gl0kaq",
        "colab_type": "code",
        "outputId": "26ff2f3a-1844-4933-d92f-1639db42431b",
        "colab": {
          "base_uri": "https://localhost:8080/",
          "height": 68
        }
      },
      "source": [
        "# -*- coding: utf-8 -*-\n",
        "\n",
        "import tensorflow as tf\n",
        "\n",
        "# MNIST 데이터를 다운로드 합니다.\n",
        "(x_train, y_train), (x_test, y_test) = tf.keras.datasets.mnist.load_data()\n",
        "# 이미지들을 float32 데이터 타입으로 변경합니다.\n",
        "x_train, x_test = x_train.astype('float32'), x_test.astype('float32')\n",
        "# 28*28 형태의 이미지를 784차원으로 flattening 합니다.\n",
        "x_train, x_test = x_train.reshape([-1, 784]), x_test.reshape([-1, 784])\n",
        "# [0, 255] 사이의 값을 [0, 1]사이의 값으로 Normalize합니다.\n",
        "x_train, x_test = x_train / 255., x_test / 255.\n",
        "# 레이블 데이터에 one-hot encoding을 적용합니다.\n",
        "y_train, y_test = tf.one_hot(y_train, depth=10), tf.one_hot(y_test, depth=10)\n",
        "\n",
        "# tf.data API를 이용해서 데이터를 섞고 batch 형태로 가져옵니다.\n",
        "train_data = tf.data.Dataset.from_tensor_slices((x_train, y_train))\n",
        "train_data = train_data.repeat().shuffle(60000).batch(100)\n",
        "train_data_iter = iter(train_data)\n",
        "\n",
        "# Softmax Regression 모델을 위한 tf.Variable들을 정의합니다.\n",
        "W = tf.Variable(tf.zeros(shape=[784, 10]))\n",
        "b = tf.Variable(tf.zeros(shape=[10]))\n",
        "\n",
        "# Softmax Regression 모델을 정의합니다.\n",
        "@tf.function\n",
        "def softmax_regression(x):\n",
        "  logits = tf.matmul(x, W) + b\n",
        "  return tf.nn.softmax(logits)\n",
        "\n",
        "# cross-entropy 손실 함수를 정의합니다.\n",
        "@tf.function\n",
        "def cross_entropy_loss(y_pred, y):\n",
        "  return tf.reduce_mean(-tf.reduce_sum(y * tf.math.log(y_pred), axis=[1]))\n",
        "  #return tf.reduce_mean(tf.nn.softmax_cross_entropy_with_logits(logits=logtis, labels=y)) # tf.nn.softmax_cross_entropy_with_logits API를 이용한 구현\n",
        "\n",
        "# 모델의 정확도를 출력하는 함수를 정의합니다.\n",
        "@tf.function\n",
        "def compute_accuracy(y_pred, y):\n",
        "  correct_prediction = tf.equal(tf.argmax(y_pred,1), tf.argmax(y,1))\n",
        "  accuracy = tf.reduce_mean(tf.cast(correct_prediction, tf.float32))\n",
        "\n",
        "  return accuracy\n",
        "\n",
        "# 최적화를 위한 그라디언트 디센트 옵티마이저를 정의합니다.\n",
        "optimizer = tf.optimizers.SGD(0.5)\n",
        "\n",
        "# 최적화를 위한 function을 정의합니다.\n",
        "@tf.function\n",
        "def train_step(x, y):\n",
        "  with tf.GradientTape() as tape:\n",
        "    y_pred = softmax_regression(x)\n",
        "    loss = cross_entropy_loss(y_pred, y)\n",
        "  gradients = tape.gradient(loss, [W, b])\n",
        "  optimizer.apply_gradients(zip(gradients, [W, b]))\n",
        "\n",
        "# 1000번 반복을 수행하면서 최적화를 수행합니다.\n",
        "for i in range(1000):\n",
        "  batch_xs, batch_ys = next(train_data_iter)\n",
        "  train_step(batch_xs, batch_ys)\n",
        "\n",
        "# 학습이 끝나면 학습된 모델의 정확도를 출력합니다.\n",
        "print(\"정확도(Accuracy): %f\" % compute_accuracy(softmax_regression(x_test), y_test)) # 정확도 : 약 91%"
      ],
      "execution_count": 0,
      "outputs": [
        {
          "output_type": "stream",
          "text": [
            "Downloading data from https://storage.googleapis.com/tensorflow/tf-keras-datasets/mnist.npz\n",
            "11493376/11490434 [==============================] - 0s 0us/step\n",
            "정확도(Accuracy): 0.921400\n"
          ],
          "name": "stdout"
        }
      ]
    },
    {
      "cell_type": "code",
      "metadata": {
        "id": "udeJwJL50o3N",
        "colab_type": "code",
        "colab": {}
      },
      "source": [
        ""
      ],
      "execution_count": 0,
      "outputs": []
    },
    {
      "cell_type": "markdown",
      "metadata": {
        "id": "QiMwRIe90wRI",
        "colab_type": "text"
      },
      "source": [
        "4.2 tf_nn_sparse_softmax_cross_entropy_with_logits_example @tf2.0"
      ]
    },
    {
      "cell_type": "code",
      "metadata": {
        "id": "vh81GvAT01M0",
        "colab_type": "code",
        "outputId": "97acd2fa-2194-434d-e507-b8d15301dbfd",
        "colab": {
          "base_uri": "https://localhost:8080/",
          "height": 34
        }
      },
      "source": [
        "# -*- coding: utf-8 -*-\n",
        "\n",
        "import tensorflow as tf\n",
        "\n",
        "# MNIST 데이터를 다운로드 합니다.\n",
        "(x_train, y_train), (x_test, y_test) = tf.keras.datasets.mnist.load_data()\n",
        "# 이미지들을 float32 데이터 타입으로 변경합니다.\n",
        "x_train, x_test = x_train.astype('float32'), x_test.astype('float32')\n",
        "# 레이블들을 int64 데이터 타입으로 변경합니다.\n",
        "y_train, y_test = y_train.astype('int64'), y_test.astype('int64')\n",
        "# 28*28 형태의 이미지를 784차원으로 flattening 합니다.\n",
        "x_train, x_test = x_train.reshape([-1, 784]), x_test.reshape([-1, 784])\n",
        "# [0, 255] 사이의 값을 [0, 1]사이의 값으로 Normalize합니다.\n",
        "x_train, x_test = x_train / 255., x_test / 255.\n",
        "\n",
        "# tf.data API를 이용해서 데이터를 섞고 batch 형태로 가져옵니다.\n",
        "train_data = tf.data.Dataset.from_tensor_slices((x_train, y_train))\n",
        "train_data = train_data.repeat().shuffle(60000).batch(100)\n",
        "train_data_iter = iter(train_data)\n",
        "\n",
        "# Softmax Regression 모델을 위한 tf.Variable들을 정의합니다.\n",
        "W = tf.Variable(tf.zeros(shape=[784, 10]))\n",
        "b = tf.Variable(tf.zeros(shape=[10]))\n",
        "\n",
        "# Softmax Regression 모델을 정의합니다.\n",
        "@tf.function\n",
        "def softmax_regression(x):\n",
        "  logits = tf.matmul(x, W) + b\n",
        "  return tf.nn.softmax(logits), logits\n",
        "\n",
        "# cross-entropy 손실 함수를 정의합니다.\n",
        "@tf.function\n",
        "def cross_entropy_loss(logits, y):\n",
        "  #return tf.reduce_mean(tf.nn.softmax_cross_entropy_with_logits(logits=logtis, labels=y)) # tf.nn.softmax_cross_entropy_with_logits API를 이용한 구\n",
        "  return tf.reduce_mean(tf.nn.sparse_softmax_cross_entropy_with_logits(logits=logits, labels=y)) # tf.nn.sparse_softmax_cross_entropy_with_logits API를 이용한 구현현\n",
        "\n",
        "# 모델의 정확도를 출력하는 함수를 정의합니다.\n",
        "@tf.function\n",
        "def compute_accuracy(y_pred, y):\n",
        "  correct_prediction = tf.equal(tf.argmax(y_pred,1), y)\n",
        "  accuracy = tf.reduce_mean(tf.cast(correct_prediction, tf.float32))\n",
        "\n",
        "  return accuracy\n",
        "\n",
        "# 최적화를 위한 그라디언트 디센트 옵티마이저를 정의합니다.\n",
        "optimizer = tf.optimizers.SGD(0.5)\n",
        "\n",
        "# 최적화를 위한 function을 정의합니다.\n",
        "@tf.function\n",
        "def train_step(x, y):\n",
        "  with tf.GradientTape() as tape:\n",
        "    y_pred, logits = softmax_regression(x)\n",
        "    loss = cross_entropy_loss(logits, y)\n",
        "  gradients = tape.gradient(loss, [W, b])\n",
        "  optimizer.apply_gradients(zip(gradients, [W, b]))\n",
        "\n",
        "# 1000번 반복을 수행하면서 최적화를 수행합니다.\n",
        "for i in range(1000):\n",
        "  batch_xs, batch_ys = next(train_data_iter)\n",
        "  train_step(batch_xs, batch_ys)\n",
        "\n",
        "# 학습이 끝나면 학습된 모델의 정확도를 출력합니다.\n",
        "print(\"정확도(Accuracy): %f\" % compute_accuracy(softmax_regression(x_test)[0], y_test)) # 정확도 : 약 91%"
      ],
      "execution_count": 0,
      "outputs": [
        {
          "output_type": "stream",
          "text": [
            "정확도(Accuracy): 0.918300\n"
          ],
          "name": "stdout"
        }
      ]
    },
    {
      "cell_type": "markdown",
      "metadata": {
        "id": "58DbzdJ0099S",
        "colab_type": "text"
      },
      "source": [
        "5.1 MNIST classification usiong ANN @tf2.0"
      ]
    },
    {
      "cell_type": "code",
      "metadata": {
        "id": "rCcBIYVO04Co",
        "colab_type": "code",
        "outputId": "ea3ebe1f-59dc-4465-b0b2-542e3508d2cc",
        "colab": {
          "base_uri": "https://localhost:8080/",
          "height": 68
        }
      },
      "source": [
        "# -*- coding: utf-8 -*-\n",
        "# 텐서플로우를 이용한 ANN(Artificial Neural Networks) 구현\n",
        "\n",
        "import tensorflow as tf\n",
        "\n",
        "# MNIST 데이터를 다운로드 합니다.\n",
        "(x_train, y_train), (x_test, y_test) = tf.keras.datasets.mnist.load_data()\n",
        "# 이미지들을 float32 데이터 타입으로 변경합니다.\n",
        "x_train, x_test = x_train.astype('float32'), x_test.astype('float32')\n",
        "# 28*28 형태의 이미지를 784차원으로 flattening 합니다.\n",
        "x_train, x_test = x_train.reshape([-1, 784]), x_test.reshape([-1, 784])\n",
        "# [0, 255] 사이의 값을 [0, 1]사이의 값으로 Normalize합니다.\n",
        "x_train, x_test = x_train / 255., x_test / 255.\n",
        "# 레이블 데이터에 one-hot encoding을 적용합니다.\n",
        "y_train, y_test = tf.one_hot(y_train, depth=10), tf.one_hot(y_test, depth=10)\n",
        "\n",
        "# 학습을 위한 설정값들을 정의합니다.\n",
        "learning_rate = 0.001\n",
        "num_epochs = 30     # 학습횟수\n",
        "batch_size = 256    # 배치개수\n",
        "display_step = 1    # 손실함수 출력 주기\n",
        "input_size = 784    # 28 * 28\n",
        "hidden1_size = 256\n",
        "hidden2_size = 256\n",
        "output_size = 10\n",
        "\n",
        "# tf.data API를 이용해서 데이터를 섞고 batch 형태로 가져옵니다.\n",
        "train_data = tf.data.Dataset.from_tensor_slices((x_train, y_train))\n",
        "train_data = train_data.shuffle(60000).batch(batch_size)\n",
        "\n",
        "# ANN 모델을 정의합니다.\n",
        "class ANN(object):\n",
        "  # ANN 모델을 위한 tf.Variable들을 정의합니다.\n",
        "  def __init__(self):\n",
        "    self.W1 = tf.Variable(tf.random.normal(shape=[input_size, hidden1_size]))\n",
        "    self.b1 = tf.Variable(tf.random.normal(shape=[hidden1_size]))\n",
        "    self.W2 = tf.Variable(tf.random.normal(shape=[hidden1_size, hidden2_size]))\n",
        "    self.b2 = tf.Variable(tf.random.normal(shape=[hidden2_size]))\n",
        "    self.W_output = tf.Variable(tf.random.normal(shape=[hidden2_size, output_size]))\n",
        "    self.b_output = tf.Variable(tf.random.normal(shape=[output_size]))\n",
        "\n",
        "  def __call__(self, x):\n",
        "    H1_output = tf.nn.relu(tf.matmul(x, self.W1) + self.b1)\n",
        "    H2_output = tf.nn.relu(tf.matmul(H1_output, self.W2) + self.b2)\n",
        "    logits = tf.matmul(H2_output, self.W_output) + self.b_output\n",
        "\n",
        "    return logits\n",
        "\n",
        "# cross-entropy 손실 함수를 정의합니다.\n",
        "@tf.function\n",
        "def cross_entropy_loss(logits, y):\n",
        "  return tf.reduce_mean(tf.nn.softmax_cross_entropy_with_logits(logits=logits, labels=y))\n",
        "\n",
        "# 최적화를 위한 Adam 옵티마이저를 정의합니다.\n",
        "optimizer = tf.optimizers.Adam(learning_rate)\n",
        "\n",
        "# 최적화를 위한 function을 정의합니다.\n",
        "@tf.function\n",
        "def train_step(model, x, y):\n",
        "  with tf.GradientTape() as tape:\n",
        "    y_pred = model(x)\n",
        "    loss = cross_entropy_loss(y_pred, y)\n",
        "  gradients = tape.gradient(loss, vars(model).values())\n",
        "  optimizer.apply_gradients(zip(gradients, vars(model).values()))\n",
        "\n",
        "# 모델의 정확도를 출력하는 함수를 정의합니다.\n",
        "@tf.function\n",
        "def compute_accuracy(y_pred, y):\n",
        "  correct_prediction = tf.equal(tf.argmax(y_pred,1), tf.argmax(y,1))\n",
        "  accuracy = tf.reduce_mean(tf.cast(correct_prediction, tf.float32))\n",
        "\n",
        "  return accuracy\n",
        "\n",
        "# ANN 모델을 선언합니다.\n",
        "ANN_model = ANN()\n",
        "\n",
        "# 지정된 횟수만큼 최적화를 수행합니다.\n",
        "for epoch in range(num_epochs):\n",
        "  average_loss = 0.\n",
        "  total_batch = int(x_train.shape[0] / batch_size)\n",
        "  # 모든 배치들에 대해서 최적화를 수행합니다.\n",
        "  for batch_x, batch_y in train_data:\n",
        "    # 옵티마이저를 실행해서 파라마터들을 업데이트합니다.\n",
        "    _, current_loss = train_step(ANN_model, batch_x, batch_y), cross_entropy_loss(ANN_model(batch_x), batch_y)\n",
        "    # 평균 손실을 측정합니다.\n",
        "    average_loss += current_loss / total_batch\n",
        "  # 지정된 epoch마다 학습결과를 출력합니다.\n",
        "  if epoch % display_step == 0:\n",
        "    print(\"반복(Epoch): %d, 손실 함수(Loss): %f\" % ((epoch+1), average_loss))\n",
        "\n",
        "# 테스트 데이터를 이용해서 학습된 모델이 얼마나 정확한지 정확도를 출력합니다.\n",
        "print(\"정확도(Accuracy): %f\" % compute_accuracy(ANN_model(x_test), y_test)) # 정확도: 약 94%"
      ],
      "execution_count": 0,
      "outputs": [
        {
          "output_type": "stream",
          "text": [
            "반복(Epoch): 1, 손실 함수(Loss): 240.254883\n",
            "반복(Epoch): 2, 손실 함수(Loss): 59.078175\n",
            "반복(Epoch): 3, 손실 함수(Loss): 37.967602\n"
          ],
          "name": "stdout"
        }
      ]
    },
    {
      "cell_type": "markdown",
      "metadata": {
        "id": "kBxu-cWG_xvy",
        "colab_type": "text"
      },
      "source": [
        "교재때문에 이곳을 연습장으로 씀"
      ]
    },
    {
      "cell_type": "code",
      "metadata": {
        "id": "VNIdOf_G1I0S",
        "colab_type": "code",
        "colab": {}
      },
      "source": [
        "model = tf.keras.Sequential([\n",
        "    tf.keras.layers.Conv2D(32, 3, activation='relu',\n",
        "                           kernel_regularizer=tf.keras.regularizers.l2(0.04),\n",
        "                           input_shape=(28, 28, 1)),\n",
        "    tf.keras.layers.MaxPooling2D(),\n",
        "    tf.keras.layers.Flatten(),\n",
        "    tf.keras.layers.Dropout(0.1),\n",
        "    tf.keras.layers.Dense(64, activation='relu'),\n",
        "    tf.keras.layers.BatchNormalization(),\n",
        "    tf.keras.layers.Dense(10, activation='softmax')\n",
        "])\n",
        "\n",
        "train_data = tf.ones(shape=(1, 28, 28, 1))\n",
        "test_data = tf.ones(shape=(1, 28, 28, 1))\n",
        "train_out = model(train_data, training=True)\n",
        "test_out = model(test_data, training=False)"
      ],
      "execution_count": 0,
      "outputs": []
    },
    {
      "cell_type": "code",
      "metadata": {
        "id": "BQgpSyC9AHy-",
        "colab_type": "code",
        "colab": {}
      },
      "source": [
        "encoder_input = keras.Input(shape=(28, 28, 1), name='img')\n",
        "x = layers.Conv2D(16, 3, activation='relu')(encoder_input)\n",
        "x = layers.Conv2D(32, 3, activation='relu')(x)\n",
        "x = layers.MaxPooling2D(3)(x)\n",
        "x = layers.Conv2D(32, 3, activation='relu')(x)\n",
        "x = layers.Conv2D(16, 3, activation='relu')(x)\n",
        "encoder_output = layers.GlobalMaxPooling2D()(x)\n",
        "\n",
        "encoder = keras.Model(encoder_input, encoder_output, name='encoder')"
      ],
      "execution_count": 0,
      "outputs": []
    },
    {
      "cell_type": "code",
      "metadata": {
        "id": "ABwED__7ANzt",
        "colab_type": "code",
        "colab": {
          "base_uri": "https://localhost:8080/",
          "height": 231
        },
        "outputId": "c7529a9a-0d57-4f66-8437-17824f61a235"
      },
      "source": [
        "class ResNet(tf.keras.Model):\n",
        "\n",
        "    def __init__(self):\n",
        "        super(ResNet, self).__init__()\n",
        "        self.block_1 = ResNetBlock()\n",
        "        self.block_2 = ResNetBlock()\n",
        "        self.global_pool = layers.GlobalAveragePooling2D()\n",
        "        self.classifier = Dense(num_classes)\n",
        "\n",
        "    def call(self, inputs):\n",
        "        x = self.block_1(inputs)\n",
        "        x = self.block_2(x)\n",
        "        x = self.global_pool(x)\n",
        "        return self.classifier(x)\n",
        "\n",
        "resnet = ResNet()\n",
        "dataset = ...\n",
        "resnet.fit(dataset, epochs=10)"
      ],
      "execution_count": 4,
      "outputs": [
        {
          "output_type": "error",
          "ename": "NameError",
          "evalue": "ignored",
          "traceback": [
            "\u001b[0;31m---------------------------------------------------------------------------\u001b[0m",
            "\u001b[0;31mNameError\u001b[0m                                 Traceback (most recent call last)",
            "\u001b[0;32m<ipython-input-4-44fed6256ce2>\u001b[0m in \u001b[0;36m<module>\u001b[0;34m()\u001b[0m\n\u001b[0;32m----> 1\u001b[0;31m \u001b[0;32mclass\u001b[0m \u001b[0mResNet\u001b[0m\u001b[0;34m(\u001b[0m\u001b[0mtf\u001b[0m\u001b[0;34m.\u001b[0m\u001b[0mkeras\u001b[0m\u001b[0;34m.\u001b[0m\u001b[0mModel\u001b[0m\u001b[0;34m)\u001b[0m\u001b[0;34m:\u001b[0m\u001b[0;34m\u001b[0m\u001b[0;34m\u001b[0m\u001b[0m\n\u001b[0m\u001b[1;32m      2\u001b[0m \u001b[0;34m\u001b[0m\u001b[0m\n\u001b[1;32m      3\u001b[0m     \u001b[0;32mdef\u001b[0m \u001b[0m__init__\u001b[0m\u001b[0;34m(\u001b[0m\u001b[0mself\u001b[0m\u001b[0;34m)\u001b[0m\u001b[0;34m:\u001b[0m\u001b[0;34m\u001b[0m\u001b[0;34m\u001b[0m\u001b[0m\n\u001b[1;32m      4\u001b[0m         \u001b[0msuper\u001b[0m\u001b[0;34m(\u001b[0m\u001b[0mResNet\u001b[0m\u001b[0;34m,\u001b[0m \u001b[0mself\u001b[0m\u001b[0;34m)\u001b[0m\u001b[0;34m.\u001b[0m\u001b[0m__init__\u001b[0m\u001b[0;34m(\u001b[0m\u001b[0;34m)\u001b[0m\u001b[0;34m\u001b[0m\u001b[0;34m\u001b[0m\u001b[0m\n\u001b[1;32m      5\u001b[0m         \u001b[0mself\u001b[0m\u001b[0;34m.\u001b[0m\u001b[0mblock_1\u001b[0m \u001b[0;34m=\u001b[0m \u001b[0mResNetBlock\u001b[0m\u001b[0;34m(\u001b[0m\u001b[0;34m)\u001b[0m\u001b[0;34m\u001b[0m\u001b[0;34m\u001b[0m\u001b[0m\n",
            "\u001b[0;31mNameError\u001b[0m: name 'tf' is not defined"
          ]
        }
      ]
    },
    {
      "cell_type": "code",
      "metadata": {
        "id": "_GFiHW29AdTg",
        "colab_type": "code",
        "colab": {}
      },
      "source": [
        "layer_name = tf.keras.Input(\n",
        " shape=None,\n",
        " batch_size=None,\n",
        " name=None,\n",
        " dtype=None,\n",
        " sparse=False,\n",
        " tensor=None,\n",
        " **kwargs\n",
        ")"
      ],
      "execution_count": 0,
      "outputs": []
    },
    {
      "cell_type": "code",
      "metadata": {
        "id": "oX0XRAv2f0DL",
        "colab_type": "code",
        "colab": {
          "base_uri": "https://localhost:8080/",
          "height": 129
        },
        "outputId": "b824888c-f6ac-4b4e-92d8-dde642baf568"
      },
      "source": [
        "model.save(‘file_name.h5')"
      ],
      "execution_count": 6,
      "outputs": [
        {
          "output_type": "error",
          "ename": "SyntaxError",
          "evalue": "ignored",
          "traceback": [
            "\u001b[0;36m  File \u001b[0;32m\"<ipython-input-6-40c71f79a7e6>\"\u001b[0;36m, line \u001b[0;32m1\u001b[0m\n\u001b[0;31m    model.save(‘file_name.h5')\u001b[0m\n\u001b[0m                        ^\u001b[0m\n\u001b[0;31mSyntaxError\u001b[0m\u001b[0;31m:\u001b[0m invalid character in identifier\n"
          ]
        }
      ]
    },
    {
      "cell_type": "code",
      "metadata": {
        "id": "z2f8rdECf2jR",
        "colab_type": "code",
        "colab": {}
      },
      "source": [
        "model.save(‘file_name.h5')"
      ],
      "execution_count": 0,
      "outputs": []
    }
  ]
}