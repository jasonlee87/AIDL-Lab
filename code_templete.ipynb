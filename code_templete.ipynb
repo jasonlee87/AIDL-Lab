{
  "nbformat": 4,
  "nbformat_minor": 0,
  "metadata": {
    "colab": {
      "name": "code-templete.ipynb",
      "provenance": [],
      "toc_visible": true,
      "include_colab_link": true
    },
    "kernelspec": {
      "name": "python3",
      "display_name": "Python 3"
    }
  },
  "cells": [
    {
      "cell_type": "markdown",
      "metadata": {
        "id": "view-in-github",
        "colab_type": "text"
      },
      "source": [
        "<a href=\"https://colab.research.google.com/github/jasonlee87/AIDL-Lab/blob/master/code_templete.ipynb\" target=\"_parent\"><img src=\"https://colab.research.google.com/assets/colab-badge.svg\" alt=\"Open In Colab\"/></a>"
      ]
    },
    {
      "cell_type": "markdown",
      "metadata": {
        "id": "YUbrsmxWf04y",
        "colab_type": "text"
      },
      "source": [
        "# 실습 3-3 : tf.keras Sequential API를 이용한 모델링 "
      ]
    },
    {
      "cell_type": "markdown",
      "metadata": {
        "id": "CfwO3tnWf_nY",
        "colab_type": "text"
      },
      "source": [
        "## Module Import"
      ]
    },
    {
      "cell_type": "code",
      "metadata": {
        "id": "Ti76o9-8f91P",
        "colab_type": "code",
        "colab": {}
      },
      "source": [
        ""
      ],
      "execution_count": 0,
      "outputs": []
    },
    {
      "cell_type": "markdown",
      "metadata": {
        "id": "wOiaPQ3xgJQC",
        "colab_type": "text"
      },
      "source": [
        "## DataSet"
      ]
    },
    {
      "cell_type": "code",
      "metadata": {
        "id": "nyiEDW4jgIWi",
        "colab_type": "code",
        "colab": {}
      },
      "source": [
        ""
      ],
      "execution_count": 0,
      "outputs": []
    },
    {
      "cell_type": "markdown",
      "metadata": {
        "id": "U8yh3kv1gR8r",
        "colab_type": "text"
      },
      "source": [
        "### Load"
      ]
    },
    {
      "cell_type": "code",
      "metadata": {
        "id": "h16ge_8ukQgD",
        "colab_type": "code",
        "colab": {}
      },
      "source": [
        ""
      ],
      "execution_count": 0,
      "outputs": []
    },
    {
      "cell_type": "markdown",
      "metadata": {
        "id": "O0oDy0CggOEm",
        "colab_type": "text"
      },
      "source": [
        "### Preprocessing"
      ]
    },
    {
      "cell_type": "code",
      "metadata": {
        "id": "a1q-TXArAKFM",
        "colab_type": "code",
        "colab": {}
      },
      "source": [
        ""
      ],
      "execution_count": 0,
      "outputs": []
    },
    {
      "cell_type": "markdown",
      "metadata": {
        "id": "EY3zfzjlgbYj",
        "colab_type": "text"
      },
      "source": [
        "## Model"
      ]
    },
    {
      "cell_type": "code",
      "metadata": {
        "id": "MrxIGwWqgcmt",
        "colab_type": "code",
        "colab": {}
      },
      "source": [
        ""
      ],
      "execution_count": 0,
      "outputs": []
    },
    {
      "cell_type": "markdown",
      "metadata": {
        "id": "PUqUyRtngdUC",
        "colab_type": "text"
      },
      "source": [
        "### Define"
      ]
    },
    {
      "cell_type": "code",
      "metadata": {
        "id": "MDiJ4ze_gj0j",
        "colab_type": "code",
        "colab": {}
      },
      "source": [
        ""
      ],
      "execution_count": 0,
      "outputs": []
    },
    {
      "cell_type": "markdown",
      "metadata": {
        "id": "aACwVs7QgmLq",
        "colab_type": "text"
      },
      "source": [
        "### Compile"
      ]
    },
    {
      "cell_type": "code",
      "metadata": {
        "id": "VH8mmzoDgoPO",
        "colab_type": "code",
        "colab": {}
      },
      "source": [
        ""
      ],
      "execution_count": 0,
      "outputs": []
    },
    {
      "cell_type": "markdown",
      "metadata": {
        "id": "n9BG8hNUgo0n",
        "colab_type": "text"
      },
      "source": [
        "### Fit"
      ]
    },
    {
      "cell_type": "code",
      "metadata": {
        "id": "T0GfxydSgqDj",
        "colab_type": "code",
        "colab": {}
      },
      "source": [
        ""
      ],
      "execution_count": 0,
      "outputs": []
    },
    {
      "cell_type": "markdown",
      "metadata": {
        "id": "m4kAr8XNg2nc",
        "colab_type": "text"
      },
      "source": [
        "### Evaluate"
      ]
    },
    {
      "cell_type": "code",
      "metadata": {
        "id": "Gy1zDKLWg4VK",
        "colab_type": "code",
        "colab": {}
      },
      "source": [
        ""
      ],
      "execution_count": 0,
      "outputs": []
    },
    {
      "cell_type": "markdown",
      "metadata": {
        "id": "IDuR1nYHg6nh",
        "colab_type": "text"
      },
      "source": [
        "### Test(Predict)"
      ]
    },
    {
      "cell_type": "code",
      "metadata": {
        "id": "HjgB2wJDg8Zf",
        "colab_type": "code",
        "colab": {}
      },
      "source": [
        ""
      ],
      "execution_count": 0,
      "outputs": []
    },
    {
      "cell_type": "markdown",
      "metadata": {
        "id": "v7Bf90ATg98K",
        "colab_type": "text"
      },
      "source": [
        "## Analyis"
      ]
    },
    {
      "cell_type": "code",
      "metadata": {
        "id": "GBvi3DLEg_ri",
        "colab_type": "code",
        "colab": {}
      },
      "source": [
        ""
      ],
      "execution_count": 0,
      "outputs": []
    },
    {
      "cell_type": "markdown",
      "metadata": {
        "id": "VcGTERphhBNs",
        "colab_type": "text"
      },
      "source": [
        "### Plot"
      ]
    },
    {
      "cell_type": "code",
      "metadata": {
        "id": "ahRLgk0phEUX",
        "colab_type": "code",
        "colab": {}
      },
      "source": [
        ""
      ],
      "execution_count": 0,
      "outputs": []
    },
    {
      "cell_type": "markdown",
      "metadata": {
        "id": "GnaUZbi_hIHw",
        "colab_type": "text"
      },
      "source": [
        "## 실습과제"
      ]
    },
    {
      "cell_type": "markdown",
      "metadata": {
        "id": "o5QEUAIbhVUQ",
        "colab_type": "text"
      },
      "source": [
        "### 과제1"
      ]
    },
    {
      "cell_type": "code",
      "metadata": {
        "id": "JbGGyLDyhSRZ",
        "colab_type": "code",
        "colab": {}
      },
      "source": [
        ""
      ],
      "execution_count": 0,
      "outputs": []
    }
  ]
}